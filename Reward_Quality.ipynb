{
 "cells": [
  {
   "cell_type": "code",
   "execution_count": null,
   "metadata": {
    "collapsed": true,
    "is_executing": true,
    "ExecuteTime": {
     "start_time": "2023-09-04T18:46:11.072886539Z"
    }
   },
   "outputs": [],
   "source": [
    "import warnings\n",
    "\n",
    "import numpy as np\n",
    "import pandas as pd\n",
    "from darts.models.forecasting.nhits import NHiTSModel\n",
    "from darts import TimeSeries\n",
    "import torch\n",
    "from typing import Callable\n",
    "from tqdm import tqdm\n",
    "\n",
    "from helpers import predict, load_agent, quality, clip\n",
    "from preprocess import preprocess_stats\n",
    "from rl.sim_enviroment import SimulatedCustomEnv\n",
    "\n",
    "from evidently.report import Report\n",
    "from evidently.metric_preset import DataDriftPreset\n",
    "from evidently.options import DataDriftOptions"
   ]
  },
  {
   "cell_type": "code",
   "execution_count": 2,
   "outputs": [],
   "source": [
    "\n",
    "def optimize_params(data: pd.DataFrame, preprocess: Callable = preprocess_stats) -> pd.DataFrame:\n",
    "    \"\"\"\n",
    "    Run and evaluate agent.\n",
    "\n",
    "    :param data:        raw observations in pandas DataFrame\n",
    "    :return:            result saves to the same path as input\n",
    "\n",
    "    Args:\n",
    "        preprocess: function to preprocess data\n",
    "    \"\"\"\n",
    "    columns = ['Cell ID', 'LAC', 'HR Usage Rate', 'TCH Blocking Rate, BH', 'Number of Available\\nTCH',\n",
    "               'TCH Traffic (Erl), BH', 'Lower_limit', 'Upper_limit']\n",
    "\n",
    "    df = preprocess(data, columns)\n",
    "    obs_array = df.drop(columns=['Cell ID', 'LAC'], errors='ignore')\n",
    "    obs_array.rename_axis(None, axis=1, inplace=True)\n",
    "    obs_array.reset_index(drop=True, inplace=True)\n",
    "\n",
    "    agent = load_agent('sac_last_60_50d_exp-r.pt', 'pt')\n",
    "    state_predictor = NHiTSModel.load_from_checkpoint(\"nhits_35lw_2l_1b_3s_35d_no_TB\", \"state_predictor\", best=True, map_location='cuda')\n",
    "\n",
    "    # # 'HR Usage Rate', 'TCH Blocking Rate, BH'\n",
    "    # self.current_state = series[randint(0, len(series))].head(n_past)\n",
    "    # # 'Number of Available\\nTCH', 'TCH Traffic (Erl), BH', 'Param 1',  'Param 2'\n",
    "    # self.cov = covariates[0].head(n_past)\n",
    "\n",
    "\n",
    "    lower_limits = []\n",
    "    upper_limits = []\n",
    "    qualities = []\n",
    "    new_states = []\n",
    "\n",
    "    # 'HR Usage Rate', 'TCH Blocking Rate, BH'\n",
    "    current_state = obs_array.iloc[:7, :2]\n",
    "    cov = obs_array.iloc[:7, -4:]\n",
    "\n",
    "    # print(TimeSeries.from_dataframe(obs_array.iloc[:, :2]))\n",
    "    # print(len(TimeSeries.from_dataframe(obs_array.iloc[:, :2])))\n",
    "\n",
    "    # setting env for reward calculation\n",
    "    environment = SimulatedCustomEnv(\n",
    "        state_predictor,\n",
    "        np.array([1,1]),\n",
    "        TimeSeries.from_dataframe(obs_array.iloc[:, :2]),\n",
    "        TimeSeries.from_dataframe(obs_array.iloc[:, -4:]),\n",
    "        7\n",
    "    )\n",
    "    obs = environment.reset()\n",
    "    mom_reward = []\n",
    "\n",
    "    for i, row in enumerate(obs_array.iloc[7:].values):\n",
    "        # print('Curr_state=', current_state.shape)\n",
    "\n",
    "        a1, a2 = predict(row, agent)\n",
    "        lower = clip(int(row[-2] + a1 * 30))\n",
    "        upper = clip(int(row[-1] + a2 * 30))\n",
    "\n",
    "        # compure reward\n",
    "        new_state, reward, done, info = environment.step(np.array([a1, a2]))\n",
    "        mom_reward.append(reward)\n",
    "\n",
    "        # Compute quality\n",
    "        qualities.append(\n",
    "            quality(blocking=row[1], ch=row[2], traffic=row[3], param1=row[-2], param2=row[-1], prparam1=lower,\n",
    "                    prparam2=upper)\n",
    "        )\n",
    "\n",
    "        cov.iloc[-1, -2:] = (lower, upper)\n",
    "        # print(cov)\n",
    "        # n for number of states to predict\n",
    "        # current_state.rename_axis(None, axis=1, inplace=True)\n",
    "        # current_state.reset_index(drop=True, inplace=True)\n",
    "        pred_state = state_predictor.predict(n=1, series=TimeSeries.from_dataframe(current_state),\n",
    "                                             past_covariates=TimeSeries.from_dataframe(cov), verbose=False)\n",
    "        new_states.append(pred_state)\n",
    "\n",
    "        lower_limits.append(lower)\n",
    "        upper_limits.append(upper)\n",
    "\n",
    "        current_state = pd.concat([current_state.iloc[1:], obs_array.iloc[i +7: i+8, :2]], axis=0, join='inner')\n",
    "        # print(current_state)\n",
    "\n",
    "        cov = obs_array.iloc[i+1: i +8, -4:]\n",
    "    # df['Lower_limit_Gen'], df['Upper_limit_Gen'], df['Limit_quality_Gen'] = lower_limits, upper_limits, qualities\n",
    "    # df[\"Quality Rate\"] = 1 - (2*df['HR Usage Rate']/100 + np.log(df['TCH Blocking Rate, BH'] + 1))/(1 + np.log(101))\n",
    "\n",
    "    states_df = pd.concat(list(map(lambda x: x.pd_dataframe(), new_states)))\n",
    "    states_df[\"Quality Rate\"] = 1 - (2*states_df['HR Usage Rate']/100 + np.log(states_df['TCH Blocking Rate, BH'] + 1))/(1 + np.log(101))\n",
    "    states_df['cum_reward'] = np.cumsum(mom_reward)\n",
    "    states_df['mom_reward'] = mom_reward\n",
    "\n",
    "    return states_df\n"
   ],
   "metadata": {
    "collapsed": false,
    "ExecuteTime": {
     "end_time": "2023-09-04T13:11:03.636003809Z",
     "start_time": "2023-09-04T13:11:03.616937962Z"
    }
   }
  },
  {
   "cell_type": "code",
   "execution_count": 3,
   "outputs": [],
   "source": [
    "from typing import List\n",
    "\n",
    "\n",
    "def preprocess_full(data: pd.DataFrame, cols: List[str]=None):\n",
    "    df = data.copy()\n",
    "    cols = ['HR Usage Rate', 'TCH Blocking Rate, BH', 'Number of Available\\nTCH',\n",
    "               'TCH Traffic (Erl), BH', 'Lower_limit', 'Upper_limit']\n",
    "    df.drop(columns='DATA', inplace=True)\n",
    "    df.rename(columns={'Param 1': cols[-2], 'Param 2': cols[-1]}, inplace=True)\n",
    "    return df[cols]"
   ],
   "metadata": {
    "collapsed": false,
    "ExecuteTime": {
     "end_time": "2023-09-04T13:11:04.792149920Z",
     "start_time": "2023-09-04T13:11:04.779059133Z"
    }
   }
  },
  {
   "cell_type": "code",
   "execution_count": 4,
   "outputs": [],
   "source": [
    "df = pd.read_csv('data/dataset_full.csv', index_col=0)"
   ],
   "metadata": {
    "collapsed": false,
    "ExecuteTime": {
     "end_time": "2023-09-04T13:11:06.615930054Z",
     "start_time": "2023-09-04T13:11:06.061704743Z"
    }
   }
  },
  {
   "cell_type": "code",
   "execution_count": 5,
   "outputs": [],
   "source": [
    "cell_list = list(map(lambda x: x[0], df[['Cell ID']].value_counts().index[:10].tolist()))\n",
    "curr = df[df['Cell ID'].isin(cell_list)]\n",
    "reff = df[~df['Cell ID'].isin(cell_list)]"
   ],
   "metadata": {
    "collapsed": false,
    "ExecuteTime": {
     "end_time": "2023-09-04T13:11:06.679487227Z",
     "start_time": "2023-09-04T13:11:06.623168502Z"
    }
   }
  },
  {
   "cell_type": "code",
   "execution_count": 6,
   "outputs": [
    {
     "name": "stderr",
     "output_type": "stream",
     "text": [
      "  0%|          | 0/2 [00:06<?, ?it/s]\n"
     ]
    },
    {
     "ename": "RuntimeError",
     "evalue": "Attempting to deserialize object on a CUDA device but torch.cuda.is_available() is False. If you are running on a CPU-only machine, please use torch.load with map_location=torch.device('cpu') to map your storages to the CPU.",
     "output_type": "error",
     "traceback": [
      "\u001B[0;31m---------------------------------------------------------------------------\u001B[0m",
      "\u001B[0;31mRuntimeError\u001B[0m                              Traceback (most recent call last)",
      "File \u001B[0;32m<timed exec>:19\u001B[0m\n",
      "Cell \u001B[0;32mIn[2], line 20\u001B[0m, in \u001B[0;36moptimize_params\u001B[0;34m(data, preprocess)\u001B[0m\n\u001B[1;32m     17\u001B[0m obs_array\u001B[38;5;241m.\u001B[39mreset_index(drop\u001B[38;5;241m=\u001B[39m\u001B[38;5;28;01mTrue\u001B[39;00m, inplace\u001B[38;5;241m=\u001B[39m\u001B[38;5;28;01mTrue\u001B[39;00m)\n\u001B[1;32m     19\u001B[0m agent \u001B[38;5;241m=\u001B[39m load_agent(\u001B[38;5;124m'\u001B[39m\u001B[38;5;124msac_last_60_50d_exp-r.pt\u001B[39m\u001B[38;5;124m'\u001B[39m, \u001B[38;5;124m'\u001B[39m\u001B[38;5;124mpt\u001B[39m\u001B[38;5;124m'\u001B[39m)\n\u001B[0;32m---> 20\u001B[0m state_predictor \u001B[38;5;241m=\u001B[39m \u001B[43mNHiTSModel\u001B[49m\u001B[38;5;241;43m.\u001B[39;49m\u001B[43mload_from_checkpoint\u001B[49m\u001B[43m(\u001B[49m\u001B[38;5;124;43m\"\u001B[39;49m\u001B[38;5;124;43mnhits_35lw_2l_1b_3s_35d_no_TB\u001B[39;49m\u001B[38;5;124;43m\"\u001B[39;49m\u001B[43m,\u001B[49m\u001B[43m \u001B[49m\u001B[38;5;124;43m\"\u001B[39;49m\u001B[38;5;124;43mstate_predictor\u001B[39;49m\u001B[38;5;124;43m\"\u001B[39;49m\u001B[43m,\u001B[49m\u001B[43m \u001B[49m\u001B[43mbest\u001B[49m\u001B[38;5;241;43m=\u001B[39;49m\u001B[38;5;28;43;01mTrue\u001B[39;49;00m\u001B[43m,\u001B[49m\u001B[43m \u001B[49m\u001B[43mmap_location\u001B[49m\u001B[38;5;241;43m=\u001B[39;49m\u001B[38;5;124;43m'\u001B[39;49m\u001B[38;5;124;43mcuda\u001B[39;49m\u001B[38;5;124;43m'\u001B[39;49m\u001B[43m)\u001B[49m\n\u001B[1;32m     22\u001B[0m \u001B[38;5;66;03m# # 'HR Usage Rate', 'TCH Blocking Rate, BH'\u001B[39;00m\n\u001B[1;32m     23\u001B[0m \u001B[38;5;66;03m# self.current_state = series[randint(0, len(series))].head(n_past)\u001B[39;00m\n\u001B[1;32m     24\u001B[0m \u001B[38;5;66;03m# # 'Number of Available\\nTCH', 'TCH Traffic (Erl), BH', 'Param 1',  'Param 2'\u001B[39;00m\n\u001B[1;32m     25\u001B[0m \u001B[38;5;66;03m# self.cov = covariates[0].head(n_past)\u001B[39;00m\n\u001B[1;32m     28\u001B[0m lower_limits \u001B[38;5;241m=\u001B[39m []\n",
      "File \u001B[0;32m~/Soft/anaconda3/envs/sm_bachelor/lib/python3.9/site-packages/darts/models/forecasting/torch_forecasting_model.py:1672\u001B[0m, in \u001B[0;36mTorchForecastingModel.load_from_checkpoint\u001B[0;34m(model_name, work_dir, file_name, best, **kwargs)\u001B[0m\n\u001B[1;32m   1666\u001B[0m base_model_path \u001B[38;5;241m=\u001B[39m os\u001B[38;5;241m.\u001B[39mpath\u001B[38;5;241m.\u001B[39mjoin(model_dir, INIT_MODEL_NAME)\n\u001B[1;32m   1667\u001B[0m raise_if_not(\n\u001B[1;32m   1668\u001B[0m     os\u001B[38;5;241m.\u001B[39mpath\u001B[38;5;241m.\u001B[39mexists(base_model_path),\n\u001B[1;32m   1669\u001B[0m     \u001B[38;5;124mf\u001B[39m\u001B[38;5;124m\"\u001B[39m\u001B[38;5;124mCould not find base model save file `\u001B[39m\u001B[38;5;132;01m{\u001B[39;00mINIT_MODEL_NAME\u001B[38;5;132;01m}\u001B[39;00m\u001B[38;5;124m` in \u001B[39m\u001B[38;5;132;01m{\u001B[39;00mmodel_dir\u001B[38;5;132;01m}\u001B[39;00m\u001B[38;5;124m.\u001B[39m\u001B[38;5;124m\"\u001B[39m,\n\u001B[1;32m   1670\u001B[0m     logger,\n\u001B[1;32m   1671\u001B[0m )\n\u001B[0;32m-> 1672\u001B[0m model: TorchForecastingModel \u001B[38;5;241m=\u001B[39m \u001B[43mtorch\u001B[49m\u001B[38;5;241;43m.\u001B[39;49m\u001B[43mload\u001B[49m\u001B[43m(\u001B[49m\n\u001B[1;32m   1673\u001B[0m \u001B[43m    \u001B[49m\u001B[43mbase_model_path\u001B[49m\u001B[43m,\u001B[49m\u001B[43m \u001B[49m\u001B[43mmap_location\u001B[49m\u001B[38;5;241;43m=\u001B[39;49m\u001B[43mkwargs\u001B[49m\u001B[38;5;241;43m.\u001B[39;49m\u001B[43mget\u001B[49m\u001B[43m(\u001B[49m\u001B[38;5;124;43m\"\u001B[39;49m\u001B[38;5;124;43mmap_location\u001B[39;49m\u001B[38;5;124;43m\"\u001B[39;49m\u001B[43m)\u001B[49m\n\u001B[1;32m   1674\u001B[0m \u001B[43m\u001B[49m\u001B[43m)\u001B[49m\n\u001B[1;32m   1676\u001B[0m \u001B[38;5;66;03m# load PyTorch LightningModule from checkpoint\u001B[39;00m\n\u001B[1;32m   1677\u001B[0m \u001B[38;5;66;03m# if file_name is None, find the path of the best or most recent checkpoint in savepath\u001B[39;00m\n\u001B[1;32m   1678\u001B[0m \u001B[38;5;28;01mif\u001B[39;00m file_name \u001B[38;5;129;01mis\u001B[39;00m \u001B[38;5;28;01mNone\u001B[39;00m:\n",
      "File \u001B[0;32m~/Soft/anaconda3/envs/sm_bachelor/lib/python3.9/site-packages/torch/serialization.py:809\u001B[0m, in \u001B[0;36mload\u001B[0;34m(f, map_location, pickle_module, weights_only, **pickle_load_args)\u001B[0m\n\u001B[1;32m    807\u001B[0m             \u001B[38;5;28;01mexcept\u001B[39;00m \u001B[38;5;167;01mRuntimeError\u001B[39;00m \u001B[38;5;28;01mas\u001B[39;00m e:\n\u001B[1;32m    808\u001B[0m                 \u001B[38;5;28;01mraise\u001B[39;00m pickle\u001B[38;5;241m.\u001B[39mUnpicklingError(UNSAFE_MESSAGE \u001B[38;5;241m+\u001B[39m \u001B[38;5;28mstr\u001B[39m(e)) \u001B[38;5;28;01mfrom\u001B[39;00m \u001B[38;5;28;01mNone\u001B[39;00m\n\u001B[0;32m--> 809\u001B[0m         \u001B[38;5;28;01mreturn\u001B[39;00m \u001B[43m_load\u001B[49m\u001B[43m(\u001B[49m\u001B[43mopened_zipfile\u001B[49m\u001B[43m,\u001B[49m\u001B[43m \u001B[49m\u001B[43mmap_location\u001B[49m\u001B[43m,\u001B[49m\u001B[43m \u001B[49m\u001B[43mpickle_module\u001B[49m\u001B[43m,\u001B[49m\u001B[43m \u001B[49m\u001B[38;5;241;43m*\u001B[39;49m\u001B[38;5;241;43m*\u001B[39;49m\u001B[43mpickle_load_args\u001B[49m\u001B[43m)\u001B[49m\n\u001B[1;32m    810\u001B[0m \u001B[38;5;28;01mif\u001B[39;00m weights_only:\n\u001B[1;32m    811\u001B[0m     \u001B[38;5;28;01mtry\u001B[39;00m:\n",
      "File \u001B[0;32m~/Soft/anaconda3/envs/sm_bachelor/lib/python3.9/site-packages/torch/serialization.py:1172\u001B[0m, in \u001B[0;36m_load\u001B[0;34m(zip_file, map_location, pickle_module, pickle_file, **pickle_load_args)\u001B[0m\n\u001B[1;32m   1170\u001B[0m unpickler \u001B[38;5;241m=\u001B[39m UnpicklerWrapper(data_file, \u001B[38;5;241m*\u001B[39m\u001B[38;5;241m*\u001B[39mpickle_load_args)\n\u001B[1;32m   1171\u001B[0m unpickler\u001B[38;5;241m.\u001B[39mpersistent_load \u001B[38;5;241m=\u001B[39m persistent_load\n\u001B[0;32m-> 1172\u001B[0m result \u001B[38;5;241m=\u001B[39m \u001B[43munpickler\u001B[49m\u001B[38;5;241;43m.\u001B[39;49m\u001B[43mload\u001B[49m\u001B[43m(\u001B[49m\u001B[43m)\u001B[49m\n\u001B[1;32m   1174\u001B[0m torch\u001B[38;5;241m.\u001B[39m_utils\u001B[38;5;241m.\u001B[39m_validate_loaded_sparse_tensors()\n\u001B[1;32m   1176\u001B[0m \u001B[38;5;28;01mreturn\u001B[39;00m result\n",
      "File \u001B[0;32m~/Soft/anaconda3/envs/sm_bachelor/lib/python3.9/pickle.py:1212\u001B[0m, in \u001B[0;36m_Unpickler.load\u001B[0;34m(self)\u001B[0m\n\u001B[1;32m   1210\u001B[0m             \u001B[38;5;28;01mraise\u001B[39;00m \u001B[38;5;167;01mEOFError\u001B[39;00m\n\u001B[1;32m   1211\u001B[0m         \u001B[38;5;28;01massert\u001B[39;00m \u001B[38;5;28misinstance\u001B[39m(key, bytes_types)\n\u001B[0;32m-> 1212\u001B[0m         \u001B[43mdispatch\u001B[49m\u001B[43m[\u001B[49m\u001B[43mkey\u001B[49m\u001B[43m[\u001B[49m\u001B[38;5;241;43m0\u001B[39;49m\u001B[43m]\u001B[49m\u001B[43m]\u001B[49m\u001B[43m(\u001B[49m\u001B[38;5;28;43mself\u001B[39;49m\u001B[43m)\u001B[49m\n\u001B[1;32m   1213\u001B[0m \u001B[38;5;28;01mexcept\u001B[39;00m _Stop \u001B[38;5;28;01mas\u001B[39;00m stopinst:\n\u001B[1;32m   1214\u001B[0m     \u001B[38;5;28;01mreturn\u001B[39;00m stopinst\u001B[38;5;241m.\u001B[39mvalue\n",
      "File \u001B[0;32m~/Soft/anaconda3/envs/sm_bachelor/lib/python3.9/pickle.py:1253\u001B[0m, in \u001B[0;36m_Unpickler.load_binpersid\u001B[0;34m(self)\u001B[0m\n\u001B[1;32m   1251\u001B[0m \u001B[38;5;28;01mdef\u001B[39;00m \u001B[38;5;21mload_binpersid\u001B[39m(\u001B[38;5;28mself\u001B[39m):\n\u001B[1;32m   1252\u001B[0m     pid \u001B[38;5;241m=\u001B[39m \u001B[38;5;28mself\u001B[39m\u001B[38;5;241m.\u001B[39mstack\u001B[38;5;241m.\u001B[39mpop()\n\u001B[0;32m-> 1253\u001B[0m     \u001B[38;5;28mself\u001B[39m\u001B[38;5;241m.\u001B[39mappend(\u001B[38;5;28;43mself\u001B[39;49m\u001B[38;5;241;43m.\u001B[39;49m\u001B[43mpersistent_load\u001B[49m\u001B[43m(\u001B[49m\u001B[43mpid\u001B[49m\u001B[43m)\u001B[49m)\n",
      "File \u001B[0;32m~/Soft/anaconda3/envs/sm_bachelor/lib/python3.9/site-packages/torch/serialization.py:1142\u001B[0m, in \u001B[0;36m_load.<locals>.persistent_load\u001B[0;34m(saved_id)\u001B[0m\n\u001B[1;32m   1140\u001B[0m \u001B[38;5;28;01melse\u001B[39;00m:\n\u001B[1;32m   1141\u001B[0m     nbytes \u001B[38;5;241m=\u001B[39m numel \u001B[38;5;241m*\u001B[39m torch\u001B[38;5;241m.\u001B[39m_utils\u001B[38;5;241m.\u001B[39m_element_size(dtype)\n\u001B[0;32m-> 1142\u001B[0m     typed_storage \u001B[38;5;241m=\u001B[39m \u001B[43mload_tensor\u001B[49m\u001B[43m(\u001B[49m\u001B[43mdtype\u001B[49m\u001B[43m,\u001B[49m\u001B[43m \u001B[49m\u001B[43mnbytes\u001B[49m\u001B[43m,\u001B[49m\u001B[43m \u001B[49m\u001B[43mkey\u001B[49m\u001B[43m,\u001B[49m\u001B[43m \u001B[49m\u001B[43m_maybe_decode_ascii\u001B[49m\u001B[43m(\u001B[49m\u001B[43mlocation\u001B[49m\u001B[43m)\u001B[49m\u001B[43m)\u001B[49m\n\u001B[1;32m   1144\u001B[0m \u001B[38;5;28;01mreturn\u001B[39;00m typed_storage\n",
      "File \u001B[0;32m~/Soft/anaconda3/envs/sm_bachelor/lib/python3.9/site-packages/torch/serialization.py:1116\u001B[0m, in \u001B[0;36m_load.<locals>.load_tensor\u001B[0;34m(dtype, numel, key, location)\u001B[0m\n\u001B[1;32m   1112\u001B[0m storage \u001B[38;5;241m=\u001B[39m zip_file\u001B[38;5;241m.\u001B[39mget_storage_from_record(name, numel, torch\u001B[38;5;241m.\u001B[39mUntypedStorage)\u001B[38;5;241m.\u001B[39m_typed_storage()\u001B[38;5;241m.\u001B[39m_untyped_storage\n\u001B[1;32m   1113\u001B[0m \u001B[38;5;66;03m# TODO: Once we decide to break serialization FC, we can\u001B[39;00m\n\u001B[1;32m   1114\u001B[0m \u001B[38;5;66;03m# stop wrapping with TypedStorage\u001B[39;00m\n\u001B[1;32m   1115\u001B[0m typed_storage \u001B[38;5;241m=\u001B[39m torch\u001B[38;5;241m.\u001B[39mstorage\u001B[38;5;241m.\u001B[39mTypedStorage(\n\u001B[0;32m-> 1116\u001B[0m     wrap_storage\u001B[38;5;241m=\u001B[39m\u001B[43mrestore_location\u001B[49m\u001B[43m(\u001B[49m\u001B[43mstorage\u001B[49m\u001B[43m,\u001B[49m\u001B[43m \u001B[49m\u001B[43mlocation\u001B[49m\u001B[43m)\u001B[49m,\n\u001B[1;32m   1117\u001B[0m     dtype\u001B[38;5;241m=\u001B[39mdtype,\n\u001B[1;32m   1118\u001B[0m     _internal\u001B[38;5;241m=\u001B[39m\u001B[38;5;28;01mTrue\u001B[39;00m)\n\u001B[1;32m   1120\u001B[0m \u001B[38;5;28;01mif\u001B[39;00m typed_storage\u001B[38;5;241m.\u001B[39m_data_ptr() \u001B[38;5;241m!=\u001B[39m \u001B[38;5;241m0\u001B[39m:\n\u001B[1;32m   1121\u001B[0m     loaded_storages[key] \u001B[38;5;241m=\u001B[39m typed_storage\n",
      "File \u001B[0;32m~/Soft/anaconda3/envs/sm_bachelor/lib/python3.9/site-packages/torch/serialization.py:1083\u001B[0m, in \u001B[0;36m_get_restore_location.<locals>.restore_location\u001B[0;34m(storage, location)\u001B[0m\n\u001B[1;32m   1082\u001B[0m \u001B[38;5;28;01mdef\u001B[39;00m \u001B[38;5;21mrestore_location\u001B[39m(storage, location):\n\u001B[0;32m-> 1083\u001B[0m     \u001B[38;5;28;01mreturn\u001B[39;00m \u001B[43mdefault_restore_location\u001B[49m\u001B[43m(\u001B[49m\u001B[43mstorage\u001B[49m\u001B[43m,\u001B[49m\u001B[43m \u001B[49m\u001B[43mmap_location\u001B[49m\u001B[43m)\u001B[49m\n",
      "File \u001B[0;32m~/Soft/anaconda3/envs/sm_bachelor/lib/python3.9/site-packages/torch/serialization.py:217\u001B[0m, in \u001B[0;36mdefault_restore_location\u001B[0;34m(storage, location)\u001B[0m\n\u001B[1;32m    215\u001B[0m \u001B[38;5;28;01mdef\u001B[39;00m \u001B[38;5;21mdefault_restore_location\u001B[39m(storage, location):\n\u001B[1;32m    216\u001B[0m     \u001B[38;5;28;01mfor\u001B[39;00m _, _, fn \u001B[38;5;129;01min\u001B[39;00m _package_registry:\n\u001B[0;32m--> 217\u001B[0m         result \u001B[38;5;241m=\u001B[39m \u001B[43mfn\u001B[49m\u001B[43m(\u001B[49m\u001B[43mstorage\u001B[49m\u001B[43m,\u001B[49m\u001B[43m \u001B[49m\u001B[43mlocation\u001B[49m\u001B[43m)\u001B[49m\n\u001B[1;32m    218\u001B[0m         \u001B[38;5;28;01mif\u001B[39;00m result \u001B[38;5;129;01mis\u001B[39;00m \u001B[38;5;129;01mnot\u001B[39;00m \u001B[38;5;28;01mNone\u001B[39;00m:\n\u001B[1;32m    219\u001B[0m             \u001B[38;5;28;01mreturn\u001B[39;00m result\n",
      "File \u001B[0;32m~/Soft/anaconda3/envs/sm_bachelor/lib/python3.9/site-packages/torch/serialization.py:182\u001B[0m, in \u001B[0;36m_cuda_deserialize\u001B[0;34m(obj, location)\u001B[0m\n\u001B[1;32m    180\u001B[0m \u001B[38;5;28;01mdef\u001B[39;00m \u001B[38;5;21m_cuda_deserialize\u001B[39m(obj, location):\n\u001B[1;32m    181\u001B[0m     \u001B[38;5;28;01mif\u001B[39;00m location\u001B[38;5;241m.\u001B[39mstartswith(\u001B[38;5;124m'\u001B[39m\u001B[38;5;124mcuda\u001B[39m\u001B[38;5;124m'\u001B[39m):\n\u001B[0;32m--> 182\u001B[0m         device \u001B[38;5;241m=\u001B[39m \u001B[43mvalidate_cuda_device\u001B[49m\u001B[43m(\u001B[49m\u001B[43mlocation\u001B[49m\u001B[43m)\u001B[49m\n\u001B[1;32m    183\u001B[0m         \u001B[38;5;28;01mif\u001B[39;00m \u001B[38;5;28mgetattr\u001B[39m(obj, \u001B[38;5;124m\"\u001B[39m\u001B[38;5;124m_torch_load_uninitialized\u001B[39m\u001B[38;5;124m\"\u001B[39m, \u001B[38;5;28;01mFalse\u001B[39;00m):\n\u001B[1;32m    184\u001B[0m             \u001B[38;5;28;01mwith\u001B[39;00m torch\u001B[38;5;241m.\u001B[39mcuda\u001B[38;5;241m.\u001B[39mdevice(device):\n",
      "File \u001B[0;32m~/Soft/anaconda3/envs/sm_bachelor/lib/python3.9/site-packages/torch/serialization.py:166\u001B[0m, in \u001B[0;36mvalidate_cuda_device\u001B[0;34m(location)\u001B[0m\n\u001B[1;32m    163\u001B[0m device \u001B[38;5;241m=\u001B[39m torch\u001B[38;5;241m.\u001B[39mcuda\u001B[38;5;241m.\u001B[39m_utils\u001B[38;5;241m.\u001B[39m_get_device_index(location, \u001B[38;5;28;01mTrue\u001B[39;00m)\n\u001B[1;32m    165\u001B[0m \u001B[38;5;28;01mif\u001B[39;00m \u001B[38;5;129;01mnot\u001B[39;00m torch\u001B[38;5;241m.\u001B[39mcuda\u001B[38;5;241m.\u001B[39mis_available():\n\u001B[0;32m--> 166\u001B[0m     \u001B[38;5;28;01mraise\u001B[39;00m \u001B[38;5;167;01mRuntimeError\u001B[39;00m(\u001B[38;5;124m'\u001B[39m\u001B[38;5;124mAttempting to deserialize object on a CUDA \u001B[39m\u001B[38;5;124m'\u001B[39m\n\u001B[1;32m    167\u001B[0m                        \u001B[38;5;124m'\u001B[39m\u001B[38;5;124mdevice but torch.cuda.is_available() is False. \u001B[39m\u001B[38;5;124m'\u001B[39m\n\u001B[1;32m    168\u001B[0m                        \u001B[38;5;124m'\u001B[39m\u001B[38;5;124mIf you are running on a CPU-only machine, \u001B[39m\u001B[38;5;124m'\u001B[39m\n\u001B[1;32m    169\u001B[0m                        \u001B[38;5;124m'\u001B[39m\u001B[38;5;124mplease use torch.load with map_location=torch.device(\u001B[39m\u001B[38;5;130;01m\\'\u001B[39;00m\u001B[38;5;124mcpu\u001B[39m\u001B[38;5;130;01m\\'\u001B[39;00m\u001B[38;5;124m) \u001B[39m\u001B[38;5;124m'\u001B[39m\n\u001B[1;32m    170\u001B[0m                        \u001B[38;5;124m'\u001B[39m\u001B[38;5;124mto map your storages to the CPU.\u001B[39m\u001B[38;5;124m'\u001B[39m)\n\u001B[1;32m    171\u001B[0m device_count \u001B[38;5;241m=\u001B[39m torch\u001B[38;5;241m.\u001B[39mcuda\u001B[38;5;241m.\u001B[39mdevice_count()\n\u001B[1;32m    172\u001B[0m \u001B[38;5;28;01mif\u001B[39;00m device \u001B[38;5;241m>\u001B[39m\u001B[38;5;241m=\u001B[39m device_count:\n",
      "\u001B[0;31mRuntimeError\u001B[0m: Attempting to deserialize object on a CUDA device but torch.cuda.is_available() is False. If you are running on a CPU-only machine, please use torch.load with map_location=torch.device('cpu') to map your storages to the CPU."
     ]
    }
   ],
   "source": [
    "%%time\n",
    "\n",
    "scores = []\n",
    "\n",
    "import logging\n",
    "# logging.getLogger(\"pytorch_lightning.utilities.rank_zero\").setLevel(logging.WARNING)\n",
    "\n",
    "with warnings.catch_warnings():\n",
    "    warnings.simplefilter(\"ignore\")\n",
    "    logging.getLogger(\"pytorch_lightning\").setLevel(logging.WARNING)\n",
    "\n",
    "    for cell in tqdm(df[['Cell ID']].value_counts().keys()[:2]):\n",
    "        cell_data = df[df['Cell ID'] == cell]\n",
    "\n",
    "        data_drift_report = Report(metrics=[\n",
    "            DataDriftPreset(),\n",
    "        ])\n",
    "        data_drift_report.run(reference_data=reff, current_data=cell_data,)\n",
    "        drift = data_drift_report.as_dict()['metrics'][0]['result']['share_of_drifted_columns']\n",
    "\n",
    "        states = optimize_params(cell_data, preprocess=preprocess_full)\n",
    "\n",
    "        scores.append({\n",
    "            'cell_id': cell,\n",
    "            'drift_score': drift,\n",
    "            'quality_avg': states['Quality Rate'].mean(),\n",
    "            'quality_min': states['Quality Rate'].min(),\n",
    "            'quality_max': states['Quality Rate'].max(),\n",
    "            'quality_std': states['Quality Rate'].std(),\n",
    "            'cum_reward_avg': states['cum_reward'].mean(),\n",
    "            'cum_reward_max': states['cum_reward'].max(),\n",
    "            'cum_reward_std': states['cum_reward'].std(),\n",
    "            'mom_reward_avg': states['mom_reward'].mean(),\n",
    "            'mom_reward_min': states['mom_reward'].min(),\n",
    "            'mom_reward_max': states['mom_reward'].max(),\n",
    "            'mom_reward_std': states['mom_reward'].std(),\n",
    "        })\n",
    "\n",
    "scores_df = pd.DataFrame(scores)\n",
    "scores_df.to_csv('drift_scores_rewards_300.csv')\n"
   ],
   "metadata": {
    "collapsed": false,
    "ExecuteTime": {
     "end_time": "2023-09-04T13:11:23.158718723Z",
     "start_time": "2023-09-04T13:11:15.382745549Z"
    }
   }
  },
  {
   "cell_type": "code",
   "execution_count": 7,
   "outputs": [
    {
     "data": {
      "text/plain": "    cell_id  drift_score  quality_avg  quality_min  quality_max  quality_std  \\\n0   (1946,)        0.750     0.874185     0.734750     1.688068     0.056923   \n1   (1945,)        0.750     0.881187     0.707820     1.069511     0.036198   \n2   (1947,)        1.000     0.842564     0.679234     0.999759     0.047799   \n3   (1941,)        0.875     0.852576     0.678216     1.311538     0.069046   \n4   (1943,)        0.875     0.806072     0.668687     1.095661     0.087994   \n5   (1942,)        0.875     0.855051     0.722536     1.801337     0.066887   \n6  (13313,)        0.875     0.777178     0.716126     1.150875     0.034356   \n7  (13312,)        0.875     0.827807     0.683533     1.014011     0.051529   \n8  (13311,)        0.875     0.766741     0.637207     1.072541     0.050358   \n9  (22953,)        0.750     0.906204     0.752501     1.126982     0.035694   \n\n   cum_reward_avg  cum_reward_max  cum_reward_std  mom_reward_avg  \\\n0   -3.575299e+06             -45    3.179021e+06   -17657.961730   \n1   -3.039105e+06             -50    2.671801e+06   -14785.532446   \n2   -1.147139e+06             -10    1.042341e+06    -5578.850000   \n3   -3.435891e+06             -45    3.090324e+06   -17293.177258   \n4   -3.560386e+06             -50    3.162241e+06   -17649.991639   \n5   -3.499136e+06             -60    3.084310e+06   -17133.244147   \n6   -2.864914e+06             -45    2.320279e+06   -12764.756711   \n7   -1.365232e+06              20    1.551018e+06    -8932.390940   \n8   -5.250962e+05              15    4.510842e+05    -2500.184564   \n9   -3.266940e+06             -45    2.888713e+06   -16287.254237   \n\n   mom_reward_min  mom_reward_max  mom_reward_std  \n0          -34750             -45    10037.161238  \n1          -28105             -50     8152.344845  \n2           -9795             -10     3138.280158  \n3          -34560             -45    10108.637397  \n4          -34895             -50    10007.992846  \n5          -32395             -60     9472.583864  \n6          -21165             -45     5655.187080  \n7          -23890              10     7760.800072  \n8           -4505              10     1293.218758  \n9          -30980             -45     9091.123056  ",
      "text/html": "<div>\n<style scoped>\n    .dataframe tbody tr th:only-of-type {\n        vertical-align: middle;\n    }\n\n    .dataframe tbody tr th {\n        vertical-align: top;\n    }\n\n    .dataframe thead th {\n        text-align: right;\n    }\n</style>\n<table border=\"1\" class=\"dataframe\">\n  <thead>\n    <tr style=\"text-align: right;\">\n      <th></th>\n      <th>cell_id</th>\n      <th>drift_score</th>\n      <th>quality_avg</th>\n      <th>quality_min</th>\n      <th>quality_max</th>\n      <th>quality_std</th>\n      <th>cum_reward_avg</th>\n      <th>cum_reward_max</th>\n      <th>cum_reward_std</th>\n      <th>mom_reward_avg</th>\n      <th>mom_reward_min</th>\n      <th>mom_reward_max</th>\n      <th>mom_reward_std</th>\n    </tr>\n  </thead>\n  <tbody>\n    <tr>\n      <th>0</th>\n      <td>(1946,)</td>\n      <td>0.750</td>\n      <td>0.874185</td>\n      <td>0.734750</td>\n      <td>1.688068</td>\n      <td>0.056923</td>\n      <td>-3.575299e+06</td>\n      <td>-45</td>\n      <td>3.179021e+06</td>\n      <td>-17657.961730</td>\n      <td>-34750</td>\n      <td>-45</td>\n      <td>10037.161238</td>\n    </tr>\n    <tr>\n      <th>1</th>\n      <td>(1945,)</td>\n      <td>0.750</td>\n      <td>0.881187</td>\n      <td>0.707820</td>\n      <td>1.069511</td>\n      <td>0.036198</td>\n      <td>-3.039105e+06</td>\n      <td>-50</td>\n      <td>2.671801e+06</td>\n      <td>-14785.532446</td>\n      <td>-28105</td>\n      <td>-50</td>\n      <td>8152.344845</td>\n    </tr>\n    <tr>\n      <th>2</th>\n      <td>(1947,)</td>\n      <td>1.000</td>\n      <td>0.842564</td>\n      <td>0.679234</td>\n      <td>0.999759</td>\n      <td>0.047799</td>\n      <td>-1.147139e+06</td>\n      <td>-10</td>\n      <td>1.042341e+06</td>\n      <td>-5578.850000</td>\n      <td>-9795</td>\n      <td>-10</td>\n      <td>3138.280158</td>\n    </tr>\n    <tr>\n      <th>3</th>\n      <td>(1941,)</td>\n      <td>0.875</td>\n      <td>0.852576</td>\n      <td>0.678216</td>\n      <td>1.311538</td>\n      <td>0.069046</td>\n      <td>-3.435891e+06</td>\n      <td>-45</td>\n      <td>3.090324e+06</td>\n      <td>-17293.177258</td>\n      <td>-34560</td>\n      <td>-45</td>\n      <td>10108.637397</td>\n    </tr>\n    <tr>\n      <th>4</th>\n      <td>(1943,)</td>\n      <td>0.875</td>\n      <td>0.806072</td>\n      <td>0.668687</td>\n      <td>1.095661</td>\n      <td>0.087994</td>\n      <td>-3.560386e+06</td>\n      <td>-50</td>\n      <td>3.162241e+06</td>\n      <td>-17649.991639</td>\n      <td>-34895</td>\n      <td>-50</td>\n      <td>10007.992846</td>\n    </tr>\n    <tr>\n      <th>5</th>\n      <td>(1942,)</td>\n      <td>0.875</td>\n      <td>0.855051</td>\n      <td>0.722536</td>\n      <td>1.801337</td>\n      <td>0.066887</td>\n      <td>-3.499136e+06</td>\n      <td>-60</td>\n      <td>3.084310e+06</td>\n      <td>-17133.244147</td>\n      <td>-32395</td>\n      <td>-60</td>\n      <td>9472.583864</td>\n    </tr>\n    <tr>\n      <th>6</th>\n      <td>(13313,)</td>\n      <td>0.875</td>\n      <td>0.777178</td>\n      <td>0.716126</td>\n      <td>1.150875</td>\n      <td>0.034356</td>\n      <td>-2.864914e+06</td>\n      <td>-45</td>\n      <td>2.320279e+06</td>\n      <td>-12764.756711</td>\n      <td>-21165</td>\n      <td>-45</td>\n      <td>5655.187080</td>\n    </tr>\n    <tr>\n      <th>7</th>\n      <td>(13312,)</td>\n      <td>0.875</td>\n      <td>0.827807</td>\n      <td>0.683533</td>\n      <td>1.014011</td>\n      <td>0.051529</td>\n      <td>-1.365232e+06</td>\n      <td>20</td>\n      <td>1.551018e+06</td>\n      <td>-8932.390940</td>\n      <td>-23890</td>\n      <td>10</td>\n      <td>7760.800072</td>\n    </tr>\n    <tr>\n      <th>8</th>\n      <td>(13311,)</td>\n      <td>0.875</td>\n      <td>0.766741</td>\n      <td>0.637207</td>\n      <td>1.072541</td>\n      <td>0.050358</td>\n      <td>-5.250962e+05</td>\n      <td>15</td>\n      <td>4.510842e+05</td>\n      <td>-2500.184564</td>\n      <td>-4505</td>\n      <td>10</td>\n      <td>1293.218758</td>\n    </tr>\n    <tr>\n      <th>9</th>\n      <td>(22953,)</td>\n      <td>0.750</td>\n      <td>0.906204</td>\n      <td>0.752501</td>\n      <td>1.126982</td>\n      <td>0.035694</td>\n      <td>-3.266940e+06</td>\n      <td>-45</td>\n      <td>2.888713e+06</td>\n      <td>-16287.254237</td>\n      <td>-30980</td>\n      <td>-45</td>\n      <td>9091.123056</td>\n    </tr>\n  </tbody>\n</table>\n</div>"
     },
     "execution_count": 7,
     "metadata": {},
     "output_type": "execute_result"
    }
   ],
   "source": [
    "# scores_df = pd.read_csv('drift_scores_rewards.csv', index_col=0)\n",
    "scores_df"
   ],
   "metadata": {
    "collapsed": false,
    "ExecuteTime": {
     "end_time": "2023-09-04T07:17:56.874920782Z",
     "start_time": "2023-09-04T07:17:56.839649806Z"
    }
   }
  },
  {
   "cell_type": "code",
   "execution_count": 8,
   "outputs": [
    {
     "data": {
      "text/plain": "                drift_score  quality_avg  quality_min  quality_max  \\\ndrift_score        1.000000    -0.550605    -0.605572    -0.258672   \nquality_avg       -0.550605     1.000000     0.698381     0.303663   \nquality_min       -0.605572     0.698381     1.000000     0.467612   \nquality_max       -0.258672     0.303663     0.467612     1.000000   \nquality_std        0.269613    -0.158696    -0.377524     0.323319   \ncum_reward_avg     0.528747    -0.499749    -0.636475    -0.563363   \ncum_reward_max     0.407681    -0.446164    -0.612046    -0.528408   \ncum_reward_std    -0.535117     0.543064     0.626828     0.561030   \nmom_reward_avg     0.541696    -0.546772    -0.625488    -0.555300   \nmom_reward_min     0.537498    -0.565781    -0.561378    -0.516847   \nmom_reward_max     0.431527    -0.449636    -0.623015    -0.540661   \nmom_reward_std    -0.518617     0.595814     0.545800     0.497546   \n\n                quality_std  cum_reward_avg  cum_reward_max  cum_reward_std  \\\ndrift_score        0.269613        0.528747        0.407681       -0.535117   \nquality_avg       -0.158696       -0.499749       -0.446164        0.543064   \nquality_min       -0.377524       -0.636475       -0.612046        0.626828   \nquality_max        0.323319       -0.563363       -0.528408        0.561030   \nquality_std        1.000000       -0.303255       -0.185431        0.344766   \ncum_reward_avg    -0.303255        1.000000        0.931871       -0.991554   \ncum_reward_max    -0.185431        0.931871        1.000000       -0.886365   \ncum_reward_std     0.344766       -0.991554       -0.886365        1.000000   \nmom_reward_avg    -0.347661        0.988429        0.874997       -0.999600   \nmom_reward_min    -0.412466        0.924603        0.740686       -0.965525   \nmom_reward_max    -0.196013        0.947229        0.997704       -0.907093   \nmom_reward_std     0.419151       -0.882294       -0.678855        0.935646   \n\n                mom_reward_avg  mom_reward_min  mom_reward_max  mom_reward_std  \ndrift_score           0.541696        0.537498        0.431527       -0.518617  \nquality_avg          -0.546772       -0.565781       -0.449636        0.595814  \nquality_min          -0.625488       -0.561378       -0.623015        0.545800  \nquality_max          -0.555300       -0.516847       -0.540661        0.497546  \nquality_std          -0.347661       -0.412466       -0.196013        0.419151  \ncum_reward_avg        0.988429        0.924603        0.947229       -0.882294  \ncum_reward_max        0.874997        0.740686        0.997704       -0.678855  \ncum_reward_std       -0.999600       -0.965525       -0.907093        0.935646  \nmom_reward_avg        1.000000        0.971219        0.896998       -0.943279  \nmom_reward_min        0.971219        1.000000        0.772915       -0.994334  \nmom_reward_max        0.896998        0.772915        1.000000       -0.713925  \nmom_reward_std       -0.943279       -0.994334       -0.713925        1.000000  ",
      "text/html": "<div>\n<style scoped>\n    .dataframe tbody tr th:only-of-type {\n        vertical-align: middle;\n    }\n\n    .dataframe tbody tr th {\n        vertical-align: top;\n    }\n\n    .dataframe thead th {\n        text-align: right;\n    }\n</style>\n<table border=\"1\" class=\"dataframe\">\n  <thead>\n    <tr style=\"text-align: right;\">\n      <th></th>\n      <th>drift_score</th>\n      <th>quality_avg</th>\n      <th>quality_min</th>\n      <th>quality_max</th>\n      <th>quality_std</th>\n      <th>cum_reward_avg</th>\n      <th>cum_reward_max</th>\n      <th>cum_reward_std</th>\n      <th>mom_reward_avg</th>\n      <th>mom_reward_min</th>\n      <th>mom_reward_max</th>\n      <th>mom_reward_std</th>\n    </tr>\n  </thead>\n  <tbody>\n    <tr>\n      <th>drift_score</th>\n      <td>1.000000</td>\n      <td>-0.550605</td>\n      <td>-0.605572</td>\n      <td>-0.258672</td>\n      <td>0.269613</td>\n      <td>0.528747</td>\n      <td>0.407681</td>\n      <td>-0.535117</td>\n      <td>0.541696</td>\n      <td>0.537498</td>\n      <td>0.431527</td>\n      <td>-0.518617</td>\n    </tr>\n    <tr>\n      <th>quality_avg</th>\n      <td>-0.550605</td>\n      <td>1.000000</td>\n      <td>0.698381</td>\n      <td>0.303663</td>\n      <td>-0.158696</td>\n      <td>-0.499749</td>\n      <td>-0.446164</td>\n      <td>0.543064</td>\n      <td>-0.546772</td>\n      <td>-0.565781</td>\n      <td>-0.449636</td>\n      <td>0.595814</td>\n    </tr>\n    <tr>\n      <th>quality_min</th>\n      <td>-0.605572</td>\n      <td>0.698381</td>\n      <td>1.000000</td>\n      <td>0.467612</td>\n      <td>-0.377524</td>\n      <td>-0.636475</td>\n      <td>-0.612046</td>\n      <td>0.626828</td>\n      <td>-0.625488</td>\n      <td>-0.561378</td>\n      <td>-0.623015</td>\n      <td>0.545800</td>\n    </tr>\n    <tr>\n      <th>quality_max</th>\n      <td>-0.258672</td>\n      <td>0.303663</td>\n      <td>0.467612</td>\n      <td>1.000000</td>\n      <td>0.323319</td>\n      <td>-0.563363</td>\n      <td>-0.528408</td>\n      <td>0.561030</td>\n      <td>-0.555300</td>\n      <td>-0.516847</td>\n      <td>-0.540661</td>\n      <td>0.497546</td>\n    </tr>\n    <tr>\n      <th>quality_std</th>\n      <td>0.269613</td>\n      <td>-0.158696</td>\n      <td>-0.377524</td>\n      <td>0.323319</td>\n      <td>1.000000</td>\n      <td>-0.303255</td>\n      <td>-0.185431</td>\n      <td>0.344766</td>\n      <td>-0.347661</td>\n      <td>-0.412466</td>\n      <td>-0.196013</td>\n      <td>0.419151</td>\n    </tr>\n    <tr>\n      <th>cum_reward_avg</th>\n      <td>0.528747</td>\n      <td>-0.499749</td>\n      <td>-0.636475</td>\n      <td>-0.563363</td>\n      <td>-0.303255</td>\n      <td>1.000000</td>\n      <td>0.931871</td>\n      <td>-0.991554</td>\n      <td>0.988429</td>\n      <td>0.924603</td>\n      <td>0.947229</td>\n      <td>-0.882294</td>\n    </tr>\n    <tr>\n      <th>cum_reward_max</th>\n      <td>0.407681</td>\n      <td>-0.446164</td>\n      <td>-0.612046</td>\n      <td>-0.528408</td>\n      <td>-0.185431</td>\n      <td>0.931871</td>\n      <td>1.000000</td>\n      <td>-0.886365</td>\n      <td>0.874997</td>\n      <td>0.740686</td>\n      <td>0.997704</td>\n      <td>-0.678855</td>\n    </tr>\n    <tr>\n      <th>cum_reward_std</th>\n      <td>-0.535117</td>\n      <td>0.543064</td>\n      <td>0.626828</td>\n      <td>0.561030</td>\n      <td>0.344766</td>\n      <td>-0.991554</td>\n      <td>-0.886365</td>\n      <td>1.000000</td>\n      <td>-0.999600</td>\n      <td>-0.965525</td>\n      <td>-0.907093</td>\n      <td>0.935646</td>\n    </tr>\n    <tr>\n      <th>mom_reward_avg</th>\n      <td>0.541696</td>\n      <td>-0.546772</td>\n      <td>-0.625488</td>\n      <td>-0.555300</td>\n      <td>-0.347661</td>\n      <td>0.988429</td>\n      <td>0.874997</td>\n      <td>-0.999600</td>\n      <td>1.000000</td>\n      <td>0.971219</td>\n      <td>0.896998</td>\n      <td>-0.943279</td>\n    </tr>\n    <tr>\n      <th>mom_reward_min</th>\n      <td>0.537498</td>\n      <td>-0.565781</td>\n      <td>-0.561378</td>\n      <td>-0.516847</td>\n      <td>-0.412466</td>\n      <td>0.924603</td>\n      <td>0.740686</td>\n      <td>-0.965525</td>\n      <td>0.971219</td>\n      <td>1.000000</td>\n      <td>0.772915</td>\n      <td>-0.994334</td>\n    </tr>\n    <tr>\n      <th>mom_reward_max</th>\n      <td>0.431527</td>\n      <td>-0.449636</td>\n      <td>-0.623015</td>\n      <td>-0.540661</td>\n      <td>-0.196013</td>\n      <td>0.947229</td>\n      <td>0.997704</td>\n      <td>-0.907093</td>\n      <td>0.896998</td>\n      <td>0.772915</td>\n      <td>1.000000</td>\n      <td>-0.713925</td>\n    </tr>\n    <tr>\n      <th>mom_reward_std</th>\n      <td>-0.518617</td>\n      <td>0.595814</td>\n      <td>0.545800</td>\n      <td>0.497546</td>\n      <td>0.419151</td>\n      <td>-0.882294</td>\n      <td>-0.678855</td>\n      <td>0.935646</td>\n      <td>-0.943279</td>\n      <td>-0.994334</td>\n      <td>-0.713925</td>\n      <td>1.000000</td>\n    </tr>\n  </tbody>\n</table>\n</div>"
     },
     "execution_count": 8,
     "metadata": {},
     "output_type": "execute_result"
    }
   ],
   "source": [
    "scores_df[scores_df.columns[1:]].corr()"
   ],
   "metadata": {
    "collapsed": false,
    "ExecuteTime": {
     "end_time": "2023-09-04T07:18:27.279593793Z",
     "start_time": "2023-09-04T07:18:27.239604109Z"
    }
   }
  },
  {
   "cell_type": "code",
   "execution_count": 23,
   "outputs": [
    {
     "data": {
      "text/plain": "1043"
     },
     "execution_count": 23,
     "metadata": {},
     "output_type": "execute_result"
    }
   ],
   "source": [
    "len(df['Cell ID'].unique())"
   ],
   "metadata": {
    "collapsed": false,
    "ExecuteTime": {
     "end_time": "2023-09-04T10:19:54.862189704Z",
     "start_time": "2023-09-04T10:19:54.837915222Z"
    }
   }
  },
  {
   "cell_type": "code",
   "execution_count": 11,
   "outputs": [],
   "source": [
    "300 / len(df['Cell ID'].unique())"
   ],
   "metadata": {
    "collapsed": false
   }
  },
  {
   "cell_type": "code",
   "execution_count": 10,
   "outputs": [],
   "source": [
    "scores_df"
   ],
   "metadata": {
    "collapsed": false
   }
  },
  {
   "cell_type": "code",
   "execution_count": 7,
   "outputs": [],
   "source": [
    "import logging\n",
    "\n",
    "loggers = [logging.getLogger(name) for name in logging.root.manager.loggerDict]"
   ],
   "metadata": {
    "collapsed": false
   }
  },
  {
   "cell_type": "code",
   "execution_count": 13,
   "outputs": [],
   "source": [
    "with open('loggers.txt', 'w') as f:\n",
    "    for item in loggers:\n",
    "        # write each item on a new line\n",
    "        f.write(\"%s\\n\" % item)"
   ],
   "metadata": {
    "collapsed": false
   }
  },
  {
   "cell_type": "code",
   "execution_count": 20,
   "outputs": [],
   "source": [
    "class LessThanFilter(logging.Filter):\n",
    "    def __init__(self, exclusive_maximum, name=\"\"):\n",
    "        super(LessThanFilter, self).__init__(name)\n",
    "        self.max_level = exclusive_maximum\n",
    "\n",
    "    def filter(self, record):\n",
    "        #non-zero return means we log this message\n",
    "        return 1 if record.levelno < self.max_level else 0\n",
    "\n",
    "logging.getLogger(\"pytorch_lightning.utilities.rank_zero\").addFilter(LessThanFilter(logging.ERROR))"
   ],
   "metadata": {
    "collapsed": false,
    "ExecuteTime": {
     "end_time": "2023-09-04T11:26:40.553508627Z",
     "start_time": "2023-09-04T11:26:40.544830270Z"
    }
   }
  },
  {
   "cell_type": "code",
   "execution_count": 23,
   "outputs": [],
   "source": [
    "logging.getLogger(\"pytorch_lightning.utilities.rank_zero\").error('asd')\n",
    "logging.getLogger(\"pytorch_lightning.utilities.rank_zero\").error('asd')\n",
    "logging.getLogger(\"pytorch_lightning.utilities.rank_zero\").error('asd')\n",
    "logging.getLogger(\"pytorch_lightning.utilities.rank_zero\").error('asd')\n",
    "logging.getLogger(\"pytorch_lightning.utilities.rank_zero\").error('asd')"
   ],
   "metadata": {
    "collapsed": false,
    "ExecuteTime": {
     "end_time": "2023-09-04T11:26:53.571900441Z",
     "start_time": "2023-09-04T11:26:53.562437112Z"
    }
   }
  },
  {
   "cell_type": "code",
   "execution_count": 27,
   "outputs": [
    {
     "data": {
      "text/plain": "('/home/rid/Soft/anaconda3/envs/sm_bachelor/lib/python3.9/site-packages/IPython/core/interactiveshell.py',\n 3448,\n 'run_ast_nodes',\n None)"
     },
     "execution_count": 27,
     "metadata": {},
     "output_type": "execute_result"
    }
   ],
   "source": [
    "logging.getLogger(\"pytorch_lightning.utilities.rank_zero\").findCaller()"
   ],
   "metadata": {
    "collapsed": false,
    "ExecuteTime": {
     "end_time": "2023-09-04T11:29:41.736301618Z",
     "start_time": "2023-09-04T11:29:41.707082771Z"
    }
   }
  },
  {
   "cell_type": "code",
   "execution_count": 9,
   "outputs": [
    {
     "name": "stdout",
     "output_type": "stream",
     "text": [
      "CPU times: user 6.43 s, sys: 212 ms, total: 6.65 s\n",
      "Wall time: 6.8 s\n"
     ]
    }
   ],
   "source": [
    "%%time\n",
    "\n",
    "data_drift_report = Report(metrics=[\n",
    "    DataDriftPreset(),\n",
    "])\n",
    "data_drift_report.run(reference_data=reff, current_data=cell_data,)\n",
    "drift = data_drift_report.as_dict()['metrics'][0]['result']['share_of_drifted_columns']"
   ],
   "metadata": {
    "collapsed": false,
    "ExecuteTime": {
     "end_time": "2023-09-04T12:42:10.581486699Z",
     "start_time": "2023-09-04T12:42:03.780724117Z"
    }
   }
  },
  {
   "cell_type": "code",
   "execution_count": 10,
   "outputs": [
    {
     "name": "stdout",
     "output_type": "stream",
     "text": [
      "CPU times: user 6.22 s, sys: 168 ms, total: 6.39 s\n",
      "Wall time: 6.49 s\n"
     ]
    }
   ],
   "source": [
    "%%time\n",
    "\n",
    "data_drift_report.run(reference_data=reff, current_data=cell_data,)\n",
    "drift = data_drift_report.as_dict()['metrics'][0]['result']['share_of_drifted_columns']"
   ],
   "metadata": {
    "collapsed": false,
    "ExecuteTime": {
     "end_time": "2023-09-04T12:42:17.073199653Z",
     "start_time": "2023-09-04T12:42:10.585728730Z"
    }
   }
  },
  {
   "cell_type": "code",
   "execution_count": 11,
   "outputs": [
    {
     "name": "stdout",
     "output_type": "stream",
     "text": [
      "CPU times: user 42.4 s, sys: 1.72 s, total: 44.1 s\n",
      "Wall time: 44.1 s\n"
     ]
    }
   ],
   "source": [
    "%%time\n",
    "\n",
    "with warnings.catch_warnings():\n",
    "    warnings.simplefilter(\"ignore\")\n",
    "    states = optimize_params(cell_data, preprocess=preprocess_full)"
   ],
   "metadata": {
    "collapsed": false,
    "ExecuteTime": {
     "end_time": "2023-09-04T12:43:01.223134380Z",
     "start_time": "2023-09-04T12:42:17.079752110Z"
    }
   }
  },
  {
   "cell_type": "code",
   "execution_count": 3,
   "outputs": [
    {
     "data": {
      "text/plain": "False"
     },
     "execution_count": 3,
     "metadata": {},
     "output_type": "execute_result"
    }
   ],
   "source": [
    "torch.cuda.is_available()"
   ],
   "metadata": {
    "collapsed": false,
    "ExecuteTime": {
     "end_time": "2023-09-04T17:26:47.561640383Z",
     "start_time": "2023-09-04T17:26:47.548519996Z"
    }
   }
  },
  {
   "cell_type": "code",
   "execution_count": null,
   "outputs": [],
   "source": [],
   "metadata": {
    "collapsed": false
   }
  }
 ],
 "metadata": {
  "kernelspec": {
   "display_name": "Python 3",
   "language": "python",
   "name": "python3"
  },
  "language_info": {
   "codemirror_mode": {
    "name": "ipython",
    "version": 2
   },
   "file_extension": ".py",
   "mimetype": "text/x-python",
   "name": "python",
   "nbconvert_exporter": "python",
   "pygments_lexer": "ipython2",
   "version": "2.7.6"
  }
 },
 "nbformat": 4,
 "nbformat_minor": 0
}
