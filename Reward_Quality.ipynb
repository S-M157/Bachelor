{
 "cells": [
  {
   "cell_type": "code",
   "execution_count": 1,
   "metadata": {
    "collapsed": true,
    "ExecuteTime": {
     "end_time": "2023-09-08T15:44:51.723124450Z",
     "start_time": "2023-09-08T15:44:48.697701830Z"
    }
   },
   "outputs": [
    {
     "name": "stderr",
     "output_type": "stream",
     "text": [
      "The `LightGBM` module could not be imported. To enable LightGBM support in Darts, follow the detailed instructions in the installation guide: https://github.com/unit8co/darts/blob/master/INSTALL.md\n",
      "The `Prophet` module could not be imported. To enable Prophet support in Darts, follow the detailed instructions in the installation guide: https://github.com/unit8co/darts/blob/master/INSTALL.md\n",
      "The `CatBoost` module could not be imported. To enable CatBoost support in Darts, follow the detailed instructions in the installation guide: https://github.com/unit8co/darts/blob/master/INSTALL.md\n"
     ]
    }
   ],
   "source": [
    "import warnings\n",
    "\n",
    "import numpy as np\n",
    "import pandas as pd\n",
    "from darts.models.forecasting.nhits import NHiTSModel\n",
    "from darts import TimeSeries\n",
    "import torch\n",
    "import pickle\n",
    "from typing import Callable\n",
    "from tqdm import tqdm\n",
    "\n",
    "from helpers import predict, load_agent, quality, clip\n",
    "from preprocess import preprocess_stats\n",
    "from rl.sim_enviroment import SimulatedQualEnv\n",
    "\n",
    "from evidently.report import Report\n",
    "from evidently.metric_preset import DataDriftPreset\n",
    "from evidently.options import DataDriftOptions"
   ]
  },
  {
   "cell_type": "code",
   "execution_count": 2,
   "outputs": [],
   "source": [
    "import pickle\n",
    "\n",
    "with open(\"/home/justbadcarma/Bachelor/data/cov_scaler.pkl\", \"rb\") as f:\n",
    "    cov_scaler = pickle.load(f)\n",
    "\n",
    "with open(\"/home/justbadcarma/Bachelor/data/series_scaler.pkl\", \"rb\") as f:\n",
    "    series_scaler = pickle.load(f)"
   ],
   "metadata": {
    "collapsed": false,
    "ExecuteTime": {
     "end_time": "2023-09-08T15:44:52.111029691Z",
     "start_time": "2023-09-08T15:44:52.058306868Z"
    }
   }
  },
  {
   "cell_type": "code",
   "execution_count": 3,
   "outputs": [],
   "source": [
    "\n",
    "from helpers import reward_func\n",
    "\n",
    "\n",
    "def optimize_params(data: pd.DataFrame, preprocess: Callable = preprocess_stats, device='cpu') -> pd.DataFrame:\n",
    "    \"\"\"\n",
    "    Run and evaluate agent.\n",
    "\n",
    "    :param data:        raw observations in pandas DataFrame\n",
    "    :return:            result saves to the same path as input\n",
    "\n",
    "    Args:\n",
    "        preprocess: function to preprocess data\n",
    "    \"\"\"\n",
    "    columns = ['Cell ID', 'LAC', 'HR Usage Rate', 'TCH Blocking Rate, BH', 'Number of Available\\nTCH',\n",
    "               'TCH Traffic (Erl), BH', 'Lower_limit', 'Upper_limit']\n",
    "\n",
    "    df = preprocess(data, columns)\n",
    "    obs_array = df.drop(columns=['Cell ID', 'LAC'], errors='ignore')\n",
    "    obs_array.rename_axis(None, axis=1, inplace=True)\n",
    "    obs_array.reset_index(drop=True, inplace=True)\n",
    "\n",
    "    agent = load_agent('sac_best_enough_qual.pt', 'pt')\n",
    "    state_predictor = NHiTSModel.load_from_checkpoint(\"/home/justbadcarma/Bachelor/rl/nhits_35lw_2l_1b_3s_35_lr4\", \"state_predictor\", best=True, map_location=device)\n",
    "\n",
    "    # # 'HR Usage Rate', 'TCH Blocking Rate, BH'\n",
    "    # self.current_state = series[randint(0, len(series))].head(n_past)\n",
    "    # # 'Number of Available\\nTCH', 'TCH Traffic (Erl), BH', 'Param 1',  'Param 2'\n",
    "    # self.cov = covariates[0].head(n_past)\n",
    "    qualities = []\n",
    "    new_states = []\n",
    "\n",
    "    # 'HR Usage Rate', 'TCH Blocking Rate, BH'\n",
    "\n",
    "\n",
    "    # print(TimeSeries.from_dataframe(obs_array.iloc[:, :2]))\n",
    "    # print(len(TimeSeries.from_dataframe(obs_array.iloc[:, :2])))\n",
    "\n",
    "    # setting env for reward calculation\n",
    "    environment = SimulatedQualEnv(\n",
    "        quality_function=reward_func,\n",
    "        env=state_predictor,\n",
    "        action_range=np.array([1,1]),\n",
    "        series=series_scaler.transform(TimeSeries.from_dataframe(obs_array.iloc[:, :2])),\n",
    "        covariates=cov_scaler.transform(TimeSeries.from_dataframe(obs_array.iloc[:, -4:])),\n",
    "        n_past=7,\n",
    "        scaler=series_scaler,\n",
    "    )\n",
    "    \n",
    "    mom_reward = []\n",
    "\n",
    "    for _ in range(len(obs_array) - 7):\n",
    "        # print('Curr_state=', current_state.shape)\n",
    "        obs = environment.reset()\n",
    "        a1, a2 = predict(obs, agent)\n",
    "        # compute reward\n",
    "        new_state, reward, done, info = environment.step(np.array([a1, a2]))\n",
    "        mom_reward.append(reward)\n",
    "\n",
    "        # Compute quality\n",
    "        qualities.append(environment.quality_after)\n",
    "\n",
    "        # print(cov)\n",
    "        # n for number of states to predict\n",
    "        # current_state.rename_axis(None, axis=1, inplace=True)\n",
    "        # current_state.reset_index(drop=True, inplace=True)\n",
    "        new_states.append(new_state)\n",
    "\n",
    "    # df['Lower_limit_Gen'], df['Upper_limit_Gen'], df['Limit_quality_Gen'] = lower_limits, upper_limits, qualities\n",
    "    # df[\"Quality Rate\"] = 1 - (2*df['HR Usage Rate']/100 + np.log(df['TCH Blocking Rate, BH'] + 1))/(1 + np.log(101))\n",
    "\n",
    "    states_df = pd.DataFrame(new_states, columns=columns[2:])\n",
    "    states_df[\"Quality Rate\"] = 1 - (2*states_df['HR Usage Rate']/100 + np.log(states_df['TCH Blocking Rate, BH'] + 1))/(1 + np.log(101))\n",
    "    states_df['cum_reward'] = np.cumsum(mom_reward)\n",
    "    states_df['mom_reward'] = mom_reward\n",
    "\n",
    "    return states_df\n"
   ],
   "metadata": {
    "collapsed": false,
    "ExecuteTime": {
     "end_time": "2023-09-08T15:44:52.669855578Z",
     "start_time": "2023-09-08T15:44:52.634938856Z"
    }
   }
  },
  {
   "cell_type": "code",
   "execution_count": 4,
   "outputs": [],
   "source": [
    "from typing import List\n",
    "\n",
    "\n",
    "def preprocess_full(data: pd.DataFrame, cols: List[str]=None):\n",
    "    df = data.copy()\n",
    "    cols = ['HR Usage Rate', 'TCH Blocking Rate, BH', 'Number of Available\\nTCH',\n",
    "               'TCH Traffic (Erl), BH', 'Lower_limit', 'Upper_limit']\n",
    "    df.drop(columns='DATA', inplace=True)\n",
    "    df.rename(columns={'Param 1': cols[-2], 'Param 2': cols[-1]}, inplace=True)\n",
    "    return df[cols]"
   ],
   "metadata": {
    "collapsed": false,
    "ExecuteTime": {
     "end_time": "2023-09-08T15:44:56.611557069Z",
     "start_time": "2023-09-08T15:44:56.570276480Z"
    }
   }
  },
  {
   "cell_type": "code",
   "execution_count": 5,
   "outputs": [],
   "source": [
    "train_df = pd.read_csv('data/train_data.csv', index_col=0) # train data\n",
    "test_df = pd.read_csv('data/test_data.csv', index_col=0) "
   ],
   "metadata": {
    "collapsed": false,
    "ExecuteTime": {
     "end_time": "2023-09-08T15:44:57.065211646Z",
     "start_time": "2023-09-08T15:44:56.965708095Z"
    }
   }
  },
  {
   "cell_type": "code",
   "execution_count": 6,
   "outputs": [
    {
     "data": {
      "text/plain": "        Cell ID        DATA  Number of Available\\nTCH  HR Usage Rate   \n23        12086  2020-10-02                       2.0          85.03  \\\n36        12092  2020-10-02                       3.0          50.82   \n40        26303  2020-10-02                       4.0          99.60   \n53          782  2020-10-02                       2.0          19.23   \n55          783  2020-10-02                       2.0           4.83   \n...         ...         ...                       ...            ...   \n193989      882  2023-03-28                      13.0          88.00   \n193990      887  2023-03-28                      13.0          99.00   \n193991      883  2023-03-28                      12.0         100.00   \n193992      888  2023-03-28                      12.0          86.00   \n193993      884  2023-03-28                      12.0          99.00   \n\n        TCH Blocking Rate, BH  TCH Traffic (Erl), BH  Param 1  Param 2  \n23                       0.00                   2.19       36       39  \n36                       0.00                   2.50       54       78  \n40                       0.00                  10.99       85       97  \n53                       0.00                   0.97       32       50  \n55                       0.00                   0.48       46       62  \n...                       ...                    ...      ...      ...  \n193989                   0.00                   2.50       26       43  \n193990                   0.28                  15.60       12       21  \n193991                  19.96                  22.57       18       29  \n193992                   0.00                   5.53       19       31  \n193993                   0.67                   8.44       18       29  \n\n[223153 rows x 8 columns]",
      "text/html": "<div>\n<style scoped>\n    .dataframe tbody tr th:only-of-type {\n        vertical-align: middle;\n    }\n\n    .dataframe tbody tr th {\n        vertical-align: top;\n    }\n\n    .dataframe thead th {\n        text-align: right;\n    }\n</style>\n<table border=\"1\" class=\"dataframe\">\n  <thead>\n    <tr style=\"text-align: right;\">\n      <th></th>\n      <th>Cell ID</th>\n      <th>DATA</th>\n      <th>Number of Available\\nTCH</th>\n      <th>HR Usage Rate</th>\n      <th>TCH Blocking Rate, BH</th>\n      <th>TCH Traffic (Erl), BH</th>\n      <th>Param 1</th>\n      <th>Param 2</th>\n    </tr>\n  </thead>\n  <tbody>\n    <tr>\n      <th>23</th>\n      <td>12086</td>\n      <td>2020-10-02</td>\n      <td>2.0</td>\n      <td>85.03</td>\n      <td>0.00</td>\n      <td>2.19</td>\n      <td>36</td>\n      <td>39</td>\n    </tr>\n    <tr>\n      <th>36</th>\n      <td>12092</td>\n      <td>2020-10-02</td>\n      <td>3.0</td>\n      <td>50.82</td>\n      <td>0.00</td>\n      <td>2.50</td>\n      <td>54</td>\n      <td>78</td>\n    </tr>\n    <tr>\n      <th>40</th>\n      <td>26303</td>\n      <td>2020-10-02</td>\n      <td>4.0</td>\n      <td>99.60</td>\n      <td>0.00</td>\n      <td>10.99</td>\n      <td>85</td>\n      <td>97</td>\n    </tr>\n    <tr>\n      <th>53</th>\n      <td>782</td>\n      <td>2020-10-02</td>\n      <td>2.0</td>\n      <td>19.23</td>\n      <td>0.00</td>\n      <td>0.97</td>\n      <td>32</td>\n      <td>50</td>\n    </tr>\n    <tr>\n      <th>55</th>\n      <td>783</td>\n      <td>2020-10-02</td>\n      <td>2.0</td>\n      <td>4.83</td>\n      <td>0.00</td>\n      <td>0.48</td>\n      <td>46</td>\n      <td>62</td>\n    </tr>\n    <tr>\n      <th>...</th>\n      <td>...</td>\n      <td>...</td>\n      <td>...</td>\n      <td>...</td>\n      <td>...</td>\n      <td>...</td>\n      <td>...</td>\n      <td>...</td>\n    </tr>\n    <tr>\n      <th>193989</th>\n      <td>882</td>\n      <td>2023-03-28</td>\n      <td>13.0</td>\n      <td>88.00</td>\n      <td>0.00</td>\n      <td>2.50</td>\n      <td>26</td>\n      <td>43</td>\n    </tr>\n    <tr>\n      <th>193990</th>\n      <td>887</td>\n      <td>2023-03-28</td>\n      <td>13.0</td>\n      <td>99.00</td>\n      <td>0.28</td>\n      <td>15.60</td>\n      <td>12</td>\n      <td>21</td>\n    </tr>\n    <tr>\n      <th>193991</th>\n      <td>883</td>\n      <td>2023-03-28</td>\n      <td>12.0</td>\n      <td>100.00</td>\n      <td>19.96</td>\n      <td>22.57</td>\n      <td>18</td>\n      <td>29</td>\n    </tr>\n    <tr>\n      <th>193992</th>\n      <td>888</td>\n      <td>2023-03-28</td>\n      <td>12.0</td>\n      <td>86.00</td>\n      <td>0.00</td>\n      <td>5.53</td>\n      <td>19</td>\n      <td>31</td>\n    </tr>\n    <tr>\n      <th>193993</th>\n      <td>884</td>\n      <td>2023-03-28</td>\n      <td>12.0</td>\n      <td>99.00</td>\n      <td>0.67</td>\n      <td>8.44</td>\n      <td>18</td>\n      <td>29</td>\n    </tr>\n  </tbody>\n</table>\n<p>223153 rows × 8 columns</p>\n</div>"
     },
     "execution_count": 6,
     "metadata": {},
     "output_type": "execute_result"
    }
   ],
   "source": [
    "train_df"
   ],
   "metadata": {
    "collapsed": false,
    "ExecuteTime": {
     "end_time": "2023-09-08T15:44:59.776328453Z",
     "start_time": "2023-09-08T15:44:59.730513071Z"
    }
   }
  },
  {
   "cell_type": "code",
   "execution_count": 7,
   "outputs": [
    {
     "data": {
      "text/plain": "        Cell ID        DATA  Number of Available\\nTCH  HR Usage Rate   \n0         25771  2023-01-02                        13           96.0  \\\n1         25772  2023-01-02                        13           75.0   \n2         25773  2023-01-02                        21           72.0   \n3          3361  2023-01-02                        21           49.0   \n4          3362  2023-01-02                         6           92.0   \n...         ...         ...                       ...            ...   \n193066    12746  2023-03-28                        12           52.0   \n193067    12747  2023-03-28                        12           50.0   \n193068    12781  2023-03-28                        12          100.0   \n193069    12782  2023-03-28                        12           99.0   \n193070    12783  2023-03-28                         4          100.0   \n\n        TCH Blocking Rate, BH  TCH Traffic (Erl), BH  Param 1  Param 2  \n0                        0.00                   5.47       46       54  \n1                        0.00                   5.34       25       43  \n2                        0.00                   7.71       27       47  \n3                        0.00                   9.02       20       30  \n4                        0.00                   1.38       11       21  \n...                       ...                    ...      ...      ...  \n193066                   0.00                   1.26        8       16  \n193067                   0.00                   1.37       41       49  \n193068                   0.00                   3.70       40       60  \n193069                   0.00                   4.92       40       60  \n193070                   4.29                   4.72       40       60  \n\n[18341 rows x 8 columns]",
      "text/html": "<div>\n<style scoped>\n    .dataframe tbody tr th:only-of-type {\n        vertical-align: middle;\n    }\n\n    .dataframe tbody tr th {\n        vertical-align: top;\n    }\n\n    .dataframe thead th {\n        text-align: right;\n    }\n</style>\n<table border=\"1\" class=\"dataframe\">\n  <thead>\n    <tr style=\"text-align: right;\">\n      <th></th>\n      <th>Cell ID</th>\n      <th>DATA</th>\n      <th>Number of Available\\nTCH</th>\n      <th>HR Usage Rate</th>\n      <th>TCH Blocking Rate, BH</th>\n      <th>TCH Traffic (Erl), BH</th>\n      <th>Param 1</th>\n      <th>Param 2</th>\n    </tr>\n  </thead>\n  <tbody>\n    <tr>\n      <th>0</th>\n      <td>25771</td>\n      <td>2023-01-02</td>\n      <td>13</td>\n      <td>96.0</td>\n      <td>0.00</td>\n      <td>5.47</td>\n      <td>46</td>\n      <td>54</td>\n    </tr>\n    <tr>\n      <th>1</th>\n      <td>25772</td>\n      <td>2023-01-02</td>\n      <td>13</td>\n      <td>75.0</td>\n      <td>0.00</td>\n      <td>5.34</td>\n      <td>25</td>\n      <td>43</td>\n    </tr>\n    <tr>\n      <th>2</th>\n      <td>25773</td>\n      <td>2023-01-02</td>\n      <td>21</td>\n      <td>72.0</td>\n      <td>0.00</td>\n      <td>7.71</td>\n      <td>27</td>\n      <td>47</td>\n    </tr>\n    <tr>\n      <th>3</th>\n      <td>3361</td>\n      <td>2023-01-02</td>\n      <td>21</td>\n      <td>49.0</td>\n      <td>0.00</td>\n      <td>9.02</td>\n      <td>20</td>\n      <td>30</td>\n    </tr>\n    <tr>\n      <th>4</th>\n      <td>3362</td>\n      <td>2023-01-02</td>\n      <td>6</td>\n      <td>92.0</td>\n      <td>0.00</td>\n      <td>1.38</td>\n      <td>11</td>\n      <td>21</td>\n    </tr>\n    <tr>\n      <th>...</th>\n      <td>...</td>\n      <td>...</td>\n      <td>...</td>\n      <td>...</td>\n      <td>...</td>\n      <td>...</td>\n      <td>...</td>\n      <td>...</td>\n    </tr>\n    <tr>\n      <th>193066</th>\n      <td>12746</td>\n      <td>2023-03-28</td>\n      <td>12</td>\n      <td>52.0</td>\n      <td>0.00</td>\n      <td>1.26</td>\n      <td>8</td>\n      <td>16</td>\n    </tr>\n    <tr>\n      <th>193067</th>\n      <td>12747</td>\n      <td>2023-03-28</td>\n      <td>12</td>\n      <td>50.0</td>\n      <td>0.00</td>\n      <td>1.37</td>\n      <td>41</td>\n      <td>49</td>\n    </tr>\n    <tr>\n      <th>193068</th>\n      <td>12781</td>\n      <td>2023-03-28</td>\n      <td>12</td>\n      <td>100.0</td>\n      <td>0.00</td>\n      <td>3.70</td>\n      <td>40</td>\n      <td>60</td>\n    </tr>\n    <tr>\n      <th>193069</th>\n      <td>12782</td>\n      <td>2023-03-28</td>\n      <td>12</td>\n      <td>99.0</td>\n      <td>0.00</td>\n      <td>4.92</td>\n      <td>40</td>\n      <td>60</td>\n    </tr>\n    <tr>\n      <th>193070</th>\n      <td>12783</td>\n      <td>2023-03-28</td>\n      <td>4</td>\n      <td>100.0</td>\n      <td>4.29</td>\n      <td>4.72</td>\n      <td>40</td>\n      <td>60</td>\n    </tr>\n  </tbody>\n</table>\n<p>18341 rows × 8 columns</p>\n</div>"
     },
     "execution_count": 7,
     "metadata": {},
     "output_type": "execute_result"
    }
   ],
   "source": [
    "test_df"
   ],
   "metadata": {
    "collapsed": false,
    "ExecuteTime": {
     "end_time": "2023-09-08T15:45:01.454998154Z",
     "start_time": "2023-09-08T15:45:01.420094981Z"
    }
   }
  },
  {
   "cell_type": "code",
   "execution_count": 20,
   "outputs": [
    {
     "name": "stderr",
     "output_type": "stream",
     "text": [
      "  0%|          | 0/100 [00:00<?, ?it/s]"
     ]
    },
    {
     "name": "stdout",
     "output_type": "stream",
     "text": [
      "(191, 8)\n"
     ]
    },
    {
     "name": "stderr",
     "output_type": "stream",
     "text": [
      "\n"
     ]
    }
   ],
   "source": [
    "for cell in tqdm(test_df[['Cell ID']].value_counts().keys()):\n",
    "    print(test_df[test_df['Cell ID'] == cell].shape)\n",
    "    break"
   ],
   "metadata": {
    "collapsed": false,
    "ExecuteTime": {
     "end_time": "2023-09-07T17:23:48.607130624Z",
     "start_time": "2023-09-07T17:23:48.532623613Z"
    }
   }
  },
  {
   "cell_type": "code",
   "execution_count": 22,
   "outputs": [
    {
     "data": {
      "text/plain": "Cell ID\n12083      191\n12086      191\n12472      191\n12471      191\n12097      191\n          ... \n782        185\n12752       15\n5683         7\n5682         7\n5681         7\nName: count, Length: 100, dtype: int64"
     },
     "execution_count": 22,
     "metadata": {},
     "output_type": "execute_result"
    }
   ],
   "source": [
    "test_df[['Cell ID']].value_counts()"
   ],
   "metadata": {
    "collapsed": false,
    "ExecuteTime": {
     "end_time": "2023-09-07T17:29:03.120919559Z",
     "start_time": "2023-09-07T17:29:03.076325647Z"
    }
   }
  },
  {
   "cell_type": "code",
   "execution_count": 6,
   "outputs": [],
   "source": [
    "# cell_list = list(map(lambda x: x[0], df[['Cell ID']].value_counts().index[:10].tolist()))\n",
    "# curr = df[df['Cell ID'].isin(cell_list)]\n",
    "# reff = df[~df['Cell ID'].isin(cell_list)]"
   ],
   "metadata": {
    "collapsed": false,
    "ExecuteTime": {
     "end_time": "2023-09-05T07:11:51.064182578Z",
     "start_time": "2023-09-05T07:11:50.975820481Z"
    }
   }
  },
  {
   "cell_type": "markdown",
   "source": [
    "## Train-test"
   ],
   "metadata": {
    "collapsed": false
   }
  },
  {
   "cell_type": "code",
   "execution_count": 8,
   "outputs": [
    {
     "name": "stderr",
     "output_type": "stream",
     "text": [
      "100%|██████████| 100/100 [09:22<00:00,  5.63s/it]"
     ]
    },
    {
     "name": "stdout",
     "output_type": "stream",
     "text": [
      "CPU times: user 8min 38s, sys: 41.7 s, total: 9min 20s\n",
      "Wall time: 9min 22s\n"
     ]
    },
    {
     "name": "stderr",
     "output_type": "stream",
     "text": [
      "\n"
     ]
    },
    {
     "data": {
      "text/plain": "    cell_id  drift_score  quality_avg  quality_min  quality_max  quality_std   \n0     12083          1.0     0.938036     0.788178     0.968796     0.028284  \\\n1     12086          1.0     0.959679     0.664859     0.994878     0.050413   \n2     12472          1.0     0.920484     0.495793     0.992449     0.097400   \n3     12471          1.0     0.902566     0.321151     0.996606     0.143719   \n4     12097          1.0     0.992145     0.885358     0.997306     0.012103   \n..      ...          ...          ...          ...          ...          ...   \n92    41798          1.0     0.992323     0.982768     0.996593     0.003523   \n93    24461          1.0     0.912180     0.408314     0.995568     0.127461   \n94      752          1.0     0.989428     0.962648     0.993906     0.003364   \n95      782          1.0     0.982470     0.842098     0.996267     0.027049   \n96    12752          1.0     0.723011     0.497834     0.870611     0.147533   \n\n    cum_reward_avg  cum_reward_max  cum_reward_std  mom_reward_avg   \n0       518.406946     1047.914420      259.952838        4.985153  \\\n1      -264.679536      350.000000      394.226976       -5.510784   \n2     -1305.646924      -20.000000      962.719535      -17.577757   \n3     -2046.224926       50.000000     1451.462522      -27.004052   \n4       857.826087     1720.000000      497.177445        9.347826   \n..             ...             ...             ...             ...   \n92      915.000000     1820.000000      526.830143       10.000000   \n93    -1154.655853      102.076908      929.694255      -16.223734   \n94      871.381215     1730.000000      500.035303        9.502762   \n95      415.731187      746.377686      178.602903        3.435516   \n96     -493.567277     -218.856386      304.503401     -116.493282   \n\n    mom_reward_min  mom_reward_max  mom_reward_std  \n0      -129.222951            10.0       19.731482  \n1      -217.747710            10.0       44.921209  \n2      -269.207217            10.0       63.259931  \n3      -398.833829            10.0       83.854511  \n4       -20.000000            10.0        4.386853  \n..             ...             ...             ...  \n92       10.000000            10.0        0.000000  \n93     -273.822333            10.0       69.987364  \n94      -20.000000            10.0        3.840753  \n95     -199.673491            10.0       32.084778  \n96     -256.331868           -20.0      107.530603  \n\n[97 rows x 13 columns]",
      "text/html": "<div>\n<style scoped>\n    .dataframe tbody tr th:only-of-type {\n        vertical-align: middle;\n    }\n\n    .dataframe tbody tr th {\n        vertical-align: top;\n    }\n\n    .dataframe thead th {\n        text-align: right;\n    }\n</style>\n<table border=\"1\" class=\"dataframe\">\n  <thead>\n    <tr style=\"text-align: right;\">\n      <th></th>\n      <th>cell_id</th>\n      <th>drift_score</th>\n      <th>quality_avg</th>\n      <th>quality_min</th>\n      <th>quality_max</th>\n      <th>quality_std</th>\n      <th>cum_reward_avg</th>\n      <th>cum_reward_max</th>\n      <th>cum_reward_std</th>\n      <th>mom_reward_avg</th>\n      <th>mom_reward_min</th>\n      <th>mom_reward_max</th>\n      <th>mom_reward_std</th>\n    </tr>\n  </thead>\n  <tbody>\n    <tr>\n      <th>0</th>\n      <td>12083</td>\n      <td>1.0</td>\n      <td>0.938036</td>\n      <td>0.788178</td>\n      <td>0.968796</td>\n      <td>0.028284</td>\n      <td>518.406946</td>\n      <td>1047.914420</td>\n      <td>259.952838</td>\n      <td>4.985153</td>\n      <td>-129.222951</td>\n      <td>10.0</td>\n      <td>19.731482</td>\n    </tr>\n    <tr>\n      <th>1</th>\n      <td>12086</td>\n      <td>1.0</td>\n      <td>0.959679</td>\n      <td>0.664859</td>\n      <td>0.994878</td>\n      <td>0.050413</td>\n      <td>-264.679536</td>\n      <td>350.000000</td>\n      <td>394.226976</td>\n      <td>-5.510784</td>\n      <td>-217.747710</td>\n      <td>10.0</td>\n      <td>44.921209</td>\n    </tr>\n    <tr>\n      <th>2</th>\n      <td>12472</td>\n      <td>1.0</td>\n      <td>0.920484</td>\n      <td>0.495793</td>\n      <td>0.992449</td>\n      <td>0.097400</td>\n      <td>-1305.646924</td>\n      <td>-20.000000</td>\n      <td>962.719535</td>\n      <td>-17.577757</td>\n      <td>-269.207217</td>\n      <td>10.0</td>\n      <td>63.259931</td>\n    </tr>\n    <tr>\n      <th>3</th>\n      <td>12471</td>\n      <td>1.0</td>\n      <td>0.902566</td>\n      <td>0.321151</td>\n      <td>0.996606</td>\n      <td>0.143719</td>\n      <td>-2046.224926</td>\n      <td>50.000000</td>\n      <td>1451.462522</td>\n      <td>-27.004052</td>\n      <td>-398.833829</td>\n      <td>10.0</td>\n      <td>83.854511</td>\n    </tr>\n    <tr>\n      <th>4</th>\n      <td>12097</td>\n      <td>1.0</td>\n      <td>0.992145</td>\n      <td>0.885358</td>\n      <td>0.997306</td>\n      <td>0.012103</td>\n      <td>857.826087</td>\n      <td>1720.000000</td>\n      <td>497.177445</td>\n      <td>9.347826</td>\n      <td>-20.000000</td>\n      <td>10.0</td>\n      <td>4.386853</td>\n    </tr>\n    <tr>\n      <th>...</th>\n      <td>...</td>\n      <td>...</td>\n      <td>...</td>\n      <td>...</td>\n      <td>...</td>\n      <td>...</td>\n      <td>...</td>\n      <td>...</td>\n      <td>...</td>\n      <td>...</td>\n      <td>...</td>\n      <td>...</td>\n      <td>...</td>\n    </tr>\n    <tr>\n      <th>92</th>\n      <td>41798</td>\n      <td>1.0</td>\n      <td>0.992323</td>\n      <td>0.982768</td>\n      <td>0.996593</td>\n      <td>0.003523</td>\n      <td>915.000000</td>\n      <td>1820.000000</td>\n      <td>526.830143</td>\n      <td>10.000000</td>\n      <td>10.000000</td>\n      <td>10.0</td>\n      <td>0.000000</td>\n    </tr>\n    <tr>\n      <th>93</th>\n      <td>24461</td>\n      <td>1.0</td>\n      <td>0.912180</td>\n      <td>0.408314</td>\n      <td>0.995568</td>\n      <td>0.127461</td>\n      <td>-1154.655853</td>\n      <td>102.076908</td>\n      <td>929.694255</td>\n      <td>-16.223734</td>\n      <td>-273.822333</td>\n      <td>10.0</td>\n      <td>69.987364</td>\n    </tr>\n    <tr>\n      <th>94</th>\n      <td>752</td>\n      <td>1.0</td>\n      <td>0.989428</td>\n      <td>0.962648</td>\n      <td>0.993906</td>\n      <td>0.003364</td>\n      <td>871.381215</td>\n      <td>1730.000000</td>\n      <td>500.035303</td>\n      <td>9.502762</td>\n      <td>-20.000000</td>\n      <td>10.0</td>\n      <td>3.840753</td>\n    </tr>\n    <tr>\n      <th>95</th>\n      <td>782</td>\n      <td>1.0</td>\n      <td>0.982470</td>\n      <td>0.842098</td>\n      <td>0.996267</td>\n      <td>0.027049</td>\n      <td>415.731187</td>\n      <td>746.377686</td>\n      <td>178.602903</td>\n      <td>3.435516</td>\n      <td>-199.673491</td>\n      <td>10.0</td>\n      <td>32.084778</td>\n    </tr>\n    <tr>\n      <th>96</th>\n      <td>12752</td>\n      <td>1.0</td>\n      <td>0.723011</td>\n      <td>0.497834</td>\n      <td>0.870611</td>\n      <td>0.147533</td>\n      <td>-493.567277</td>\n      <td>-218.856386</td>\n      <td>304.503401</td>\n      <td>-116.493282</td>\n      <td>-256.331868</td>\n      <td>-20.0</td>\n      <td>107.530603</td>\n    </tr>\n  </tbody>\n</table>\n<p>97 rows × 13 columns</p>\n</div>"
     },
     "execution_count": 8,
     "metadata": {},
     "output_type": "execute_result"
    }
   ],
   "source": [
    "%%time\n",
    "\n",
    "scores = []\n",
    "full_rewards = []\n",
    "reff = train_df\n",
    "cols = train_df.columns\n",
    "\n",
    "import logging\n",
    "# logging.getLogger(\"pytorch_lightning.utilities.rank_zero\").setLevel(logging.WARNING)\n",
    "\n",
    "with warnings.catch_warnings():\n",
    "    warnings.simplefilter(\"ignore\")\n",
    "    logging.getLogger(\"pytorch_lightning\").setLevel(logging.WARNING)\n",
    "\n",
    "    for cell in tqdm(test_df[['Cell ID']].value_counts().keys()[:]):\n",
    "        cell_data = test_df[test_df['Cell ID'] == cell]\n",
    "        \n",
    "        if len(cell_data) <= 7:\n",
    "            continue\n",
    "        \n",
    "        data_drift_report = Report(metrics=[\n",
    "            DataDriftPreset(),\n",
    "        ])\n",
    "        data_drift_report.run(reference_data=reff, current_data=cell_data[cols],)\n",
    "        drift = data_drift_report.as_dict()['metrics'][0]['result']['share_of_drifted_columns']\n",
    "\n",
    "        states = optimize_params(cell_data, preprocess=preprocess_full)\n",
    "\n",
    "        scores.append({\n",
    "            'cell_id': cell[0],\n",
    "            'drift_score': drift,\n",
    "            'quality_avg': states['Quality Rate'].mean(),\n",
    "            'quality_min': states['Quality Rate'].min(),\n",
    "            'quality_max': states['Quality Rate'].max(),\n",
    "            'quality_std': states['Quality Rate'].std(),\n",
    "            'cum_reward_avg': states['cum_reward'].mean(),\n",
    "            'cum_reward_max': states['cum_reward'].max(),\n",
    "            'cum_reward_std': states['cum_reward'].std(),\n",
    "            'mom_reward_avg': states['mom_reward'].mean(),\n",
    "            'mom_reward_min': states['mom_reward'].min(),\n",
    "            'mom_reward_max': states['mom_reward'].max(),\n",
    "            'mom_reward_std': states['mom_reward'].std(),\n",
    "        })\n",
    "        full_rewards.append({\n",
    "            'cell_id': cell[0],\n",
    "            'drift_score': drift,\n",
    "            'quality': states['Quality Rate'],\n",
    "            'cum_reward': states['cum_reward'],\n",
    "            'mom_reward': states['mom_reward'],\n",
    "        })\n",
    "\n",
    "scores_df = pd.DataFrame(scores)\n",
    "# scores_df.to_csv('drift_scores_rewards_new_agent_train-test_no_sample.csv')\n",
    "\n",
    "full_rewards_df = pd.DataFrame(full_rewards)\n",
    "# full_rewards_df.to_pickle('data/cell/full_rewards_new_agent_train-test_no_sample.pkl')\n",
    "scores_df"
   ],
   "metadata": {
    "collapsed": false,
    "ExecuteTime": {
     "end_time": "2023-09-08T15:54:47.522787606Z",
     "start_time": "2023-09-08T15:45:24.842693283Z"
    }
   }
  },
  {
   "cell_type": "code",
   "execution_count": 9,
   "outputs": [
    {
     "data": {
      "text/plain": "    cell_id  drift_score  quality_avg  quality_min  quality_max  quality_std   \n20    12473        0.875     0.951540     0.370663     0.987925     0.086598  \\\n23    12747        0.875     0.963015     0.606044     0.996799     0.065175   \n27    24042        0.875     0.967672     0.521078     0.994007     0.059037   \n37    12781        0.875     0.950312     0.491363     0.996952     0.084563   \n41    10782        0.875     0.980698     0.546848     0.994508     0.050483   \n51      781        0.875     0.962758     0.429241     0.995583     0.085770   \n54      754        0.875     0.986341     0.382990     0.994713     0.048361   \n56    41797        0.875     0.971308     0.626290     0.995286     0.040962   \n65     4821        0.875     0.974410     0.409600     0.995096     0.062623   \n68     8506        0.875     0.977595     0.519120     0.994102     0.050201   \n85      783        0.875     0.983748     0.561351     0.995570     0.043376   \n88    24383        0.875     0.964113     0.624003     0.994279     0.053184   \n89    24382        0.875     0.972562     0.584987     0.994748     0.042644   \n90    24381        0.875     0.971898     0.566371     0.996105     0.042618   \n91    10781        0.875     0.948805     0.369372     0.993351     0.091798   \n\n    cum_reward_avg  cum_reward_max  cum_reward_std  mom_reward_avg   \n20      307.234492      727.674105      211.706205        1.262364  \\\n23      189.456727      530.000000      177.183295       -0.670465   \n27       66.455530      409.312652      131.243955        1.246807   \n37      182.245653      597.005350      317.050025       -3.845445   \n41      554.140994      939.007071      257.690867        4.813616   \n51      503.297881     1030.000000      256.591081        2.027805   \n54      839.771481     1660.000000      477.866658        7.168349   \n56      199.396197      392.652820       90.543816        2.133983   \n65      622.079710     1259.447015      314.399759        4.104267   \n68      306.904392      773.463507      210.868784        4.203606   \n85      570.393405     1042.838102      268.914457        5.698569   \n88     -129.780861      127.994029      122.586567       -1.379597   \n89      327.239546      531.077398      134.135784        2.730567   \n90      -79.392973      170.000000      180.146311       -1.813498   \n91     -182.749801      470.000000      559.750300       -6.005029   \n\n    mom_reward_min  mom_reward_max  mom_reward_std  \n20     -339.879131            10.0       45.304570  \n23     -227.958260            10.0       47.189357  \n27     -247.518479            10.0       40.973754  \n37     -271.954213            10.0       50.768228  \n41     -251.757999            10.0       29.395749  \n51     -306.242026            10.0       41.989559  \n54     -331.023768            10.0       25.631036  \n56     -224.159521            10.0       27.811624  \n65     -297.939318            10.0       33.990477  \n68     -254.779897            10.0       32.136263  \n85     -247.284183            10.0       25.821167  \n88     -222.736596            10.0       40.203687  \n89     -237.779712            10.0       25.616032  \n90     -244.100434            10.0       28.707116  \n91     -369.675683            10.0       50.634112  ",
      "text/html": "<div>\n<style scoped>\n    .dataframe tbody tr th:only-of-type {\n        vertical-align: middle;\n    }\n\n    .dataframe tbody tr th {\n        vertical-align: top;\n    }\n\n    .dataframe thead th {\n        text-align: right;\n    }\n</style>\n<table border=\"1\" class=\"dataframe\">\n  <thead>\n    <tr style=\"text-align: right;\">\n      <th></th>\n      <th>cell_id</th>\n      <th>drift_score</th>\n      <th>quality_avg</th>\n      <th>quality_min</th>\n      <th>quality_max</th>\n      <th>quality_std</th>\n      <th>cum_reward_avg</th>\n      <th>cum_reward_max</th>\n      <th>cum_reward_std</th>\n      <th>mom_reward_avg</th>\n      <th>mom_reward_min</th>\n      <th>mom_reward_max</th>\n      <th>mom_reward_std</th>\n    </tr>\n  </thead>\n  <tbody>\n    <tr>\n      <th>20</th>\n      <td>12473</td>\n      <td>0.875</td>\n      <td>0.951540</td>\n      <td>0.370663</td>\n      <td>0.987925</td>\n      <td>0.086598</td>\n      <td>307.234492</td>\n      <td>727.674105</td>\n      <td>211.706205</td>\n      <td>1.262364</td>\n      <td>-339.879131</td>\n      <td>10.0</td>\n      <td>45.304570</td>\n    </tr>\n    <tr>\n      <th>23</th>\n      <td>12747</td>\n      <td>0.875</td>\n      <td>0.963015</td>\n      <td>0.606044</td>\n      <td>0.996799</td>\n      <td>0.065175</td>\n      <td>189.456727</td>\n      <td>530.000000</td>\n      <td>177.183295</td>\n      <td>-0.670465</td>\n      <td>-227.958260</td>\n      <td>10.0</td>\n      <td>47.189357</td>\n    </tr>\n    <tr>\n      <th>27</th>\n      <td>24042</td>\n      <td>0.875</td>\n      <td>0.967672</td>\n      <td>0.521078</td>\n      <td>0.994007</td>\n      <td>0.059037</td>\n      <td>66.455530</td>\n      <td>409.312652</td>\n      <td>131.243955</td>\n      <td>1.246807</td>\n      <td>-247.518479</td>\n      <td>10.0</td>\n      <td>40.973754</td>\n    </tr>\n    <tr>\n      <th>37</th>\n      <td>12781</td>\n      <td>0.875</td>\n      <td>0.950312</td>\n      <td>0.491363</td>\n      <td>0.996952</td>\n      <td>0.084563</td>\n      <td>182.245653</td>\n      <td>597.005350</td>\n      <td>317.050025</td>\n      <td>-3.845445</td>\n      <td>-271.954213</td>\n      <td>10.0</td>\n      <td>50.768228</td>\n    </tr>\n    <tr>\n      <th>41</th>\n      <td>10782</td>\n      <td>0.875</td>\n      <td>0.980698</td>\n      <td>0.546848</td>\n      <td>0.994508</td>\n      <td>0.050483</td>\n      <td>554.140994</td>\n      <td>939.007071</td>\n      <td>257.690867</td>\n      <td>4.813616</td>\n      <td>-251.757999</td>\n      <td>10.0</td>\n      <td>29.395749</td>\n    </tr>\n    <tr>\n      <th>51</th>\n      <td>781</td>\n      <td>0.875</td>\n      <td>0.962758</td>\n      <td>0.429241</td>\n      <td>0.995583</td>\n      <td>0.085770</td>\n      <td>503.297881</td>\n      <td>1030.000000</td>\n      <td>256.591081</td>\n      <td>2.027805</td>\n      <td>-306.242026</td>\n      <td>10.0</td>\n      <td>41.989559</td>\n    </tr>\n    <tr>\n      <th>54</th>\n      <td>754</td>\n      <td>0.875</td>\n      <td>0.986341</td>\n      <td>0.382990</td>\n      <td>0.994713</td>\n      <td>0.048361</td>\n      <td>839.771481</td>\n      <td>1660.000000</td>\n      <td>477.866658</td>\n      <td>7.168349</td>\n      <td>-331.023768</td>\n      <td>10.0</td>\n      <td>25.631036</td>\n    </tr>\n    <tr>\n      <th>56</th>\n      <td>41797</td>\n      <td>0.875</td>\n      <td>0.971308</td>\n      <td>0.626290</td>\n      <td>0.995286</td>\n      <td>0.040962</td>\n      <td>199.396197</td>\n      <td>392.652820</td>\n      <td>90.543816</td>\n      <td>2.133983</td>\n      <td>-224.159521</td>\n      <td>10.0</td>\n      <td>27.811624</td>\n    </tr>\n    <tr>\n      <th>65</th>\n      <td>4821</td>\n      <td>0.875</td>\n      <td>0.974410</td>\n      <td>0.409600</td>\n      <td>0.995096</td>\n      <td>0.062623</td>\n      <td>622.079710</td>\n      <td>1259.447015</td>\n      <td>314.399759</td>\n      <td>4.104267</td>\n      <td>-297.939318</td>\n      <td>10.0</td>\n      <td>33.990477</td>\n    </tr>\n    <tr>\n      <th>68</th>\n      <td>8506</td>\n      <td>0.875</td>\n      <td>0.977595</td>\n      <td>0.519120</td>\n      <td>0.994102</td>\n      <td>0.050201</td>\n      <td>306.904392</td>\n      <td>773.463507</td>\n      <td>210.868784</td>\n      <td>4.203606</td>\n      <td>-254.779897</td>\n      <td>10.0</td>\n      <td>32.136263</td>\n    </tr>\n    <tr>\n      <th>85</th>\n      <td>783</td>\n      <td>0.875</td>\n      <td>0.983748</td>\n      <td>0.561351</td>\n      <td>0.995570</td>\n      <td>0.043376</td>\n      <td>570.393405</td>\n      <td>1042.838102</td>\n      <td>268.914457</td>\n      <td>5.698569</td>\n      <td>-247.284183</td>\n      <td>10.0</td>\n      <td>25.821167</td>\n    </tr>\n    <tr>\n      <th>88</th>\n      <td>24383</td>\n      <td>0.875</td>\n      <td>0.964113</td>\n      <td>0.624003</td>\n      <td>0.994279</td>\n      <td>0.053184</td>\n      <td>-129.780861</td>\n      <td>127.994029</td>\n      <td>122.586567</td>\n      <td>-1.379597</td>\n      <td>-222.736596</td>\n      <td>10.0</td>\n      <td>40.203687</td>\n    </tr>\n    <tr>\n      <th>89</th>\n      <td>24382</td>\n      <td>0.875</td>\n      <td>0.972562</td>\n      <td>0.584987</td>\n      <td>0.994748</td>\n      <td>0.042644</td>\n      <td>327.239546</td>\n      <td>531.077398</td>\n      <td>134.135784</td>\n      <td>2.730567</td>\n      <td>-237.779712</td>\n      <td>10.0</td>\n      <td>25.616032</td>\n    </tr>\n    <tr>\n      <th>90</th>\n      <td>24381</td>\n      <td>0.875</td>\n      <td>0.971898</td>\n      <td>0.566371</td>\n      <td>0.996105</td>\n      <td>0.042618</td>\n      <td>-79.392973</td>\n      <td>170.000000</td>\n      <td>180.146311</td>\n      <td>-1.813498</td>\n      <td>-244.100434</td>\n      <td>10.0</td>\n      <td>28.707116</td>\n    </tr>\n    <tr>\n      <th>91</th>\n      <td>10781</td>\n      <td>0.875</td>\n      <td>0.948805</td>\n      <td>0.369372</td>\n      <td>0.993351</td>\n      <td>0.091798</td>\n      <td>-182.749801</td>\n      <td>470.000000</td>\n      <td>559.750300</td>\n      <td>-6.005029</td>\n      <td>-369.675683</td>\n      <td>10.0</td>\n      <td>50.634112</td>\n    </tr>\n  </tbody>\n</table>\n</div>"
     },
     "execution_count": 9,
     "metadata": {},
     "output_type": "execute_result"
    }
   ],
   "source": [
    "scores_df[scores_df.drift_score < 1]"
   ],
   "metadata": {
    "collapsed": false,
    "ExecuteTime": {
     "end_time": "2023-09-08T15:56:26.917821578Z",
     "start_time": "2023-09-08T15:56:26.863709122Z"
    }
   }
  },
  {
   "cell_type": "code",
   "execution_count": 35,
   "outputs": [
    {
     "data": {
      "text/plain": "    cell_id  drift_score  quality_avg  quality_min  quality_max  quality_std   \n0     12083          1.0     0.938013     0.788178     0.966074     0.028063  \\\n1     12086          1.0     0.959537     0.664859     0.994064     0.050416   \n2     12472          1.0     0.920239     0.495793     0.991855     0.097394   \n3     12471          1.0     0.902759     0.321151     0.996716     0.143830   \n4     12097          1.0     0.992244     0.888126     0.996904     0.011857   \n..      ...          ...          ...          ...          ...          ...   \n92    41798          1.0     0.992314     0.982041     0.997012     0.003670   \n93    24461          1.0     0.912222     0.408314     0.995005     0.127392   \n94      752          1.0     0.989371     0.962648     0.994787     0.003382   \n95      782          1.0     0.982556     0.842098     0.995773     0.027042   \n96    12752          1.0     0.722807     0.497834     0.870611     0.147538   \n\n    cum_reward_avg  cum_reward_max  cum_reward_std  mom_reward_avg   \n0       608.948202     1207.645230      316.178354        5.853255  \\\n1      -264.134989      350.000000      393.319951       -5.468896   \n2     -1305.232005      -20.000000      962.661219      -17.577496   \n3     -1963.455994       50.000000     1389.198569      -26.061547   \n4       857.826087     1720.000000      497.177445        9.347826   \n..             ...             ...             ...             ...   \n92      915.000000     1820.000000      526.830143       10.000000   \n93    -1132.487031      105.930617      903.092628      -15.175110   \n94      871.381215     1730.000000      500.035303        9.502762   \n95      413.955080      746.376656      178.660681        3.435510   \n96     -493.567277     -218.856386      304.503401     -116.493282   \n\n    mom_reward_min  mom_reward_max  mom_reward_std  \n0      -129.222951            10.0       18.248177  \n1      -217.747710            10.0       44.819021  \n2      -269.207217            10.0       63.255099  \n3      -398.833829            10.0       83.780603  \n4       -20.000000            10.0        4.386853  \n..             ...             ...             ...  \n92       10.000000            10.0        0.000000  \n93     -273.822333            10.0       69.428609  \n94      -20.000000            10.0        3.840753  \n95     -199.673491            10.0       32.090957  \n96     -256.331868           -20.0      107.530603  \n\n[97 rows x 13 columns]",
      "text/html": "<div>\n<style scoped>\n    .dataframe tbody tr th:only-of-type {\n        vertical-align: middle;\n    }\n\n    .dataframe tbody tr th {\n        vertical-align: top;\n    }\n\n    .dataframe thead th {\n        text-align: right;\n    }\n</style>\n<table border=\"1\" class=\"dataframe\">\n  <thead>\n    <tr style=\"text-align: right;\">\n      <th></th>\n      <th>cell_id</th>\n      <th>drift_score</th>\n      <th>quality_avg</th>\n      <th>quality_min</th>\n      <th>quality_max</th>\n      <th>quality_std</th>\n      <th>cum_reward_avg</th>\n      <th>cum_reward_max</th>\n      <th>cum_reward_std</th>\n      <th>mom_reward_avg</th>\n      <th>mom_reward_min</th>\n      <th>mom_reward_max</th>\n      <th>mom_reward_std</th>\n    </tr>\n  </thead>\n  <tbody>\n    <tr>\n      <th>0</th>\n      <td>12083</td>\n      <td>1.0</td>\n      <td>0.938013</td>\n      <td>0.788178</td>\n      <td>0.966074</td>\n      <td>0.028063</td>\n      <td>608.948202</td>\n      <td>1207.645230</td>\n      <td>316.178354</td>\n      <td>5.853255</td>\n      <td>-129.222951</td>\n      <td>10.0</td>\n      <td>18.248177</td>\n    </tr>\n    <tr>\n      <th>1</th>\n      <td>12086</td>\n      <td>1.0</td>\n      <td>0.959537</td>\n      <td>0.664859</td>\n      <td>0.994064</td>\n      <td>0.050416</td>\n      <td>-264.134989</td>\n      <td>350.000000</td>\n      <td>393.319951</td>\n      <td>-5.468896</td>\n      <td>-217.747710</td>\n      <td>10.0</td>\n      <td>44.819021</td>\n    </tr>\n    <tr>\n      <th>2</th>\n      <td>12472</td>\n      <td>1.0</td>\n      <td>0.920239</td>\n      <td>0.495793</td>\n      <td>0.991855</td>\n      <td>0.097394</td>\n      <td>-1305.232005</td>\n      <td>-20.000000</td>\n      <td>962.661219</td>\n      <td>-17.577496</td>\n      <td>-269.207217</td>\n      <td>10.0</td>\n      <td>63.255099</td>\n    </tr>\n    <tr>\n      <th>3</th>\n      <td>12471</td>\n      <td>1.0</td>\n      <td>0.902759</td>\n      <td>0.321151</td>\n      <td>0.996716</td>\n      <td>0.143830</td>\n      <td>-1963.455994</td>\n      <td>50.000000</td>\n      <td>1389.198569</td>\n      <td>-26.061547</td>\n      <td>-398.833829</td>\n      <td>10.0</td>\n      <td>83.780603</td>\n    </tr>\n    <tr>\n      <th>4</th>\n      <td>12097</td>\n      <td>1.0</td>\n      <td>0.992244</td>\n      <td>0.888126</td>\n      <td>0.996904</td>\n      <td>0.011857</td>\n      <td>857.826087</td>\n      <td>1720.000000</td>\n      <td>497.177445</td>\n      <td>9.347826</td>\n      <td>-20.000000</td>\n      <td>10.0</td>\n      <td>4.386853</td>\n    </tr>\n    <tr>\n      <th>...</th>\n      <td>...</td>\n      <td>...</td>\n      <td>...</td>\n      <td>...</td>\n      <td>...</td>\n      <td>...</td>\n      <td>...</td>\n      <td>...</td>\n      <td>...</td>\n      <td>...</td>\n      <td>...</td>\n      <td>...</td>\n      <td>...</td>\n    </tr>\n    <tr>\n      <th>92</th>\n      <td>41798</td>\n      <td>1.0</td>\n      <td>0.992314</td>\n      <td>0.982041</td>\n      <td>0.997012</td>\n      <td>0.003670</td>\n      <td>915.000000</td>\n      <td>1820.000000</td>\n      <td>526.830143</td>\n      <td>10.000000</td>\n      <td>10.000000</td>\n      <td>10.0</td>\n      <td>0.000000</td>\n    </tr>\n    <tr>\n      <th>93</th>\n      <td>24461</td>\n      <td>1.0</td>\n      <td>0.912222</td>\n      <td>0.408314</td>\n      <td>0.995005</td>\n      <td>0.127392</td>\n      <td>-1132.487031</td>\n      <td>105.930617</td>\n      <td>903.092628</td>\n      <td>-15.175110</td>\n      <td>-273.822333</td>\n      <td>10.0</td>\n      <td>69.428609</td>\n    </tr>\n    <tr>\n      <th>94</th>\n      <td>752</td>\n      <td>1.0</td>\n      <td>0.989371</td>\n      <td>0.962648</td>\n      <td>0.994787</td>\n      <td>0.003382</td>\n      <td>871.381215</td>\n      <td>1730.000000</td>\n      <td>500.035303</td>\n      <td>9.502762</td>\n      <td>-20.000000</td>\n      <td>10.0</td>\n      <td>3.840753</td>\n    </tr>\n    <tr>\n      <th>95</th>\n      <td>782</td>\n      <td>1.0</td>\n      <td>0.982556</td>\n      <td>0.842098</td>\n      <td>0.995773</td>\n      <td>0.027042</td>\n      <td>413.955080</td>\n      <td>746.376656</td>\n      <td>178.660681</td>\n      <td>3.435510</td>\n      <td>-199.673491</td>\n      <td>10.0</td>\n      <td>32.090957</td>\n    </tr>\n    <tr>\n      <th>96</th>\n      <td>12752</td>\n      <td>1.0</td>\n      <td>0.722807</td>\n      <td>0.497834</td>\n      <td>0.870611</td>\n      <td>0.147538</td>\n      <td>-493.567277</td>\n      <td>-218.856386</td>\n      <td>304.503401</td>\n      <td>-116.493282</td>\n      <td>-256.331868</td>\n      <td>-20.0</td>\n      <td>107.530603</td>\n    </tr>\n  </tbody>\n</table>\n<p>97 rows × 13 columns</p>\n</div>"
     },
     "execution_count": 35,
     "metadata": {},
     "output_type": "execute_result"
    }
   ],
   "source": [
    "scores_df"
   ],
   "metadata": {
    "collapsed": false,
    "ExecuteTime": {
     "end_time": "2023-09-07T18:06:24.597877110Z",
     "start_time": "2023-09-07T18:06:24.591563948Z"
    }
   }
  },
  {
   "cell_type": "code",
   "execution_count": 36,
   "outputs": [
    {
     "data": {
      "text/plain": "            cell_id  drift_score  quality_avg  quality_min  quality_max   \ncount     97.000000    97.000000    97.000000    97.000000    97.000000  \\\nmean   12245.371134     0.974227     0.946243     0.681222     0.992024   \nstd    10224.821400     0.060573     0.057266     0.239723     0.013812   \nmin      721.000000     0.833333     0.722807     0.266383     0.870611   \n25%     3371.000000     1.000000     0.933964     0.462082     0.991906   \n50%    12084.000000     1.000000     0.971406     0.741239     0.994964   \n75%    13315.000000     1.000000     0.983661     0.915992     0.996341   \nmax    41798.000000     1.000000     0.992974     0.984201     0.997855   \n\n       quality_std  cum_reward_avg  cum_reward_max  cum_reward_std   \ncount    97.000000       97.000000       97.000000       97.000000  \\\nmean      0.058301     -367.937847      829.286493      737.953760   \nstd       0.059298     1752.617846      725.729413      842.644393   \nmin       0.002085    -6725.652643     -218.856386       75.625585   \n25%       0.010453    -1049.433023       40.000000      317.050025   \n50%       0.028063      413.955080      773.463507      477.866658   \n75%       0.097272      836.630435     1600.000000      683.529150   \nmax       0.224840      925.000000     1840.000000     4200.012443   \n\n       mom_reward_avg  mom_reward_min  mom_reward_max  mom_reward_std  \ncount       97.000000       97.000000       97.000000       97.000000  \nmean        -6.197041     -180.101472        9.690722       36.265108  \nstd         23.035985      145.207300        3.046038       34.514361  \nmin       -116.493282     -491.849328      -20.000000        0.000000  \n25%        -14.942570     -273.822333       10.000000        7.131916  \n50%          3.767686     -217.782818       10.000000       23.564447  \n75%          8.695652      -20.000000       10.000000       62.160016  \nmax         10.000000       10.000000       10.000000      126.791858  ",
      "text/html": "<div>\n<style scoped>\n    .dataframe tbody tr th:only-of-type {\n        vertical-align: middle;\n    }\n\n    .dataframe tbody tr th {\n        vertical-align: top;\n    }\n\n    .dataframe thead th {\n        text-align: right;\n    }\n</style>\n<table border=\"1\" class=\"dataframe\">\n  <thead>\n    <tr style=\"text-align: right;\">\n      <th></th>\n      <th>cell_id</th>\n      <th>drift_score</th>\n      <th>quality_avg</th>\n      <th>quality_min</th>\n      <th>quality_max</th>\n      <th>quality_std</th>\n      <th>cum_reward_avg</th>\n      <th>cum_reward_max</th>\n      <th>cum_reward_std</th>\n      <th>mom_reward_avg</th>\n      <th>mom_reward_min</th>\n      <th>mom_reward_max</th>\n      <th>mom_reward_std</th>\n    </tr>\n  </thead>\n  <tbody>\n    <tr>\n      <th>count</th>\n      <td>97.000000</td>\n      <td>97.000000</td>\n      <td>97.000000</td>\n      <td>97.000000</td>\n      <td>97.000000</td>\n      <td>97.000000</td>\n      <td>97.000000</td>\n      <td>97.000000</td>\n      <td>97.000000</td>\n      <td>97.000000</td>\n      <td>97.000000</td>\n      <td>97.000000</td>\n      <td>97.000000</td>\n    </tr>\n    <tr>\n      <th>mean</th>\n      <td>12245.371134</td>\n      <td>0.974227</td>\n      <td>0.946243</td>\n      <td>0.681222</td>\n      <td>0.992024</td>\n      <td>0.058301</td>\n      <td>-367.937847</td>\n      <td>829.286493</td>\n      <td>737.953760</td>\n      <td>-6.197041</td>\n      <td>-180.101472</td>\n      <td>9.690722</td>\n      <td>36.265108</td>\n    </tr>\n    <tr>\n      <th>std</th>\n      <td>10224.821400</td>\n      <td>0.060573</td>\n      <td>0.057266</td>\n      <td>0.239723</td>\n      <td>0.013812</td>\n      <td>0.059298</td>\n      <td>1752.617846</td>\n      <td>725.729413</td>\n      <td>842.644393</td>\n      <td>23.035985</td>\n      <td>145.207300</td>\n      <td>3.046038</td>\n      <td>34.514361</td>\n    </tr>\n    <tr>\n      <th>min</th>\n      <td>721.000000</td>\n      <td>0.833333</td>\n      <td>0.722807</td>\n      <td>0.266383</td>\n      <td>0.870611</td>\n      <td>0.002085</td>\n      <td>-6725.652643</td>\n      <td>-218.856386</td>\n      <td>75.625585</td>\n      <td>-116.493282</td>\n      <td>-491.849328</td>\n      <td>-20.000000</td>\n      <td>0.000000</td>\n    </tr>\n    <tr>\n      <th>25%</th>\n      <td>3371.000000</td>\n      <td>1.000000</td>\n      <td>0.933964</td>\n      <td>0.462082</td>\n      <td>0.991906</td>\n      <td>0.010453</td>\n      <td>-1049.433023</td>\n      <td>40.000000</td>\n      <td>317.050025</td>\n      <td>-14.942570</td>\n      <td>-273.822333</td>\n      <td>10.000000</td>\n      <td>7.131916</td>\n    </tr>\n    <tr>\n      <th>50%</th>\n      <td>12084.000000</td>\n      <td>1.000000</td>\n      <td>0.971406</td>\n      <td>0.741239</td>\n      <td>0.994964</td>\n      <td>0.028063</td>\n      <td>413.955080</td>\n      <td>773.463507</td>\n      <td>477.866658</td>\n      <td>3.767686</td>\n      <td>-217.782818</td>\n      <td>10.000000</td>\n      <td>23.564447</td>\n    </tr>\n    <tr>\n      <th>75%</th>\n      <td>13315.000000</td>\n      <td>1.000000</td>\n      <td>0.983661</td>\n      <td>0.915992</td>\n      <td>0.996341</td>\n      <td>0.097272</td>\n      <td>836.630435</td>\n      <td>1600.000000</td>\n      <td>683.529150</td>\n      <td>8.695652</td>\n      <td>-20.000000</td>\n      <td>10.000000</td>\n      <td>62.160016</td>\n    </tr>\n    <tr>\n      <th>max</th>\n      <td>41798.000000</td>\n      <td>1.000000</td>\n      <td>0.992974</td>\n      <td>0.984201</td>\n      <td>0.997855</td>\n      <td>0.224840</td>\n      <td>925.000000</td>\n      <td>1840.000000</td>\n      <td>4200.012443</td>\n      <td>10.000000</td>\n      <td>10.000000</td>\n      <td>10.000000</td>\n      <td>126.791858</td>\n    </tr>\n  </tbody>\n</table>\n</div>"
     },
     "execution_count": 36,
     "metadata": {},
     "output_type": "execute_result"
    }
   ],
   "source": [
    "scores_df.describe()"
   ],
   "metadata": {
    "collapsed": false,
    "ExecuteTime": {
     "end_time": "2023-09-07T18:06:24.700125699Z",
     "start_time": "2023-09-07T18:06:24.594485408Z"
    }
   }
  },
  {
   "cell_type": "code",
   "execution_count": 37,
   "outputs": [
    {
     "data": {
      "text/plain": "                drift_score  quality_avg  quality_min  quality_max   \ndrift_score        1.000000    -0.167015     0.311934    -0.085447  \\\nquality_avg       -0.167015     1.000000     0.703766     0.433769   \nquality_min        0.311934     0.703766     1.000000     0.050639   \nquality_max       -0.085447     0.433769     0.050639     1.000000   \nquality_std       -0.015961    -0.894567    -0.905704    -0.141585   \ncum_reward_avg    -0.159057     0.885869     0.713160     0.031870   \ncum_reward_max     0.070250     0.707630     0.807121     0.125896   \ncum_reward_std     0.248586    -0.807710    -0.525844     0.002635   \nmom_reward_avg    -0.141625     0.967619     0.675935     0.466241   \nmom_reward_min     0.271059     0.689232     0.960497     0.023087   \nmom_reward_max    -0.043652     0.400284     0.078483     0.901825   \nmom_reward_std    -0.002695    -0.908476    -0.889497    -0.208966   \n\n                quality_std  cum_reward_avg  cum_reward_max  cum_reward_std   \ndrift_score       -0.015961       -0.159057        0.070250        0.248586  \\\nquality_avg       -0.894567        0.885869        0.707630       -0.807710   \nquality_min       -0.905704        0.713160        0.807121       -0.525844   \nquality_max       -0.141585        0.031870        0.125896        0.002635   \nquality_std        1.000000       -0.884414       -0.796498        0.760906   \ncum_reward_avg    -0.884414        1.000000        0.736423       -0.928909   \ncum_reward_max    -0.796498        0.736423        1.000000       -0.444502   \ncum_reward_std     0.760906       -0.928909       -0.444502        1.000000   \nmom_reward_avg    -0.856382        0.871856        0.713070       -0.785478   \nmom_reward_min    -0.877951        0.724348        0.780141       -0.556580   \nmom_reward_max    -0.154389        0.007354        0.148170        0.052773   \nmom_reward_std     0.979108       -0.892370       -0.840019        0.745130   \n\n                mom_reward_avg  mom_reward_min  mom_reward_max  mom_reward_std  \ndrift_score          -0.141625        0.271059       -0.043652       -0.002695  \nquality_avg           0.967619        0.689232        0.400284       -0.908476  \nquality_min           0.675935        0.960497        0.078483       -0.889497  \nquality_max           0.466241        0.023087        0.901825       -0.208966  \nquality_std          -0.856382       -0.877951       -0.154389        0.979108  \ncum_reward_avg        0.871856        0.724348        0.007354       -0.892370  \ncum_reward_max        0.713070        0.780141        0.148170       -0.840019  \ncum_reward_std       -0.785478       -0.556580        0.052773        0.745130  \nmom_reward_avg        1.000000        0.674518        0.491212       -0.888613  \nmom_reward_min        0.674518        1.000000        0.053859       -0.879770  \nmom_reward_max        0.491212        0.053859        1.000000       -0.211833  \nmom_reward_std       -0.888613       -0.879770       -0.211833        1.000000  ",
      "text/html": "<div>\n<style scoped>\n    .dataframe tbody tr th:only-of-type {\n        vertical-align: middle;\n    }\n\n    .dataframe tbody tr th {\n        vertical-align: top;\n    }\n\n    .dataframe thead th {\n        text-align: right;\n    }\n</style>\n<table border=\"1\" class=\"dataframe\">\n  <thead>\n    <tr style=\"text-align: right;\">\n      <th></th>\n      <th>drift_score</th>\n      <th>quality_avg</th>\n      <th>quality_min</th>\n      <th>quality_max</th>\n      <th>quality_std</th>\n      <th>cum_reward_avg</th>\n      <th>cum_reward_max</th>\n      <th>cum_reward_std</th>\n      <th>mom_reward_avg</th>\n      <th>mom_reward_min</th>\n      <th>mom_reward_max</th>\n      <th>mom_reward_std</th>\n    </tr>\n  </thead>\n  <tbody>\n    <tr>\n      <th>drift_score</th>\n      <td>1.000000</td>\n      <td>-0.167015</td>\n      <td>0.311934</td>\n      <td>-0.085447</td>\n      <td>-0.015961</td>\n      <td>-0.159057</td>\n      <td>0.070250</td>\n      <td>0.248586</td>\n      <td>-0.141625</td>\n      <td>0.271059</td>\n      <td>-0.043652</td>\n      <td>-0.002695</td>\n    </tr>\n    <tr>\n      <th>quality_avg</th>\n      <td>-0.167015</td>\n      <td>1.000000</td>\n      <td>0.703766</td>\n      <td>0.433769</td>\n      <td>-0.894567</td>\n      <td>0.885869</td>\n      <td>0.707630</td>\n      <td>-0.807710</td>\n      <td>0.967619</td>\n      <td>0.689232</td>\n      <td>0.400284</td>\n      <td>-0.908476</td>\n    </tr>\n    <tr>\n      <th>quality_min</th>\n      <td>0.311934</td>\n      <td>0.703766</td>\n      <td>1.000000</td>\n      <td>0.050639</td>\n      <td>-0.905704</td>\n      <td>0.713160</td>\n      <td>0.807121</td>\n      <td>-0.525844</td>\n      <td>0.675935</td>\n      <td>0.960497</td>\n      <td>0.078483</td>\n      <td>-0.889497</td>\n    </tr>\n    <tr>\n      <th>quality_max</th>\n      <td>-0.085447</td>\n      <td>0.433769</td>\n      <td>0.050639</td>\n      <td>1.000000</td>\n      <td>-0.141585</td>\n      <td>0.031870</td>\n      <td>0.125896</td>\n      <td>0.002635</td>\n      <td>0.466241</td>\n      <td>0.023087</td>\n      <td>0.901825</td>\n      <td>-0.208966</td>\n    </tr>\n    <tr>\n      <th>quality_std</th>\n      <td>-0.015961</td>\n      <td>-0.894567</td>\n      <td>-0.905704</td>\n      <td>-0.141585</td>\n      <td>1.000000</td>\n      <td>-0.884414</td>\n      <td>-0.796498</td>\n      <td>0.760906</td>\n      <td>-0.856382</td>\n      <td>-0.877951</td>\n      <td>-0.154389</td>\n      <td>0.979108</td>\n    </tr>\n    <tr>\n      <th>cum_reward_avg</th>\n      <td>-0.159057</td>\n      <td>0.885869</td>\n      <td>0.713160</td>\n      <td>0.031870</td>\n      <td>-0.884414</td>\n      <td>1.000000</td>\n      <td>0.736423</td>\n      <td>-0.928909</td>\n      <td>0.871856</td>\n      <td>0.724348</td>\n      <td>0.007354</td>\n      <td>-0.892370</td>\n    </tr>\n    <tr>\n      <th>cum_reward_max</th>\n      <td>0.070250</td>\n      <td>0.707630</td>\n      <td>0.807121</td>\n      <td>0.125896</td>\n      <td>-0.796498</td>\n      <td>0.736423</td>\n      <td>1.000000</td>\n      <td>-0.444502</td>\n      <td>0.713070</td>\n      <td>0.780141</td>\n      <td>0.148170</td>\n      <td>-0.840019</td>\n    </tr>\n    <tr>\n      <th>cum_reward_std</th>\n      <td>0.248586</td>\n      <td>-0.807710</td>\n      <td>-0.525844</td>\n      <td>0.002635</td>\n      <td>0.760906</td>\n      <td>-0.928909</td>\n      <td>-0.444502</td>\n      <td>1.000000</td>\n      <td>-0.785478</td>\n      <td>-0.556580</td>\n      <td>0.052773</td>\n      <td>0.745130</td>\n    </tr>\n    <tr>\n      <th>mom_reward_avg</th>\n      <td>-0.141625</td>\n      <td>0.967619</td>\n      <td>0.675935</td>\n      <td>0.466241</td>\n      <td>-0.856382</td>\n      <td>0.871856</td>\n      <td>0.713070</td>\n      <td>-0.785478</td>\n      <td>1.000000</td>\n      <td>0.674518</td>\n      <td>0.491212</td>\n      <td>-0.888613</td>\n    </tr>\n    <tr>\n      <th>mom_reward_min</th>\n      <td>0.271059</td>\n      <td>0.689232</td>\n      <td>0.960497</td>\n      <td>0.023087</td>\n      <td>-0.877951</td>\n      <td>0.724348</td>\n      <td>0.780141</td>\n      <td>-0.556580</td>\n      <td>0.674518</td>\n      <td>1.000000</td>\n      <td>0.053859</td>\n      <td>-0.879770</td>\n    </tr>\n    <tr>\n      <th>mom_reward_max</th>\n      <td>-0.043652</td>\n      <td>0.400284</td>\n      <td>0.078483</td>\n      <td>0.901825</td>\n      <td>-0.154389</td>\n      <td>0.007354</td>\n      <td>0.148170</td>\n      <td>0.052773</td>\n      <td>0.491212</td>\n      <td>0.053859</td>\n      <td>1.000000</td>\n      <td>-0.211833</td>\n    </tr>\n    <tr>\n      <th>mom_reward_std</th>\n      <td>-0.002695</td>\n      <td>-0.908476</td>\n      <td>-0.889497</td>\n      <td>-0.208966</td>\n      <td>0.979108</td>\n      <td>-0.892370</td>\n      <td>-0.840019</td>\n      <td>0.745130</td>\n      <td>-0.888613</td>\n      <td>-0.879770</td>\n      <td>-0.211833</td>\n      <td>1.000000</td>\n    </tr>\n  </tbody>\n</table>\n</div>"
     },
     "execution_count": 37,
     "metadata": {},
     "output_type": "execute_result"
    }
   ],
   "source": [
    "scores_df[scores_df.columns[1:]].corr()"
   ],
   "metadata": {
    "collapsed": false,
    "ExecuteTime": {
     "end_time": "2023-09-07T18:06:24.758733445Z",
     "start_time": "2023-09-07T18:06:24.667779634Z"
    }
   }
  },
  {
   "cell_type": "markdown",
   "source": [
    "## Train-train"
   ],
   "metadata": {
    "collapsed": false
   }
  },
  {
   "cell_type": "code",
   "execution_count": 44,
   "outputs": [
    {
     "name": "stderr",
     "output_type": "stream",
     "text": [
      "100%|██████████| 936/936 [1:46:55<00:00,  6.85s/it]"
     ]
    },
    {
     "name": "stdout",
     "output_type": "stream",
     "text": [
      "CPU times: user 1h 40min 32s, sys: 6min 11s, total: 1h 46min 43s\n",
      "Wall time: 1h 46min 55s\n"
     ]
    },
    {
     "name": "stderr",
     "output_type": "stream",
     "text": [
      "\n"
     ]
    }
   ],
   "source": [
    "%%time\n",
    "\n",
    "scores = []\n",
    "full_rewards = []\n",
    "reff = train_df\n",
    "cols = train_df.columns\n",
    "\n",
    "import logging\n",
    "# logging.getLogger(\"pytorch_lightning.utilities.rank_zero\").setLevel(logging.WARNING)\n",
    "\n",
    "with warnings.catch_warnings():\n",
    "    warnings.simplefilter(\"ignore\")\n",
    "    logging.getLogger(\"pytorch_lightning\").setLevel(logging.WARNING)\n",
    "\n",
    "    for cell in tqdm(train_df[['Cell ID']].value_counts().keys()[:]):\n",
    "        cell_data = train_df[train_df['Cell ID'] == cell]\n",
    "\n",
    "        if len(cell_data) <= 7:\n",
    "            continue\n",
    "\n",
    "        data_drift_report = Report(metrics=[\n",
    "            DataDriftPreset(),\n",
    "        ])\n",
    "        data_drift_report.run(reference_data=reff, current_data=cell_data[cols],)\n",
    "        drift = data_drift_report.as_dict()['metrics'][0]['result']['share_of_drifted_columns']\n",
    "\n",
    "        states = optimize_params(cell_data, preprocess=preprocess_full)\n",
    "\n",
    "        scores.append({\n",
    "            'cell_id': cell[0],\n",
    "            'drift_score': drift,\n",
    "            'quality_avg': states['Quality Rate'].mean(),\n",
    "            'quality_min': states['Quality Rate'].min(),\n",
    "            'quality_max': states['Quality Rate'].max(),\n",
    "            'quality_std': states['Quality Rate'].std(),\n",
    "            'cum_reward_avg': states['cum_reward'].mean(),\n",
    "            'cum_reward_max': states['cum_reward'].max(),\n",
    "            'cum_reward_std': states['cum_reward'].std(),\n",
    "            'mom_reward_avg': states['mom_reward'].mean(),\n",
    "            'mom_reward_min': states['mom_reward'].min(),\n",
    "            'mom_reward_max': states['mom_reward'].max(),\n",
    "            'mom_reward_std': states['mom_reward'].std(),\n",
    "        })\n",
    "        full_rewards.append({\n",
    "            'cell_id': cell[0],\n",
    "            'drift_score': drift,\n",
    "            'quality': states['Quality Rate'],\n",
    "            'cum_reward': states['cum_reward'],\n",
    "            'mom_reward': states['mom_reward'],\n",
    "        })\n",
    "\n",
    "scores_df = pd.DataFrame(scores)\n",
    "scores_df.to_csv('drift_scores_rewards_new_agent_train-train_no_sample.csv')\n",
    "\n",
    "full_rewards_df = pd.DataFrame(full_rewards)\n",
    "full_rewards_df.to_pickle('data/cell/full_rewards_new_agent_train-train_no_sample.pkl')"
   ],
   "metadata": {
    "collapsed": false,
    "ExecuteTime": {
     "end_time": "2023-09-07T21:33:25.573450121Z",
     "start_time": "2023-09-07T19:46:29.803354827Z"
    }
   }
  },
  {
   "cell_type": "code",
   "execution_count": 39,
   "outputs": [
    {
     "data": {
      "text/plain": "    cell_id  drift_score  quality_avg  quality_min  quality_max  quality_std   \n0     12083          1.0     0.938013     0.788178     0.966074     0.028063  \\\n1     12086          1.0     0.959537     0.664859     0.994064     0.050416   \n2     12472          1.0     0.920239     0.495793     0.991855     0.097394   \n3     12471          1.0     0.902759     0.321151     0.996716     0.143830   \n4     12097          1.0     0.992244     0.888126     0.996904     0.011857   \n..      ...          ...          ...          ...          ...          ...   \n92    41798          1.0     0.992314     0.982041     0.997012     0.003670   \n93    24461          1.0     0.912222     0.408314     0.995005     0.127392   \n94      752          1.0     0.989371     0.962648     0.994787     0.003382   \n95      782          1.0     0.982556     0.842098     0.995773     0.027042   \n96    12752          1.0     0.722807     0.497834     0.870611     0.147538   \n\n    cum_reward_avg  cum_reward_max  cum_reward_std  mom_reward_avg   \n0       608.948202     1207.645230      316.178354        5.853255  \\\n1      -264.134989      350.000000      393.319951       -5.468896   \n2     -1305.232005      -20.000000      962.661219      -17.577496   \n3     -1963.455994       50.000000     1389.198569      -26.061547   \n4       857.826087     1720.000000      497.177445        9.347826   \n..             ...             ...             ...             ...   \n92      915.000000     1820.000000      526.830143       10.000000   \n93    -1132.487031      105.930617      903.092628      -15.175110   \n94      871.381215     1730.000000      500.035303        9.502762   \n95      413.955080      746.376656      178.660681        3.435510   \n96     -493.567277     -218.856386      304.503401     -116.493282   \n\n    mom_reward_min  mom_reward_max  mom_reward_std  \n0      -129.222951            10.0       18.248177  \n1      -217.747710            10.0       44.819021  \n2      -269.207217            10.0       63.255099  \n3      -398.833829            10.0       83.780603  \n4       -20.000000            10.0        4.386853  \n..             ...             ...             ...  \n92       10.000000            10.0        0.000000  \n93     -273.822333            10.0       69.428609  \n94      -20.000000            10.0        3.840753  \n95     -199.673491            10.0       32.090957  \n96     -256.331868           -20.0      107.530603  \n\n[97 rows x 13 columns]",
      "text/html": "<div>\n<style scoped>\n    .dataframe tbody tr th:only-of-type {\n        vertical-align: middle;\n    }\n\n    .dataframe tbody tr th {\n        vertical-align: top;\n    }\n\n    .dataframe thead th {\n        text-align: right;\n    }\n</style>\n<table border=\"1\" class=\"dataframe\">\n  <thead>\n    <tr style=\"text-align: right;\">\n      <th></th>\n      <th>cell_id</th>\n      <th>drift_score</th>\n      <th>quality_avg</th>\n      <th>quality_min</th>\n      <th>quality_max</th>\n      <th>quality_std</th>\n      <th>cum_reward_avg</th>\n      <th>cum_reward_max</th>\n      <th>cum_reward_std</th>\n      <th>mom_reward_avg</th>\n      <th>mom_reward_min</th>\n      <th>mom_reward_max</th>\n      <th>mom_reward_std</th>\n    </tr>\n  </thead>\n  <tbody>\n    <tr>\n      <th>0</th>\n      <td>12083</td>\n      <td>1.0</td>\n      <td>0.938013</td>\n      <td>0.788178</td>\n      <td>0.966074</td>\n      <td>0.028063</td>\n      <td>608.948202</td>\n      <td>1207.645230</td>\n      <td>316.178354</td>\n      <td>5.853255</td>\n      <td>-129.222951</td>\n      <td>10.0</td>\n      <td>18.248177</td>\n    </tr>\n    <tr>\n      <th>1</th>\n      <td>12086</td>\n      <td>1.0</td>\n      <td>0.959537</td>\n      <td>0.664859</td>\n      <td>0.994064</td>\n      <td>0.050416</td>\n      <td>-264.134989</td>\n      <td>350.000000</td>\n      <td>393.319951</td>\n      <td>-5.468896</td>\n      <td>-217.747710</td>\n      <td>10.0</td>\n      <td>44.819021</td>\n    </tr>\n    <tr>\n      <th>2</th>\n      <td>12472</td>\n      <td>1.0</td>\n      <td>0.920239</td>\n      <td>0.495793</td>\n      <td>0.991855</td>\n      <td>0.097394</td>\n      <td>-1305.232005</td>\n      <td>-20.000000</td>\n      <td>962.661219</td>\n      <td>-17.577496</td>\n      <td>-269.207217</td>\n      <td>10.0</td>\n      <td>63.255099</td>\n    </tr>\n    <tr>\n      <th>3</th>\n      <td>12471</td>\n      <td>1.0</td>\n      <td>0.902759</td>\n      <td>0.321151</td>\n      <td>0.996716</td>\n      <td>0.143830</td>\n      <td>-1963.455994</td>\n      <td>50.000000</td>\n      <td>1389.198569</td>\n      <td>-26.061547</td>\n      <td>-398.833829</td>\n      <td>10.0</td>\n      <td>83.780603</td>\n    </tr>\n    <tr>\n      <th>4</th>\n      <td>12097</td>\n      <td>1.0</td>\n      <td>0.992244</td>\n      <td>0.888126</td>\n      <td>0.996904</td>\n      <td>0.011857</td>\n      <td>857.826087</td>\n      <td>1720.000000</td>\n      <td>497.177445</td>\n      <td>9.347826</td>\n      <td>-20.000000</td>\n      <td>10.0</td>\n      <td>4.386853</td>\n    </tr>\n    <tr>\n      <th>...</th>\n      <td>...</td>\n      <td>...</td>\n      <td>...</td>\n      <td>...</td>\n      <td>...</td>\n      <td>...</td>\n      <td>...</td>\n      <td>...</td>\n      <td>...</td>\n      <td>...</td>\n      <td>...</td>\n      <td>...</td>\n      <td>...</td>\n    </tr>\n    <tr>\n      <th>92</th>\n      <td>41798</td>\n      <td>1.0</td>\n      <td>0.992314</td>\n      <td>0.982041</td>\n      <td>0.997012</td>\n      <td>0.003670</td>\n      <td>915.000000</td>\n      <td>1820.000000</td>\n      <td>526.830143</td>\n      <td>10.000000</td>\n      <td>10.000000</td>\n      <td>10.0</td>\n      <td>0.000000</td>\n    </tr>\n    <tr>\n      <th>93</th>\n      <td>24461</td>\n      <td>1.0</td>\n      <td>0.912222</td>\n      <td>0.408314</td>\n      <td>0.995005</td>\n      <td>0.127392</td>\n      <td>-1132.487031</td>\n      <td>105.930617</td>\n      <td>903.092628</td>\n      <td>-15.175110</td>\n      <td>-273.822333</td>\n      <td>10.0</td>\n      <td>69.428609</td>\n    </tr>\n    <tr>\n      <th>94</th>\n      <td>752</td>\n      <td>1.0</td>\n      <td>0.989371</td>\n      <td>0.962648</td>\n      <td>0.994787</td>\n      <td>0.003382</td>\n      <td>871.381215</td>\n      <td>1730.000000</td>\n      <td>500.035303</td>\n      <td>9.502762</td>\n      <td>-20.000000</td>\n      <td>10.0</td>\n      <td>3.840753</td>\n    </tr>\n    <tr>\n      <th>95</th>\n      <td>782</td>\n      <td>1.0</td>\n      <td>0.982556</td>\n      <td>0.842098</td>\n      <td>0.995773</td>\n      <td>0.027042</td>\n      <td>413.955080</td>\n      <td>746.376656</td>\n      <td>178.660681</td>\n      <td>3.435510</td>\n      <td>-199.673491</td>\n      <td>10.0</td>\n      <td>32.090957</td>\n    </tr>\n    <tr>\n      <th>96</th>\n      <td>12752</td>\n      <td>1.0</td>\n      <td>0.722807</td>\n      <td>0.497834</td>\n      <td>0.870611</td>\n      <td>0.147538</td>\n      <td>-493.567277</td>\n      <td>-218.856386</td>\n      <td>304.503401</td>\n      <td>-116.493282</td>\n      <td>-256.331868</td>\n      <td>-20.0</td>\n      <td>107.530603</td>\n    </tr>\n  </tbody>\n</table>\n<p>97 rows × 13 columns</p>\n</div>"
     },
     "execution_count": 39,
     "metadata": {},
     "output_type": "execute_result"
    }
   ],
   "source": [
    "scores_df"
   ],
   "metadata": {
    "collapsed": false,
    "ExecuteTime": {
     "end_time": "2023-09-07T18:06:25.013173367Z",
     "start_time": "2023-09-07T18:06:24.967519197Z"
    }
   }
  },
  {
   "cell_type": "code",
   "execution_count": 40,
   "outputs": [
    {
     "data": {
      "text/plain": "            cell_id  drift_score  quality_avg  quality_min  quality_max   \ncount     97.000000    97.000000    97.000000    97.000000    97.000000  \\\nmean   12245.371134     0.974227     0.946243     0.681222     0.992024   \nstd    10224.821400     0.060573     0.057266     0.239723     0.013812   \nmin      721.000000     0.833333     0.722807     0.266383     0.870611   \n25%     3371.000000     1.000000     0.933964     0.462082     0.991906   \n50%    12084.000000     1.000000     0.971406     0.741239     0.994964   \n75%    13315.000000     1.000000     0.983661     0.915992     0.996341   \nmax    41798.000000     1.000000     0.992974     0.984201     0.997855   \n\n       quality_std  cum_reward_avg  cum_reward_max  cum_reward_std   \ncount    97.000000       97.000000       97.000000       97.000000  \\\nmean      0.058301     -367.937847      829.286493      737.953760   \nstd       0.059298     1752.617846      725.729413      842.644393   \nmin       0.002085    -6725.652643     -218.856386       75.625585   \n25%       0.010453    -1049.433023       40.000000      317.050025   \n50%       0.028063      413.955080      773.463507      477.866658   \n75%       0.097272      836.630435     1600.000000      683.529150   \nmax       0.224840      925.000000     1840.000000     4200.012443   \n\n       mom_reward_avg  mom_reward_min  mom_reward_max  mom_reward_std  \ncount       97.000000       97.000000       97.000000       97.000000  \nmean        -6.197041     -180.101472        9.690722       36.265108  \nstd         23.035985      145.207300        3.046038       34.514361  \nmin       -116.493282     -491.849328      -20.000000        0.000000  \n25%        -14.942570     -273.822333       10.000000        7.131916  \n50%          3.767686     -217.782818       10.000000       23.564447  \n75%          8.695652      -20.000000       10.000000       62.160016  \nmax         10.000000       10.000000       10.000000      126.791858  ",
      "text/html": "<div>\n<style scoped>\n    .dataframe tbody tr th:only-of-type {\n        vertical-align: middle;\n    }\n\n    .dataframe tbody tr th {\n        vertical-align: top;\n    }\n\n    .dataframe thead th {\n        text-align: right;\n    }\n</style>\n<table border=\"1\" class=\"dataframe\">\n  <thead>\n    <tr style=\"text-align: right;\">\n      <th></th>\n      <th>cell_id</th>\n      <th>drift_score</th>\n      <th>quality_avg</th>\n      <th>quality_min</th>\n      <th>quality_max</th>\n      <th>quality_std</th>\n      <th>cum_reward_avg</th>\n      <th>cum_reward_max</th>\n      <th>cum_reward_std</th>\n      <th>mom_reward_avg</th>\n      <th>mom_reward_min</th>\n      <th>mom_reward_max</th>\n      <th>mom_reward_std</th>\n    </tr>\n  </thead>\n  <tbody>\n    <tr>\n      <th>count</th>\n      <td>97.000000</td>\n      <td>97.000000</td>\n      <td>97.000000</td>\n      <td>97.000000</td>\n      <td>97.000000</td>\n      <td>97.000000</td>\n      <td>97.000000</td>\n      <td>97.000000</td>\n      <td>97.000000</td>\n      <td>97.000000</td>\n      <td>97.000000</td>\n      <td>97.000000</td>\n      <td>97.000000</td>\n    </tr>\n    <tr>\n      <th>mean</th>\n      <td>12245.371134</td>\n      <td>0.974227</td>\n      <td>0.946243</td>\n      <td>0.681222</td>\n      <td>0.992024</td>\n      <td>0.058301</td>\n      <td>-367.937847</td>\n      <td>829.286493</td>\n      <td>737.953760</td>\n      <td>-6.197041</td>\n      <td>-180.101472</td>\n      <td>9.690722</td>\n      <td>36.265108</td>\n    </tr>\n    <tr>\n      <th>std</th>\n      <td>10224.821400</td>\n      <td>0.060573</td>\n      <td>0.057266</td>\n      <td>0.239723</td>\n      <td>0.013812</td>\n      <td>0.059298</td>\n      <td>1752.617846</td>\n      <td>725.729413</td>\n      <td>842.644393</td>\n      <td>23.035985</td>\n      <td>145.207300</td>\n      <td>3.046038</td>\n      <td>34.514361</td>\n    </tr>\n    <tr>\n      <th>min</th>\n      <td>721.000000</td>\n      <td>0.833333</td>\n      <td>0.722807</td>\n      <td>0.266383</td>\n      <td>0.870611</td>\n      <td>0.002085</td>\n      <td>-6725.652643</td>\n      <td>-218.856386</td>\n      <td>75.625585</td>\n      <td>-116.493282</td>\n      <td>-491.849328</td>\n      <td>-20.000000</td>\n      <td>0.000000</td>\n    </tr>\n    <tr>\n      <th>25%</th>\n      <td>3371.000000</td>\n      <td>1.000000</td>\n      <td>0.933964</td>\n      <td>0.462082</td>\n      <td>0.991906</td>\n      <td>0.010453</td>\n      <td>-1049.433023</td>\n      <td>40.000000</td>\n      <td>317.050025</td>\n      <td>-14.942570</td>\n      <td>-273.822333</td>\n      <td>10.000000</td>\n      <td>7.131916</td>\n    </tr>\n    <tr>\n      <th>50%</th>\n      <td>12084.000000</td>\n      <td>1.000000</td>\n      <td>0.971406</td>\n      <td>0.741239</td>\n      <td>0.994964</td>\n      <td>0.028063</td>\n      <td>413.955080</td>\n      <td>773.463507</td>\n      <td>477.866658</td>\n      <td>3.767686</td>\n      <td>-217.782818</td>\n      <td>10.000000</td>\n      <td>23.564447</td>\n    </tr>\n    <tr>\n      <th>75%</th>\n      <td>13315.000000</td>\n      <td>1.000000</td>\n      <td>0.983661</td>\n      <td>0.915992</td>\n      <td>0.996341</td>\n      <td>0.097272</td>\n      <td>836.630435</td>\n      <td>1600.000000</td>\n      <td>683.529150</td>\n      <td>8.695652</td>\n      <td>-20.000000</td>\n      <td>10.000000</td>\n      <td>62.160016</td>\n    </tr>\n    <tr>\n      <th>max</th>\n      <td>41798.000000</td>\n      <td>1.000000</td>\n      <td>0.992974</td>\n      <td>0.984201</td>\n      <td>0.997855</td>\n      <td>0.224840</td>\n      <td>925.000000</td>\n      <td>1840.000000</td>\n      <td>4200.012443</td>\n      <td>10.000000</td>\n      <td>10.000000</td>\n      <td>10.000000</td>\n      <td>126.791858</td>\n    </tr>\n  </tbody>\n</table>\n</div>"
     },
     "execution_count": 40,
     "metadata": {},
     "output_type": "execute_result"
    }
   ],
   "source": [
    "scores_df.describe()"
   ],
   "metadata": {
    "collapsed": false,
    "ExecuteTime": {
     "end_time": "2023-09-07T18:06:25.014927838Z",
     "start_time": "2023-09-07T18:06:25.012538997Z"
    }
   }
  },
  {
   "cell_type": "code",
   "execution_count": 41,
   "outputs": [
    {
     "data": {
      "text/plain": "                drift_score  quality_avg  quality_min  quality_max   \ndrift_score        1.000000    -0.167015     0.311934    -0.085447  \\\nquality_avg       -0.167015     1.000000     0.703766     0.433769   \nquality_min        0.311934     0.703766     1.000000     0.050639   \nquality_max       -0.085447     0.433769     0.050639     1.000000   \nquality_std       -0.015961    -0.894567    -0.905704    -0.141585   \ncum_reward_avg    -0.159057     0.885869     0.713160     0.031870   \ncum_reward_max     0.070250     0.707630     0.807121     0.125896   \ncum_reward_std     0.248586    -0.807710    -0.525844     0.002635   \nmom_reward_avg    -0.141625     0.967619     0.675935     0.466241   \nmom_reward_min     0.271059     0.689232     0.960497     0.023087   \nmom_reward_max    -0.043652     0.400284     0.078483     0.901825   \nmom_reward_std    -0.002695    -0.908476    -0.889497    -0.208966   \n\n                quality_std  cum_reward_avg  cum_reward_max  cum_reward_std   \ndrift_score       -0.015961       -0.159057        0.070250        0.248586  \\\nquality_avg       -0.894567        0.885869        0.707630       -0.807710   \nquality_min       -0.905704        0.713160        0.807121       -0.525844   \nquality_max       -0.141585        0.031870        0.125896        0.002635   \nquality_std        1.000000       -0.884414       -0.796498        0.760906   \ncum_reward_avg    -0.884414        1.000000        0.736423       -0.928909   \ncum_reward_max    -0.796498        0.736423        1.000000       -0.444502   \ncum_reward_std     0.760906       -0.928909       -0.444502        1.000000   \nmom_reward_avg    -0.856382        0.871856        0.713070       -0.785478   \nmom_reward_min    -0.877951        0.724348        0.780141       -0.556580   \nmom_reward_max    -0.154389        0.007354        0.148170        0.052773   \nmom_reward_std     0.979108       -0.892370       -0.840019        0.745130   \n\n                mom_reward_avg  mom_reward_min  mom_reward_max  mom_reward_std  \ndrift_score          -0.141625        0.271059       -0.043652       -0.002695  \nquality_avg           0.967619        0.689232        0.400284       -0.908476  \nquality_min           0.675935        0.960497        0.078483       -0.889497  \nquality_max           0.466241        0.023087        0.901825       -0.208966  \nquality_std          -0.856382       -0.877951       -0.154389        0.979108  \ncum_reward_avg        0.871856        0.724348        0.007354       -0.892370  \ncum_reward_max        0.713070        0.780141        0.148170       -0.840019  \ncum_reward_std       -0.785478       -0.556580        0.052773        0.745130  \nmom_reward_avg        1.000000        0.674518        0.491212       -0.888613  \nmom_reward_min        0.674518        1.000000        0.053859       -0.879770  \nmom_reward_max        0.491212        0.053859        1.000000       -0.211833  \nmom_reward_std       -0.888613       -0.879770       -0.211833        1.000000  ",
      "text/html": "<div>\n<style scoped>\n    .dataframe tbody tr th:only-of-type {\n        vertical-align: middle;\n    }\n\n    .dataframe tbody tr th {\n        vertical-align: top;\n    }\n\n    .dataframe thead th {\n        text-align: right;\n    }\n</style>\n<table border=\"1\" class=\"dataframe\">\n  <thead>\n    <tr style=\"text-align: right;\">\n      <th></th>\n      <th>drift_score</th>\n      <th>quality_avg</th>\n      <th>quality_min</th>\n      <th>quality_max</th>\n      <th>quality_std</th>\n      <th>cum_reward_avg</th>\n      <th>cum_reward_max</th>\n      <th>cum_reward_std</th>\n      <th>mom_reward_avg</th>\n      <th>mom_reward_min</th>\n      <th>mom_reward_max</th>\n      <th>mom_reward_std</th>\n    </tr>\n  </thead>\n  <tbody>\n    <tr>\n      <th>drift_score</th>\n      <td>1.000000</td>\n      <td>-0.167015</td>\n      <td>0.311934</td>\n      <td>-0.085447</td>\n      <td>-0.015961</td>\n      <td>-0.159057</td>\n      <td>0.070250</td>\n      <td>0.248586</td>\n      <td>-0.141625</td>\n      <td>0.271059</td>\n      <td>-0.043652</td>\n      <td>-0.002695</td>\n    </tr>\n    <tr>\n      <th>quality_avg</th>\n      <td>-0.167015</td>\n      <td>1.000000</td>\n      <td>0.703766</td>\n      <td>0.433769</td>\n      <td>-0.894567</td>\n      <td>0.885869</td>\n      <td>0.707630</td>\n      <td>-0.807710</td>\n      <td>0.967619</td>\n      <td>0.689232</td>\n      <td>0.400284</td>\n      <td>-0.908476</td>\n    </tr>\n    <tr>\n      <th>quality_min</th>\n      <td>0.311934</td>\n      <td>0.703766</td>\n      <td>1.000000</td>\n      <td>0.050639</td>\n      <td>-0.905704</td>\n      <td>0.713160</td>\n      <td>0.807121</td>\n      <td>-0.525844</td>\n      <td>0.675935</td>\n      <td>0.960497</td>\n      <td>0.078483</td>\n      <td>-0.889497</td>\n    </tr>\n    <tr>\n      <th>quality_max</th>\n      <td>-0.085447</td>\n      <td>0.433769</td>\n      <td>0.050639</td>\n      <td>1.000000</td>\n      <td>-0.141585</td>\n      <td>0.031870</td>\n      <td>0.125896</td>\n      <td>0.002635</td>\n      <td>0.466241</td>\n      <td>0.023087</td>\n      <td>0.901825</td>\n      <td>-0.208966</td>\n    </tr>\n    <tr>\n      <th>quality_std</th>\n      <td>-0.015961</td>\n      <td>-0.894567</td>\n      <td>-0.905704</td>\n      <td>-0.141585</td>\n      <td>1.000000</td>\n      <td>-0.884414</td>\n      <td>-0.796498</td>\n      <td>0.760906</td>\n      <td>-0.856382</td>\n      <td>-0.877951</td>\n      <td>-0.154389</td>\n      <td>0.979108</td>\n    </tr>\n    <tr>\n      <th>cum_reward_avg</th>\n      <td>-0.159057</td>\n      <td>0.885869</td>\n      <td>0.713160</td>\n      <td>0.031870</td>\n      <td>-0.884414</td>\n      <td>1.000000</td>\n      <td>0.736423</td>\n      <td>-0.928909</td>\n      <td>0.871856</td>\n      <td>0.724348</td>\n      <td>0.007354</td>\n      <td>-0.892370</td>\n    </tr>\n    <tr>\n      <th>cum_reward_max</th>\n      <td>0.070250</td>\n      <td>0.707630</td>\n      <td>0.807121</td>\n      <td>0.125896</td>\n      <td>-0.796498</td>\n      <td>0.736423</td>\n      <td>1.000000</td>\n      <td>-0.444502</td>\n      <td>0.713070</td>\n      <td>0.780141</td>\n      <td>0.148170</td>\n      <td>-0.840019</td>\n    </tr>\n    <tr>\n      <th>cum_reward_std</th>\n      <td>0.248586</td>\n      <td>-0.807710</td>\n      <td>-0.525844</td>\n      <td>0.002635</td>\n      <td>0.760906</td>\n      <td>-0.928909</td>\n      <td>-0.444502</td>\n      <td>1.000000</td>\n      <td>-0.785478</td>\n      <td>-0.556580</td>\n      <td>0.052773</td>\n      <td>0.745130</td>\n    </tr>\n    <tr>\n      <th>mom_reward_avg</th>\n      <td>-0.141625</td>\n      <td>0.967619</td>\n      <td>0.675935</td>\n      <td>0.466241</td>\n      <td>-0.856382</td>\n      <td>0.871856</td>\n      <td>0.713070</td>\n      <td>-0.785478</td>\n      <td>1.000000</td>\n      <td>0.674518</td>\n      <td>0.491212</td>\n      <td>-0.888613</td>\n    </tr>\n    <tr>\n      <th>mom_reward_min</th>\n      <td>0.271059</td>\n      <td>0.689232</td>\n      <td>0.960497</td>\n      <td>0.023087</td>\n      <td>-0.877951</td>\n      <td>0.724348</td>\n      <td>0.780141</td>\n      <td>-0.556580</td>\n      <td>0.674518</td>\n      <td>1.000000</td>\n      <td>0.053859</td>\n      <td>-0.879770</td>\n    </tr>\n    <tr>\n      <th>mom_reward_max</th>\n      <td>-0.043652</td>\n      <td>0.400284</td>\n      <td>0.078483</td>\n      <td>0.901825</td>\n      <td>-0.154389</td>\n      <td>0.007354</td>\n      <td>0.148170</td>\n      <td>0.052773</td>\n      <td>0.491212</td>\n      <td>0.053859</td>\n      <td>1.000000</td>\n      <td>-0.211833</td>\n    </tr>\n    <tr>\n      <th>mom_reward_std</th>\n      <td>-0.002695</td>\n      <td>-0.908476</td>\n      <td>-0.889497</td>\n      <td>-0.208966</td>\n      <td>0.979108</td>\n      <td>-0.892370</td>\n      <td>-0.840019</td>\n      <td>0.745130</td>\n      <td>-0.888613</td>\n      <td>-0.879770</td>\n      <td>-0.211833</td>\n      <td>1.000000</td>\n    </tr>\n  </tbody>\n</table>\n</div>"
     },
     "execution_count": 41,
     "metadata": {},
     "output_type": "execute_result"
    }
   ],
   "source": [
    "scores_df[scores_df.columns[1:]].corr()"
   ],
   "metadata": {
    "collapsed": false,
    "ExecuteTime": {
     "end_time": "2023-09-07T18:06:25.015374175Z",
     "start_time": "2023-09-07T18:06:25.012800457Z"
    }
   }
  },
  {
   "cell_type": "code",
   "execution_count": 23,
   "outputs": [
    {
     "data": {
      "text/plain": "1043"
     },
     "execution_count": 23,
     "metadata": {},
     "output_type": "execute_result"
    }
   ],
   "source": [
    "len(df['Cell ID'].unique())"
   ],
   "metadata": {
    "collapsed": false,
    "ExecuteTime": {
     "end_time": "2023-09-04T10:19:54.862189704Z",
     "start_time": "2023-09-04T10:19:54.837915222Z"
    }
   }
  },
  {
   "cell_type": "code",
   "execution_count": 11,
   "outputs": [],
   "source": [
    "300 / len(df['Cell ID'].unique())"
   ],
   "metadata": {
    "collapsed": false
   }
  },
  {
   "cell_type": "code",
   "execution_count": 10,
   "outputs": [],
   "source": [
    "scores_df"
   ],
   "metadata": {
    "collapsed": false
   }
  },
  {
   "cell_type": "code",
   "execution_count": 7,
   "outputs": [],
   "source": [
    "import logging\n",
    "\n",
    "loggers = [logging.getLogger(name) for name in logging.root.manager.loggerDict]"
   ],
   "metadata": {
    "collapsed": false
   }
  },
  {
   "cell_type": "code",
   "execution_count": 13,
   "outputs": [],
   "source": [
    "with open('loggers.txt', 'w') as f:\n",
    "    for item in loggers:\n",
    "        # write each item on a new line\n",
    "        f.write(\"%s\\n\" % item)"
   ],
   "metadata": {
    "collapsed": false
   }
  },
  {
   "cell_type": "code",
   "execution_count": 20,
   "outputs": [],
   "source": [
    "class LessThanFilter(logging.Filter):\n",
    "    def __init__(self, exclusive_maximum, name=\"\"):\n",
    "        super(LessThanFilter, self).__init__(name)\n",
    "        self.max_level = exclusive_maximum\n",
    "\n",
    "    def filter(self, record):\n",
    "        #non-zero return means we log this message\n",
    "        return 1 if record.levelno < self.max_level else 0\n",
    "\n",
    "logging.getLogger(\"pytorch_lightning.utilities.rank_zero\").addFilter(LessThanFilter(logging.ERROR))"
   ],
   "metadata": {
    "collapsed": false,
    "ExecuteTime": {
     "end_time": "2023-09-04T11:26:40.553508627Z",
     "start_time": "2023-09-04T11:26:40.544830270Z"
    }
   }
  },
  {
   "cell_type": "code",
   "execution_count": 23,
   "outputs": [],
   "source": [
    "logging.getLogger(\"pytorch_lightning.utilities.rank_zero\").error('asd')\n",
    "logging.getLogger(\"pytorch_lightning.utilities.rank_zero\").error('asd')\n",
    "logging.getLogger(\"pytorch_lightning.utilities.rank_zero\").error('asd')\n",
    "logging.getLogger(\"pytorch_lightning.utilities.rank_zero\").error('asd')\n",
    "logging.getLogger(\"pytorch_lightning.utilities.rank_zero\").error('asd')"
   ],
   "metadata": {
    "collapsed": false,
    "ExecuteTime": {
     "end_time": "2023-09-04T11:26:53.571900441Z",
     "start_time": "2023-09-04T11:26:53.562437112Z"
    }
   }
  },
  {
   "cell_type": "code",
   "execution_count": 27,
   "outputs": [
    {
     "data": {
      "text/plain": "('/home/rid/Soft/anaconda3/envs/sm_bachelor/lib/python3.9/site-packages/IPython/core/interactiveshell.py',\n 3448,\n 'run_ast_nodes',\n None)"
     },
     "execution_count": 27,
     "metadata": {},
     "output_type": "execute_result"
    }
   ],
   "source": [
    "logging.getLogger(\"pytorch_lightning.utilities.rank_zero\").findCaller()"
   ],
   "metadata": {
    "collapsed": false,
    "ExecuteTime": {
     "end_time": "2023-09-04T11:29:41.736301618Z",
     "start_time": "2023-09-04T11:29:41.707082771Z"
    }
   }
  },
  {
   "cell_type": "code",
   "execution_count": 9,
   "outputs": [
    {
     "name": "stdout",
     "output_type": "stream",
     "text": [
      "CPU times: user 6.43 s, sys: 212 ms, total: 6.65 s\n",
      "Wall time: 6.8 s\n"
     ]
    }
   ],
   "source": [
    "%%time\n",
    "\n",
    "data_drift_report = Report(metrics=[\n",
    "    DataDriftPreset(),\n",
    "])\n",
    "data_drift_report.run(reference_data=reff, current_data=cell_data,)\n",
    "drift = data_drift_report.as_dict()['metrics'][0]['result']['share_of_drifted_columns']"
   ],
   "metadata": {
    "collapsed": false,
    "ExecuteTime": {
     "end_time": "2023-09-04T12:42:10.581486699Z",
     "start_time": "2023-09-04T12:42:03.780724117Z"
    }
   }
  },
  {
   "cell_type": "code",
   "execution_count": 10,
   "outputs": [
    {
     "name": "stdout",
     "output_type": "stream",
     "text": [
      "CPU times: user 6.22 s, sys: 168 ms, total: 6.39 s\n",
      "Wall time: 6.49 s\n"
     ]
    }
   ],
   "source": [
    "%%time\n",
    "\n",
    "data_drift_report.run(reference_data=reff, current_data=cell_data,)\n",
    "drift = data_drift_report.as_dict()['metrics'][0]['result']['share_of_drifted_columns']"
   ],
   "metadata": {
    "collapsed": false,
    "ExecuteTime": {
     "end_time": "2023-09-04T12:42:17.073199653Z",
     "start_time": "2023-09-04T12:42:10.585728730Z"
    }
   }
  },
  {
   "cell_type": "code",
   "execution_count": 11,
   "outputs": [
    {
     "name": "stdout",
     "output_type": "stream",
     "text": [
      "CPU times: user 42.4 s, sys: 1.72 s, total: 44.1 s\n",
      "Wall time: 44.1 s\n"
     ]
    }
   ],
   "source": [
    "%%time\n",
    "\n",
    "with warnings.catch_warnings():\n",
    "    warnings.simplefilter(\"ignore\")\n",
    "    states = optimize_params(cell_data, preprocess=preprocess_full)"
   ],
   "metadata": {
    "collapsed": false,
    "ExecuteTime": {
     "end_time": "2023-09-04T12:43:01.223134380Z",
     "start_time": "2023-09-04T12:42:17.079752110Z"
    }
   }
  },
  {
   "cell_type": "code",
   "execution_count": 2,
   "outputs": [
    {
     "data": {
      "text/plain": "True"
     },
     "execution_count": 2,
     "metadata": {},
     "output_type": "execute_result"
    }
   ],
   "source": [
    "torch.cuda.is_available()"
   ],
   "metadata": {
    "collapsed": false,
    "ExecuteTime": {
     "end_time": "2023-09-05T07:10:50.869794388Z",
     "start_time": "2023-09-05T07:10:50.856997580Z"
    }
   }
  },
  {
   "cell_type": "code",
   "execution_count": 10,
   "outputs": [
    {
     "name": "stdout",
     "output_type": "stream",
     "text": [
      "CPU times: user 1min 27s, sys: 2.28 s, total: 1min 30s\n",
      "Wall time: 54.5 s\n"
     ]
    }
   ],
   "source": [
    "%%time\n",
    "\n",
    "with warnings.catch_warnings():\n",
    "    warnings.simplefilter(\"ignore\")\n",
    "    states = optimize_params(cell_data, preprocess=preprocess_full)"
   ],
   "metadata": {
    "collapsed": false,
    "ExecuteTime": {
     "end_time": "2023-09-05T07:27:42.421733251Z",
     "start_time": "2023-09-05T07:26:47.911421343Z"
    }
   }
  },
  {
   "cell_type": "code",
   "execution_count": 11,
   "outputs": [
    {
     "name": "stdout",
     "output_type": "stream",
     "text": [
      "CPU times: user 1min 23s, sys: 1.81 s, total: 1min 25s\n",
      "Wall time: 48.2 s\n"
     ]
    }
   ],
   "source": [
    "%%time\n",
    "\n",
    "with warnings.catch_warnings():\n",
    "    warnings.simplefilter(\"ignore\")\n",
    "    states = optimize_params(cell_data, preprocess=preprocess_full, device='cuda')"
   ],
   "metadata": {
    "collapsed": false,
    "ExecuteTime": {
     "end_time": "2023-09-05T07:28:30.701085476Z",
     "start_time": "2023-09-05T07:27:42.467681715Z"
    }
   }
  },
  {
   "cell_type": "markdown",
   "source": [
    "# Analysis"
   ],
   "metadata": {
    "collapsed": false
   }
  },
  {
   "cell_type": "code",
   "execution_count": 7,
   "outputs": [],
   "source": [
    "data = pd.read_csv('drift_scores_rewards_all.csv', index_col=0)"
   ],
   "metadata": {
    "collapsed": false,
    "ExecuteTime": {
     "end_time": "2023-09-05T12:29:00.932055311Z",
     "start_time": "2023-09-05T12:29:00.914016982Z"
    }
   }
  },
  {
   "cell_type": "code",
   "execution_count": 8,
   "outputs": [
    {
     "data": {
      "text/plain": "       cell_id  drift_score  quality_avg  quality_min  quality_max  \\\n0      (1946,)        0.875     0.874160     0.734750     1.688068   \n1      (1945,)        0.875     0.881240     0.712539     1.069511   \n2      (1947,)        1.000     0.842714     0.679234     0.999486   \n3      (1941,)        0.875     0.852673     0.678700     1.311538   \n4      (1943,)        1.000     0.806085     0.669411     1.095661   \n...        ...          ...          ...          ...          ...   \n1038  (12482,)        0.875     0.868466     0.725107     1.062574   \n1039  (12483,)        0.875     0.883805     0.840871     0.929947   \n1040  (12481,)        0.875     0.965920     0.886776     1.042712   \n1041  (13323,)        0.875     0.981018     0.911628     1.053775   \n1042  (13322,)        0.875     0.939830     0.904408     0.990518   \n\n      quality_std  cum_reward_avg  cum_reward_max  cum_reward_std  \\\n0        0.056874   -3.587066e+06             -50    3.191874e+06   \n1        0.036131   -3.584984e+06             -45    3.210989e+06   \n2        0.047754   -1.135826e+06             -10    1.033637e+06   \n3        0.068895   -3.447562e+06             -50    3.098796e+06   \n4        0.088054   -3.405338e+06             -45    2.981054e+06   \n...           ...             ...             ...             ...   \n1038     0.031370   -3.961857e+05             -45    3.373165e+05   \n1039     0.020493   -9.898051e+04               5    9.285494e+04   \n1040     0.034750   -1.163850e+05             -50    1.039313e+05   \n1041     0.032089   -5.948250e+04             -45    5.296255e+04   \n1042     0.015661   -5.892000e+04             -45    5.264149e+04   \n\n      mom_reward_avg  mom_reward_min  mom_reward_max  mom_reward_std  \n0      -17734.276206          -34940             -50    10101.580818  \n1      -17866.888519          -35685             -45    10343.056816  \n2       -5546.775000           -9820             -10     3137.497803  \n3      -17337.090301          -34600             -50    10117.079323  \n4      -16600.342809          -32240             -45     9092.147583  \n...              ...             ...             ...             ...  \n1038    -5342.690476          -10220             -45     2780.442553  \n1039    -2863.457944           -5975               5     1811.103647  \n1040    -3215.140187           -6395             -50     1861.693343  \n1041    -2295.000000           -4545             -45     1324.990566  \n1042    -2280.197368           -4530             -45     1324.652015  \n\n[1043 rows x 13 columns]",
      "text/html": "<div>\n<style scoped>\n    .dataframe tbody tr th:only-of-type {\n        vertical-align: middle;\n    }\n\n    .dataframe tbody tr th {\n        vertical-align: top;\n    }\n\n    .dataframe thead th {\n        text-align: right;\n    }\n</style>\n<table border=\"1\" class=\"dataframe\">\n  <thead>\n    <tr style=\"text-align: right;\">\n      <th></th>\n      <th>cell_id</th>\n      <th>drift_score</th>\n      <th>quality_avg</th>\n      <th>quality_min</th>\n      <th>quality_max</th>\n      <th>quality_std</th>\n      <th>cum_reward_avg</th>\n      <th>cum_reward_max</th>\n      <th>cum_reward_std</th>\n      <th>mom_reward_avg</th>\n      <th>mom_reward_min</th>\n      <th>mom_reward_max</th>\n      <th>mom_reward_std</th>\n    </tr>\n  </thead>\n  <tbody>\n    <tr>\n      <th>0</th>\n      <td>(1946,)</td>\n      <td>0.875</td>\n      <td>0.874160</td>\n      <td>0.734750</td>\n      <td>1.688068</td>\n      <td>0.056874</td>\n      <td>-3.587066e+06</td>\n      <td>-50</td>\n      <td>3.191874e+06</td>\n      <td>-17734.276206</td>\n      <td>-34940</td>\n      <td>-50</td>\n      <td>10101.580818</td>\n    </tr>\n    <tr>\n      <th>1</th>\n      <td>(1945,)</td>\n      <td>0.875</td>\n      <td>0.881240</td>\n      <td>0.712539</td>\n      <td>1.069511</td>\n      <td>0.036131</td>\n      <td>-3.584984e+06</td>\n      <td>-45</td>\n      <td>3.210989e+06</td>\n      <td>-17866.888519</td>\n      <td>-35685</td>\n      <td>-45</td>\n      <td>10343.056816</td>\n    </tr>\n    <tr>\n      <th>2</th>\n      <td>(1947,)</td>\n      <td>1.000</td>\n      <td>0.842714</td>\n      <td>0.679234</td>\n      <td>0.999486</td>\n      <td>0.047754</td>\n      <td>-1.135826e+06</td>\n      <td>-10</td>\n      <td>1.033637e+06</td>\n      <td>-5546.775000</td>\n      <td>-9820</td>\n      <td>-10</td>\n      <td>3137.497803</td>\n    </tr>\n    <tr>\n      <th>3</th>\n      <td>(1941,)</td>\n      <td>0.875</td>\n      <td>0.852673</td>\n      <td>0.678700</td>\n      <td>1.311538</td>\n      <td>0.068895</td>\n      <td>-3.447562e+06</td>\n      <td>-50</td>\n      <td>3.098796e+06</td>\n      <td>-17337.090301</td>\n      <td>-34600</td>\n      <td>-50</td>\n      <td>10117.079323</td>\n    </tr>\n    <tr>\n      <th>4</th>\n      <td>(1943,)</td>\n      <td>1.000</td>\n      <td>0.806085</td>\n      <td>0.669411</td>\n      <td>1.095661</td>\n      <td>0.088054</td>\n      <td>-3.405338e+06</td>\n      <td>-45</td>\n      <td>2.981054e+06</td>\n      <td>-16600.342809</td>\n      <td>-32240</td>\n      <td>-45</td>\n      <td>9092.147583</td>\n    </tr>\n    <tr>\n      <th>...</th>\n      <td>...</td>\n      <td>...</td>\n      <td>...</td>\n      <td>...</td>\n      <td>...</td>\n      <td>...</td>\n      <td>...</td>\n      <td>...</td>\n      <td>...</td>\n      <td>...</td>\n      <td>...</td>\n      <td>...</td>\n      <td>...</td>\n    </tr>\n    <tr>\n      <th>1038</th>\n      <td>(12482,)</td>\n      <td>0.875</td>\n      <td>0.868466</td>\n      <td>0.725107</td>\n      <td>1.062574</td>\n      <td>0.031370</td>\n      <td>-3.961857e+05</td>\n      <td>-45</td>\n      <td>3.373165e+05</td>\n      <td>-5342.690476</td>\n      <td>-10220</td>\n      <td>-45</td>\n      <td>2780.442553</td>\n    </tr>\n    <tr>\n      <th>1039</th>\n      <td>(12483,)</td>\n      <td>0.875</td>\n      <td>0.883805</td>\n      <td>0.840871</td>\n      <td>0.929947</td>\n      <td>0.020493</td>\n      <td>-9.898051e+04</td>\n      <td>5</td>\n      <td>9.285494e+04</td>\n      <td>-2863.457944</td>\n      <td>-5975</td>\n      <td>5</td>\n      <td>1811.103647</td>\n    </tr>\n    <tr>\n      <th>1040</th>\n      <td>(12481,)</td>\n      <td>0.875</td>\n      <td>0.965920</td>\n      <td>0.886776</td>\n      <td>1.042712</td>\n      <td>0.034750</td>\n      <td>-1.163850e+05</td>\n      <td>-50</td>\n      <td>1.039313e+05</td>\n      <td>-3215.140187</td>\n      <td>-6395</td>\n      <td>-50</td>\n      <td>1861.693343</td>\n    </tr>\n    <tr>\n      <th>1041</th>\n      <td>(13323,)</td>\n      <td>0.875</td>\n      <td>0.981018</td>\n      <td>0.911628</td>\n      <td>1.053775</td>\n      <td>0.032089</td>\n      <td>-5.948250e+04</td>\n      <td>-45</td>\n      <td>5.296255e+04</td>\n      <td>-2295.000000</td>\n      <td>-4545</td>\n      <td>-45</td>\n      <td>1324.990566</td>\n    </tr>\n    <tr>\n      <th>1042</th>\n      <td>(13322,)</td>\n      <td>0.875</td>\n      <td>0.939830</td>\n      <td>0.904408</td>\n      <td>0.990518</td>\n      <td>0.015661</td>\n      <td>-5.892000e+04</td>\n      <td>-45</td>\n      <td>5.264149e+04</td>\n      <td>-2280.197368</td>\n      <td>-4530</td>\n      <td>-45</td>\n      <td>1324.652015</td>\n    </tr>\n  </tbody>\n</table>\n<p>1043 rows × 13 columns</p>\n</div>"
     },
     "execution_count": 8,
     "metadata": {},
     "output_type": "execute_result"
    }
   ],
   "source": [
    "data"
   ],
   "metadata": {
    "collapsed": false,
    "ExecuteTime": {
     "end_time": "2023-09-05T12:29:01.388782215Z",
     "start_time": "2023-09-05T12:29:01.356854579Z"
    }
   }
  },
  {
   "cell_type": "code",
   "execution_count": 9,
   "outputs": [
    {
     "data": {
      "text/plain": "                drift_score  quality_avg  quality_min  quality_max  \\\ndrift_score        1.000000    -0.252896    -0.098583    -0.039432   \nquality_avg       -0.252896     1.000000     0.502643     0.333520   \nquality_min       -0.098583     0.502643     1.000000     0.119505   \nquality_max       -0.039432     0.333520     0.119505     1.000000   \nquality_std       -0.127550     0.159484    -0.134206     0.468174   \ncum_reward_avg     0.006945     0.045978     0.070530    -0.152249   \ncum_reward_max     0.068895    -0.038443    -0.045746    -0.073236   \ncum_reward_std    -0.021761     0.009329    -0.026577     0.173904   \nmom_reward_avg     0.066041    -0.147332    -0.088060    -0.215231   \nmom_reward_min     0.083738    -0.238948    -0.172310    -0.239303   \nmom_reward_max     0.066402    -0.042868    -0.047839    -0.114423   \nmom_reward_std    -0.093436     0.259073     0.182302     0.240701   \n\n                quality_std  cum_reward_avg  cum_reward_max  cum_reward_std  \\\ndrift_score       -0.127550        0.006945        0.068895       -0.021761   \nquality_avg        0.159484        0.045978       -0.038443        0.009329   \nquality_min       -0.134206        0.070530       -0.045746       -0.026577   \nquality_max        0.468174       -0.152249       -0.073236        0.173904   \nquality_std        1.000000       -0.085979       -0.064057        0.063141   \ncum_reward_avg    -0.085979        1.000000        0.171343       -0.990619   \ncum_reward_max    -0.064057        0.171343        1.000000       -0.136974   \ncum_reward_std     0.063141       -0.990619       -0.136974        1.000000   \nmom_reward_avg    -0.068361        0.932597        0.164816       -0.960482   \nmom_reward_min    -0.014295        0.820249        0.088091       -0.882851   \nmom_reward_max    -0.175647        0.390343        0.643997       -0.335615   \nmom_reward_std     0.007254       -0.802359       -0.063820        0.870986   \n\n                mom_reward_avg  mom_reward_min  mom_reward_max  mom_reward_std  \ndrift_score           0.066041        0.083738        0.066402       -0.093436  \nquality_avg          -0.147332       -0.238948       -0.042868        0.259073  \nquality_min          -0.088060       -0.172310       -0.047839        0.182302  \nquality_max          -0.215231       -0.239303       -0.114423        0.240701  \nquality_std          -0.068361       -0.014295       -0.175647        0.007254  \ncum_reward_avg        0.932597        0.820249        0.390343       -0.802359  \ncum_reward_max        0.164816        0.088091        0.643997       -0.063820  \ncum_reward_std       -0.960482       -0.882851       -0.335615        0.870986  \nmom_reward_avg        1.000000        0.957747        0.382207       -0.948690  \nmom_reward_min        0.957747        1.000000        0.236172       -0.995768  \nmom_reward_max        0.382207        0.236172        1.000000       -0.205588  \nmom_reward_std       -0.948690       -0.995768       -0.205588        1.000000  ",
      "text/html": "<div>\n<style scoped>\n    .dataframe tbody tr th:only-of-type {\n        vertical-align: middle;\n    }\n\n    .dataframe tbody tr th {\n        vertical-align: top;\n    }\n\n    .dataframe thead th {\n        text-align: right;\n    }\n</style>\n<table border=\"1\" class=\"dataframe\">\n  <thead>\n    <tr style=\"text-align: right;\">\n      <th></th>\n      <th>drift_score</th>\n      <th>quality_avg</th>\n      <th>quality_min</th>\n      <th>quality_max</th>\n      <th>quality_std</th>\n      <th>cum_reward_avg</th>\n      <th>cum_reward_max</th>\n      <th>cum_reward_std</th>\n      <th>mom_reward_avg</th>\n      <th>mom_reward_min</th>\n      <th>mom_reward_max</th>\n      <th>mom_reward_std</th>\n    </tr>\n  </thead>\n  <tbody>\n    <tr>\n      <th>drift_score</th>\n      <td>1.000000</td>\n      <td>-0.252896</td>\n      <td>-0.098583</td>\n      <td>-0.039432</td>\n      <td>-0.127550</td>\n      <td>0.006945</td>\n      <td>0.068895</td>\n      <td>-0.021761</td>\n      <td>0.066041</td>\n      <td>0.083738</td>\n      <td>0.066402</td>\n      <td>-0.093436</td>\n    </tr>\n    <tr>\n      <th>quality_avg</th>\n      <td>-0.252896</td>\n      <td>1.000000</td>\n      <td>0.502643</td>\n      <td>0.333520</td>\n      <td>0.159484</td>\n      <td>0.045978</td>\n      <td>-0.038443</td>\n      <td>0.009329</td>\n      <td>-0.147332</td>\n      <td>-0.238948</td>\n      <td>-0.042868</td>\n      <td>0.259073</td>\n    </tr>\n    <tr>\n      <th>quality_min</th>\n      <td>-0.098583</td>\n      <td>0.502643</td>\n      <td>1.000000</td>\n      <td>0.119505</td>\n      <td>-0.134206</td>\n      <td>0.070530</td>\n      <td>-0.045746</td>\n      <td>-0.026577</td>\n      <td>-0.088060</td>\n      <td>-0.172310</td>\n      <td>-0.047839</td>\n      <td>0.182302</td>\n    </tr>\n    <tr>\n      <th>quality_max</th>\n      <td>-0.039432</td>\n      <td>0.333520</td>\n      <td>0.119505</td>\n      <td>1.000000</td>\n      <td>0.468174</td>\n      <td>-0.152249</td>\n      <td>-0.073236</td>\n      <td>0.173904</td>\n      <td>-0.215231</td>\n      <td>-0.239303</td>\n      <td>-0.114423</td>\n      <td>0.240701</td>\n    </tr>\n    <tr>\n      <th>quality_std</th>\n      <td>-0.127550</td>\n      <td>0.159484</td>\n      <td>-0.134206</td>\n      <td>0.468174</td>\n      <td>1.000000</td>\n      <td>-0.085979</td>\n      <td>-0.064057</td>\n      <td>0.063141</td>\n      <td>-0.068361</td>\n      <td>-0.014295</td>\n      <td>-0.175647</td>\n      <td>0.007254</td>\n    </tr>\n    <tr>\n      <th>cum_reward_avg</th>\n      <td>0.006945</td>\n      <td>0.045978</td>\n      <td>0.070530</td>\n      <td>-0.152249</td>\n      <td>-0.085979</td>\n      <td>1.000000</td>\n      <td>0.171343</td>\n      <td>-0.990619</td>\n      <td>0.932597</td>\n      <td>0.820249</td>\n      <td>0.390343</td>\n      <td>-0.802359</td>\n    </tr>\n    <tr>\n      <th>cum_reward_max</th>\n      <td>0.068895</td>\n      <td>-0.038443</td>\n      <td>-0.045746</td>\n      <td>-0.073236</td>\n      <td>-0.064057</td>\n      <td>0.171343</td>\n      <td>1.000000</td>\n      <td>-0.136974</td>\n      <td>0.164816</td>\n      <td>0.088091</td>\n      <td>0.643997</td>\n      <td>-0.063820</td>\n    </tr>\n    <tr>\n      <th>cum_reward_std</th>\n      <td>-0.021761</td>\n      <td>0.009329</td>\n      <td>-0.026577</td>\n      <td>0.173904</td>\n      <td>0.063141</td>\n      <td>-0.990619</td>\n      <td>-0.136974</td>\n      <td>1.000000</td>\n      <td>-0.960482</td>\n      <td>-0.882851</td>\n      <td>-0.335615</td>\n      <td>0.870986</td>\n    </tr>\n    <tr>\n      <th>mom_reward_avg</th>\n      <td>0.066041</td>\n      <td>-0.147332</td>\n      <td>-0.088060</td>\n      <td>-0.215231</td>\n      <td>-0.068361</td>\n      <td>0.932597</td>\n      <td>0.164816</td>\n      <td>-0.960482</td>\n      <td>1.000000</td>\n      <td>0.957747</td>\n      <td>0.382207</td>\n      <td>-0.948690</td>\n    </tr>\n    <tr>\n      <th>mom_reward_min</th>\n      <td>0.083738</td>\n      <td>-0.238948</td>\n      <td>-0.172310</td>\n      <td>-0.239303</td>\n      <td>-0.014295</td>\n      <td>0.820249</td>\n      <td>0.088091</td>\n      <td>-0.882851</td>\n      <td>0.957747</td>\n      <td>1.000000</td>\n      <td>0.236172</td>\n      <td>-0.995768</td>\n    </tr>\n    <tr>\n      <th>mom_reward_max</th>\n      <td>0.066402</td>\n      <td>-0.042868</td>\n      <td>-0.047839</td>\n      <td>-0.114423</td>\n      <td>-0.175647</td>\n      <td>0.390343</td>\n      <td>0.643997</td>\n      <td>-0.335615</td>\n      <td>0.382207</td>\n      <td>0.236172</td>\n      <td>1.000000</td>\n      <td>-0.205588</td>\n    </tr>\n    <tr>\n      <th>mom_reward_std</th>\n      <td>-0.093436</td>\n      <td>0.259073</td>\n      <td>0.182302</td>\n      <td>0.240701</td>\n      <td>0.007254</td>\n      <td>-0.802359</td>\n      <td>-0.063820</td>\n      <td>0.870986</td>\n      <td>-0.948690</td>\n      <td>-0.995768</td>\n      <td>-0.205588</td>\n      <td>1.000000</td>\n    </tr>\n  </tbody>\n</table>\n</div>"
     },
     "execution_count": 9,
     "metadata": {},
     "output_type": "execute_result"
    }
   ],
   "source": [
    "data[data.columns[1:]].corr()"
   ],
   "metadata": {
    "collapsed": false,
    "ExecuteTime": {
     "end_time": "2023-09-05T12:29:01.820162893Z",
     "start_time": "2023-09-05T12:29:01.683310199Z"
    }
   }
  },
  {
   "cell_type": "code",
   "execution_count": 10,
   "outputs": [
    {
     "data": {
      "text/plain": "                drift_score  quality_avg  quality_min  quality_max  \\\ndrift_score        1.000000    -0.222758    -0.091771    -0.029052   \nquality_avg       -0.222758     1.000000     0.369532     0.226132   \nquality_min       -0.091771     0.369532     1.000000     0.108647   \nquality_max       -0.029052     0.226132     0.108647     1.000000   \nquality_std       -0.115285     0.029151    -0.098588     0.245643   \ncum_reward_avg     0.072701    -0.063192    -0.091750    -0.148184   \ncum_reward_max     0.045894    -0.003026     0.017899    -0.051916   \ncum_reward_std    -0.073499     0.080686     0.099998     0.153613   \nmom_reward_avg     0.083750    -0.144342    -0.152579    -0.176647   \nmom_reward_min     0.090964    -0.197440    -0.193956    -0.184298   \nmom_reward_max     0.051647    -0.006468     0.013766    -0.048123   \nmom_reward_std    -0.100316     0.203410     0.190701     0.182747   \n\n                quality_std  cum_reward_avg  cum_reward_max  cum_reward_std  \\\ndrift_score       -0.115285        0.072701        0.045894       -0.073499   \nquality_avg        0.029151       -0.063192       -0.003026        0.080686   \nquality_min       -0.098588       -0.091750        0.017899        0.099998   \nquality_max        0.245643       -0.148184       -0.051916        0.153613   \nquality_std        1.000000       -0.014785       -0.141789        0.008767   \ncum_reward_avg    -0.014785        1.000000        0.018777       -0.951919   \ncum_reward_max    -0.141789        0.018777        1.000000       -0.003903   \ncum_reward_std     0.008767       -0.951919       -0.003903        1.000000   \nmom_reward_avg    -0.001689        0.858744       -0.004915       -0.893549   \nmom_reward_min     0.017910        0.737975       -0.033414       -0.776462   \nmom_reward_max    -0.141768        0.023881        0.991089       -0.008326   \nmom_reward_std    -0.020737       -0.743357        0.042257        0.787545   \n\n                mom_reward_avg  mom_reward_min  mom_reward_max  mom_reward_std  \ndrift_score           0.083750        0.090964        0.051647       -0.100316  \nquality_avg          -0.144342       -0.197440       -0.006468        0.203410  \nquality_min          -0.152579       -0.193956        0.013766        0.190701  \nquality_max          -0.176647       -0.184298       -0.048123        0.182747  \nquality_std          -0.001689        0.017910       -0.141768       -0.020737  \ncum_reward_avg        0.858744        0.737975        0.023881       -0.743357  \ncum_reward_max       -0.004915       -0.033414        0.991089        0.042257  \ncum_reward_std       -0.893549       -0.776462       -0.008326        0.787545  \nmom_reward_avg        1.000000        0.864664        0.000553       -0.873894  \nmom_reward_min        0.864664        1.000000       -0.029540       -0.941438  \nmom_reward_max        0.000553       -0.029540        1.000000        0.038623  \nmom_reward_std       -0.873894       -0.941438        0.038623        1.000000  ",
      "text/html": "<div>\n<style scoped>\n    .dataframe tbody tr th:only-of-type {\n        vertical-align: middle;\n    }\n\n    .dataframe tbody tr th {\n        vertical-align: top;\n    }\n\n    .dataframe thead th {\n        text-align: right;\n    }\n</style>\n<table border=\"1\" class=\"dataframe\">\n  <thead>\n    <tr style=\"text-align: right;\">\n      <th></th>\n      <th>drift_score</th>\n      <th>quality_avg</th>\n      <th>quality_min</th>\n      <th>quality_max</th>\n      <th>quality_std</th>\n      <th>cum_reward_avg</th>\n      <th>cum_reward_max</th>\n      <th>cum_reward_std</th>\n      <th>mom_reward_avg</th>\n      <th>mom_reward_min</th>\n      <th>mom_reward_max</th>\n      <th>mom_reward_std</th>\n    </tr>\n  </thead>\n  <tbody>\n    <tr>\n      <th>drift_score</th>\n      <td>1.000000</td>\n      <td>-0.222758</td>\n      <td>-0.091771</td>\n      <td>-0.029052</td>\n      <td>-0.115285</td>\n      <td>0.072701</td>\n      <td>0.045894</td>\n      <td>-0.073499</td>\n      <td>0.083750</td>\n      <td>0.090964</td>\n      <td>0.051647</td>\n      <td>-0.100316</td>\n    </tr>\n    <tr>\n      <th>quality_avg</th>\n      <td>-0.222758</td>\n      <td>1.000000</td>\n      <td>0.369532</td>\n      <td>0.226132</td>\n      <td>0.029151</td>\n      <td>-0.063192</td>\n      <td>-0.003026</td>\n      <td>0.080686</td>\n      <td>-0.144342</td>\n      <td>-0.197440</td>\n      <td>-0.006468</td>\n      <td>0.203410</td>\n    </tr>\n    <tr>\n      <th>quality_min</th>\n      <td>-0.091771</td>\n      <td>0.369532</td>\n      <td>1.000000</td>\n      <td>0.108647</td>\n      <td>-0.098588</td>\n      <td>-0.091750</td>\n      <td>0.017899</td>\n      <td>0.099998</td>\n      <td>-0.152579</td>\n      <td>-0.193956</td>\n      <td>0.013766</td>\n      <td>0.190701</td>\n    </tr>\n    <tr>\n      <th>quality_max</th>\n      <td>-0.029052</td>\n      <td>0.226132</td>\n      <td>0.108647</td>\n      <td>1.000000</td>\n      <td>0.245643</td>\n      <td>-0.148184</td>\n      <td>-0.051916</td>\n      <td>0.153613</td>\n      <td>-0.176647</td>\n      <td>-0.184298</td>\n      <td>-0.048123</td>\n      <td>0.182747</td>\n    </tr>\n    <tr>\n      <th>quality_std</th>\n      <td>-0.115285</td>\n      <td>0.029151</td>\n      <td>-0.098588</td>\n      <td>0.245643</td>\n      <td>1.000000</td>\n      <td>-0.014785</td>\n      <td>-0.141789</td>\n      <td>0.008767</td>\n      <td>-0.001689</td>\n      <td>0.017910</td>\n      <td>-0.141768</td>\n      <td>-0.020737</td>\n    </tr>\n    <tr>\n      <th>cum_reward_avg</th>\n      <td>0.072701</td>\n      <td>-0.063192</td>\n      <td>-0.091750</td>\n      <td>-0.148184</td>\n      <td>-0.014785</td>\n      <td>1.000000</td>\n      <td>0.018777</td>\n      <td>-0.951919</td>\n      <td>0.858744</td>\n      <td>0.737975</td>\n      <td>0.023881</td>\n      <td>-0.743357</td>\n    </tr>\n    <tr>\n      <th>cum_reward_max</th>\n      <td>0.045894</td>\n      <td>-0.003026</td>\n      <td>0.017899</td>\n      <td>-0.051916</td>\n      <td>-0.141789</td>\n      <td>0.018777</td>\n      <td>1.000000</td>\n      <td>-0.003903</td>\n      <td>-0.004915</td>\n      <td>-0.033414</td>\n      <td>0.991089</td>\n      <td>0.042257</td>\n    </tr>\n    <tr>\n      <th>cum_reward_std</th>\n      <td>-0.073499</td>\n      <td>0.080686</td>\n      <td>0.099998</td>\n      <td>0.153613</td>\n      <td>0.008767</td>\n      <td>-0.951919</td>\n      <td>-0.003903</td>\n      <td>1.000000</td>\n      <td>-0.893549</td>\n      <td>-0.776462</td>\n      <td>-0.008326</td>\n      <td>0.787545</td>\n    </tr>\n    <tr>\n      <th>mom_reward_avg</th>\n      <td>0.083750</td>\n      <td>-0.144342</td>\n      <td>-0.152579</td>\n      <td>-0.176647</td>\n      <td>-0.001689</td>\n      <td>0.858744</td>\n      <td>-0.004915</td>\n      <td>-0.893549</td>\n      <td>1.000000</td>\n      <td>0.864664</td>\n      <td>0.000553</td>\n      <td>-0.873894</td>\n    </tr>\n    <tr>\n      <th>mom_reward_min</th>\n      <td>0.090964</td>\n      <td>-0.197440</td>\n      <td>-0.193956</td>\n      <td>-0.184298</td>\n      <td>0.017910</td>\n      <td>0.737975</td>\n      <td>-0.033414</td>\n      <td>-0.776462</td>\n      <td>0.864664</td>\n      <td>1.000000</td>\n      <td>-0.029540</td>\n      <td>-0.941438</td>\n    </tr>\n    <tr>\n      <th>mom_reward_max</th>\n      <td>0.051647</td>\n      <td>-0.006468</td>\n      <td>0.013766</td>\n      <td>-0.048123</td>\n      <td>-0.141768</td>\n      <td>0.023881</td>\n      <td>0.991089</td>\n      <td>-0.008326</td>\n      <td>0.000553</td>\n      <td>-0.029540</td>\n      <td>1.000000</td>\n      <td>0.038623</td>\n    </tr>\n    <tr>\n      <th>mom_reward_std</th>\n      <td>-0.100316</td>\n      <td>0.203410</td>\n      <td>0.190701</td>\n      <td>0.182747</td>\n      <td>-0.020737</td>\n      <td>-0.743357</td>\n      <td>0.042257</td>\n      <td>0.787545</td>\n      <td>-0.873894</td>\n      <td>-0.941438</td>\n      <td>0.038623</td>\n      <td>1.000000</td>\n    </tr>\n  </tbody>\n</table>\n</div>"
     },
     "execution_count": 10,
     "metadata": {},
     "output_type": "execute_result"
    }
   ],
   "source": [
    "data[data.columns[1:]].corr(method='kendall')"
   ],
   "metadata": {
    "collapsed": false,
    "ExecuteTime": {
     "end_time": "2023-09-05T12:50:09.740348411Z",
     "start_time": "2023-09-05T12:50:09.657774354Z"
    }
   }
  },
  {
   "cell_type": "code",
   "execution_count": 11,
   "outputs": [
    {
     "data": {
      "text/plain": "                drift_score  quality_avg  quality_min  quality_max  \\\ndrift_score        1.000000    -0.273376    -0.112515    -0.035694   \nquality_avg       -0.273376     1.000000     0.527301     0.333326   \nquality_min       -0.112515     0.527301     1.000000     0.159504   \nquality_max       -0.035694     0.333326     0.159504     1.000000   \nquality_std       -0.141639     0.035460    -0.143087     0.356822   \ncum_reward_avg     0.089374    -0.087325    -0.132457    -0.218206   \ncum_reward_max     0.048655    -0.006718     0.021839    -0.066568   \ncum_reward_std    -0.090309     0.112539     0.143934     0.227353   \nmom_reward_avg     0.102738    -0.210416    -0.220827    -0.261694   \nmom_reward_min     0.111457    -0.295772    -0.283947    -0.273858   \nmom_reward_max     0.054876    -0.011162     0.016713    -0.061734   \nmom_reward_std    -0.122876     0.305211     0.280873     0.271981   \n\n                quality_std  cum_reward_avg  cum_reward_max  cum_reward_std  \\\ndrift_score       -0.141639        0.089374        0.048655       -0.090309   \nquality_avg        0.035460       -0.087325       -0.006718        0.112539   \nquality_min       -0.143087       -0.132457        0.021839        0.143934   \nquality_max        0.356822       -0.218206       -0.066568        0.227353   \nquality_std        1.000000       -0.023141       -0.182319        0.014738   \ncum_reward_avg    -0.023141        1.000000        0.026761       -0.995112   \ncum_reward_max    -0.182319        0.026761        1.000000       -0.007330   \ncum_reward_std     0.014738       -0.995112       -0.007330        1.000000   \nmom_reward_avg    -0.004675        0.967544       -0.002111       -0.979258   \nmom_reward_min     0.026537        0.908117       -0.040000       -0.929143   \nmom_reward_max    -0.182486        0.033117        0.993497       -0.012881   \nmom_reward_std    -0.030574       -0.908042        0.051562        0.930875   \n\n                mom_reward_avg  mom_reward_min  mom_reward_max  mom_reward_std  \ndrift_score           0.102738        0.111457        0.054876       -0.122876  \nquality_avg          -0.210416       -0.295772       -0.011162        0.305211  \nquality_min          -0.220827       -0.283947        0.016713        0.280873  \nquality_max          -0.261694       -0.273858       -0.061734        0.271981  \nquality_std          -0.004675        0.026537       -0.182486       -0.030574  \ncum_reward_avg        0.967544        0.908117        0.033117       -0.908042  \ncum_reward_max       -0.002111       -0.040000        0.993497        0.051562  \ncum_reward_std       -0.979258       -0.929143       -0.012881        0.930875  \nmom_reward_avg        1.000000        0.972041        0.004592       -0.971656  \nmom_reward_min        0.972041        1.000000       -0.035342       -0.994058  \nmom_reward_max        0.004592       -0.035342        1.000000        0.047299  \nmom_reward_std       -0.971656       -0.994058        0.047299        1.000000  ",
      "text/html": "<div>\n<style scoped>\n    .dataframe tbody tr th:only-of-type {\n        vertical-align: middle;\n    }\n\n    .dataframe tbody tr th {\n        vertical-align: top;\n    }\n\n    .dataframe thead th {\n        text-align: right;\n    }\n</style>\n<table border=\"1\" class=\"dataframe\">\n  <thead>\n    <tr style=\"text-align: right;\">\n      <th></th>\n      <th>drift_score</th>\n      <th>quality_avg</th>\n      <th>quality_min</th>\n      <th>quality_max</th>\n      <th>quality_std</th>\n      <th>cum_reward_avg</th>\n      <th>cum_reward_max</th>\n      <th>cum_reward_std</th>\n      <th>mom_reward_avg</th>\n      <th>mom_reward_min</th>\n      <th>mom_reward_max</th>\n      <th>mom_reward_std</th>\n    </tr>\n  </thead>\n  <tbody>\n    <tr>\n      <th>drift_score</th>\n      <td>1.000000</td>\n      <td>-0.273376</td>\n      <td>-0.112515</td>\n      <td>-0.035694</td>\n      <td>-0.141639</td>\n      <td>0.089374</td>\n      <td>0.048655</td>\n      <td>-0.090309</td>\n      <td>0.102738</td>\n      <td>0.111457</td>\n      <td>0.054876</td>\n      <td>-0.122876</td>\n    </tr>\n    <tr>\n      <th>quality_avg</th>\n      <td>-0.273376</td>\n      <td>1.000000</td>\n      <td>0.527301</td>\n      <td>0.333326</td>\n      <td>0.035460</td>\n      <td>-0.087325</td>\n      <td>-0.006718</td>\n      <td>0.112539</td>\n      <td>-0.210416</td>\n      <td>-0.295772</td>\n      <td>-0.011162</td>\n      <td>0.305211</td>\n    </tr>\n    <tr>\n      <th>quality_min</th>\n      <td>-0.112515</td>\n      <td>0.527301</td>\n      <td>1.000000</td>\n      <td>0.159504</td>\n      <td>-0.143087</td>\n      <td>-0.132457</td>\n      <td>0.021839</td>\n      <td>0.143934</td>\n      <td>-0.220827</td>\n      <td>-0.283947</td>\n      <td>0.016713</td>\n      <td>0.280873</td>\n    </tr>\n    <tr>\n      <th>quality_max</th>\n      <td>-0.035694</td>\n      <td>0.333326</td>\n      <td>0.159504</td>\n      <td>1.000000</td>\n      <td>0.356822</td>\n      <td>-0.218206</td>\n      <td>-0.066568</td>\n      <td>0.227353</td>\n      <td>-0.261694</td>\n      <td>-0.273858</td>\n      <td>-0.061734</td>\n      <td>0.271981</td>\n    </tr>\n    <tr>\n      <th>quality_std</th>\n      <td>-0.141639</td>\n      <td>0.035460</td>\n      <td>-0.143087</td>\n      <td>0.356822</td>\n      <td>1.000000</td>\n      <td>-0.023141</td>\n      <td>-0.182319</td>\n      <td>0.014738</td>\n      <td>-0.004675</td>\n      <td>0.026537</td>\n      <td>-0.182486</td>\n      <td>-0.030574</td>\n    </tr>\n    <tr>\n      <th>cum_reward_avg</th>\n      <td>0.089374</td>\n      <td>-0.087325</td>\n      <td>-0.132457</td>\n      <td>-0.218206</td>\n      <td>-0.023141</td>\n      <td>1.000000</td>\n      <td>0.026761</td>\n      <td>-0.995112</td>\n      <td>0.967544</td>\n      <td>0.908117</td>\n      <td>0.033117</td>\n      <td>-0.908042</td>\n    </tr>\n    <tr>\n      <th>cum_reward_max</th>\n      <td>0.048655</td>\n      <td>-0.006718</td>\n      <td>0.021839</td>\n      <td>-0.066568</td>\n      <td>-0.182319</td>\n      <td>0.026761</td>\n      <td>1.000000</td>\n      <td>-0.007330</td>\n      <td>-0.002111</td>\n      <td>-0.040000</td>\n      <td>0.993497</td>\n      <td>0.051562</td>\n    </tr>\n    <tr>\n      <th>cum_reward_std</th>\n      <td>-0.090309</td>\n      <td>0.112539</td>\n      <td>0.143934</td>\n      <td>0.227353</td>\n      <td>0.014738</td>\n      <td>-0.995112</td>\n      <td>-0.007330</td>\n      <td>1.000000</td>\n      <td>-0.979258</td>\n      <td>-0.929143</td>\n      <td>-0.012881</td>\n      <td>0.930875</td>\n    </tr>\n    <tr>\n      <th>mom_reward_avg</th>\n      <td>0.102738</td>\n      <td>-0.210416</td>\n      <td>-0.220827</td>\n      <td>-0.261694</td>\n      <td>-0.004675</td>\n      <td>0.967544</td>\n      <td>-0.002111</td>\n      <td>-0.979258</td>\n      <td>1.000000</td>\n      <td>0.972041</td>\n      <td>0.004592</td>\n      <td>-0.971656</td>\n    </tr>\n    <tr>\n      <th>mom_reward_min</th>\n      <td>0.111457</td>\n      <td>-0.295772</td>\n      <td>-0.283947</td>\n      <td>-0.273858</td>\n      <td>0.026537</td>\n      <td>0.908117</td>\n      <td>-0.040000</td>\n      <td>-0.929143</td>\n      <td>0.972041</td>\n      <td>1.000000</td>\n      <td>-0.035342</td>\n      <td>-0.994058</td>\n    </tr>\n    <tr>\n      <th>mom_reward_max</th>\n      <td>0.054876</td>\n      <td>-0.011162</td>\n      <td>0.016713</td>\n      <td>-0.061734</td>\n      <td>-0.182486</td>\n      <td>0.033117</td>\n      <td>0.993497</td>\n      <td>-0.012881</td>\n      <td>0.004592</td>\n      <td>-0.035342</td>\n      <td>1.000000</td>\n      <td>0.047299</td>\n    </tr>\n    <tr>\n      <th>mom_reward_std</th>\n      <td>-0.122876</td>\n      <td>0.305211</td>\n      <td>0.280873</td>\n      <td>0.271981</td>\n      <td>-0.030574</td>\n      <td>-0.908042</td>\n      <td>0.051562</td>\n      <td>0.930875</td>\n      <td>-0.971656</td>\n      <td>-0.994058</td>\n      <td>0.047299</td>\n      <td>1.000000</td>\n    </tr>\n  </tbody>\n</table>\n</div>"
     },
     "execution_count": 11,
     "metadata": {},
     "output_type": "execute_result"
    }
   ],
   "source": [
    "data[data.columns[1:]].corr(method='spearman')"
   ],
   "metadata": {
    "collapsed": false,
    "ExecuteTime": {
     "end_time": "2023-09-05T12:51:07.917949434Z",
     "start_time": "2023-09-05T12:51:07.863669882Z"
    }
   }
  },
  {
   "cell_type": "code",
   "execution_count": 12,
   "outputs": [
    {
     "data": {
      "text/plain": "       drift_score  quality_avg  quality_min  quality_max  quality_std  \\\ncount  1043.000000  1043.000000  1043.000000  1043.000000  1043.000000   \nmean      0.898011     0.860945     0.711063     1.258105     0.057515   \nstd       0.049690     0.055507     0.035201     0.225152     0.016506   \nmin       0.750000     0.718305     0.607482     0.867746     0.015185   \n25%       0.875000     0.821165     0.688939     1.094380     0.045872   \n50%       0.875000     0.854715     0.710457     1.209379     0.055981   \n75%       0.875000     0.898882     0.731056     1.373682     0.067125   \nmax       1.000000     1.037022     0.911628     3.080180     0.178629   \n\n       cum_reward_avg  cum_reward_max  cum_reward_std  mom_reward_avg  \\\ncount    1.043000e+03     1043.000000    1.043000e+03     1043.000000   \nmean    -2.911674e+06      -31.299137    2.548311e+06   -14916.982646   \nstd      7.938138e+05      228.456211    7.136710e+05     3429.972718   \nmin     -3.587066e+06      -60.000000    5.264149e+04   -17866.888519   \n25%     -3.436793e+06      -50.000000    2.317062e+06   -17510.304231   \n50%     -3.302644e+06      -45.000000    2.922087e+06   -16623.737288   \n75%     -2.855031e+06      -45.000000    3.069585e+06   -12960.904458   \nmax     -5.892000e+04     5680.000000    3.210989e+06    -1449.232143   \n\n       mom_reward_min  mom_reward_max  mom_reward_std  \ncount     1043.000000     1043.000000     1043.000000  \nmean    -28383.767977      -46.188878     8182.108460  \nstd       7613.847676       17.025041     2259.314345  \nmin     -35685.000000      -60.000000      934.315267  \n25%     -34815.000000      -50.000000     6326.187334  \n50%     -32055.000000      -45.000000     9286.716257  \n75%     -23415.000000      -45.000000    10079.644416  \nmax      -3060.000000      155.000000    10343.056816  ",
      "text/html": "<div>\n<style scoped>\n    .dataframe tbody tr th:only-of-type {\n        vertical-align: middle;\n    }\n\n    .dataframe tbody tr th {\n        vertical-align: top;\n    }\n\n    .dataframe thead th {\n        text-align: right;\n    }\n</style>\n<table border=\"1\" class=\"dataframe\">\n  <thead>\n    <tr style=\"text-align: right;\">\n      <th></th>\n      <th>drift_score</th>\n      <th>quality_avg</th>\n      <th>quality_min</th>\n      <th>quality_max</th>\n      <th>quality_std</th>\n      <th>cum_reward_avg</th>\n      <th>cum_reward_max</th>\n      <th>cum_reward_std</th>\n      <th>mom_reward_avg</th>\n      <th>mom_reward_min</th>\n      <th>mom_reward_max</th>\n      <th>mom_reward_std</th>\n    </tr>\n  </thead>\n  <tbody>\n    <tr>\n      <th>count</th>\n      <td>1043.000000</td>\n      <td>1043.000000</td>\n      <td>1043.000000</td>\n      <td>1043.000000</td>\n      <td>1043.000000</td>\n      <td>1.043000e+03</td>\n      <td>1043.000000</td>\n      <td>1.043000e+03</td>\n      <td>1043.000000</td>\n      <td>1043.000000</td>\n      <td>1043.000000</td>\n      <td>1043.000000</td>\n    </tr>\n    <tr>\n      <th>mean</th>\n      <td>0.898011</td>\n      <td>0.860945</td>\n      <td>0.711063</td>\n      <td>1.258105</td>\n      <td>0.057515</td>\n      <td>-2.911674e+06</td>\n      <td>-31.299137</td>\n      <td>2.548311e+06</td>\n      <td>-14916.982646</td>\n      <td>-28383.767977</td>\n      <td>-46.188878</td>\n      <td>8182.108460</td>\n    </tr>\n    <tr>\n      <th>std</th>\n      <td>0.049690</td>\n      <td>0.055507</td>\n      <td>0.035201</td>\n      <td>0.225152</td>\n      <td>0.016506</td>\n      <td>7.938138e+05</td>\n      <td>228.456211</td>\n      <td>7.136710e+05</td>\n      <td>3429.972718</td>\n      <td>7613.847676</td>\n      <td>17.025041</td>\n      <td>2259.314345</td>\n    </tr>\n    <tr>\n      <th>min</th>\n      <td>0.750000</td>\n      <td>0.718305</td>\n      <td>0.607482</td>\n      <td>0.867746</td>\n      <td>0.015185</td>\n      <td>-3.587066e+06</td>\n      <td>-60.000000</td>\n      <td>5.264149e+04</td>\n      <td>-17866.888519</td>\n      <td>-35685.000000</td>\n      <td>-60.000000</td>\n      <td>934.315267</td>\n    </tr>\n    <tr>\n      <th>25%</th>\n      <td>0.875000</td>\n      <td>0.821165</td>\n      <td>0.688939</td>\n      <td>1.094380</td>\n      <td>0.045872</td>\n      <td>-3.436793e+06</td>\n      <td>-50.000000</td>\n      <td>2.317062e+06</td>\n      <td>-17510.304231</td>\n      <td>-34815.000000</td>\n      <td>-50.000000</td>\n      <td>6326.187334</td>\n    </tr>\n    <tr>\n      <th>50%</th>\n      <td>0.875000</td>\n      <td>0.854715</td>\n      <td>0.710457</td>\n      <td>1.209379</td>\n      <td>0.055981</td>\n      <td>-3.302644e+06</td>\n      <td>-45.000000</td>\n      <td>2.922087e+06</td>\n      <td>-16623.737288</td>\n      <td>-32055.000000</td>\n      <td>-45.000000</td>\n      <td>9286.716257</td>\n    </tr>\n    <tr>\n      <th>75%</th>\n      <td>0.875000</td>\n      <td>0.898882</td>\n      <td>0.731056</td>\n      <td>1.373682</td>\n      <td>0.067125</td>\n      <td>-2.855031e+06</td>\n      <td>-45.000000</td>\n      <td>3.069585e+06</td>\n      <td>-12960.904458</td>\n      <td>-23415.000000</td>\n      <td>-45.000000</td>\n      <td>10079.644416</td>\n    </tr>\n    <tr>\n      <th>max</th>\n      <td>1.000000</td>\n      <td>1.037022</td>\n      <td>0.911628</td>\n      <td>3.080180</td>\n      <td>0.178629</td>\n      <td>-5.892000e+04</td>\n      <td>5680.000000</td>\n      <td>3.210989e+06</td>\n      <td>-1449.232143</td>\n      <td>-3060.000000</td>\n      <td>155.000000</td>\n      <td>10343.056816</td>\n    </tr>\n  </tbody>\n</table>\n</div>"
     },
     "execution_count": 12,
     "metadata": {},
     "output_type": "execute_result"
    }
   ],
   "source": [
    "data.describe()"
   ],
   "metadata": {
    "collapsed": false,
    "ExecuteTime": {
     "end_time": "2023-09-05T13:18:48.355840471Z",
     "start_time": "2023-09-05T13:18:48.298124249Z"
    }
   }
  },
  {
   "cell_type": "code",
   "execution_count": 13,
   "outputs": [
    {
     "data": {
      "text/plain": "       cell_id  drift_score  quality_avg  quality_min  quality_max  \\\n7     (13312,)        1.000     0.827806     0.683533     1.014011   \n8     (13311,)        1.000     0.766681     0.637207     1.072541   \n15    (22975,)        0.875     0.851060     0.708378     0.965337   \n43    (24233,)        1.000     0.779225     0.680422     1.389400   \n102    (9737,)        0.875     0.836526     0.688055     1.260287   \n192   (42857,)        0.875     0.901327     0.631919     1.170445   \n221    (8916,)        0.875     0.868850     0.690507     0.966925   \n248   (42856,)        0.875     0.925625     0.667989     1.060651   \n262   (41872,)        0.875     0.802087     0.709027     1.287416   \n294   (22971,)        1.000     0.791741     0.703038     1.269978   \n343    (8915,)        0.875     0.867354     0.694822     1.047998   \n407   (26191,)        0.875     0.911956     0.713553     1.094354   \n454   (10942,)        0.875     0.771474     0.656311     1.059600   \n487    (9442,)        0.875     0.816025     0.687247     1.143174   \n497     (723,)        0.875     0.721824     0.645863     1.071824   \n540    (7907,)        0.875     0.854747     0.700377     1.025181   \n681   (24692,)        0.875     0.888115     0.738502     1.207841   \n696     (756,)        0.875     0.816620     0.680187     1.133890   \n697     (755,)        1.000     0.773461     0.664145     1.042994   \n764    (7905,)        1.000     0.892627     0.729374     1.393866   \n784    (1914,)        1.000     0.777415     0.667302     1.420806   \n825    (3316,)        0.875     0.866045     0.681269     1.256254   \n843    (8067,)        0.875     0.871227     0.699260     1.060002   \n873    (8095,)        0.875     0.910326     0.728073     1.109251   \n874    (8096,)        0.875     0.897001     0.680304     1.476828   \n879    (8475,)        0.875     0.852101     0.715749     1.066042   \n999   (13315,)        1.000     0.782756     0.683124     0.905337   \n1000  (13317,)        1.000     0.811469     0.688337     0.902784   \n1001  (13316,)        1.000     0.800225     0.674919     1.047584   \n1012   (3336,)        1.000     0.848581     0.724462     1.063296   \n1013   (8926,)        0.875     0.852417     0.719747     1.170471   \n1025  (51357,)        0.875     0.848602     0.711222     0.960383   \n1028   (8641,)        1.000     0.859705     0.737558     1.309134   \n1031   (8645,)        0.875     0.913622     0.696276     1.142639   \n1032   (8647,)        0.875     0.904285     0.707715     1.134465   \n1039  (12483,)        0.875     0.883805     0.840871     0.929947   \n\n      quality_std  cum_reward_avg  cum_reward_max  cum_reward_std  \\\n7        0.051522   -1.488446e+06            5680    1.681490e+06   \n8        0.050251   -5.236529e+05              15    4.493878e+05   \n15       0.028175   -5.601129e+05             760    5.161057e+05   \n43       0.045879   -2.962463e+06              95    2.776694e+06   \n102      0.039131   -4.723727e+05             310    4.581045e+05   \n192      0.036514   -1.261592e+06              15    1.248601e+06   \n221      0.034120   -1.782831e+06              30    1.786634e+06   \n248      0.031276   -2.937212e+06               5    2.752871e+06   \n262      0.055670   -3.419002e+06               5    3.045949e+06   \n294      0.038279   -3.302312e+06               5    2.894209e+06   \n343      0.034472   -1.661120e+06             620    1.714007e+06   \n407      0.027854   -3.406125e+06               5    3.047013e+06   \n454      0.066389   -5.684150e+05              15    5.108068e+05   \n487      0.068671   -1.604065e+06               5    1.236551e+06   \n497      0.033284   -5.634072e+05              15    5.055907e+05   \n540      0.035920   -6.343403e+05             205    5.750568e+05   \n681      0.083353   -3.379557e+06              15    3.038718e+06   \n696      0.037189   -6.290347e+05              35    5.599607e+05   \n697      0.041261   -7.507052e+05            3095    9.750655e+05   \n764      0.043907   -1.623378e+06              90    1.829413e+06   \n784      0.047290   -3.308313e+06               5    2.954363e+06   \n825      0.049204   -1.507354e+06             185    1.563316e+06   \n843      0.030143   -1.849260e+06            2685    2.007034e+06   \n873      0.042007   -1.258608e+06              95    1.238586e+06   \n874      0.056152   -2.591923e+06              45    2.435863e+06   \n879      0.037450   -7.254497e+05             740    7.709472e+05   \n999      0.027435   -2.334333e+05               5    2.093858e+05   \n1000     0.027808   -8.332817e+05              95    7.550594e+05   \n1001     0.045738   -2.197884e+05             185    2.051258e+05   \n1012     0.058009   -3.053709e+05              15    3.066482e+05   \n1013     0.065038   -3.803507e+05              15    3.670664e+05   \n1025     0.070595   -1.632883e+05            1460    1.921173e+05   \n1028     0.056698   -6.352608e+05              10    5.787370e+05   \n1031     0.039373   -3.489248e+05               5    2.982530e+05   \n1032     0.042725   -1.286449e+05              15    1.204264e+05   \n1039     0.020493   -9.898051e+04               5    9.285494e+04   \n\n      mom_reward_avg  mom_reward_min  mom_reward_max  mom_reward_std  \n7       -9521.929530          -24235             155     7988.393527  \n8       -2489.773490           -4475              10     1283.988759  \n15      -2929.211864           -6100              65     1796.577395  \n43     -15662.177966          -32200              15     9789.926311  \n102     -2602.398305           -5740              35     1746.029977  \n192     -7061.771186          -15505              10     4867.344108  \n221    -10402.563667          -24855              15     7679.013739  \n248    -15626.655348          -32880               5     9852.050424  \n262    -17262.640068          -33845               5     9851.629123  \n294    -16208.149406          -29210               5     8736.894528  \n343     -9821.802721          -23220              65     7305.705879  \n407    -17352.069847          -34580               5    10013.784476  \n454     -2910.025554           -5840              10     1695.921691  \n487     -7215.136286          -14280               5     3150.332785  \n497     -2881.073254           -5780              10     1675.234803  \n540     -3302.892491           -6890              40     1987.416556  \n681    -17367.598291          -34865              10    10129.478994  \n696     -3203.538462           -6390              15     1836.574679  \n697     -5844.880342          -18605              80     5980.239498  \n764    -10509.555556          -26735              15     8740.302212  \n784    -16882.183219          -33415               5     9676.340555  \n825     -9108.198971          -22700              35     6918.863932  \n843    -11555.077453          -28185              80     9098.360782  \n873     -7460.502693          -16660              25     5135.710262  \n874    -14618.276481          -30855              15     9258.581397  \n879     -4881.565934          -13200              45     3944.220737  \n999     -1865.000000           -3735               5     1083.974169  \n1000    -6822.066667          -14725              25     4191.676251  \n1001    -1837.280000           -3880              35     1164.153345  \n1012    -3017.507042           -8005              10     2326.011911  \n1013    -3611.087571           -9480              10     2617.396235  \n1025    -2283.620690           -7010             100     2100.878007  \n1028    -6883.487544          -14020               5     4144.731286  \n1031    -3519.982143           -6300               5     1814.676304  \n1032    -1449.232143           -3060              10      934.315267  \n1039    -2863.457944           -5975               5     1811.103647  ",
      "text/html": "<div>\n<style scoped>\n    .dataframe tbody tr th:only-of-type {\n        vertical-align: middle;\n    }\n\n    .dataframe tbody tr th {\n        vertical-align: top;\n    }\n\n    .dataframe thead th {\n        text-align: right;\n    }\n</style>\n<table border=\"1\" class=\"dataframe\">\n  <thead>\n    <tr style=\"text-align: right;\">\n      <th></th>\n      <th>cell_id</th>\n      <th>drift_score</th>\n      <th>quality_avg</th>\n      <th>quality_min</th>\n      <th>quality_max</th>\n      <th>quality_std</th>\n      <th>cum_reward_avg</th>\n      <th>cum_reward_max</th>\n      <th>cum_reward_std</th>\n      <th>mom_reward_avg</th>\n      <th>mom_reward_min</th>\n      <th>mom_reward_max</th>\n      <th>mom_reward_std</th>\n    </tr>\n  </thead>\n  <tbody>\n    <tr>\n      <th>7</th>\n      <td>(13312,)</td>\n      <td>1.000</td>\n      <td>0.827806</td>\n      <td>0.683533</td>\n      <td>1.014011</td>\n      <td>0.051522</td>\n      <td>-1.488446e+06</td>\n      <td>5680</td>\n      <td>1.681490e+06</td>\n      <td>-9521.929530</td>\n      <td>-24235</td>\n      <td>155</td>\n      <td>7988.393527</td>\n    </tr>\n    <tr>\n      <th>8</th>\n      <td>(13311,)</td>\n      <td>1.000</td>\n      <td>0.766681</td>\n      <td>0.637207</td>\n      <td>1.072541</td>\n      <td>0.050251</td>\n      <td>-5.236529e+05</td>\n      <td>15</td>\n      <td>4.493878e+05</td>\n      <td>-2489.773490</td>\n      <td>-4475</td>\n      <td>10</td>\n      <td>1283.988759</td>\n    </tr>\n    <tr>\n      <th>15</th>\n      <td>(22975,)</td>\n      <td>0.875</td>\n      <td>0.851060</td>\n      <td>0.708378</td>\n      <td>0.965337</td>\n      <td>0.028175</td>\n      <td>-5.601129e+05</td>\n      <td>760</td>\n      <td>5.161057e+05</td>\n      <td>-2929.211864</td>\n      <td>-6100</td>\n      <td>65</td>\n      <td>1796.577395</td>\n    </tr>\n    <tr>\n      <th>43</th>\n      <td>(24233,)</td>\n      <td>1.000</td>\n      <td>0.779225</td>\n      <td>0.680422</td>\n      <td>1.389400</td>\n      <td>0.045879</td>\n      <td>-2.962463e+06</td>\n      <td>95</td>\n      <td>2.776694e+06</td>\n      <td>-15662.177966</td>\n      <td>-32200</td>\n      <td>15</td>\n      <td>9789.926311</td>\n    </tr>\n    <tr>\n      <th>102</th>\n      <td>(9737,)</td>\n      <td>0.875</td>\n      <td>0.836526</td>\n      <td>0.688055</td>\n      <td>1.260287</td>\n      <td>0.039131</td>\n      <td>-4.723727e+05</td>\n      <td>310</td>\n      <td>4.581045e+05</td>\n      <td>-2602.398305</td>\n      <td>-5740</td>\n      <td>35</td>\n      <td>1746.029977</td>\n    </tr>\n    <tr>\n      <th>192</th>\n      <td>(42857,)</td>\n      <td>0.875</td>\n      <td>0.901327</td>\n      <td>0.631919</td>\n      <td>1.170445</td>\n      <td>0.036514</td>\n      <td>-1.261592e+06</td>\n      <td>15</td>\n      <td>1.248601e+06</td>\n      <td>-7061.771186</td>\n      <td>-15505</td>\n      <td>10</td>\n      <td>4867.344108</td>\n    </tr>\n    <tr>\n      <th>221</th>\n      <td>(8916,)</td>\n      <td>0.875</td>\n      <td>0.868850</td>\n      <td>0.690507</td>\n      <td>0.966925</td>\n      <td>0.034120</td>\n      <td>-1.782831e+06</td>\n      <td>30</td>\n      <td>1.786634e+06</td>\n      <td>-10402.563667</td>\n      <td>-24855</td>\n      <td>15</td>\n      <td>7679.013739</td>\n    </tr>\n    <tr>\n      <th>248</th>\n      <td>(42856,)</td>\n      <td>0.875</td>\n      <td>0.925625</td>\n      <td>0.667989</td>\n      <td>1.060651</td>\n      <td>0.031276</td>\n      <td>-2.937212e+06</td>\n      <td>5</td>\n      <td>2.752871e+06</td>\n      <td>-15626.655348</td>\n      <td>-32880</td>\n      <td>5</td>\n      <td>9852.050424</td>\n    </tr>\n    <tr>\n      <th>262</th>\n      <td>(41872,)</td>\n      <td>0.875</td>\n      <td>0.802087</td>\n      <td>0.709027</td>\n      <td>1.287416</td>\n      <td>0.055670</td>\n      <td>-3.419002e+06</td>\n      <td>5</td>\n      <td>3.045949e+06</td>\n      <td>-17262.640068</td>\n      <td>-33845</td>\n      <td>5</td>\n      <td>9851.629123</td>\n    </tr>\n    <tr>\n      <th>294</th>\n      <td>(22971,)</td>\n      <td>1.000</td>\n      <td>0.791741</td>\n      <td>0.703038</td>\n      <td>1.269978</td>\n      <td>0.038279</td>\n      <td>-3.302312e+06</td>\n      <td>5</td>\n      <td>2.894209e+06</td>\n      <td>-16208.149406</td>\n      <td>-29210</td>\n      <td>5</td>\n      <td>8736.894528</td>\n    </tr>\n    <tr>\n      <th>343</th>\n      <td>(8915,)</td>\n      <td>0.875</td>\n      <td>0.867354</td>\n      <td>0.694822</td>\n      <td>1.047998</td>\n      <td>0.034472</td>\n      <td>-1.661120e+06</td>\n      <td>620</td>\n      <td>1.714007e+06</td>\n      <td>-9821.802721</td>\n      <td>-23220</td>\n      <td>65</td>\n      <td>7305.705879</td>\n    </tr>\n    <tr>\n      <th>407</th>\n      <td>(26191,)</td>\n      <td>0.875</td>\n      <td>0.911956</td>\n      <td>0.713553</td>\n      <td>1.094354</td>\n      <td>0.027854</td>\n      <td>-3.406125e+06</td>\n      <td>5</td>\n      <td>3.047013e+06</td>\n      <td>-17352.069847</td>\n      <td>-34580</td>\n      <td>5</td>\n      <td>10013.784476</td>\n    </tr>\n    <tr>\n      <th>454</th>\n      <td>(10942,)</td>\n      <td>0.875</td>\n      <td>0.771474</td>\n      <td>0.656311</td>\n      <td>1.059600</td>\n      <td>0.066389</td>\n      <td>-5.684150e+05</td>\n      <td>15</td>\n      <td>5.108068e+05</td>\n      <td>-2910.025554</td>\n      <td>-5840</td>\n      <td>10</td>\n      <td>1695.921691</td>\n    </tr>\n    <tr>\n      <th>487</th>\n      <td>(9442,)</td>\n      <td>0.875</td>\n      <td>0.816025</td>\n      <td>0.687247</td>\n      <td>1.143174</td>\n      <td>0.068671</td>\n      <td>-1.604065e+06</td>\n      <td>5</td>\n      <td>1.236551e+06</td>\n      <td>-7215.136286</td>\n      <td>-14280</td>\n      <td>5</td>\n      <td>3150.332785</td>\n    </tr>\n    <tr>\n      <th>497</th>\n      <td>(723,)</td>\n      <td>0.875</td>\n      <td>0.721824</td>\n      <td>0.645863</td>\n      <td>1.071824</td>\n      <td>0.033284</td>\n      <td>-5.634072e+05</td>\n      <td>15</td>\n      <td>5.055907e+05</td>\n      <td>-2881.073254</td>\n      <td>-5780</td>\n      <td>10</td>\n      <td>1675.234803</td>\n    </tr>\n    <tr>\n      <th>540</th>\n      <td>(7907,)</td>\n      <td>0.875</td>\n      <td>0.854747</td>\n      <td>0.700377</td>\n      <td>1.025181</td>\n      <td>0.035920</td>\n      <td>-6.343403e+05</td>\n      <td>205</td>\n      <td>5.750568e+05</td>\n      <td>-3302.892491</td>\n      <td>-6890</td>\n      <td>40</td>\n      <td>1987.416556</td>\n    </tr>\n    <tr>\n      <th>681</th>\n      <td>(24692,)</td>\n      <td>0.875</td>\n      <td>0.888115</td>\n      <td>0.738502</td>\n      <td>1.207841</td>\n      <td>0.083353</td>\n      <td>-3.379557e+06</td>\n      <td>15</td>\n      <td>3.038718e+06</td>\n      <td>-17367.598291</td>\n      <td>-34865</td>\n      <td>10</td>\n      <td>10129.478994</td>\n    </tr>\n    <tr>\n      <th>696</th>\n      <td>(756,)</td>\n      <td>0.875</td>\n      <td>0.816620</td>\n      <td>0.680187</td>\n      <td>1.133890</td>\n      <td>0.037189</td>\n      <td>-6.290347e+05</td>\n      <td>35</td>\n      <td>5.599607e+05</td>\n      <td>-3203.538462</td>\n      <td>-6390</td>\n      <td>15</td>\n      <td>1836.574679</td>\n    </tr>\n    <tr>\n      <th>697</th>\n      <td>(755,)</td>\n      <td>1.000</td>\n      <td>0.773461</td>\n      <td>0.664145</td>\n      <td>1.042994</td>\n      <td>0.041261</td>\n      <td>-7.507052e+05</td>\n      <td>3095</td>\n      <td>9.750655e+05</td>\n      <td>-5844.880342</td>\n      <td>-18605</td>\n      <td>80</td>\n      <td>5980.239498</td>\n    </tr>\n    <tr>\n      <th>764</th>\n      <td>(7905,)</td>\n      <td>1.000</td>\n      <td>0.892627</td>\n      <td>0.729374</td>\n      <td>1.393866</td>\n      <td>0.043907</td>\n      <td>-1.623378e+06</td>\n      <td>90</td>\n      <td>1.829413e+06</td>\n      <td>-10509.555556</td>\n      <td>-26735</td>\n      <td>15</td>\n      <td>8740.302212</td>\n    </tr>\n    <tr>\n      <th>784</th>\n      <td>(1914,)</td>\n      <td>1.000</td>\n      <td>0.777415</td>\n      <td>0.667302</td>\n      <td>1.420806</td>\n      <td>0.047290</td>\n      <td>-3.308313e+06</td>\n      <td>5</td>\n      <td>2.954363e+06</td>\n      <td>-16882.183219</td>\n      <td>-33415</td>\n      <td>5</td>\n      <td>9676.340555</td>\n    </tr>\n    <tr>\n      <th>825</th>\n      <td>(3316,)</td>\n      <td>0.875</td>\n      <td>0.866045</td>\n      <td>0.681269</td>\n      <td>1.256254</td>\n      <td>0.049204</td>\n      <td>-1.507354e+06</td>\n      <td>185</td>\n      <td>1.563316e+06</td>\n      <td>-9108.198971</td>\n      <td>-22700</td>\n      <td>35</td>\n      <td>6918.863932</td>\n    </tr>\n    <tr>\n      <th>843</th>\n      <td>(8067,)</td>\n      <td>0.875</td>\n      <td>0.871227</td>\n      <td>0.699260</td>\n      <td>1.060002</td>\n      <td>0.030143</td>\n      <td>-1.849260e+06</td>\n      <td>2685</td>\n      <td>2.007034e+06</td>\n      <td>-11555.077453</td>\n      <td>-28185</td>\n      <td>80</td>\n      <td>9098.360782</td>\n    </tr>\n    <tr>\n      <th>873</th>\n      <td>(8095,)</td>\n      <td>0.875</td>\n      <td>0.910326</td>\n      <td>0.728073</td>\n      <td>1.109251</td>\n      <td>0.042007</td>\n      <td>-1.258608e+06</td>\n      <td>95</td>\n      <td>1.238586e+06</td>\n      <td>-7460.502693</td>\n      <td>-16660</td>\n      <td>25</td>\n      <td>5135.710262</td>\n    </tr>\n    <tr>\n      <th>874</th>\n      <td>(8096,)</td>\n      <td>0.875</td>\n      <td>0.897001</td>\n      <td>0.680304</td>\n      <td>1.476828</td>\n      <td>0.056152</td>\n      <td>-2.591923e+06</td>\n      <td>45</td>\n      <td>2.435863e+06</td>\n      <td>-14618.276481</td>\n      <td>-30855</td>\n      <td>15</td>\n      <td>9258.581397</td>\n    </tr>\n    <tr>\n      <th>879</th>\n      <td>(8475,)</td>\n      <td>0.875</td>\n      <td>0.852101</td>\n      <td>0.715749</td>\n      <td>1.066042</td>\n      <td>0.037450</td>\n      <td>-7.254497e+05</td>\n      <td>740</td>\n      <td>7.709472e+05</td>\n      <td>-4881.565934</td>\n      <td>-13200</td>\n      <td>45</td>\n      <td>3944.220737</td>\n    </tr>\n    <tr>\n      <th>999</th>\n      <td>(13315,)</td>\n      <td>1.000</td>\n      <td>0.782756</td>\n      <td>0.683124</td>\n      <td>0.905337</td>\n      <td>0.027435</td>\n      <td>-2.334333e+05</td>\n      <td>5</td>\n      <td>2.093858e+05</td>\n      <td>-1865.000000</td>\n      <td>-3735</td>\n      <td>5</td>\n      <td>1083.974169</td>\n    </tr>\n    <tr>\n      <th>1000</th>\n      <td>(13317,)</td>\n      <td>1.000</td>\n      <td>0.811469</td>\n      <td>0.688337</td>\n      <td>0.902784</td>\n      <td>0.027808</td>\n      <td>-8.332817e+05</td>\n      <td>95</td>\n      <td>7.550594e+05</td>\n      <td>-6822.066667</td>\n      <td>-14725</td>\n      <td>25</td>\n      <td>4191.676251</td>\n    </tr>\n    <tr>\n      <th>1001</th>\n      <td>(13316,)</td>\n      <td>1.000</td>\n      <td>0.800225</td>\n      <td>0.674919</td>\n      <td>1.047584</td>\n      <td>0.045738</td>\n      <td>-2.197884e+05</td>\n      <td>185</td>\n      <td>2.051258e+05</td>\n      <td>-1837.280000</td>\n      <td>-3880</td>\n      <td>35</td>\n      <td>1164.153345</td>\n    </tr>\n    <tr>\n      <th>1012</th>\n      <td>(3336,)</td>\n      <td>1.000</td>\n      <td>0.848581</td>\n      <td>0.724462</td>\n      <td>1.063296</td>\n      <td>0.058009</td>\n      <td>-3.053709e+05</td>\n      <td>15</td>\n      <td>3.066482e+05</td>\n      <td>-3017.507042</td>\n      <td>-8005</td>\n      <td>10</td>\n      <td>2326.011911</td>\n    </tr>\n    <tr>\n      <th>1013</th>\n      <td>(8926,)</td>\n      <td>0.875</td>\n      <td>0.852417</td>\n      <td>0.719747</td>\n      <td>1.170471</td>\n      <td>0.065038</td>\n      <td>-3.803507e+05</td>\n      <td>15</td>\n      <td>3.670664e+05</td>\n      <td>-3611.087571</td>\n      <td>-9480</td>\n      <td>10</td>\n      <td>2617.396235</td>\n    </tr>\n    <tr>\n      <th>1025</th>\n      <td>(51357,)</td>\n      <td>0.875</td>\n      <td>0.848602</td>\n      <td>0.711222</td>\n      <td>0.960383</td>\n      <td>0.070595</td>\n      <td>-1.632883e+05</td>\n      <td>1460</td>\n      <td>1.921173e+05</td>\n      <td>-2283.620690</td>\n      <td>-7010</td>\n      <td>100</td>\n      <td>2100.878007</td>\n    </tr>\n    <tr>\n      <th>1028</th>\n      <td>(8641,)</td>\n      <td>1.000</td>\n      <td>0.859705</td>\n      <td>0.737558</td>\n      <td>1.309134</td>\n      <td>0.056698</td>\n      <td>-6.352608e+05</td>\n      <td>10</td>\n      <td>5.787370e+05</td>\n      <td>-6883.487544</td>\n      <td>-14020</td>\n      <td>5</td>\n      <td>4144.731286</td>\n    </tr>\n    <tr>\n      <th>1031</th>\n      <td>(8645,)</td>\n      <td>0.875</td>\n      <td>0.913622</td>\n      <td>0.696276</td>\n      <td>1.142639</td>\n      <td>0.039373</td>\n      <td>-3.489248e+05</td>\n      <td>5</td>\n      <td>2.982530e+05</td>\n      <td>-3519.982143</td>\n      <td>-6300</td>\n      <td>5</td>\n      <td>1814.676304</td>\n    </tr>\n    <tr>\n      <th>1032</th>\n      <td>(8647,)</td>\n      <td>0.875</td>\n      <td>0.904285</td>\n      <td>0.707715</td>\n      <td>1.134465</td>\n      <td>0.042725</td>\n      <td>-1.286449e+05</td>\n      <td>15</td>\n      <td>1.204264e+05</td>\n      <td>-1449.232143</td>\n      <td>-3060</td>\n      <td>10</td>\n      <td>934.315267</td>\n    </tr>\n    <tr>\n      <th>1039</th>\n      <td>(12483,)</td>\n      <td>0.875</td>\n      <td>0.883805</td>\n      <td>0.840871</td>\n      <td>0.929947</td>\n      <td>0.020493</td>\n      <td>-9.898051e+04</td>\n      <td>5</td>\n      <td>9.285494e+04</td>\n      <td>-2863.457944</td>\n      <td>-5975</td>\n      <td>5</td>\n      <td>1811.103647</td>\n    </tr>\n  </tbody>\n</table>\n</div>"
     },
     "execution_count": 13,
     "metadata": {},
     "output_type": "execute_result"
    }
   ],
   "source": [
    "data[data.mom_reward_max > 0]"
   ],
   "metadata": {
    "collapsed": false,
    "ExecuteTime": {
     "end_time": "2023-09-05T15:03:43.794846377Z",
     "start_time": "2023-09-05T15:03:43.746273512Z"
    }
   }
  },
  {
   "cell_type": "code",
   "execution_count": null,
   "outputs": [],
   "source": [],
   "metadata": {
    "collapsed": false
   }
  }
 ],
 "metadata": {
  "kernelspec": {
   "display_name": "Python 3",
   "language": "python",
   "name": "python3"
  },
  "language_info": {
   "codemirror_mode": {
    "name": "ipython",
    "version": 2
   },
   "file_extension": ".py",
   "mimetype": "text/x-python",
   "name": "python",
   "nbconvert_exporter": "python",
   "pygments_lexer": "ipython2",
   "version": "2.7.6"
  }
 },
 "nbformat": 4,
 "nbformat_minor": 0
}
