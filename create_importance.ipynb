{
 "cells": [
  {
   "cell_type": "code",
   "execution_count": 30,
   "metadata": {
    "collapsed": true,
    "ExecuteTime": {
     "end_time": "2023-09-07T14:34:19.248901017Z",
     "start_time": "2023-09-07T14:34:18.611290190Z"
    }
   },
   "outputs": [],
   "source": [
    "import pickle\n",
    "import numpy as np\n",
    "import pandas as pd"
   ]
  },
  {
   "cell_type": "code",
   "execution_count": 3,
   "outputs": [],
   "source": [
    "with open('data/generated/cell_all_train_shap.pkl', 'rb') as f:\n",
    "    shap_values = pickle.load(f)"
   ],
   "metadata": {
    "collapsed": false,
    "ExecuteTime": {
     "end_time": "2023-09-07T14:28:33.379876300Z",
     "start_time": "2023-09-07T14:28:33.280977050Z"
    }
   }
  },
  {
   "cell_type": "code",
   "execution_count": 9,
   "outputs": [],
   "source": [
    "shap_values = np.array(shap_values)"
   ],
   "metadata": {
    "collapsed": false,
    "ExecuteTime": {
     "end_time": "2023-09-07T14:30:06.126345302Z",
     "start_time": "2023-09-07T14:30:06.029154758Z"
    }
   }
  },
  {
   "cell_type": "code",
   "execution_count": 10,
   "outputs": [
    {
     "data": {
      "text/plain": "(2, 274874, 6)"
     },
     "execution_count": 10,
     "metadata": {},
     "output_type": "execute_result"
    }
   ],
   "source": [
    "shap_values.shape"
   ],
   "metadata": {
    "collapsed": false,
    "ExecuteTime": {
     "end_time": "2023-09-07T14:30:11.931753297Z",
     "start_time": "2023-09-07T14:30:11.786962804Z"
    }
   }
  },
  {
   "cell_type": "code",
   "execution_count": 28,
   "outputs": [
    {
     "name": "stdout",
     "output_type": "stream",
     "text": [
      "[  2963.89222489  -3303.06530391 105267.89930763  97472.88791762\n",
      "  20472.7037883   -7331.81871203]\n"
     ]
    }
   ],
   "source": [
    "print(shap_values[0].sum(axis=0))"
   ],
   "metadata": {
    "collapsed": false,
    "ExecuteTime": {
     "end_time": "2023-09-07T14:32:57.142929296Z",
     "start_time": "2023-09-07T14:32:56.983753701Z"
    }
   }
  },
  {
   "cell_type": "code",
   "execution_count": 35,
   "outputs": [],
   "source": [
    "cols = list(pd.read_csv('data/dataset_full.csv', index_col=0).columns[2:])"
   ],
   "metadata": {
    "collapsed": false,
    "ExecuteTime": {
     "end_time": "2023-09-07T14:38:50.241740553Z",
     "start_time": "2023-09-07T14:38:49.012083341Z"
    }
   }
  },
  {
   "cell_type": "code",
   "execution_count": 39,
   "outputs": [
    {
     "data": {
      "text/plain": "   Number of Available\\nTCH  HR Usage Rate  TCH Blocking Rate, BH  \\\n0               2963.892225   -3303.065304          105267.899308   \n1               9874.398842    2878.083584           11244.290493   \n\n   TCH Traffic (Erl), BH       Param 1       Param 2  \n0           97472.887918  20472.703788  -7331.818712  \n1            3813.399347 -15590.908540  19126.080130  ",
      "text/html": "<div>\n<style scoped>\n    .dataframe tbody tr th:only-of-type {\n        vertical-align: middle;\n    }\n\n    .dataframe tbody tr th {\n        vertical-align: top;\n    }\n\n    .dataframe thead th {\n        text-align: right;\n    }\n</style>\n<table border=\"1\" class=\"dataframe\">\n  <thead>\n    <tr style=\"text-align: right;\">\n      <th></th>\n      <th>Number of Available\\nTCH</th>\n      <th>HR Usage Rate</th>\n      <th>TCH Blocking Rate, BH</th>\n      <th>TCH Traffic (Erl), BH</th>\n      <th>Param 1</th>\n      <th>Param 2</th>\n    </tr>\n  </thead>\n  <tbody>\n    <tr>\n      <th>0</th>\n      <td>2963.892225</td>\n      <td>-3303.065304</td>\n      <td>105267.899308</td>\n      <td>97472.887918</td>\n      <td>20472.703788</td>\n      <td>-7331.818712</td>\n    </tr>\n    <tr>\n      <th>1</th>\n      <td>9874.398842</td>\n      <td>2878.083584</td>\n      <td>11244.290493</td>\n      <td>3813.399347</td>\n      <td>-15590.908540</td>\n      <td>19126.080130</td>\n    </tr>\n  </tbody>\n</table>\n</div>"
     },
     "execution_count": 39,
     "metadata": {},
     "output_type": "execute_result"
    }
   ],
   "source": [
    "pd.DataFrame(shap_values.sum(axis=1), columns=cols)"
   ],
   "metadata": {
    "collapsed": false,
    "ExecuteTime": {
     "end_time": "2023-09-07T14:40:26.333799499Z",
     "start_time": "2023-09-07T14:40:26.219748084Z"
    }
   }
  },
  {
   "cell_type": "code",
   "execution_count": 44,
   "outputs": [
    {
     "data": {
      "text/plain": "   Number of Available\\nTCH  HR Usage Rate  TCH Blocking Rate, BH  \\\n0              78019.804958   12584.933876          112457.853556   \n1              21796.064220    5512.003193           19068.372307   \n\n   TCH Traffic (Erl), BH       Param 1        Param 2  \n0          186106.869810  59337.032291  139496.816064  \n1           18709.857511  32031.532064   29615.045761  ",
      "text/html": "<div>\n<style scoped>\n    .dataframe tbody tr th:only-of-type {\n        vertical-align: middle;\n    }\n\n    .dataframe tbody tr th {\n        vertical-align: top;\n    }\n\n    .dataframe thead th {\n        text-align: right;\n    }\n</style>\n<table border=\"1\" class=\"dataframe\">\n  <thead>\n    <tr style=\"text-align: right;\">\n      <th></th>\n      <th>Number of Available\\nTCH</th>\n      <th>HR Usage Rate</th>\n      <th>TCH Blocking Rate, BH</th>\n      <th>TCH Traffic (Erl), BH</th>\n      <th>Param 1</th>\n      <th>Param 2</th>\n    </tr>\n  </thead>\n  <tbody>\n    <tr>\n      <th>0</th>\n      <td>78019.804958</td>\n      <td>12584.933876</td>\n      <td>112457.853556</td>\n      <td>186106.869810</td>\n      <td>59337.032291</td>\n      <td>139496.816064</td>\n    </tr>\n    <tr>\n      <th>1</th>\n      <td>21796.064220</td>\n      <td>5512.003193</td>\n      <td>19068.372307</td>\n      <td>18709.857511</td>\n      <td>32031.532064</td>\n      <td>29615.045761</td>\n    </tr>\n  </tbody>\n</table>\n</div>"
     },
     "execution_count": 44,
     "metadata": {},
     "output_type": "execute_result"
    }
   ],
   "source": [
    "fi_classes = pd.DataFrame(shap_values.__abs__().sum(axis=1), columns=cols)\n",
    "fi_classes"
   ],
   "metadata": {
    "collapsed": false,
    "ExecuteTime": {
     "end_time": "2023-09-07T14:51:09.830898105Z",
     "start_time": "2023-09-07T14:51:09.679220018Z"
    }
   }
  },
  {
   "cell_type": "code",
   "execution_count": 61,
   "outputs": [],
   "source": [
    "fi_classes.to_csv('data/generated/cell_fi_classes.csv')"
   ],
   "metadata": {
    "collapsed": false,
    "ExecuteTime": {
     "end_time": "2023-09-07T14:57:36.237458897Z",
     "start_time": "2023-09-07T14:57:36.209071523Z"
    }
   }
  },
  {
   "cell_type": "code",
   "execution_count": 60,
   "outputs": [
    {
     "data": {
      "text/plain": "   Number of Available\\nTCH  HR Usage Rate  TCH Blocking Rate, BH  \\\n0              99815.869179   18096.937069          131526.225863   \n\n   TCH Traffic (Erl), BH       Param 1        Param 2  \n0          204816.727321  91368.564355  169111.861825  ",
      "text/html": "<div>\n<style scoped>\n    .dataframe tbody tr th:only-of-type {\n        vertical-align: middle;\n    }\n\n    .dataframe tbody tr th {\n        vertical-align: top;\n    }\n\n    .dataframe thead th {\n        text-align: right;\n    }\n</style>\n<table border=\"1\" class=\"dataframe\">\n  <thead>\n    <tr style=\"text-align: right;\">\n      <th></th>\n      <th>Number of Available\\nTCH</th>\n      <th>HR Usage Rate</th>\n      <th>TCH Blocking Rate, BH</th>\n      <th>TCH Traffic (Erl), BH</th>\n      <th>Param 1</th>\n      <th>Param 2</th>\n    </tr>\n  </thead>\n  <tbody>\n    <tr>\n      <th>0</th>\n      <td>99815.869179</td>\n      <td>18096.937069</td>\n      <td>131526.225863</td>\n      <td>204816.727321</td>\n      <td>91368.564355</td>\n      <td>169111.861825</td>\n    </tr>\n  </tbody>\n</table>\n</div>"
     },
     "execution_count": 60,
     "metadata": {},
     "output_type": "execute_result"
    }
   ],
   "source": [
    "fi = pd.DataFrame([shap_values.__abs__().sum(axis=0).sum(axis=0)], columns=cols)\n",
    "fi"
   ],
   "metadata": {
    "collapsed": false,
    "ExecuteTime": {
     "end_time": "2023-09-07T14:57:19.011312562Z",
     "start_time": "2023-09-07T14:57:18.827551430Z"
    }
   }
  },
  {
   "cell_type": "code",
   "execution_count": 62,
   "outputs": [],
   "source": [
    "fi.to_csv('data/generated/cell_fi.csv')"
   ],
   "metadata": {
    "collapsed": false,
    "ExecuteTime": {
     "end_time": "2023-09-07T14:57:53.021917781Z",
     "start_time": "2023-09-07T14:57:52.840109175Z"
    }
   }
  },
  {
   "cell_type": "code",
   "execution_count": 62,
   "outputs": [],
   "source": [],
   "metadata": {
    "collapsed": false,
    "ExecuteTime": {
     "end_time": "2023-09-07T14:58:04.712108296Z",
     "start_time": "2023-09-07T14:58:04.559726974Z"
    }
   }
  },
  {
   "cell_type": "code",
   "execution_count": null,
   "outputs": [],
   "source": [],
   "metadata": {
    "collapsed": false
   }
  }
 ],
 "metadata": {
  "kernelspec": {
   "display_name": "Python 3",
   "language": "python",
   "name": "python3"
  },
  "language_info": {
   "codemirror_mode": {
    "name": "ipython",
    "version": 2
   },
   "file_extension": ".py",
   "mimetype": "text/x-python",
   "name": "python",
   "nbconvert_exporter": "python",
   "pygments_lexer": "ipython2",
   "version": "2.7.6"
  }
 },
 "nbformat": 4,
 "nbformat_minor": 0
}
