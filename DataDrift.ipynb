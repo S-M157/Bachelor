{
 "cells": [
  {
   "cell_type": "code",
   "execution_count": 1,
   "metadata": {
    "collapsed": true,
    "ExecuteTime": {
     "end_time": "2023-09-07T09:10:36.337466346Z",
     "start_time": "2023-09-07T09:10:33.372309883Z"
    }
   },
   "outputs": [
    {
     "name": "stderr",
     "output_type": "stream",
     "text": [
      "The `LightGBM` module could not be imported. To enable LightGBM support in Darts, follow the detailed instructions in the installation guide: https://github.com/unit8co/darts/blob/master/INSTALL.md\n",
      "The `Prophet` module could not be imported. To enable Prophet support in Darts, follow the detailed instructions in the installation guide: https://github.com/unit8co/darts/blob/master/INSTALL.md\n",
      "The `CatBoost` module could not be imported. To enable CatBoost support in Darts, follow the detailed instructions in the installation guide: https://github.com/unit8co/darts/blob/master/INSTALL.md\n"
     ]
    }
   ],
   "source": [
    "import warnings\n",
    "\n",
    "import numpy as np\n",
    "import pandas as pd\n",
    "from darts.models.forecasting.nhits import NHiTSModel\n",
    "from darts import TimeSeries\n",
    "import torch\n",
    "from typing import Callable\n",
    "from tqdm import tqdm\n",
    "\n",
    "from helpers import predict, load_agent, quality, clip\n",
    "from preprocess import preprocess_stats\n",
    "from rl.sim_enviroment import SimulatedCustomEnv\n",
    "\n",
    "from evidently.report import Report\n",
    "from evidently.metric_preset import DataDriftPreset\n",
    "from evidently.options import DataDriftOptions"
   ]
  },
  {
   "cell_type": "code",
   "execution_count": 4,
   "outputs": [],
   "source": [
    "df = pd.read_csv('drift_scores_rewards_all.csv', index_col=0)"
   ],
   "metadata": {
    "collapsed": false,
    "ExecuteTime": {
     "end_time": "2023-09-05T15:25:08.717835425Z",
     "start_time": "2023-09-05T15:25:08.695701329Z"
    }
   }
  },
  {
   "cell_type": "code",
   "execution_count": 5,
   "outputs": [
    {
     "data": {
      "text/plain": "       cell_id  drift_score  quality_avg  quality_min  quality_max  \\\n7     (13312,)        1.000     0.827806     0.683533     1.014011   \n8     (13311,)        1.000     0.766681     0.637207     1.072541   \n15    (22975,)        0.875     0.851060     0.708378     0.965337   \n43    (24233,)        1.000     0.779225     0.680422     1.389400   \n102    (9737,)        0.875     0.836526     0.688055     1.260287   \n192   (42857,)        0.875     0.901327     0.631919     1.170445   \n221    (8916,)        0.875     0.868850     0.690507     0.966925   \n248   (42856,)        0.875     0.925625     0.667989     1.060651   \n249   (42855,)        0.875     0.889259     0.685598     1.073196   \n262   (41872,)        0.875     0.802087     0.709027     1.287416   \n294   (22971,)        1.000     0.791741     0.703038     1.269978   \n343    (8915,)        0.875     0.867354     0.694822     1.047998   \n407   (26191,)        0.875     0.911956     0.713553     1.094354   \n454   (10942,)        0.875     0.771474     0.656311     1.059600   \n487    (9442,)        0.875     0.816025     0.687247     1.143174   \n497     (723,)        0.875     0.721824     0.645863     1.071824   \n540    (7907,)        0.875     0.854747     0.700377     1.025181   \n541    (7906,)        0.875     0.863923     0.727023     0.973717   \n681   (24692,)        0.875     0.888115     0.738502     1.207841   \n696     (756,)        0.875     0.816620     0.680187     1.133890   \n697     (755,)        1.000     0.773461     0.664145     1.042994   \n753    (7993,)        0.875     0.794018     0.685307     0.937536   \n764    (7905,)        1.000     0.892627     0.729374     1.393866   \n784    (1914,)        1.000     0.777415     0.667302     1.420806   \n825    (3316,)        0.875     0.866045     0.681269     1.256254   \n843    (8067,)        0.875     0.871227     0.699260     1.060002   \n873    (8095,)        0.875     0.910326     0.728073     1.109251   \n874    (8096,)        0.875     0.897001     0.680304     1.476828   \n879    (8475,)        0.875     0.852101     0.715749     1.066042   \n999   (13315,)        1.000     0.782756     0.683124     0.905337   \n1000  (13317,)        1.000     0.811469     0.688337     0.902784   \n1001  (13316,)        1.000     0.800225     0.674919     1.047584   \n1012   (3336,)        1.000     0.848581     0.724462     1.063296   \n1013   (8926,)        0.875     0.852417     0.719747     1.170471   \n1025  (51357,)        0.875     0.848602     0.711222     0.960383   \n1028   (8641,)        1.000     0.859705     0.737558     1.309134   \n1031   (8645,)        0.875     0.913622     0.696276     1.142639   \n1032   (8647,)        0.875     0.904285     0.707715     1.134465   \n1039  (12483,)        0.875     0.883805     0.840871     0.929947   \n\n      quality_std  cum_reward_avg  cum_reward_max  cum_reward_std  \\\n7        0.051522   -1.488446e+06            5680    1.681490e+06   \n8        0.050251   -5.236529e+05              15    4.493878e+05   \n15       0.028175   -5.601129e+05             760    5.161057e+05   \n43       0.045879   -2.962463e+06              95    2.776694e+06   \n102      0.039131   -4.723727e+05             310    4.581045e+05   \n192      0.036514   -1.261592e+06              15    1.248601e+06   \n221      0.034120   -1.782831e+06              30    1.786634e+06   \n248      0.031276   -2.937212e+06               5    2.752871e+06   \n249      0.036912   -1.147484e+06               0    1.169676e+06   \n262      0.055670   -3.419002e+06               5    3.045949e+06   \n294      0.038279   -3.302312e+06               5    2.894209e+06   \n343      0.034472   -1.661120e+06             620    1.714007e+06   \n407      0.027854   -3.406125e+06               5    3.047013e+06   \n454      0.066389   -5.684150e+05              15    5.108068e+05   \n487      0.068671   -1.604065e+06               5    1.236551e+06   \n497      0.033284   -5.634072e+05              15    5.055907e+05   \n540      0.035920   -6.343403e+05             205    5.750568e+05   \n541      0.037708   -9.240031e+05             -10    1.105309e+06   \n681      0.083353   -3.379557e+06              15    3.038718e+06   \n696      0.037189   -6.290347e+05              35    5.599607e+05   \n697      0.041261   -7.507052e+05            3095    9.750655e+05   \n753      0.036074   -3.298447e+06               0    2.954388e+06   \n764      0.043907   -1.623378e+06              90    1.829413e+06   \n784      0.047290   -3.308313e+06               5    2.954363e+06   \n825      0.049204   -1.507354e+06             185    1.563316e+06   \n843      0.030143   -1.849260e+06            2685    2.007034e+06   \n873      0.042007   -1.258608e+06              95    1.238586e+06   \n874      0.056152   -2.591923e+06              45    2.435863e+06   \n879      0.037450   -7.254497e+05             740    7.709472e+05   \n999      0.027435   -2.334333e+05               5    2.093858e+05   \n1000     0.027808   -8.332817e+05              95    7.550594e+05   \n1001     0.045738   -2.197884e+05             185    2.051258e+05   \n1012     0.058009   -3.053709e+05              15    3.066482e+05   \n1013     0.065038   -3.803507e+05              15    3.670664e+05   \n1025     0.070595   -1.632883e+05            1460    1.921173e+05   \n1028     0.056698   -6.352608e+05              10    5.787370e+05   \n1031     0.039373   -3.489248e+05               5    2.982530e+05   \n1032     0.042725   -1.286449e+05              15    1.204264e+05   \n1039     0.020493   -9.898051e+04               5    9.285494e+04   \n\n      mom_reward_avg  mom_reward_min  mom_reward_max  mom_reward_std  \n7       -9521.929530          -24235             155     7988.393527  \n8       -2489.773490           -4475              10     1283.988759  \n15      -2929.211864           -6100              65     1796.577395  \n43     -15662.177966          -32200              15     9789.926311  \n102     -2602.398305           -5740              35     1746.029977  \n192     -7061.771186          -15505              10     4867.344108  \n221    -10402.563667          -24855              15     7679.013739  \n248    -15626.655348          -32880               5     9852.050424  \n249     -6754.558574          -16105               0     5021.314465  \n262    -17262.640068          -33845               5     9851.629123  \n294    -16208.149406          -29210               5     8736.894528  \n343     -9821.802721          -23220              65     7305.705879  \n407    -17352.069847          -34580               5    10013.784476  \n454     -2910.025554           -5840              10     1695.921691  \n487     -7215.136286          -14280               5     3150.332785  \n497     -2881.073254           -5780              10     1675.234803  \n540     -3302.892491           -6890              40     1987.416556  \n541     -6494.795222          -18315               0     5989.325116  \n681    -17367.598291          -34865              10    10129.478994  \n696     -3203.538462           -6390              15     1836.574679  \n697     -5844.880342          -18605              80     5980.239498  \n753    -16860.888889          -33375               0     9730.982132  \n764    -10509.555556          -26735              15     8740.302212  \n784    -16882.183219          -33415               5     9676.340555  \n825     -9108.198971          -22700              35     6918.863932  \n843    -11555.077453          -28185              80     9098.360782  \n873     -7460.502693          -16660              25     5135.710262  \n874    -14618.276481          -30855              15     9258.581397  \n879     -4881.565934          -13200              45     3944.220737  \n999     -1865.000000           -3735               5     1083.974169  \n1000    -6822.066667          -14725              25     4191.676251  \n1001    -1837.280000           -3880              35     1164.153345  \n1012    -3017.507042           -8005              10     2326.011911  \n1013    -3611.087571           -9480              10     2617.396235  \n1025    -2283.620690           -7010             100     2100.878007  \n1028    -6883.487544          -14020               5     4144.731286  \n1031    -3519.982143           -6300               5     1814.676304  \n1032    -1449.232143           -3060              10      934.315267  \n1039    -2863.457944           -5975               5     1811.103647  ",
      "text/html": "<div>\n<style scoped>\n    .dataframe tbody tr th:only-of-type {\n        vertical-align: middle;\n    }\n\n    .dataframe tbody tr th {\n        vertical-align: top;\n    }\n\n    .dataframe thead th {\n        text-align: right;\n    }\n</style>\n<table border=\"1\" class=\"dataframe\">\n  <thead>\n    <tr style=\"text-align: right;\">\n      <th></th>\n      <th>cell_id</th>\n      <th>drift_score</th>\n      <th>quality_avg</th>\n      <th>quality_min</th>\n      <th>quality_max</th>\n      <th>quality_std</th>\n      <th>cum_reward_avg</th>\n      <th>cum_reward_max</th>\n      <th>cum_reward_std</th>\n      <th>mom_reward_avg</th>\n      <th>mom_reward_min</th>\n      <th>mom_reward_max</th>\n      <th>mom_reward_std</th>\n    </tr>\n  </thead>\n  <tbody>\n    <tr>\n      <th>7</th>\n      <td>(13312,)</td>\n      <td>1.000</td>\n      <td>0.827806</td>\n      <td>0.683533</td>\n      <td>1.014011</td>\n      <td>0.051522</td>\n      <td>-1.488446e+06</td>\n      <td>5680</td>\n      <td>1.681490e+06</td>\n      <td>-9521.929530</td>\n      <td>-24235</td>\n      <td>155</td>\n      <td>7988.393527</td>\n    </tr>\n    <tr>\n      <th>8</th>\n      <td>(13311,)</td>\n      <td>1.000</td>\n      <td>0.766681</td>\n      <td>0.637207</td>\n      <td>1.072541</td>\n      <td>0.050251</td>\n      <td>-5.236529e+05</td>\n      <td>15</td>\n      <td>4.493878e+05</td>\n      <td>-2489.773490</td>\n      <td>-4475</td>\n      <td>10</td>\n      <td>1283.988759</td>\n    </tr>\n    <tr>\n      <th>15</th>\n      <td>(22975,)</td>\n      <td>0.875</td>\n      <td>0.851060</td>\n      <td>0.708378</td>\n      <td>0.965337</td>\n      <td>0.028175</td>\n      <td>-5.601129e+05</td>\n      <td>760</td>\n      <td>5.161057e+05</td>\n      <td>-2929.211864</td>\n      <td>-6100</td>\n      <td>65</td>\n      <td>1796.577395</td>\n    </tr>\n    <tr>\n      <th>43</th>\n      <td>(24233,)</td>\n      <td>1.000</td>\n      <td>0.779225</td>\n      <td>0.680422</td>\n      <td>1.389400</td>\n      <td>0.045879</td>\n      <td>-2.962463e+06</td>\n      <td>95</td>\n      <td>2.776694e+06</td>\n      <td>-15662.177966</td>\n      <td>-32200</td>\n      <td>15</td>\n      <td>9789.926311</td>\n    </tr>\n    <tr>\n      <th>102</th>\n      <td>(9737,)</td>\n      <td>0.875</td>\n      <td>0.836526</td>\n      <td>0.688055</td>\n      <td>1.260287</td>\n      <td>0.039131</td>\n      <td>-4.723727e+05</td>\n      <td>310</td>\n      <td>4.581045e+05</td>\n      <td>-2602.398305</td>\n      <td>-5740</td>\n      <td>35</td>\n      <td>1746.029977</td>\n    </tr>\n    <tr>\n      <th>192</th>\n      <td>(42857,)</td>\n      <td>0.875</td>\n      <td>0.901327</td>\n      <td>0.631919</td>\n      <td>1.170445</td>\n      <td>0.036514</td>\n      <td>-1.261592e+06</td>\n      <td>15</td>\n      <td>1.248601e+06</td>\n      <td>-7061.771186</td>\n      <td>-15505</td>\n      <td>10</td>\n      <td>4867.344108</td>\n    </tr>\n    <tr>\n      <th>221</th>\n      <td>(8916,)</td>\n      <td>0.875</td>\n      <td>0.868850</td>\n      <td>0.690507</td>\n      <td>0.966925</td>\n      <td>0.034120</td>\n      <td>-1.782831e+06</td>\n      <td>30</td>\n      <td>1.786634e+06</td>\n      <td>-10402.563667</td>\n      <td>-24855</td>\n      <td>15</td>\n      <td>7679.013739</td>\n    </tr>\n    <tr>\n      <th>248</th>\n      <td>(42856,)</td>\n      <td>0.875</td>\n      <td>0.925625</td>\n      <td>0.667989</td>\n      <td>1.060651</td>\n      <td>0.031276</td>\n      <td>-2.937212e+06</td>\n      <td>5</td>\n      <td>2.752871e+06</td>\n      <td>-15626.655348</td>\n      <td>-32880</td>\n      <td>5</td>\n      <td>9852.050424</td>\n    </tr>\n    <tr>\n      <th>249</th>\n      <td>(42855,)</td>\n      <td>0.875</td>\n      <td>0.889259</td>\n      <td>0.685598</td>\n      <td>1.073196</td>\n      <td>0.036912</td>\n      <td>-1.147484e+06</td>\n      <td>0</td>\n      <td>1.169676e+06</td>\n      <td>-6754.558574</td>\n      <td>-16105</td>\n      <td>0</td>\n      <td>5021.314465</td>\n    </tr>\n    <tr>\n      <th>262</th>\n      <td>(41872,)</td>\n      <td>0.875</td>\n      <td>0.802087</td>\n      <td>0.709027</td>\n      <td>1.287416</td>\n      <td>0.055670</td>\n      <td>-3.419002e+06</td>\n      <td>5</td>\n      <td>3.045949e+06</td>\n      <td>-17262.640068</td>\n      <td>-33845</td>\n      <td>5</td>\n      <td>9851.629123</td>\n    </tr>\n    <tr>\n      <th>294</th>\n      <td>(22971,)</td>\n      <td>1.000</td>\n      <td>0.791741</td>\n      <td>0.703038</td>\n      <td>1.269978</td>\n      <td>0.038279</td>\n      <td>-3.302312e+06</td>\n      <td>5</td>\n      <td>2.894209e+06</td>\n      <td>-16208.149406</td>\n      <td>-29210</td>\n      <td>5</td>\n      <td>8736.894528</td>\n    </tr>\n    <tr>\n      <th>343</th>\n      <td>(8915,)</td>\n      <td>0.875</td>\n      <td>0.867354</td>\n      <td>0.694822</td>\n      <td>1.047998</td>\n      <td>0.034472</td>\n      <td>-1.661120e+06</td>\n      <td>620</td>\n      <td>1.714007e+06</td>\n      <td>-9821.802721</td>\n      <td>-23220</td>\n      <td>65</td>\n      <td>7305.705879</td>\n    </tr>\n    <tr>\n      <th>407</th>\n      <td>(26191,)</td>\n      <td>0.875</td>\n      <td>0.911956</td>\n      <td>0.713553</td>\n      <td>1.094354</td>\n      <td>0.027854</td>\n      <td>-3.406125e+06</td>\n      <td>5</td>\n      <td>3.047013e+06</td>\n      <td>-17352.069847</td>\n      <td>-34580</td>\n      <td>5</td>\n      <td>10013.784476</td>\n    </tr>\n    <tr>\n      <th>454</th>\n      <td>(10942,)</td>\n      <td>0.875</td>\n      <td>0.771474</td>\n      <td>0.656311</td>\n      <td>1.059600</td>\n      <td>0.066389</td>\n      <td>-5.684150e+05</td>\n      <td>15</td>\n      <td>5.108068e+05</td>\n      <td>-2910.025554</td>\n      <td>-5840</td>\n      <td>10</td>\n      <td>1695.921691</td>\n    </tr>\n    <tr>\n      <th>487</th>\n      <td>(9442,)</td>\n      <td>0.875</td>\n      <td>0.816025</td>\n      <td>0.687247</td>\n      <td>1.143174</td>\n      <td>0.068671</td>\n      <td>-1.604065e+06</td>\n      <td>5</td>\n      <td>1.236551e+06</td>\n      <td>-7215.136286</td>\n      <td>-14280</td>\n      <td>5</td>\n      <td>3150.332785</td>\n    </tr>\n    <tr>\n      <th>497</th>\n      <td>(723,)</td>\n      <td>0.875</td>\n      <td>0.721824</td>\n      <td>0.645863</td>\n      <td>1.071824</td>\n      <td>0.033284</td>\n      <td>-5.634072e+05</td>\n      <td>15</td>\n      <td>5.055907e+05</td>\n      <td>-2881.073254</td>\n      <td>-5780</td>\n      <td>10</td>\n      <td>1675.234803</td>\n    </tr>\n    <tr>\n      <th>540</th>\n      <td>(7907,)</td>\n      <td>0.875</td>\n      <td>0.854747</td>\n      <td>0.700377</td>\n      <td>1.025181</td>\n      <td>0.035920</td>\n      <td>-6.343403e+05</td>\n      <td>205</td>\n      <td>5.750568e+05</td>\n      <td>-3302.892491</td>\n      <td>-6890</td>\n      <td>40</td>\n      <td>1987.416556</td>\n    </tr>\n    <tr>\n      <th>541</th>\n      <td>(7906,)</td>\n      <td>0.875</td>\n      <td>0.863923</td>\n      <td>0.727023</td>\n      <td>0.973717</td>\n      <td>0.037708</td>\n      <td>-9.240031e+05</td>\n      <td>-10</td>\n      <td>1.105309e+06</td>\n      <td>-6494.795222</td>\n      <td>-18315</td>\n      <td>0</td>\n      <td>5989.325116</td>\n    </tr>\n    <tr>\n      <th>681</th>\n      <td>(24692,)</td>\n      <td>0.875</td>\n      <td>0.888115</td>\n      <td>0.738502</td>\n      <td>1.207841</td>\n      <td>0.083353</td>\n      <td>-3.379557e+06</td>\n      <td>15</td>\n      <td>3.038718e+06</td>\n      <td>-17367.598291</td>\n      <td>-34865</td>\n      <td>10</td>\n      <td>10129.478994</td>\n    </tr>\n    <tr>\n      <th>696</th>\n      <td>(756,)</td>\n      <td>0.875</td>\n      <td>0.816620</td>\n      <td>0.680187</td>\n      <td>1.133890</td>\n      <td>0.037189</td>\n      <td>-6.290347e+05</td>\n      <td>35</td>\n      <td>5.599607e+05</td>\n      <td>-3203.538462</td>\n      <td>-6390</td>\n      <td>15</td>\n      <td>1836.574679</td>\n    </tr>\n    <tr>\n      <th>697</th>\n      <td>(755,)</td>\n      <td>1.000</td>\n      <td>0.773461</td>\n      <td>0.664145</td>\n      <td>1.042994</td>\n      <td>0.041261</td>\n      <td>-7.507052e+05</td>\n      <td>3095</td>\n      <td>9.750655e+05</td>\n      <td>-5844.880342</td>\n      <td>-18605</td>\n      <td>80</td>\n      <td>5980.239498</td>\n    </tr>\n    <tr>\n      <th>753</th>\n      <td>(7993,)</td>\n      <td>0.875</td>\n      <td>0.794018</td>\n      <td>0.685307</td>\n      <td>0.937536</td>\n      <td>0.036074</td>\n      <td>-3.298447e+06</td>\n      <td>0</td>\n      <td>2.954388e+06</td>\n      <td>-16860.888889</td>\n      <td>-33375</td>\n      <td>0</td>\n      <td>9730.982132</td>\n    </tr>\n    <tr>\n      <th>764</th>\n      <td>(7905,)</td>\n      <td>1.000</td>\n      <td>0.892627</td>\n      <td>0.729374</td>\n      <td>1.393866</td>\n      <td>0.043907</td>\n      <td>-1.623378e+06</td>\n      <td>90</td>\n      <td>1.829413e+06</td>\n      <td>-10509.555556</td>\n      <td>-26735</td>\n      <td>15</td>\n      <td>8740.302212</td>\n    </tr>\n    <tr>\n      <th>784</th>\n      <td>(1914,)</td>\n      <td>1.000</td>\n      <td>0.777415</td>\n      <td>0.667302</td>\n      <td>1.420806</td>\n      <td>0.047290</td>\n      <td>-3.308313e+06</td>\n      <td>5</td>\n      <td>2.954363e+06</td>\n      <td>-16882.183219</td>\n      <td>-33415</td>\n      <td>5</td>\n      <td>9676.340555</td>\n    </tr>\n    <tr>\n      <th>825</th>\n      <td>(3316,)</td>\n      <td>0.875</td>\n      <td>0.866045</td>\n      <td>0.681269</td>\n      <td>1.256254</td>\n      <td>0.049204</td>\n      <td>-1.507354e+06</td>\n      <td>185</td>\n      <td>1.563316e+06</td>\n      <td>-9108.198971</td>\n      <td>-22700</td>\n      <td>35</td>\n      <td>6918.863932</td>\n    </tr>\n    <tr>\n      <th>843</th>\n      <td>(8067,)</td>\n      <td>0.875</td>\n      <td>0.871227</td>\n      <td>0.699260</td>\n      <td>1.060002</td>\n      <td>0.030143</td>\n      <td>-1.849260e+06</td>\n      <td>2685</td>\n      <td>2.007034e+06</td>\n      <td>-11555.077453</td>\n      <td>-28185</td>\n      <td>80</td>\n      <td>9098.360782</td>\n    </tr>\n    <tr>\n      <th>873</th>\n      <td>(8095,)</td>\n      <td>0.875</td>\n      <td>0.910326</td>\n      <td>0.728073</td>\n      <td>1.109251</td>\n      <td>0.042007</td>\n      <td>-1.258608e+06</td>\n      <td>95</td>\n      <td>1.238586e+06</td>\n      <td>-7460.502693</td>\n      <td>-16660</td>\n      <td>25</td>\n      <td>5135.710262</td>\n    </tr>\n    <tr>\n      <th>874</th>\n      <td>(8096,)</td>\n      <td>0.875</td>\n      <td>0.897001</td>\n      <td>0.680304</td>\n      <td>1.476828</td>\n      <td>0.056152</td>\n      <td>-2.591923e+06</td>\n      <td>45</td>\n      <td>2.435863e+06</td>\n      <td>-14618.276481</td>\n      <td>-30855</td>\n      <td>15</td>\n      <td>9258.581397</td>\n    </tr>\n    <tr>\n      <th>879</th>\n      <td>(8475,)</td>\n      <td>0.875</td>\n      <td>0.852101</td>\n      <td>0.715749</td>\n      <td>1.066042</td>\n      <td>0.037450</td>\n      <td>-7.254497e+05</td>\n      <td>740</td>\n      <td>7.709472e+05</td>\n      <td>-4881.565934</td>\n      <td>-13200</td>\n      <td>45</td>\n      <td>3944.220737</td>\n    </tr>\n    <tr>\n      <th>999</th>\n      <td>(13315,)</td>\n      <td>1.000</td>\n      <td>0.782756</td>\n      <td>0.683124</td>\n      <td>0.905337</td>\n      <td>0.027435</td>\n      <td>-2.334333e+05</td>\n      <td>5</td>\n      <td>2.093858e+05</td>\n      <td>-1865.000000</td>\n      <td>-3735</td>\n      <td>5</td>\n      <td>1083.974169</td>\n    </tr>\n    <tr>\n      <th>1000</th>\n      <td>(13317,)</td>\n      <td>1.000</td>\n      <td>0.811469</td>\n      <td>0.688337</td>\n      <td>0.902784</td>\n      <td>0.027808</td>\n      <td>-8.332817e+05</td>\n      <td>95</td>\n      <td>7.550594e+05</td>\n      <td>-6822.066667</td>\n      <td>-14725</td>\n      <td>25</td>\n      <td>4191.676251</td>\n    </tr>\n    <tr>\n      <th>1001</th>\n      <td>(13316,)</td>\n      <td>1.000</td>\n      <td>0.800225</td>\n      <td>0.674919</td>\n      <td>1.047584</td>\n      <td>0.045738</td>\n      <td>-2.197884e+05</td>\n      <td>185</td>\n      <td>2.051258e+05</td>\n      <td>-1837.280000</td>\n      <td>-3880</td>\n      <td>35</td>\n      <td>1164.153345</td>\n    </tr>\n    <tr>\n      <th>1012</th>\n      <td>(3336,)</td>\n      <td>1.000</td>\n      <td>0.848581</td>\n      <td>0.724462</td>\n      <td>1.063296</td>\n      <td>0.058009</td>\n      <td>-3.053709e+05</td>\n      <td>15</td>\n      <td>3.066482e+05</td>\n      <td>-3017.507042</td>\n      <td>-8005</td>\n      <td>10</td>\n      <td>2326.011911</td>\n    </tr>\n    <tr>\n      <th>1013</th>\n      <td>(8926,)</td>\n      <td>0.875</td>\n      <td>0.852417</td>\n      <td>0.719747</td>\n      <td>1.170471</td>\n      <td>0.065038</td>\n      <td>-3.803507e+05</td>\n      <td>15</td>\n      <td>3.670664e+05</td>\n      <td>-3611.087571</td>\n      <td>-9480</td>\n      <td>10</td>\n      <td>2617.396235</td>\n    </tr>\n    <tr>\n      <th>1025</th>\n      <td>(51357,)</td>\n      <td>0.875</td>\n      <td>0.848602</td>\n      <td>0.711222</td>\n      <td>0.960383</td>\n      <td>0.070595</td>\n      <td>-1.632883e+05</td>\n      <td>1460</td>\n      <td>1.921173e+05</td>\n      <td>-2283.620690</td>\n      <td>-7010</td>\n      <td>100</td>\n      <td>2100.878007</td>\n    </tr>\n    <tr>\n      <th>1028</th>\n      <td>(8641,)</td>\n      <td>1.000</td>\n      <td>0.859705</td>\n      <td>0.737558</td>\n      <td>1.309134</td>\n      <td>0.056698</td>\n      <td>-6.352608e+05</td>\n      <td>10</td>\n      <td>5.787370e+05</td>\n      <td>-6883.487544</td>\n      <td>-14020</td>\n      <td>5</td>\n      <td>4144.731286</td>\n    </tr>\n    <tr>\n      <th>1031</th>\n      <td>(8645,)</td>\n      <td>0.875</td>\n      <td>0.913622</td>\n      <td>0.696276</td>\n      <td>1.142639</td>\n      <td>0.039373</td>\n      <td>-3.489248e+05</td>\n      <td>5</td>\n      <td>2.982530e+05</td>\n      <td>-3519.982143</td>\n      <td>-6300</td>\n      <td>5</td>\n      <td>1814.676304</td>\n    </tr>\n    <tr>\n      <th>1032</th>\n      <td>(8647,)</td>\n      <td>0.875</td>\n      <td>0.904285</td>\n      <td>0.707715</td>\n      <td>1.134465</td>\n      <td>0.042725</td>\n      <td>-1.286449e+05</td>\n      <td>15</td>\n      <td>1.204264e+05</td>\n      <td>-1449.232143</td>\n      <td>-3060</td>\n      <td>10</td>\n      <td>934.315267</td>\n    </tr>\n    <tr>\n      <th>1039</th>\n      <td>(12483,)</td>\n      <td>0.875</td>\n      <td>0.883805</td>\n      <td>0.840871</td>\n      <td>0.929947</td>\n      <td>0.020493</td>\n      <td>-9.898051e+04</td>\n      <td>5</td>\n      <td>9.285494e+04</td>\n      <td>-2863.457944</td>\n      <td>-5975</td>\n      <td>5</td>\n      <td>1811.103647</td>\n    </tr>\n  </tbody>\n</table>\n</div>"
     },
     "execution_count": 5,
     "metadata": {},
     "output_type": "execute_result"
    }
   ],
   "source": [
    "df[df.mom_reward_max >= 0]"
   ],
   "metadata": {
    "collapsed": false,
    "ExecuteTime": {
     "end_time": "2023-09-05T15:25:13.236102555Z",
     "start_time": "2023-09-05T15:25:13.188668040Z"
    }
   }
  },
  {
   "cell_type": "code",
   "execution_count": 24,
   "outputs": [],
   "source": [
    "leaned_cells = [int(i.split(',')[0][1:]) for i in df[df.mom_reward_max >= 0].cell_id]"
   ],
   "metadata": {
    "collapsed": false,
    "ExecuteTime": {
     "end_time": "2023-09-05T15:52:47.948679816Z",
     "start_time": "2023-09-05T15:52:47.908081284Z"
    }
   }
  },
  {
   "cell_type": "code",
   "execution_count": 19,
   "outputs": [],
   "source": [
    "data = pd.read_csv('data/dataset_full.csv', index_col=0)\n"
   ],
   "metadata": {
    "collapsed": false,
    "ExecuteTime": {
     "end_time": "2023-09-05T15:29:56.488163001Z",
     "start_time": "2023-09-05T15:29:55.978364504Z"
    }
   }
  },
  {
   "cell_type": "code",
   "execution_count": 25,
   "outputs": [
    {
     "data": {
      "text/plain": "      Cell ID        DATA  Number of Available\\nTCH  HR Usage Rate  \\\n36        755  2020-10-02                      1.88          97.31   \n38        756  2020-10-02                      3.88          92.37   \n48      13311  2020-10-02                      6.00          98.46   \n49      13312  2020-10-02                      6.00          85.87   \n87        723  2020-10-02                      6.12          95.03   \n...       ...         ...                       ...            ...   \n896     51357  2022-05-22                     20.00         100.00   \n915      7905  2022-05-22                     13.00          25.00   \n917      7906  2022-05-22                     13.00          57.00   \n919      7907  2022-05-22                     20.00          54.00   \n1023     9737  2022-05-22                     20.00          82.00   \n\n      TCH Blocking Rate, BH  TCH Traffic (Erl), BH  Param 1  Param 2  \n36                     1.16                  16.21       12       20  \n38                     0.00                  19.04       12       20  \n48                     0.13                  34.06       85       97  \n49                     0.00                  26.85        5       35  \n87                     0.03                  49.65       86       97  \n...                     ...                    ...      ...      ...  \n896                    0.00                  11.73       70       90  \n915                    0.00                   4.92       12       21  \n917                    0.00                   5.09       12       21  \n919                    0.00                  10.77       12       21  \n1023                   0.00                  18.05       12       21  \n\n[20283 rows x 8 columns]",
      "text/html": "<div>\n<style scoped>\n    .dataframe tbody tr th:only-of-type {\n        vertical-align: middle;\n    }\n\n    .dataframe tbody tr th {\n        vertical-align: top;\n    }\n\n    .dataframe thead th {\n        text-align: right;\n    }\n</style>\n<table border=\"1\" class=\"dataframe\">\n  <thead>\n    <tr style=\"text-align: right;\">\n      <th></th>\n      <th>Cell ID</th>\n      <th>DATA</th>\n      <th>Number of Available\\nTCH</th>\n      <th>HR Usage Rate</th>\n      <th>TCH Blocking Rate, BH</th>\n      <th>TCH Traffic (Erl), BH</th>\n      <th>Param 1</th>\n      <th>Param 2</th>\n    </tr>\n  </thead>\n  <tbody>\n    <tr>\n      <th>36</th>\n      <td>755</td>\n      <td>2020-10-02</td>\n      <td>1.88</td>\n      <td>97.31</td>\n      <td>1.16</td>\n      <td>16.21</td>\n      <td>12</td>\n      <td>20</td>\n    </tr>\n    <tr>\n      <th>38</th>\n      <td>756</td>\n      <td>2020-10-02</td>\n      <td>3.88</td>\n      <td>92.37</td>\n      <td>0.00</td>\n      <td>19.04</td>\n      <td>12</td>\n      <td>20</td>\n    </tr>\n    <tr>\n      <th>48</th>\n      <td>13311</td>\n      <td>2020-10-02</td>\n      <td>6.00</td>\n      <td>98.46</td>\n      <td>0.13</td>\n      <td>34.06</td>\n      <td>85</td>\n      <td>97</td>\n    </tr>\n    <tr>\n      <th>49</th>\n      <td>13312</td>\n      <td>2020-10-02</td>\n      <td>6.00</td>\n      <td>85.87</td>\n      <td>0.00</td>\n      <td>26.85</td>\n      <td>5</td>\n      <td>35</td>\n    </tr>\n    <tr>\n      <th>87</th>\n      <td>723</td>\n      <td>2020-10-02</td>\n      <td>6.12</td>\n      <td>95.03</td>\n      <td>0.03</td>\n      <td>49.65</td>\n      <td>86</td>\n      <td>97</td>\n    </tr>\n    <tr>\n      <th>...</th>\n      <td>...</td>\n      <td>...</td>\n      <td>...</td>\n      <td>...</td>\n      <td>...</td>\n      <td>...</td>\n      <td>...</td>\n      <td>...</td>\n    </tr>\n    <tr>\n      <th>896</th>\n      <td>51357</td>\n      <td>2022-05-22</td>\n      <td>20.00</td>\n      <td>100.00</td>\n      <td>0.00</td>\n      <td>11.73</td>\n      <td>70</td>\n      <td>90</td>\n    </tr>\n    <tr>\n      <th>915</th>\n      <td>7905</td>\n      <td>2022-05-22</td>\n      <td>13.00</td>\n      <td>25.00</td>\n      <td>0.00</td>\n      <td>4.92</td>\n      <td>12</td>\n      <td>21</td>\n    </tr>\n    <tr>\n      <th>917</th>\n      <td>7906</td>\n      <td>2022-05-22</td>\n      <td>13.00</td>\n      <td>57.00</td>\n      <td>0.00</td>\n      <td>5.09</td>\n      <td>12</td>\n      <td>21</td>\n    </tr>\n    <tr>\n      <th>919</th>\n      <td>7907</td>\n      <td>2022-05-22</td>\n      <td>20.00</td>\n      <td>54.00</td>\n      <td>0.00</td>\n      <td>10.77</td>\n      <td>12</td>\n      <td>21</td>\n    </tr>\n    <tr>\n      <th>1023</th>\n      <td>9737</td>\n      <td>2022-05-22</td>\n      <td>20.00</td>\n      <td>82.00</td>\n      <td>0.00</td>\n      <td>18.05</td>\n      <td>12</td>\n      <td>21</td>\n    </tr>\n  </tbody>\n</table>\n<p>20283 rows × 8 columns</p>\n</div>"
     },
     "execution_count": 25,
     "metadata": {},
     "output_type": "execute_result"
    }
   ],
   "source": [
    "data[data['Cell ID'].isin(leaned_cells)]"
   ],
   "metadata": {
    "collapsed": false,
    "ExecuteTime": {
     "end_time": "2023-09-05T15:52:52.455578382Z",
     "start_time": "2023-09-05T15:52:52.412549678Z"
    }
   }
  },
  {
   "cell_type": "code",
   "execution_count": 29,
   "outputs": [
    {
     "data": {
      "text/plain": "Index(['Cell ID', 'DATA', 'Number of Available\\nTCH', 'HR Usage Rate',\n       'TCH Blocking Rate, BH', 'TCH Traffic (Erl), BH', 'Param 1', 'Param 2'],\n      dtype='object')"
     },
     "execution_count": 29,
     "metadata": {},
     "output_type": "execute_result"
    }
   ],
   "source": [
    "data.columns"
   ],
   "metadata": {
    "collapsed": false,
    "ExecuteTime": {
     "end_time": "2023-09-05T16:24:28.121592345Z",
     "start_time": "2023-09-05T16:24:28.111723698Z"
    }
   }
  },
  {
   "cell_type": "code",
   "execution_count": 30,
   "outputs": [],
   "source": [
    "cols = ['Number of Available\\nTCH', 'HR Usage Rate',\n",
    "       'TCH Blocking Rate, BH', 'TCH Traffic (Erl), BH', 'Param 1', 'Param 2']\n",
    "reff = data[data['Cell ID'].isin(leaned_cells)][cols]"
   ],
   "metadata": {
    "collapsed": false,
    "ExecuteTime": {
     "end_time": "2023-09-05T16:24:47.027803083Z",
     "start_time": "2023-09-05T16:24:47.007556923Z"
    }
   }
  },
  {
   "cell_type": "code",
   "execution_count": 31,
   "outputs": [
    {
     "data": {
      "text/plain": "      Number of Available\\nTCH  HR Usage Rate  TCH Blocking Rate, BH  \\\n36                        1.88          97.31                   1.16   \n38                        3.88          92.37                   0.00   \n48                        6.00          98.46                   0.13   \n49                        6.00          85.87                   0.00   \n87                        6.12          95.03                   0.03   \n...                        ...            ...                    ...   \n896                      20.00         100.00                   0.00   \n915                      13.00          25.00                   0.00   \n917                      13.00          57.00                   0.00   \n919                      20.00          54.00                   0.00   \n1023                     20.00          82.00                   0.00   \n\n      TCH Traffic (Erl), BH  Param 1  Param 2  \n36                    16.21       12       20  \n38                    19.04       12       20  \n48                    34.06       85       97  \n49                    26.85        5       35  \n87                    49.65       86       97  \n...                     ...      ...      ...  \n896                   11.73       70       90  \n915                    4.92       12       21  \n917                    5.09       12       21  \n919                   10.77       12       21  \n1023                  18.05       12       21  \n\n[20283 rows x 6 columns]",
      "text/html": "<div>\n<style scoped>\n    .dataframe tbody tr th:only-of-type {\n        vertical-align: middle;\n    }\n\n    .dataframe tbody tr th {\n        vertical-align: top;\n    }\n\n    .dataframe thead th {\n        text-align: right;\n    }\n</style>\n<table border=\"1\" class=\"dataframe\">\n  <thead>\n    <tr style=\"text-align: right;\">\n      <th></th>\n      <th>Number of Available\\nTCH</th>\n      <th>HR Usage Rate</th>\n      <th>TCH Blocking Rate, BH</th>\n      <th>TCH Traffic (Erl), BH</th>\n      <th>Param 1</th>\n      <th>Param 2</th>\n    </tr>\n  </thead>\n  <tbody>\n    <tr>\n      <th>36</th>\n      <td>1.88</td>\n      <td>97.31</td>\n      <td>1.16</td>\n      <td>16.21</td>\n      <td>12</td>\n      <td>20</td>\n    </tr>\n    <tr>\n      <th>38</th>\n      <td>3.88</td>\n      <td>92.37</td>\n      <td>0.00</td>\n      <td>19.04</td>\n      <td>12</td>\n      <td>20</td>\n    </tr>\n    <tr>\n      <th>48</th>\n      <td>6.00</td>\n      <td>98.46</td>\n      <td>0.13</td>\n      <td>34.06</td>\n      <td>85</td>\n      <td>97</td>\n    </tr>\n    <tr>\n      <th>49</th>\n      <td>6.00</td>\n      <td>85.87</td>\n      <td>0.00</td>\n      <td>26.85</td>\n      <td>5</td>\n      <td>35</td>\n    </tr>\n    <tr>\n      <th>87</th>\n      <td>6.12</td>\n      <td>95.03</td>\n      <td>0.03</td>\n      <td>49.65</td>\n      <td>86</td>\n      <td>97</td>\n    </tr>\n    <tr>\n      <th>...</th>\n      <td>...</td>\n      <td>...</td>\n      <td>...</td>\n      <td>...</td>\n      <td>...</td>\n      <td>...</td>\n    </tr>\n    <tr>\n      <th>896</th>\n      <td>20.00</td>\n      <td>100.00</td>\n      <td>0.00</td>\n      <td>11.73</td>\n      <td>70</td>\n      <td>90</td>\n    </tr>\n    <tr>\n      <th>915</th>\n      <td>13.00</td>\n      <td>25.00</td>\n      <td>0.00</td>\n      <td>4.92</td>\n      <td>12</td>\n      <td>21</td>\n    </tr>\n    <tr>\n      <th>917</th>\n      <td>13.00</td>\n      <td>57.00</td>\n      <td>0.00</td>\n      <td>5.09</td>\n      <td>12</td>\n      <td>21</td>\n    </tr>\n    <tr>\n      <th>919</th>\n      <td>20.00</td>\n      <td>54.00</td>\n      <td>0.00</td>\n      <td>10.77</td>\n      <td>12</td>\n      <td>21</td>\n    </tr>\n    <tr>\n      <th>1023</th>\n      <td>20.00</td>\n      <td>82.00</td>\n      <td>0.00</td>\n      <td>18.05</td>\n      <td>12</td>\n      <td>21</td>\n    </tr>\n  </tbody>\n</table>\n<p>20283 rows × 6 columns</p>\n</div>"
     },
     "execution_count": 31,
     "metadata": {},
     "output_type": "execute_result"
    }
   ],
   "source": [
    "reff"
   ],
   "metadata": {
    "collapsed": false,
    "ExecuteTime": {
     "end_time": "2023-09-05T16:24:49.800998989Z",
     "start_time": "2023-09-05T16:24:49.776955852Z"
    }
   }
  },
  {
   "cell_type": "code",
   "execution_count": 41,
   "outputs": [
    {
     "name": "stderr",
     "output_type": "stream",
     "text": [
      "100%|██████████| 1043/1043 [03:00<00:00,  5.77it/s]\n"
     ]
    }
   ],
   "source": [
    "drift_scores = []\n",
    "\n",
    "for cell in tqdm(data['Cell ID'].unique()):\n",
    "    cell_data = data[data['Cell ID'] == cell][cols]\n",
    "\n",
    "    data_drift_report = Report(metrics=[\n",
    "        DataDriftPreset(),\n",
    "    ])\n",
    "\n",
    "    n = min(len(cell_data), len(reff), 1000)\n",
    "\n",
    "    data_drift_report.run(reference_data=reff.sample(n=n), current_data=cell_data.sample(n=n),)\n",
    "    drift = data_drift_report.as_dict()['metrics'][0]['result']['share_of_drifted_columns']\n",
    "\n",
    "    drift_scores.append((cell, drift))"
   ],
   "metadata": {
    "collapsed": false,
    "ExecuteTime": {
     "end_time": "2023-09-05T17:07:26.067084370Z",
     "start_time": "2023-09-05T17:04:25.300587949Z"
    }
   }
  },
  {
   "cell_type": "code",
   "execution_count": 39,
   "outputs": [
    {
     "data": {
      "text/plain": "          0         1\n0     25771  0.833333\n1     25772  0.833333\n2     25773  0.833333\n3      3361  1.000000\n4      3363  0.833333\n...     ...       ...\n1038   8521  1.000000\n1039   8522  1.000000\n1040   8523  0.833333\n1041  13322  0.833333\n1042  13323  0.833333\n\n[1043 rows x 2 columns]",
      "text/html": "<div>\n<style scoped>\n    .dataframe tbody tr th:only-of-type {\n        vertical-align: middle;\n    }\n\n    .dataframe tbody tr th {\n        vertical-align: top;\n    }\n\n    .dataframe thead th {\n        text-align: right;\n    }\n</style>\n<table border=\"1\" class=\"dataframe\">\n  <thead>\n    <tr style=\"text-align: right;\">\n      <th></th>\n      <th>0</th>\n      <th>1</th>\n    </tr>\n  </thead>\n  <tbody>\n    <tr>\n      <th>0</th>\n      <td>25771</td>\n      <td>0.833333</td>\n    </tr>\n    <tr>\n      <th>1</th>\n      <td>25772</td>\n      <td>0.833333</td>\n    </tr>\n    <tr>\n      <th>2</th>\n      <td>25773</td>\n      <td>0.833333</td>\n    </tr>\n    <tr>\n      <th>3</th>\n      <td>3361</td>\n      <td>1.000000</td>\n    </tr>\n    <tr>\n      <th>4</th>\n      <td>3363</td>\n      <td>0.833333</td>\n    </tr>\n    <tr>\n      <th>...</th>\n      <td>...</td>\n      <td>...</td>\n    </tr>\n    <tr>\n      <th>1038</th>\n      <td>8521</td>\n      <td>1.000000</td>\n    </tr>\n    <tr>\n      <th>1039</th>\n      <td>8522</td>\n      <td>1.000000</td>\n    </tr>\n    <tr>\n      <th>1040</th>\n      <td>8523</td>\n      <td>0.833333</td>\n    </tr>\n    <tr>\n      <th>1041</th>\n      <td>13322</td>\n      <td>0.833333</td>\n    </tr>\n    <tr>\n      <th>1042</th>\n      <td>13323</td>\n      <td>0.833333</td>\n    </tr>\n  </tbody>\n</table>\n<p>1043 rows × 2 columns</p>\n</div>"
     },
     "execution_count": 39,
     "metadata": {},
     "output_type": "execute_result"
    }
   ],
   "source": [
    "drift_scores = pd.DataFrame(drift_scores)\n",
    "drift_scores"
   ],
   "metadata": {
    "collapsed": false,
    "ExecuteTime": {
     "end_time": "2023-09-05T16:52:05.244870305Z",
     "start_time": "2023-09-05T16:52:05.233869668Z"
    }
   }
  },
  {
   "cell_type": "code",
   "execution_count": 38,
   "outputs": [
    {
     "data": {
      "text/plain": "                  0            1\ncount   1043.000000  1043.000000\nmean   14699.149569     0.849952\nstd    12028.075917     0.052051\nmin      701.000000     0.666667\n25%     5627.000000     0.833333\n50%    10942.000000     0.833333\n75%    24232.500000     0.833333\nmax    51357.000000     1.000000",
      "text/html": "<div>\n<style scoped>\n    .dataframe tbody tr th:only-of-type {\n        vertical-align: middle;\n    }\n\n    .dataframe tbody tr th {\n        vertical-align: top;\n    }\n\n    .dataframe thead th {\n        text-align: right;\n    }\n</style>\n<table border=\"1\" class=\"dataframe\">\n  <thead>\n    <tr style=\"text-align: right;\">\n      <th></th>\n      <th>0</th>\n      <th>1</th>\n    </tr>\n  </thead>\n  <tbody>\n    <tr>\n      <th>count</th>\n      <td>1043.000000</td>\n      <td>1043.000000</td>\n    </tr>\n    <tr>\n      <th>mean</th>\n      <td>14699.149569</td>\n      <td>0.849952</td>\n    </tr>\n    <tr>\n      <th>std</th>\n      <td>12028.075917</td>\n      <td>0.052051</td>\n    </tr>\n    <tr>\n      <th>min</th>\n      <td>701.000000</td>\n      <td>0.666667</td>\n    </tr>\n    <tr>\n      <th>25%</th>\n      <td>5627.000000</td>\n      <td>0.833333</td>\n    </tr>\n    <tr>\n      <th>50%</th>\n      <td>10942.000000</td>\n      <td>0.833333</td>\n    </tr>\n    <tr>\n      <th>75%</th>\n      <td>24232.500000</td>\n      <td>0.833333</td>\n    </tr>\n    <tr>\n      <th>max</th>\n      <td>51357.000000</td>\n      <td>1.000000</td>\n    </tr>\n  </tbody>\n</table>\n</div>"
     },
     "execution_count": 38,
     "metadata": {},
     "output_type": "execute_result"
    }
   ],
   "source": [
    "drift_scores.describe()"
   ],
   "metadata": {
    "collapsed": false,
    "ExecuteTime": {
     "end_time": "2023-09-05T16:51:57.743956960Z",
     "start_time": "2023-09-05T16:51:57.710793356Z"
    }
   }
  },
  {
   "cell_type": "code",
   "execution_count": 42,
   "outputs": [
    {
     "data": {
      "text/plain": "          0         1\n0     25771  1.000000\n1     25772  0.833333\n2     25773  0.833333\n3      3361  1.000000\n4      3363  1.000000\n...     ...       ...\n1038   8521  1.000000\n1039   8522  0.833333\n1040   8523  0.833333\n1041  13322  0.833333\n1042  13323  0.833333\n\n[1043 rows x 2 columns]",
      "text/html": "<div>\n<style scoped>\n    .dataframe tbody tr th:only-of-type {\n        vertical-align: middle;\n    }\n\n    .dataframe tbody tr th {\n        vertical-align: top;\n    }\n\n    .dataframe thead th {\n        text-align: right;\n    }\n</style>\n<table border=\"1\" class=\"dataframe\">\n  <thead>\n    <tr style=\"text-align: right;\">\n      <th></th>\n      <th>0</th>\n      <th>1</th>\n    </tr>\n  </thead>\n  <tbody>\n    <tr>\n      <th>0</th>\n      <td>25771</td>\n      <td>1.000000</td>\n    </tr>\n    <tr>\n      <th>1</th>\n      <td>25772</td>\n      <td>0.833333</td>\n    </tr>\n    <tr>\n      <th>2</th>\n      <td>25773</td>\n      <td>0.833333</td>\n    </tr>\n    <tr>\n      <th>3</th>\n      <td>3361</td>\n      <td>1.000000</td>\n    </tr>\n    <tr>\n      <th>4</th>\n      <td>3363</td>\n      <td>1.000000</td>\n    </tr>\n    <tr>\n      <th>...</th>\n      <td>...</td>\n      <td>...</td>\n    </tr>\n    <tr>\n      <th>1038</th>\n      <td>8521</td>\n      <td>1.000000</td>\n    </tr>\n    <tr>\n      <th>1039</th>\n      <td>8522</td>\n      <td>0.833333</td>\n    </tr>\n    <tr>\n      <th>1040</th>\n      <td>8523</td>\n      <td>0.833333</td>\n    </tr>\n    <tr>\n      <th>1041</th>\n      <td>13322</td>\n      <td>0.833333</td>\n    </tr>\n    <tr>\n      <th>1042</th>\n      <td>13323</td>\n      <td>0.833333</td>\n    </tr>\n  </tbody>\n</table>\n<p>1043 rows × 2 columns</p>\n</div>"
     },
     "execution_count": 42,
     "metadata": {},
     "output_type": "execute_result"
    }
   ],
   "source": [
    "drift_scores = pd.DataFrame(drift_scores)\n",
    "drift_scores"
   ],
   "metadata": {
    "collapsed": false,
    "ExecuteTime": {
     "end_time": "2023-09-05T17:07:32.197800737Z",
     "start_time": "2023-09-05T17:07:32.171327840Z"
    }
   }
  },
  {
   "cell_type": "code",
   "execution_count": 43,
   "outputs": [
    {
     "data": {
      "text/plain": "                  0            1\ncount   1043.000000  1043.000000\nmean   14699.149569     0.948386\nstd    12028.075917     0.077786\nmin      701.000000     0.666667\n25%     5627.000000     0.833333\n50%    10942.000000     1.000000\n75%    24232.500000     1.000000\nmax    51357.000000     1.000000",
      "text/html": "<div>\n<style scoped>\n    .dataframe tbody tr th:only-of-type {\n        vertical-align: middle;\n    }\n\n    .dataframe tbody tr th {\n        vertical-align: top;\n    }\n\n    .dataframe thead th {\n        text-align: right;\n    }\n</style>\n<table border=\"1\" class=\"dataframe\">\n  <thead>\n    <tr style=\"text-align: right;\">\n      <th></th>\n      <th>0</th>\n      <th>1</th>\n    </tr>\n  </thead>\n  <tbody>\n    <tr>\n      <th>count</th>\n      <td>1043.000000</td>\n      <td>1043.000000</td>\n    </tr>\n    <tr>\n      <th>mean</th>\n      <td>14699.149569</td>\n      <td>0.948386</td>\n    </tr>\n    <tr>\n      <th>std</th>\n      <td>12028.075917</td>\n      <td>0.077786</td>\n    </tr>\n    <tr>\n      <th>min</th>\n      <td>701.000000</td>\n      <td>0.666667</td>\n    </tr>\n    <tr>\n      <th>25%</th>\n      <td>5627.000000</td>\n      <td>0.833333</td>\n    </tr>\n    <tr>\n      <th>50%</th>\n      <td>10942.000000</td>\n      <td>1.000000</td>\n    </tr>\n    <tr>\n      <th>75%</th>\n      <td>24232.500000</td>\n      <td>1.000000</td>\n    </tr>\n    <tr>\n      <th>max</th>\n      <td>51357.000000</td>\n      <td>1.000000</td>\n    </tr>\n  </tbody>\n</table>\n</div>"
     },
     "execution_count": 43,
     "metadata": {},
     "output_type": "execute_result"
    }
   ],
   "source": [
    "drift_scores.describe()"
   ],
   "metadata": {
    "collapsed": false,
    "ExecuteTime": {
     "end_time": "2023-09-05T17:07:54.813888864Z",
     "start_time": "2023-09-05T17:07:54.790382261Z"
    }
   }
  },
  {
   "cell_type": "code",
   "execution_count": 47,
   "outputs": [
    {
     "data": {
      "text/plain": "                                                type  drift_share  \\\n0  evidently.metrics.data_drift.dataset_drift_met...          0.5   \n\n   number_of_columns  number_of_drifted_columns  share_of_drifted_columns  \\\n0                  6                          5                  0.833333   \n\n   dataset_drift  \n0           True  ",
      "text/html": "<div>\n<style scoped>\n    .dataframe tbody tr th:only-of-type {\n        vertical-align: middle;\n    }\n\n    .dataframe tbody tr th {\n        vertical-align: top;\n    }\n\n    .dataframe thead th {\n        text-align: right;\n    }\n</style>\n<table border=\"1\" class=\"dataframe\">\n  <thead>\n    <tr style=\"text-align: right;\">\n      <th></th>\n      <th>type</th>\n      <th>drift_share</th>\n      <th>number_of_columns</th>\n      <th>number_of_drifted_columns</th>\n      <th>share_of_drifted_columns</th>\n      <th>dataset_drift</th>\n    </tr>\n  </thead>\n  <tbody>\n    <tr>\n      <th>0</th>\n      <td>evidently.metrics.data_drift.dataset_drift_met...</td>\n      <td>0.5</td>\n      <td>6</td>\n      <td>5</td>\n      <td>0.833333</td>\n      <td>True</td>\n    </tr>\n  </tbody>\n</table>\n</div>"
     },
     "execution_count": 47,
     "metadata": {},
     "output_type": "execute_result"
    }
   ],
   "source": [
    "data_drift_report.as_pandas()['DatasetDriftMetric']"
   ],
   "metadata": {
    "collapsed": false,
    "ExecuteTime": {
     "end_time": "2023-09-05T18:21:56.429252467Z",
     "start_time": "2023-09-05T18:21:56.416782483Z"
    }
   }
  },
  {
   "cell_type": "code",
   "execution_count": null,
   "outputs": [],
   "source": [],
   "metadata": {
    "collapsed": false
   }
  }
 ],
 "metadata": {
  "kernelspec": {
   "display_name": "Python 3",
   "language": "python",
   "name": "python3"
  },
  "language_info": {
   "codemirror_mode": {
    "name": "ipython",
    "version": 2
   },
   "file_extension": ".py",
   "mimetype": "text/x-python",
   "name": "python",
   "nbconvert_exporter": "python",
   "pygments_lexer": "ipython2",
   "version": "2.7.6"
  }
 },
 "nbformat": 4,
 "nbformat_minor": 0
}
