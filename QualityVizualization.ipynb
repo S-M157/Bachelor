{
 "cells": [
  {
   "cell_type": "code",
   "execution_count": 67,
   "metadata": {
    "collapsed": true,
    "ExecuteTime": {
     "end_time": "2023-10-19T14:41:46.722087482Z",
     "start_time": "2023-10-19T14:41:46.688856517Z"
    }
   },
   "outputs": [],
   "source": [
    "from typing import Dict\n",
    "\n",
    "import pandas as pd\n",
    "import matplotlib.pyplot as plt\n",
    "import numpy as np\n"
   ]
  },
  {
   "cell_type": "code",
   "execution_count": 3,
   "outputs": [
    {
     "data": {
      "text/plain": "     cell_id  drift_score                                            quality  \\\n0      10932        0.750  0      0.989443\n1      0.991112\n2      0.99239...   \n1      12763        0.875  0      0.984121\n1      0.983641\n2      0.98618...   \n2      12782        0.875  0      0.993315\n1      0.992291\n2      0.99197...   \n3      12783        0.750  0      0.989670\n1      0.987925\n2      0.98741...   \n4      13301        0.750  0      0.976233\n1      0.977470\n2      0.97782...   \n..       ...          ...                                                ...   \n989     5682        0.875  0      0.987072\n1      0.987862\n2      0.98871...   \n990     5683        0.875  0      0.989010\n1      0.991326\n2      0.98977...   \n991    12771        0.875  0      0.987917\n1      0.987038\n2      0.98835...   \n992    12773        0.875  0      0.987031\n1      0.986686\n2      0.98780...   \n993    12772        0.875  0      0.986838\n1      0.987500\n2      0.98798...   \n\n                                            cum_reward  \\\n0    0        10\n1        20\n2        30\n3        4...   \n1    0        10\n1        20\n2        30\n3        4...   \n2    0        10.000000\n1        20.000000\n2       ...   \n3    0        10\n1        20\n2        30\n3        4...   \n4    0         10\n1         20\n2         30\n3      ...   \n..                                                 ...   \n989  0        10\n1        20\n2        30\n3        4...   \n990  0        10\n1        20\n2        30\n3        4...   \n991  0        10\n1        20\n2        30\n3        4...   \n992  0        10\n1        20\n2        30\n3        4...   \n993  0        10\n1        20\n2        30\n3        4...   \n\n                                            mom_reward  \n0    0      10\n1      10\n2      10\n3      10\n4     ...  \n1    0      10\n1      10\n2      10\n3      10\n4     ...  \n2    0      10.0\n1      10.0\n2      10.0\n3      10....  \n3    0      10\n1      10\n2      10\n3      10\n4     ...  \n4    0      10\n1      10\n2      10\n3      10\n4     ...  \n..                                                 ...  \n989  0      10\n1      10\n2      10\n3      10\n4     ...  \n990  0      10\n1      10\n2      10\n3      10\n4     ...  \n991  0      10\n1      10\n2      10\n3      10\n4     ...  \n992  0      10\n1      10\n2      10\n3      10\n4     ...  \n993  0      10\n1      10\n2      10\n3      10\n4     ...  \n\n[994 rows x 5 columns]",
      "text/html": "<div>\n<style scoped>\n    .dataframe tbody tr th:only-of-type {\n        vertical-align: middle;\n    }\n\n    .dataframe tbody tr th {\n        vertical-align: top;\n    }\n\n    .dataframe thead th {\n        text-align: right;\n    }\n</style>\n<table border=\"1\" class=\"dataframe\">\n  <thead>\n    <tr style=\"text-align: right;\">\n      <th></th>\n      <th>cell_id</th>\n      <th>drift_score</th>\n      <th>quality</th>\n      <th>cum_reward</th>\n      <th>mom_reward</th>\n    </tr>\n  </thead>\n  <tbody>\n    <tr>\n      <th>0</th>\n      <td>10932</td>\n      <td>0.750</td>\n      <td>0      0.989443\n1      0.991112\n2      0.99239...</td>\n      <td>0        10\n1        20\n2        30\n3        4...</td>\n      <td>0      10\n1      10\n2      10\n3      10\n4     ...</td>\n    </tr>\n    <tr>\n      <th>1</th>\n      <td>12763</td>\n      <td>0.875</td>\n      <td>0      0.984121\n1      0.983641\n2      0.98618...</td>\n      <td>0        10\n1        20\n2        30\n3        4...</td>\n      <td>0      10\n1      10\n2      10\n3      10\n4     ...</td>\n    </tr>\n    <tr>\n      <th>2</th>\n      <td>12782</td>\n      <td>0.875</td>\n      <td>0      0.993315\n1      0.992291\n2      0.99197...</td>\n      <td>0        10.000000\n1        20.000000\n2       ...</td>\n      <td>0      10.0\n1      10.0\n2      10.0\n3      10....</td>\n    </tr>\n    <tr>\n      <th>3</th>\n      <td>12783</td>\n      <td>0.750</td>\n      <td>0      0.989670\n1      0.987925\n2      0.98741...</td>\n      <td>0        10\n1        20\n2        30\n3        4...</td>\n      <td>0      10\n1      10\n2      10\n3      10\n4     ...</td>\n    </tr>\n    <tr>\n      <th>4</th>\n      <td>13301</td>\n      <td>0.750</td>\n      <td>0      0.976233\n1      0.977470\n2      0.97782...</td>\n      <td>0         10\n1         20\n2         30\n3      ...</td>\n      <td>0      10\n1      10\n2      10\n3      10\n4     ...</td>\n    </tr>\n    <tr>\n      <th>...</th>\n      <td>...</td>\n      <td>...</td>\n      <td>...</td>\n      <td>...</td>\n      <td>...</td>\n    </tr>\n    <tr>\n      <th>989</th>\n      <td>5682</td>\n      <td>0.875</td>\n      <td>0      0.987072\n1      0.987862\n2      0.98871...</td>\n      <td>0        10\n1        20\n2        30\n3        4...</td>\n      <td>0      10\n1      10\n2      10\n3      10\n4     ...</td>\n    </tr>\n    <tr>\n      <th>990</th>\n      <td>5683</td>\n      <td>0.875</td>\n      <td>0      0.989010\n1      0.991326\n2      0.98977...</td>\n      <td>0        10\n1        20\n2        30\n3        4...</td>\n      <td>0      10\n1      10\n2      10\n3      10\n4     ...</td>\n    </tr>\n    <tr>\n      <th>991</th>\n      <td>12771</td>\n      <td>0.875</td>\n      <td>0      0.987917\n1      0.987038\n2      0.98835...</td>\n      <td>0        10\n1        20\n2        30\n3        4...</td>\n      <td>0      10\n1      10\n2      10\n3      10\n4     ...</td>\n    </tr>\n    <tr>\n      <th>992</th>\n      <td>12773</td>\n      <td>0.875</td>\n      <td>0      0.987031\n1      0.986686\n2      0.98780...</td>\n      <td>0        10\n1        20\n2        30\n3        4...</td>\n      <td>0      10\n1      10\n2      10\n3      10\n4     ...</td>\n    </tr>\n    <tr>\n      <th>993</th>\n      <td>12772</td>\n      <td>0.875</td>\n      <td>0      0.986838\n1      0.987500\n2      0.98798...</td>\n      <td>0        10\n1        20\n2        30\n3        4...</td>\n      <td>0      10\n1      10\n2      10\n3      10\n4     ...</td>\n    </tr>\n  </tbody>\n</table>\n<p>994 rows × 5 columns</p>\n</div>"
     },
     "execution_count": 3,
     "metadata": {},
     "output_type": "execute_result"
    }
   ],
   "source": [
    "train_results = pd.read_pickle('data/generated/drift/by_cell_agent/full_rewards_new_agent_train-train_no_sample20-23.pkl')\n",
    "train_results"
   ],
   "metadata": {
    "collapsed": false,
    "ExecuteTime": {
     "end_time": "2023-10-19T11:28:29.975450363Z",
     "start_time": "2023-10-19T11:28:29.492272926Z"
    }
   }
  },
  {
   "cell_type": "code",
   "execution_count": 13,
   "outputs": [
    {
     "name": "stdout",
     "output_type": "stream",
     "text": [
      "0.75\n",
      "0.875\n",
      "1.0\n"
     ]
    }
   ],
   "source": [
    "for d_score in sorted(train_results.drift_score.unique()):\n",
    "    print(d_score)"
   ],
   "metadata": {
    "collapsed": false,
    "ExecuteTime": {
     "end_time": "2023-10-19T11:45:59.028572460Z",
     "start_time": "2023-10-19T11:45:59.016007481Z"
    }
   }
  },
  {
   "cell_type": "code",
   "execution_count": 18,
   "outputs": [
    {
     "data": {
      "text/plain": "drift_score\n0.750    693\n0.875    281\n1.000     20\nName: count, dtype: int64"
     },
     "execution_count": 18,
     "metadata": {},
     "output_type": "execute_result"
    }
   ],
   "source": [
    "train_results.drift_score.value_counts()"
   ],
   "metadata": {
    "collapsed": false,
    "ExecuteTime": {
     "end_time": "2023-10-19T11:47:33.713356275Z",
     "start_time": "2023-10-19T11:47:33.670284176Z"
    }
   }
  },
  {
   "cell_type": "code",
   "execution_count": 22,
   "outputs": [
    {
     "data": {
      "text/plain": "     cell_id  drift_score                                            quality  \\\n0      10932        0.875  0      0.973693\n1      0.982759\n2      0.97755...   \n1      12762        0.875  0      0.790479\n1      0.864897\n2      0.86771...   \n2      12781        0.875  0      0.974539\n1      0.964948\n2      0.96621...   \n3      12782        0.875  0      0.986578\n1      0.985951\n2      0.98578...   \n4      12783        1.000  0      0.899912\n1      0.876038\n2      0.88492...   \n..       ...          ...                                                ...   \n989     5683        0.875  0      0.992360\n1      0.992859\n2      0.99236...   \n990     5682        0.875  0      0.992036\n1      0.992546\n2      0.99103...   \n991    12771        0.875  0      0.992431\n1      0.991797\n2      0.98959...   \n992    12772        1.000  0      0.978815\n1      0.983106\n2      0.97361...   \n993    12773        0.875  0      0.993283\n1      0.993396\n2      0.99356...   \n\n                                            cum_reward  \\\n0    0        10\n1        20\n2        30\n3        4...   \n1    0       -20\n1       -10\n2         0\n3        1...   \n2    0        10\n1        20\n2        30\n3        4...   \n3    0        10\n1        20\n2        30\n3        4...   \n4    0        10\n1        20\n2        30\n3        4...   \n..                                                 ...   \n989  0        10\n1        20\n2        30\n3        4...   \n990  0        10\n1        20\n2        30\n3        4...   \n991  0        10\n1        20\n2        30\n3        4...   \n992  0        10\n1        20\n2        30\n3        4...   \n993  0        10\n1        20\n2        30\n3        4...   \n\n                                            mom_reward  \n0    0      10\n1      10\n2      10\n3      10\n4     ...  \n1    0     -20\n1      10\n2      10\n3      10\n4     ...  \n2    0      10\n1      10\n2      10\n3      10\n4     ...  \n3    0      10\n1      10\n2      10\n3      10\n4     ...  \n4    0      10\n1      10\n2      10\n3      10\n4     ...  \n..                                                 ...  \n989  0      10\n1      10\n2      10\n3      10\n4     ...  \n990  0      10\n1      10\n2      10\n3      10\n4     ...  \n991  0      10\n1      10\n2      10\n3      10\n4     ...  \n992  0      10\n1      10\n2      10\n3      10\n4     ...  \n993  0      10\n1      10\n2      10\n3      10\n4     ...  \n\n[994 rows x 5 columns]",
      "text/html": "<div>\n<style scoped>\n    .dataframe tbody tr th:only-of-type {\n        vertical-align: middle;\n    }\n\n    .dataframe tbody tr th {\n        vertical-align: top;\n    }\n\n    .dataframe thead th {\n        text-align: right;\n    }\n</style>\n<table border=\"1\" class=\"dataframe\">\n  <thead>\n    <tr style=\"text-align: right;\">\n      <th></th>\n      <th>cell_id</th>\n      <th>drift_score</th>\n      <th>quality</th>\n      <th>cum_reward</th>\n      <th>mom_reward</th>\n    </tr>\n  </thead>\n  <tbody>\n    <tr>\n      <th>0</th>\n      <td>10932</td>\n      <td>0.875</td>\n      <td>0      0.973693\n1      0.982759\n2      0.97755...</td>\n      <td>0        10\n1        20\n2        30\n3        4...</td>\n      <td>0      10\n1      10\n2      10\n3      10\n4     ...</td>\n    </tr>\n    <tr>\n      <th>1</th>\n      <td>12762</td>\n      <td>0.875</td>\n      <td>0      0.790479\n1      0.864897\n2      0.86771...</td>\n      <td>0       -20\n1       -10\n2         0\n3        1...</td>\n      <td>0     -20\n1      10\n2      10\n3      10\n4     ...</td>\n    </tr>\n    <tr>\n      <th>2</th>\n      <td>12781</td>\n      <td>0.875</td>\n      <td>0      0.974539\n1      0.964948\n2      0.96621...</td>\n      <td>0        10\n1        20\n2        30\n3        4...</td>\n      <td>0      10\n1      10\n2      10\n3      10\n4     ...</td>\n    </tr>\n    <tr>\n      <th>3</th>\n      <td>12782</td>\n      <td>0.875</td>\n      <td>0      0.986578\n1      0.985951\n2      0.98578...</td>\n      <td>0        10\n1        20\n2        30\n3        4...</td>\n      <td>0      10\n1      10\n2      10\n3      10\n4     ...</td>\n    </tr>\n    <tr>\n      <th>4</th>\n      <td>12783</td>\n      <td>1.000</td>\n      <td>0      0.899912\n1      0.876038\n2      0.88492...</td>\n      <td>0        10\n1        20\n2        30\n3        4...</td>\n      <td>0      10\n1      10\n2      10\n3      10\n4     ...</td>\n    </tr>\n    <tr>\n      <th>...</th>\n      <td>...</td>\n      <td>...</td>\n      <td>...</td>\n      <td>...</td>\n      <td>...</td>\n    </tr>\n    <tr>\n      <th>989</th>\n      <td>5683</td>\n      <td>0.875</td>\n      <td>0      0.992360\n1      0.992859\n2      0.99236...</td>\n      <td>0        10\n1        20\n2        30\n3        4...</td>\n      <td>0      10\n1      10\n2      10\n3      10\n4     ...</td>\n    </tr>\n    <tr>\n      <th>990</th>\n      <td>5682</td>\n      <td>0.875</td>\n      <td>0      0.992036\n1      0.992546\n2      0.99103...</td>\n      <td>0        10\n1        20\n2        30\n3        4...</td>\n      <td>0      10\n1      10\n2      10\n3      10\n4     ...</td>\n    </tr>\n    <tr>\n      <th>991</th>\n      <td>12771</td>\n      <td>0.875</td>\n      <td>0      0.992431\n1      0.991797\n2      0.98959...</td>\n      <td>0        10\n1        20\n2        30\n3        4...</td>\n      <td>0      10\n1      10\n2      10\n3      10\n4     ...</td>\n    </tr>\n    <tr>\n      <th>992</th>\n      <td>12772</td>\n      <td>1.000</td>\n      <td>0      0.978815\n1      0.983106\n2      0.97361...</td>\n      <td>0        10\n1        20\n2        30\n3        4...</td>\n      <td>0      10\n1      10\n2      10\n3      10\n4     ...</td>\n    </tr>\n    <tr>\n      <th>993</th>\n      <td>12773</td>\n      <td>0.875</td>\n      <td>0      0.993283\n1      0.993396\n2      0.99356...</td>\n      <td>0        10\n1        20\n2        30\n3        4...</td>\n      <td>0      10\n1      10\n2      10\n3      10\n4     ...</td>\n    </tr>\n  </tbody>\n</table>\n<p>994 rows × 5 columns</p>\n</div>"
     },
     "execution_count": 22,
     "metadata": {},
     "output_type": "execute_result"
    }
   ],
   "source": [
    "test_results = pd.read_pickle('data/generated/drift/by_cell_agent/full_rewards_new_agent_train-test_no_sample20-23.pkl')\n",
    "test_results"
   ],
   "metadata": {
    "collapsed": false,
    "ExecuteTime": {
     "end_time": "2023-10-19T13:48:14.422559683Z",
     "start_time": "2023-10-19T13:48:14.130168144Z"
    }
   }
  },
  {
   "cell_type": "code",
   "execution_count": 66,
   "outputs": [
    {
     "data": {
      "text/plain": "drift_score\n0.875    723\n1.000    271\nName: count, dtype: int64"
     },
     "execution_count": 66,
     "metadata": {},
     "output_type": "execute_result"
    }
   ],
   "source": [
    "test_results.drift_score.value_counts()"
   ],
   "metadata": {
    "collapsed": false,
    "ExecuteTime": {
     "end_time": "2023-10-19T14:28:59.536423873Z",
     "start_time": "2023-10-19T14:28:59.486094164Z"
    }
   }
  },
  {
   "cell_type": "code",
   "execution_count": 30,
   "outputs": [
    {
     "data": {
      "text/plain": "pandas.core.series.Series"
     },
     "execution_count": 30,
     "metadata": {},
     "output_type": "execute_result"
    }
   ],
   "source": [
    "type(train_results.drift_score)"
   ],
   "metadata": {
    "collapsed": false,
    "ExecuteTime": {
     "end_time": "2023-10-19T14:11:12.603790925Z",
     "start_time": "2023-10-19T14:11:12.582573749Z"
    }
   }
  },
  {
   "cell_type": "code",
   "execution_count": 37,
   "outputs": [
    {
     "data": {
      "text/plain": "Index(['quality', 'cum_reward', 'mom_reward'], dtype='object')"
     },
     "execution_count": 37,
     "metadata": {},
     "output_type": "execute_result"
    }
   ],
   "source": [
    "cols = train_results.columns[2:]\n",
    "cols"
   ],
   "metadata": {
    "collapsed": false,
    "ExecuteTime": {
     "end_time": "2023-10-19T14:14:18.809674792Z",
     "start_time": "2023-10-19T14:14:18.792025063Z"
    }
   }
  },
  {
   "cell_type": "code",
   "execution_count": 73,
   "outputs": [],
   "source": [
    "def reformat_full_results(df: pd.DataFrame) -> Dict[float, pd.DataFrame]:\n",
    "    df_by_drift_results = {}\n",
    "\n",
    "    for drift_score in sorted(df.drift_score.unique()):\n",
    "        scores = df[df.drift_score == drift_score]\n",
    "\n",
    "        for i in scores.index:\n",
    "            series = scores.loc[i, cols]\n",
    "            df_temp = pd.DataFrame()\n",
    "\n",
    "            for s in series:\n",
    "                df_temp = pd.concat([df_temp, s], axis=1)\n",
    "\n",
    "            df_by_drift_results[drift_score] = pd.concat([df_by_drift_results.get(drift_score, pd.DataFrame()), df_temp])\n",
    "\n",
    "    return df_by_drift_results"
   ],
   "metadata": {
    "collapsed": false,
    "ExecuteTime": {
     "end_time": "2023-10-19T14:46:09.694896985Z",
     "start_time": "2023-10-19T14:46:09.677524721Z"
    }
   }
  },
  {
   "cell_type": "code",
   "execution_count": 74,
   "outputs": [],
   "source": [
    "train_by_drift_results = reformat_full_results(train_results)\n",
    "test_by_drift_results = reformat_full_results(test_results)\n"
   ],
   "metadata": {
    "collapsed": false,
    "ExecuteTime": {
     "end_time": "2023-10-19T14:46:18.406837048Z",
     "start_time": "2023-10-19T14:46:09.953920662Z"
    }
   }
  },
  {
   "cell_type": "code",
   "execution_count": 75,
   "outputs": [
    {
     "data": {
      "text/plain": "{0.75:      Quality Rate  cum_reward  mom_reward\n 0        0.989443        10.0        10.0\n 1        0.991112        20.0        10.0\n 2        0.992393        30.0        10.0\n 3        0.992145        40.0        10.0\n 4        0.988504        50.0        10.0\n ..            ...         ...         ...\n 827      0.989034      8130.0        10.0\n 828      0.989629      8140.0        10.0\n 829      0.986283      8150.0        10.0\n 830      0.982717      8160.0        10.0\n 831      0.963331      8170.0        10.0\n \n [586902 rows x 3 columns],\n 0.875:      Quality Rate  cum_reward  mom_reward\n 0        0.984121        10.0        10.0\n 1        0.983641        20.0        10.0\n 2        0.986180        30.0        10.0\n 3        0.986530        40.0        10.0\n 4        0.985231        50.0        10.0\n ..            ...         ...         ...\n 466      0.982985      4580.0        10.0\n 467      0.980482      4590.0        10.0\n 468      0.983179      4600.0        10.0\n 469      0.980088      4610.0        10.0\n 470      0.984024      4620.0        10.0\n \n [228739 rows x 3 columns],\n 1.0:      Quality Rate   cum_reward  mom_reward\n 0        0.990627    10.000000        10.0\n 1        0.989564    20.000000        10.0\n 2        0.989874    30.000000        10.0\n 3        0.989805    40.000000        10.0\n 4        0.989564    50.000000        10.0\n ..            ...          ...         ...\n 770      0.851496  6578.184342        10.0\n 771      0.921015  6588.184342        10.0\n 772      0.989961  6598.184342        10.0\n 773      0.987872  6608.184342        10.0\n 774      0.990967  6618.184342        10.0\n \n [15569 rows x 3 columns]}"
     },
     "execution_count": 75,
     "metadata": {},
     "output_type": "execute_result"
    }
   ],
   "source": [
    "train_by_drift_results"
   ],
   "metadata": {
    "collapsed": false,
    "ExecuteTime": {
     "end_time": "2023-10-19T14:46:18.453463953Z",
     "start_time": "2023-10-19T14:46:18.421907207Z"
    }
   }
  },
  {
   "cell_type": "code",
   "execution_count": 76,
   "outputs": [
    {
     "data": {
      "text/plain": "{0.875:      Quality Rate  cum_reward  mom_reward\n 0        0.973693        10.0        10.0\n 1        0.982759        20.0        10.0\n 2        0.977550        30.0        10.0\n 3        0.983752        40.0        10.0\n 4        0.984628        50.0        10.0\n ..            ...         ...         ...\n 108      0.992713      1090.0        10.0\n 109      0.975444      1100.0        10.0\n 110      0.984160      1110.0        10.0\n 111      0.987911      1120.0        10.0\n 112      0.992299      1130.0        10.0\n \n [147532 rows x 3 columns],\n 1.0:      Quality Rate  cum_reward  mom_reward\n 0        0.899912        10.0        10.0\n 1        0.876038        20.0        10.0\n 2        0.884927        30.0        10.0\n 3        0.910126        40.0        10.0\n 4        0.935925        50.0        10.0\n ..            ...         ...         ...\n 108      0.941389      1060.0        10.0\n 109      0.968339      1070.0        10.0\n 110      0.956026      1080.0        10.0\n 111      0.960208      1090.0        10.0\n 112      0.957098      1100.0        10.0\n \n [55545 rows x 3 columns]}"
     },
     "execution_count": 76,
     "metadata": {},
     "output_type": "execute_result"
    }
   ],
   "source": [
    "test_by_drift_results"
   ],
   "metadata": {
    "collapsed": false,
    "ExecuteTime": {
     "end_time": "2023-10-19T14:46:18.469444219Z",
     "start_time": "2023-10-19T14:46:18.430505287Z"
    }
   }
  },
  {
   "cell_type": "code",
   "execution_count": 84,
   "outputs": [
    {
     "data": {
      "text/plain": "     Quality Rate   cum_reward  mom_reward\n0        0.989443    10.000000        10.0\n1        0.991112    20.000000        10.0\n2        0.992393    30.000000        10.0\n3        0.992145    40.000000        10.0\n4        0.988504    50.000000        10.0\n..            ...          ...         ...\n770      0.851496  6578.184342        10.0\n771      0.921015  6588.184342        10.0\n772      0.989961  6598.184342        10.0\n773      0.987872  6608.184342        10.0\n774      0.990967  6618.184342        10.0\n\n[831210 rows x 3 columns]",
      "text/html": "<div>\n<style scoped>\n    .dataframe tbody tr th:only-of-type {\n        vertical-align: middle;\n    }\n\n    .dataframe tbody tr th {\n        vertical-align: top;\n    }\n\n    .dataframe thead th {\n        text-align: right;\n    }\n</style>\n<table border=\"1\" class=\"dataframe\">\n  <thead>\n    <tr style=\"text-align: right;\">\n      <th></th>\n      <th>Quality Rate</th>\n      <th>cum_reward</th>\n      <th>mom_reward</th>\n    </tr>\n  </thead>\n  <tbody>\n    <tr>\n      <th>0</th>\n      <td>0.989443</td>\n      <td>10.000000</td>\n      <td>10.0</td>\n    </tr>\n    <tr>\n      <th>1</th>\n      <td>0.991112</td>\n      <td>20.000000</td>\n      <td>10.0</td>\n    </tr>\n    <tr>\n      <th>2</th>\n      <td>0.992393</td>\n      <td>30.000000</td>\n      <td>10.0</td>\n    </tr>\n    <tr>\n      <th>3</th>\n      <td>0.992145</td>\n      <td>40.000000</td>\n      <td>10.0</td>\n    </tr>\n    <tr>\n      <th>4</th>\n      <td>0.988504</td>\n      <td>50.000000</td>\n      <td>10.0</td>\n    </tr>\n    <tr>\n      <th>...</th>\n      <td>...</td>\n      <td>...</td>\n      <td>...</td>\n    </tr>\n    <tr>\n      <th>770</th>\n      <td>0.851496</td>\n      <td>6578.184342</td>\n      <td>10.0</td>\n    </tr>\n    <tr>\n      <th>771</th>\n      <td>0.921015</td>\n      <td>6588.184342</td>\n      <td>10.0</td>\n    </tr>\n    <tr>\n      <th>772</th>\n      <td>0.989961</td>\n      <td>6598.184342</td>\n      <td>10.0</td>\n    </tr>\n    <tr>\n      <th>773</th>\n      <td>0.987872</td>\n      <td>6608.184342</td>\n      <td>10.0</td>\n    </tr>\n    <tr>\n      <th>774</th>\n      <td>0.990967</td>\n      <td>6618.184342</td>\n      <td>10.0</td>\n    </tr>\n  </tbody>\n</table>\n<p>831210 rows × 3 columns</p>\n</div>"
     },
     "execution_count": 84,
     "metadata": {},
     "output_type": "execute_result"
    }
   ],
   "source": [
    "train_full = pd.concat(train_by_drift_results.values())\n",
    "test_full = pd.concat(test_by_drift_results.values())\n",
    "train_full"
   ],
   "metadata": {
    "collapsed": false,
    "ExecuteTime": {
     "end_time": "2023-10-19T14:53:58.826516376Z",
     "start_time": "2023-10-19T14:53:58.781618541Z"
    }
   }
  },
  {
   "cell_type": "code",
   "execution_count": 86,
   "outputs": [
    {
     "data": {
      "text/plain": "<Figure size 1000x700 with 1 Axes>",
      "image/png": "[encoded data removed]"
     },
     "metadata": {},
     "output_type": "display_data"
    }
   ],
   "source": [
    "\n",
    "fig = plt.figure(figsize =(10, 7))\n",
    "\n",
    "# Creating axes instance\n",
    "ax = fig.add_axes([0, 0, 1, 1])\n",
    "\n",
    "# Creating plot\n",
    "bp = ax.boxplot([train_full['Quality Rate'], test_full['Quality Rate']])\n",
    "ax.set_xticklabels(['train', 'test'])\n",
    "# show plot\n",
    "plt.show()"
   ],
   "metadata": {
    "collapsed": false,
    "ExecuteTime": {
     "end_time": "2023-10-19T14:55:09.899966725Z",
     "start_time": "2023-10-19T14:55:09.493628768Z"
    }
   }
  },
  {
   "cell_type": "code",
   "execution_count": 95,
   "outputs": [
    {
     "data": {
      "text/plain": "<Figure size 1000x700 with 1 Axes>",
      "image/png": "[encoded data removed]"
     },
     "metadata": {},
     "output_type": "display_data"
    }
   ],
   "source": [
    "\n",
    "fig = plt.figure(figsize =(10, 7))\n",
    "\n",
    "# Creating axes instance\n",
    "ax = fig.add_axes([0, 0, 1, 1])\n",
    "\n",
    "# Creating plot\n",
    "bp = ax.boxplot([train_full['Quality Rate'], test_by_drift_results[0.875]['Quality Rate'], test_by_drift_results[1.]['Quality Rate']],\n",
    "                patch_artist = True, notch ='True', vert = 0,  showfliers=False)\n",
    "ax.set_yticklabels(['train', 'test partial drift', 'test full drift'])\n",
    "# plt.xscale('log')\n",
    "# show plot\n",
    "plt.show()"
   ],
   "metadata": {
    "collapsed": false,
    "ExecuteTime": {
     "end_time": "2023-10-19T15:23:22.515588731Z",
     "start_time": "2023-10-19T15:23:22.227571492Z"
    }
   }
  },
  {
   "cell_type": "code",
   "execution_count": 89,
   "outputs": [
    {
     "data": {
      "text/plain": "        Quality Rate     cum_reward     mom_reward\ncount  831210.000000  831210.000000  831210.000000\nmean        0.986106    4095.830585       9.507405\nstd         0.031559    2481.851720       5.133862\nmin         0.358991  -13040.000000    -203.017792\n25%         0.987775    2010.000000      10.000000\n50%         0.991413    4090.000000      10.000000\n75%         0.992622    6200.000000      10.000000\nmax         0.998766    8470.000000      10.000000",
      "text/html": "<div>\n<style scoped>\n    .dataframe tbody tr th:only-of-type {\n        vertical-align: middle;\n    }\n\n    .dataframe tbody tr th {\n        vertical-align: top;\n    }\n\n    .dataframe thead th {\n        text-align: right;\n    }\n</style>\n<table border=\"1\" class=\"dataframe\">\n  <thead>\n    <tr style=\"text-align: right;\">\n      <th></th>\n      <th>Quality Rate</th>\n      <th>cum_reward</th>\n      <th>mom_reward</th>\n    </tr>\n  </thead>\n  <tbody>\n    <tr>\n      <th>count</th>\n      <td>831210.000000</td>\n      <td>831210.000000</td>\n      <td>831210.000000</td>\n    </tr>\n    <tr>\n      <th>mean</th>\n      <td>0.986106</td>\n      <td>4095.830585</td>\n      <td>9.507405</td>\n    </tr>\n    <tr>\n      <th>std</th>\n      <td>0.031559</td>\n      <td>2481.851720</td>\n      <td>5.133862</td>\n    </tr>\n    <tr>\n      <th>min</th>\n      <td>0.358991</td>\n      <td>-13040.000000</td>\n      <td>-203.017792</td>\n    </tr>\n    <tr>\n      <th>25%</th>\n      <td>0.987775</td>\n      <td>2010.000000</td>\n      <td>10.000000</td>\n    </tr>\n    <tr>\n      <th>50%</th>\n      <td>0.991413</td>\n      <td>4090.000000</td>\n      <td>10.000000</td>\n    </tr>\n    <tr>\n      <th>75%</th>\n      <td>0.992622</td>\n      <td>6200.000000</td>\n      <td>10.000000</td>\n    </tr>\n    <tr>\n      <th>max</th>\n      <td>0.998766</td>\n      <td>8470.000000</td>\n      <td>10.000000</td>\n    </tr>\n  </tbody>\n</table>\n</div>"
     },
     "execution_count": 89,
     "metadata": {},
     "output_type": "execute_result"
    }
   ],
   "source": [
    "train_full.describe()"
   ],
   "metadata": {
    "collapsed": false,
    "ExecuteTime": {
     "end_time": "2023-10-19T15:00:42.550477536Z",
     "start_time": "2023-10-19T15:00:42.412133373Z"
    }
   }
  },
  {
   "cell_type": "code",
   "execution_count": 90,
   "outputs": [
    {
     "data": {
      "text/plain": "        Quality Rate     cum_reward     mom_reward\ncount  203077.000000  203077.000000  203077.000000\nmean        0.985393     983.782566       9.734059\nstd         0.027870     602.851581       4.183368\nmin         0.379827   -1461.988238    -172.640971\n25%         0.987563     470.000000      10.000000\n50%         0.990822     980.000000      10.000000\n75%         0.992216    1492.464692      10.000000\nmax         0.996884    2070.000000      10.000000",
      "text/html": "<div>\n<style scoped>\n    .dataframe tbody tr th:only-of-type {\n        vertical-align: middle;\n    }\n\n    .dataframe tbody tr th {\n        vertical-align: top;\n    }\n\n    .dataframe thead th {\n        text-align: right;\n    }\n</style>\n<table border=\"1\" class=\"dataframe\">\n  <thead>\n    <tr style=\"text-align: right;\">\n      <th></th>\n      <th>Quality Rate</th>\n      <th>cum_reward</th>\n      <th>mom_reward</th>\n    </tr>\n  </thead>\n  <tbody>\n    <tr>\n      <th>count</th>\n      <td>203077.000000</td>\n      <td>203077.000000</td>\n      <td>203077.000000</td>\n    </tr>\n    <tr>\n      <th>mean</th>\n      <td>0.985393</td>\n      <td>983.782566</td>\n      <td>9.734059</td>\n    </tr>\n    <tr>\n      <th>std</th>\n      <td>0.027870</td>\n      <td>602.851581</td>\n      <td>4.183368</td>\n    </tr>\n    <tr>\n      <th>min</th>\n      <td>0.379827</td>\n      <td>-1461.988238</td>\n      <td>-172.640971</td>\n    </tr>\n    <tr>\n      <th>25%</th>\n      <td>0.987563</td>\n      <td>470.000000</td>\n      <td>10.000000</td>\n    </tr>\n    <tr>\n      <th>50%</th>\n      <td>0.990822</td>\n      <td>980.000000</td>\n      <td>10.000000</td>\n    </tr>\n    <tr>\n      <th>75%</th>\n      <td>0.992216</td>\n      <td>1492.464692</td>\n      <td>10.000000</td>\n    </tr>\n    <tr>\n      <th>max</th>\n      <td>0.996884</td>\n      <td>2070.000000</td>\n      <td>10.000000</td>\n    </tr>\n  </tbody>\n</table>\n</div>"
     },
     "execution_count": 90,
     "metadata": {},
     "output_type": "execute_result"
    }
   ],
   "source": [
    "test_full.describe()"
   ],
   "metadata": {
    "collapsed": false,
    "ExecuteTime": {
     "end_time": "2023-10-19T15:00:47.078896043Z",
     "start_time": "2023-10-19T15:00:46.929619891Z"
    }
   }
  },
  {
   "cell_type": "code",
   "execution_count": null,
   "outputs": [],
   "source": [],
   "metadata": {
    "collapsed": false
   }
  }
 ],
 "metadata": {
  "kernelspec": {
   "display_name": "Python 3",
   "language": "python",
   "name": "python3"
  },
  "language_info": {
   "codemirror_mode": {
    "name": "ipython",
    "version": 2
   },
   "file_extension": ".py",
   "mimetype": "text/x-python",
   "name": "python",
   "nbconvert_exporter": "python",
   "pygments_lexer": "ipython2",
   "version": "2.7.6"
  }
 },
 "nbformat": 4,
 "nbformat_minor": 0
}
