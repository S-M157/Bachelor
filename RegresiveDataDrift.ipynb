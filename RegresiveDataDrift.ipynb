{
 "cells": [
  {
   "cell_type": "markdown",
   "source": [
    "# Imports"
   ],
   "metadata": {
    "collapsed": false
   },
   "id": "4e7d9ff532242c35"
  },
  {
   "cell_type": "code",
   "execution_count": 77,
   "outputs": [],
   "source": [
    "import json\n",
    "\n",
    "from drift_calculator import DriftCalculator\n",
    "import pandas as pd\n",
    "from pathlib import Path\n",
    "from tqdm import tqdm\n",
    "import warnings\n",
    "from typing import Union, Optional\n"
   ],
   "metadata": {
    "collapsed": false,
    "ExecuteTime": {
     "end_time": "2023-10-17T17:39:58.132664316Z",
     "start_time": "2023-10-17T17:39:58.088911129Z"
    }
   },
   "id": "2ff1236f931e619d"
  },
  {
   "cell_type": "code",
   "execution_count": 78,
   "outputs": [],
   "source": [
    "stat_tests = [\n",
    "    'ks', # <= 1000 Kolmogorov–Smirnov\n",
    "    'wasserstein', # > 1000 Wasserstein distance (normed)\n",
    "    'kl_div', # Kullback-Leibler divergence\n",
    "    'psi', # Population Stability Index\n",
    "    'jensenshannon',  #  > 1000 Jensen-Shannon distance\n",
    "    # # 'anderson', # Anderson-Darling test\n",
    "    'cramer_von_mises', # Cramer-Von-Mises test\n",
    "    'hellinger', # Hellinger Distance (normed)\n",
    "    # 'mannw', # Mann-Whitney U-rank test (too long ~23 s on iteration)\n",
    "    'ed', # Energy distance\n",
    "    # # 'es', # Epps-Singleton tes\n",
    "    't_test', # T-Test\n",
    "    # 'emperical_mmd', # Emperical-MMD (takes too much space to compute on sampled data)\n",
    "]"
   ],
   "metadata": {
    "collapsed": false,
    "ExecuteTime": {
     "end_time": "2023-10-17T17:39:58.415265368Z",
     "start_time": "2023-10-17T17:39:58.346719308Z"
    }
   },
   "id": "7c2e4a8477ae899"
  },
  {
   "cell_type": "code",
   "execution_count": 79,
   "outputs": [
    {
     "data": {
      "text/plain": "     cell_id  drift_score  quality_avg  quality_min  quality_max  quality_std   \n0      10932        0.875     0.991378     0.973693     0.994549     0.002269  \\\n1      12762        0.875     0.986723     0.790479     0.992018     0.019664   \n2      12781        0.875     0.987593     0.949088     0.992366     0.004489   \n3      12782        0.875     0.986304     0.972973     0.992206     0.003253   \n4      12783        1.000     0.949899     0.779899     0.991859     0.049240   \n..       ...          ...          ...          ...          ...          ...   \n989     5683        0.875     0.992266     0.967622     0.993875     0.002159   \n990     5682        0.875     0.991784     0.980978     0.994072     0.001335   \n991    12771        0.875     0.990560     0.978193     0.994569     0.002849   \n992    12772        1.000     0.968540     0.751103     0.986172     0.028634   \n993    12773        0.875     0.992443     0.975444     0.995096     0.002828   \n\n     cum_reward_avg  cum_reward_max  cum_reward_std  mom_reward_avg   \n0       1040.000000          2070.0      598.999165       10.000000  \\\n1       1010.000000          2040.0      598.999165        9.855072   \n2       1040.000000          2070.0      598.999165       10.000000   \n3       1040.000000          2070.0      598.999165       10.000000   \n4        925.797101          1920.0      558.289010        9.275362   \n..              ...             ...             ...             ...   \n989      800.000000          1590.0      460.434577       10.000000   \n990      800.000000          1590.0      460.434577       10.000000   \n991      570.000000          1130.0      327.643099       10.000000   \n992      550.884956          1100.0      315.678288        9.734513   \n993      570.000000          1130.0      327.643099       10.000000   \n\n     mom_reward_min  mom_reward_max  mom_reward_std  \n0              10.0            10.0        0.000000  \n1             -20.0            10.0        2.085144  \n2              10.0            10.0        0.000000  \n3              10.0            10.0        0.000000  \n4             -20.0            10.0        4.617035  \n..              ...             ...             ...  \n989            10.0            10.0        0.000000  \n990            10.0            10.0        0.000000  \n991            10.0            10.0        0.000000  \n992           -20.0            10.0        2.822163  \n993            10.0            10.0        0.000000  \n\n[994 rows x 13 columns]",
      "text/html": "<div>\n<style scoped>\n    .dataframe tbody tr th:only-of-type {\n        vertical-align: middle;\n    }\n\n    .dataframe tbody tr th {\n        vertical-align: top;\n    }\n\n    .dataframe thead th {\n        text-align: right;\n    }\n</style>\n<table border=\"1\" class=\"dataframe\">\n  <thead>\n    <tr style=\"text-align: right;\">\n      <th></th>\n      <th>cell_id</th>\n      <th>drift_score</th>\n      <th>quality_avg</th>\n      <th>quality_min</th>\n      <th>quality_max</th>\n      <th>quality_std</th>\n      <th>cum_reward_avg</th>\n      <th>cum_reward_max</th>\n      <th>cum_reward_std</th>\n      <th>mom_reward_avg</th>\n      <th>mom_reward_min</th>\n      <th>mom_reward_max</th>\n      <th>mom_reward_std</th>\n    </tr>\n  </thead>\n  <tbody>\n    <tr>\n      <th>0</th>\n      <td>10932</td>\n      <td>0.875</td>\n      <td>0.991378</td>\n      <td>0.973693</td>\n      <td>0.994549</td>\n      <td>0.002269</td>\n      <td>1040.000000</td>\n      <td>2070.0</td>\n      <td>598.999165</td>\n      <td>10.000000</td>\n      <td>10.0</td>\n      <td>10.0</td>\n      <td>0.000000</td>\n    </tr>\n    <tr>\n      <th>1</th>\n      <td>12762</td>\n      <td>0.875</td>\n      <td>0.986723</td>\n      <td>0.790479</td>\n      <td>0.992018</td>\n      <td>0.019664</td>\n      <td>1010.000000</td>\n      <td>2040.0</td>\n      <td>598.999165</td>\n      <td>9.855072</td>\n      <td>-20.0</td>\n      <td>10.0</td>\n      <td>2.085144</td>\n    </tr>\n    <tr>\n      <th>2</th>\n      <td>12781</td>\n      <td>0.875</td>\n      <td>0.987593</td>\n      <td>0.949088</td>\n      <td>0.992366</td>\n      <td>0.004489</td>\n      <td>1040.000000</td>\n      <td>2070.0</td>\n      <td>598.999165</td>\n      <td>10.000000</td>\n      <td>10.0</td>\n      <td>10.0</td>\n      <td>0.000000</td>\n    </tr>\n    <tr>\n      <th>3</th>\n      <td>12782</td>\n      <td>0.875</td>\n      <td>0.986304</td>\n      <td>0.972973</td>\n      <td>0.992206</td>\n      <td>0.003253</td>\n      <td>1040.000000</td>\n      <td>2070.0</td>\n      <td>598.999165</td>\n      <td>10.000000</td>\n      <td>10.0</td>\n      <td>10.0</td>\n      <td>0.000000</td>\n    </tr>\n    <tr>\n      <th>4</th>\n      <td>12783</td>\n      <td>1.000</td>\n      <td>0.949899</td>\n      <td>0.779899</td>\n      <td>0.991859</td>\n      <td>0.049240</td>\n      <td>925.797101</td>\n      <td>1920.0</td>\n      <td>558.289010</td>\n      <td>9.275362</td>\n      <td>-20.0</td>\n      <td>10.0</td>\n      <td>4.617035</td>\n    </tr>\n    <tr>\n      <th>...</th>\n      <td>...</td>\n      <td>...</td>\n      <td>...</td>\n      <td>...</td>\n      <td>...</td>\n      <td>...</td>\n      <td>...</td>\n      <td>...</td>\n      <td>...</td>\n      <td>...</td>\n      <td>...</td>\n      <td>...</td>\n      <td>...</td>\n    </tr>\n    <tr>\n      <th>989</th>\n      <td>5683</td>\n      <td>0.875</td>\n      <td>0.992266</td>\n      <td>0.967622</td>\n      <td>0.993875</td>\n      <td>0.002159</td>\n      <td>800.000000</td>\n      <td>1590.0</td>\n      <td>460.434577</td>\n      <td>10.000000</td>\n      <td>10.0</td>\n      <td>10.0</td>\n      <td>0.000000</td>\n    </tr>\n    <tr>\n      <th>990</th>\n      <td>5682</td>\n      <td>0.875</td>\n      <td>0.991784</td>\n      <td>0.980978</td>\n      <td>0.994072</td>\n      <td>0.001335</td>\n      <td>800.000000</td>\n      <td>1590.0</td>\n      <td>460.434577</td>\n      <td>10.000000</td>\n      <td>10.0</td>\n      <td>10.0</td>\n      <td>0.000000</td>\n    </tr>\n    <tr>\n      <th>991</th>\n      <td>12771</td>\n      <td>0.875</td>\n      <td>0.990560</td>\n      <td>0.978193</td>\n      <td>0.994569</td>\n      <td>0.002849</td>\n      <td>570.000000</td>\n      <td>1130.0</td>\n      <td>327.643099</td>\n      <td>10.000000</td>\n      <td>10.0</td>\n      <td>10.0</td>\n      <td>0.000000</td>\n    </tr>\n    <tr>\n      <th>992</th>\n      <td>12772</td>\n      <td>1.000</td>\n      <td>0.968540</td>\n      <td>0.751103</td>\n      <td>0.986172</td>\n      <td>0.028634</td>\n      <td>550.884956</td>\n      <td>1100.0</td>\n      <td>315.678288</td>\n      <td>9.734513</td>\n      <td>-20.0</td>\n      <td>10.0</td>\n      <td>2.822163</td>\n    </tr>\n    <tr>\n      <th>993</th>\n      <td>12773</td>\n      <td>0.875</td>\n      <td>0.992443</td>\n      <td>0.975444</td>\n      <td>0.995096</td>\n      <td>0.002828</td>\n      <td>570.000000</td>\n      <td>1130.0</td>\n      <td>327.643099</td>\n      <td>10.000000</td>\n      <td>10.0</td>\n      <td>10.0</td>\n      <td>0.000000</td>\n    </tr>\n  </tbody>\n</table>\n<p>994 rows × 13 columns</p>\n</div>"
     },
     "execution_count": 79,
     "metadata": {},
     "output_type": "execute_result"
    }
   ],
   "source": [
    "rewards = pd.read_csv('data/generated/drift/by_cell_agent/drift_scores_rewards_new_agent_train-test_no_sample20-23.csv', index_col=0)\n",
    "rewards"
   ],
   "metadata": {
    "collapsed": false,
    "ExecuteTime": {
     "end_time": "2023-10-17T17:39:59.502992259Z",
     "start_time": "2023-10-17T17:39:59.466035432Z"
    }
   },
   "id": "662de1f5e23f64fd"
  },
  {
   "cell_type": "code",
   "execution_count": 80,
   "outputs": [],
   "source": [
    "train_df = pd.read_csv('data/train_2020-2023.csv', )\n",
    "test_df = pd.read_csv('data/test_2020-2023.csv', )"
   ],
   "metadata": {
    "collapsed": false,
    "ExecuteTime": {
     "end_time": "2023-10-17T17:39:59.866810986Z",
     "start_time": "2023-10-17T17:39:59.488927495Z"
    }
   },
   "id": "c0086e92e0556cd1"
  },
  {
   "cell_type": "code",
   "execution_count": 81,
   "outputs": [
    {
     "data": {
      "text/plain": "             Cell ID  Number of Available\\nTCH  HR Usage Rate   \ncount  838168.000000             838168.000000  838168.000000  \\\nmean    14607.319064                 15.421654      59.916053   \nstd     12003.337626                  8.834072      30.609431   \nmin       701.000000                  0.000000       0.000000   \n25%      5067.000000                 11.000000      34.760000   \n50%     10931.000000                 13.000000      59.000000   \n75%     24235.000000                 20.000000      92.000000   \nmax     42857.000000                 65.000000     100.000000   \n\n       TCH Blocking Rate, BH  TCH Traffic (Erl), BH        Param 1   \ncount          838168.000000          838168.000000  838168.000000  \\\nmean                0.219738               7.451956      33.745386   \nstd                 2.661036               7.266931      24.073022   \nmin                 0.000000               0.010000       0.000000   \n25%                 0.000000               2.580000      17.000000   \n50%                 0.000000               5.250000      26.000000   \n75%                 0.000000               9.790000      50.000000   \nmax               100.000000             105.620000      95.000000   \n\n             Param 2  \ncount  838168.000000  \nmean       47.468981  \nstd        26.284482  \nmin         5.000000  \n25%        28.000000  \n50%        43.000000  \n75%        67.000000  \nmax       100.000000  ",
      "text/html": "<div>\n<style scoped>\n    .dataframe tbody tr th:only-of-type {\n        vertical-align: middle;\n    }\n\n    .dataframe tbody tr th {\n        vertical-align: top;\n    }\n\n    .dataframe thead th {\n        text-align: right;\n    }\n</style>\n<table border=\"1\" class=\"dataframe\">\n  <thead>\n    <tr style=\"text-align: right;\">\n      <th></th>\n      <th>Cell ID</th>\n      <th>Number of Available\\nTCH</th>\n      <th>HR Usage Rate</th>\n      <th>TCH Blocking Rate, BH</th>\n      <th>TCH Traffic (Erl), BH</th>\n      <th>Param 1</th>\n      <th>Param 2</th>\n    </tr>\n  </thead>\n  <tbody>\n    <tr>\n      <th>count</th>\n      <td>838168.000000</td>\n      <td>838168.000000</td>\n      <td>838168.000000</td>\n      <td>838168.000000</td>\n      <td>838168.000000</td>\n      <td>838168.000000</td>\n      <td>838168.000000</td>\n    </tr>\n    <tr>\n      <th>mean</th>\n      <td>14607.319064</td>\n      <td>15.421654</td>\n      <td>59.916053</td>\n      <td>0.219738</td>\n      <td>7.451956</td>\n      <td>33.745386</td>\n      <td>47.468981</td>\n    </tr>\n    <tr>\n      <th>std</th>\n      <td>12003.337626</td>\n      <td>8.834072</td>\n      <td>30.609431</td>\n      <td>2.661036</td>\n      <td>7.266931</td>\n      <td>24.073022</td>\n      <td>26.284482</td>\n    </tr>\n    <tr>\n      <th>min</th>\n      <td>701.000000</td>\n      <td>0.000000</td>\n      <td>0.000000</td>\n      <td>0.000000</td>\n      <td>0.010000</td>\n      <td>0.000000</td>\n      <td>5.000000</td>\n    </tr>\n    <tr>\n      <th>25%</th>\n      <td>5067.000000</td>\n      <td>11.000000</td>\n      <td>34.760000</td>\n      <td>0.000000</td>\n      <td>2.580000</td>\n      <td>17.000000</td>\n      <td>28.000000</td>\n    </tr>\n    <tr>\n      <th>50%</th>\n      <td>10931.000000</td>\n      <td>13.000000</td>\n      <td>59.000000</td>\n      <td>0.000000</td>\n      <td>5.250000</td>\n      <td>26.000000</td>\n      <td>43.000000</td>\n    </tr>\n    <tr>\n      <th>75%</th>\n      <td>24235.000000</td>\n      <td>20.000000</td>\n      <td>92.000000</td>\n      <td>0.000000</td>\n      <td>9.790000</td>\n      <td>50.000000</td>\n      <td>67.000000</td>\n    </tr>\n    <tr>\n      <th>max</th>\n      <td>42857.000000</td>\n      <td>65.000000</td>\n      <td>100.000000</td>\n      <td>100.000000</td>\n      <td>105.620000</td>\n      <td>95.000000</td>\n      <td>100.000000</td>\n    </tr>\n  </tbody>\n</table>\n</div>"
     },
     "execution_count": 81,
     "metadata": {},
     "output_type": "execute_result"
    }
   ],
   "source": [
    "train_df.describe()"
   ],
   "metadata": {
    "collapsed": false,
    "ExecuteTime": {
     "end_time": "2023-10-17T17:40:00.982047052Z",
     "start_time": "2023-10-17T17:40:00.884262933Z"
    }
   },
   "id": "e104b922c776d1f4"
  },
  {
   "cell_type": "code",
   "execution_count": 82,
   "outputs": [
    {
     "data": {
      "text/plain": "             Cell ID  Number of Available\\nTCH  HR Usage Rate   \ncount  210035.000000             210035.000000  210035.000000  \\\nmean    14607.204242                 13.710167      66.952841   \nstd     12003.274211                  6.679496      27.671954   \nmin       701.000000                  0.000000       0.000000   \n25%      5067.000000                 12.000000      45.000000   \n50%     10931.000000                 13.000000      68.000000   \n75%     24235.000000                 19.000000      96.000000   \nmax     42857.000000                 45.000000     100.000000   \n\n       TCH Blocking Rate, BH  TCH Traffic (Erl), BH        Param 1   \ncount          210035.000000          210035.000000  210035.000000  \\\nmean                0.264242               5.106496      23.560787   \nstd                 2.511474               4.838647      20.895874   \nmin                 0.000000               0.010000       0.000000   \n25%                 0.000000               1.850000       9.000000   \n50%                 0.000000               3.730000      17.000000   \n75%                 0.000000               6.730000      33.000000   \nmax                95.890000              70.160000      91.000000   \n\n             Param 2  \ncount  210035.000000  \nmean       37.178351  \nstd        23.670770  \nmin         5.000000  \n25%        19.000000  \n50%        29.000000  \n75%        55.000000  \nmax       100.000000  ",
      "text/html": "<div>\n<style scoped>\n    .dataframe tbody tr th:only-of-type {\n        vertical-align: middle;\n    }\n\n    .dataframe tbody tr th {\n        vertical-align: top;\n    }\n\n    .dataframe thead th {\n        text-align: right;\n    }\n</style>\n<table border=\"1\" class=\"dataframe\">\n  <thead>\n    <tr style=\"text-align: right;\">\n      <th></th>\n      <th>Cell ID</th>\n      <th>Number of Available\\nTCH</th>\n      <th>HR Usage Rate</th>\n      <th>TCH Blocking Rate, BH</th>\n      <th>TCH Traffic (Erl), BH</th>\n      <th>Param 1</th>\n      <th>Param 2</th>\n    </tr>\n  </thead>\n  <tbody>\n    <tr>\n      <th>count</th>\n      <td>210035.000000</td>\n      <td>210035.000000</td>\n      <td>210035.000000</td>\n      <td>210035.000000</td>\n      <td>210035.000000</td>\n      <td>210035.000000</td>\n      <td>210035.000000</td>\n    </tr>\n    <tr>\n      <th>mean</th>\n      <td>14607.204242</td>\n      <td>13.710167</td>\n      <td>66.952841</td>\n      <td>0.264242</td>\n      <td>5.106496</td>\n      <td>23.560787</td>\n      <td>37.178351</td>\n    </tr>\n    <tr>\n      <th>std</th>\n      <td>12003.274211</td>\n      <td>6.679496</td>\n      <td>27.671954</td>\n      <td>2.511474</td>\n      <td>4.838647</td>\n      <td>20.895874</td>\n      <td>23.670770</td>\n    </tr>\n    <tr>\n      <th>min</th>\n      <td>701.000000</td>\n      <td>0.000000</td>\n      <td>0.000000</td>\n      <td>0.000000</td>\n      <td>0.010000</td>\n      <td>0.000000</td>\n      <td>5.000000</td>\n    </tr>\n    <tr>\n      <th>25%</th>\n      <td>5067.000000</td>\n      <td>12.000000</td>\n      <td>45.000000</td>\n      <td>0.000000</td>\n      <td>1.850000</td>\n      <td>9.000000</td>\n      <td>19.000000</td>\n    </tr>\n    <tr>\n      <th>50%</th>\n      <td>10931.000000</td>\n      <td>13.000000</td>\n      <td>68.000000</td>\n      <td>0.000000</td>\n      <td>3.730000</td>\n      <td>17.000000</td>\n      <td>29.000000</td>\n    </tr>\n    <tr>\n      <th>75%</th>\n      <td>24235.000000</td>\n      <td>19.000000</td>\n      <td>96.000000</td>\n      <td>0.000000</td>\n      <td>6.730000</td>\n      <td>33.000000</td>\n      <td>55.000000</td>\n    </tr>\n    <tr>\n      <th>max</th>\n      <td>42857.000000</td>\n      <td>45.000000</td>\n      <td>100.000000</td>\n      <td>95.890000</td>\n      <td>70.160000</td>\n      <td>91.000000</td>\n      <td>100.000000</td>\n    </tr>\n  </tbody>\n</table>\n</div>"
     },
     "execution_count": 82,
     "metadata": {},
     "output_type": "execute_result"
    }
   ],
   "source": [
    "test_df.describe()"
   ],
   "metadata": {
    "collapsed": false,
    "ExecuteTime": {
     "end_time": "2023-10-17T17:40:01.231554820Z",
     "start_time": "2023-10-17T17:40:01.005932416Z"
    }
   },
   "id": "cd75f2ccb611dec7"
  },
  {
   "cell_type": "markdown",
   "source": [
    "# experiments"
   ],
   "metadata": {
    "collapsed": false
   },
   "id": "5eb8b6aa604cf269"
  },
  {
   "cell_type": "markdown",
   "source": [
    "## Train | No window | Not Sampled "
   ],
   "metadata": {
    "collapsed": false
   },
   "id": "7435d0a59da8f5df"
  },
  {
   "cell_type": "code",
   "execution_count": null,
   "outputs": [],
   "source": [
    "save_path = 'data/generated/drift/by_cell_agent/run_7/'\n",
    "Path(save_path).mkdir(exist_ok=False, parents=True)\n",
    "# params\n",
    "sampled_ref: bool = False\n",
    "sampled_drift: Union[bool, Optional[int]] = None\n",
    "dist_window: bool = False\n",
    "weighted: bool = False\n",
    "regressive: bool = True\n",
    "\n",
    "drift_calc = DriftCalculator([None] + stat_tests , ['default'] + stat_tests )\n",
    "\n",
    "drift_scores = []\n",
    "cols = ['Number of Available\\nTCH', 'HR Usage Rate', 'TCH Blocking Rate, BH',\n",
    "        'TCH Traffic (Erl), BH', 'Param 1', 'Param 2']\n",
    "# weather sampled train\n",
    "if sampled_ref:\n",
    "    ref = train_df.sample(n=1000, random_state=0)[cols]\n",
    "else:\n",
    "    ref = train_df[cols]\n",
    "\n",
    "for cell in tqdm(train_df['Cell ID'].value_counts().keys()[:]):\n",
    "    # ref = train_df[train_df['Cell ID'] == cell]\n",
    "    cur = test_df[test_df['Cell ID'] == cell]\n",
    "    # add original distribution\n",
    "    if dist_window:\n",
    "        cur = pd.concat([ref.sample(n=len(ref) - len(cur)), cur])\n",
    "\n",
    "    with warnings.catch_warnings():\n",
    "        warnings.simplefilter(\"ignore\")\n",
    "        name = f\"{save_path}/cell_{cell}_plot_{'sample_ref' if sampled_ref else ''}-{'window-1k' if dist_window else ''}\"\n",
    "        if regressive:\n",
    "            score = drift_calc.get_drift_regressive(current_data=cur[cols], reference_data=ref[cols], sample=sampled_drift, save_plot=name, n=8)\n",
    "        else:\n",
    "            score = drift_calc.get_drift(current_data=cur[cols], reference_data=ref[cols], sample=sampled_drift, weighted=weighted, save_plot=name)\n",
    "\n",
    "    score['cell_id'] = cell\n",
    "    drift_scores.append(score)\n",
    "\n",
    "drift_scores_df = pd.DataFrame(drift_scores)\n",
    "save_name = (f\"{save_path}/by_train_{'regressive' if regressive else ''}_\"\n",
    "             f\"{'sampled-ref' if sampled_ref else ''}_\"\n",
    "             f\"sampled-drift-{sampled_drift}_\"\n",
    "             f\"{'window-1k' if dist_window else 'no-window'}_\"\n",
    "             f\"{'weighted' if weighted else ''}.csv\")\n",
    "drift_scores_df.to_csv(save_name)\n",
    "drift_scores_df"
   ],
   "metadata": {
    "collapsed": false
   },
   "id": "57f7b49963e6b022"
  },
  {
   "cell_type": "code",
   "execution_count": 72,
   "outputs": [
    {
     "data": {
      "text/plain": "                                               default   \n0    {\"HR Usage Rate\": {\"stattest_threshold\": 0.1, ...  \\\n1    {\"HR Usage Rate\": {\"stattest_threshold\": 0.1, ...   \n2    {\"HR Usage Rate\": {\"stattest_threshold\": 0.1, ...   \n3    {\"HR Usage Rate\": {\"stattest_threshold\": 0.1, ...   \n4    {\"HR Usage Rate\": {\"stattest_threshold\": 0.1, ...   \n..                                                 ...   \n989  {\"HR Usage Rate\": {\"stattest_threshold\": 0.1, ...   \n990  {\"HR Usage Rate\": {\"stattest_threshold\": 0.1, ...   \n991  {\"HR Usage Rate\": {\"stattest_threshold\": 0.1, ...   \n992  {\"HR Usage Rate\": {\"stattest_threshold\": 0.1, ...   \n993  {\"HR Usage Rate\": {\"stattest_threshold\": 0.1, ...   \n\n                                                    ks   \n0    {\"HR Usage Rate\": {\"stattest_threshold\": 0.05,...  \\\n1    {\"HR Usage Rate\": {\"stattest_threshold\": 0.05,...   \n2    {\"HR Usage Rate\": {\"stattest_threshold\": 0.05,...   \n3    {\"HR Usage Rate\": {\"stattest_threshold\": 0.05,...   \n4    {\"HR Usage Rate\": {\"stattest_threshold\": 0.05,...   \n..                                                 ...   \n989  {\"HR Usage Rate\": {\"stattest_threshold\": 0.05,...   \n990  {\"HR Usage Rate\": {\"stattest_threshold\": 0.05,...   \n991  {\"HR Usage Rate\": {\"stattest_threshold\": 0.05,...   \n992  {\"HR Usage Rate\": {\"stattest_threshold\": 0.05,...   \n993  {\"HR Usage Rate\": {\"stattest_threshold\": 0.05,...   \n\n                                           wasserstein   \n0    {\"HR Usage Rate\": {\"stattest_threshold\": 0.1, ...  \\\n1    {\"HR Usage Rate\": {\"stattest_threshold\": 0.1, ...   \n2    {\"HR Usage Rate\": {\"stattest_threshold\": 0.1, ...   \n3    {\"HR Usage Rate\": {\"stattest_threshold\": 0.1, ...   \n4    {\"HR Usage Rate\": {\"stattest_threshold\": 0.1, ...   \n..                                                 ...   \n989  {\"HR Usage Rate\": {\"stattest_threshold\": 0.1, ...   \n990  {\"HR Usage Rate\": {\"stattest_threshold\": 0.1, ...   \n991  {\"HR Usage Rate\": {\"stattest_threshold\": 0.1, ...   \n992  {\"HR Usage Rate\": {\"stattest_threshold\": 0.1, ...   \n993  {\"HR Usage Rate\": {\"stattest_threshold\": 0.1, ...   \n\n                                                kl_div   \n0    {\"HR Usage Rate\": {\"stattest_threshold\": 0.1, ...  \\\n1    {\"HR Usage Rate\": {\"stattest_threshold\": 0.1, ...   \n2    {\"HR Usage Rate\": {\"stattest_threshold\": 0.1, ...   \n3    {\"HR Usage Rate\": {\"stattest_threshold\": 0.1, ...   \n4    {\"HR Usage Rate\": {\"stattest_threshold\": 0.1, ...   \n..                                                 ...   \n989  {\"HR Usage Rate\": {\"stattest_threshold\": 0.1, ...   \n990  {\"HR Usage Rate\": {\"stattest_threshold\": 0.1, ...   \n991  {\"HR Usage Rate\": {\"stattest_threshold\": 0.1, ...   \n992  {\"HR Usage Rate\": {\"stattest_threshold\": 0.1, ...   \n993  {\"HR Usage Rate\": {\"stattest_threshold\": 0.1, ...   \n\n                                                   psi   \n0    {\"HR Usage Rate\": {\"stattest_threshold\": 0.1, ...  \\\n1    {\"HR Usage Rate\": {\"stattest_threshold\": 0.1, ...   \n2    {\"HR Usage Rate\": {\"stattest_threshold\": 0.1, ...   \n3    {\"HR Usage Rate\": {\"stattest_threshold\": 0.1, ...   \n4    {\"HR Usage Rate\": {\"stattest_threshold\": 0.1, ...   \n..                                                 ...   \n989  {\"HR Usage Rate\": {\"stattest_threshold\": 0.1, ...   \n990  {\"HR Usage Rate\": {\"stattest_threshold\": 0.1, ...   \n991  {\"HR Usage Rate\": {\"stattest_threshold\": 0.1, ...   \n992  {\"HR Usage Rate\": {\"stattest_threshold\": 0.1, ...   \n993  {\"HR Usage Rate\": {\"stattest_threshold\": 0.1, ...   \n\n                                         jensenshannon   \n0    {\"HR Usage Rate\": {\"stattest_threshold\": 0.1, ...  \\\n1    {\"HR Usage Rate\": {\"stattest_threshold\": 0.1, ...   \n2    {\"HR Usage Rate\": {\"stattest_threshold\": 0.1, ...   \n3    {\"HR Usage Rate\": {\"stattest_threshold\": 0.1, ...   \n4    {\"HR Usage Rate\": {\"stattest_threshold\": 0.1, ...   \n..                                                 ...   \n989  {\"HR Usage Rate\": {\"stattest_threshold\": 0.1, ...   \n990  {\"HR Usage Rate\": {\"stattest_threshold\": 0.1, ...   \n991  {\"HR Usage Rate\": {\"stattest_threshold\": 0.1, ...   \n992  {\"HR Usage Rate\": {\"stattest_threshold\": 0.1, ...   \n993  {\"HR Usage Rate\": {\"stattest_threshold\": 0.1, ...   \n\n                                      cramer_von_mises   \n0    {\"HR Usage Rate\": {\"stattest_threshold\": 0.1, ...  \\\n1    {\"HR Usage Rate\": {\"stattest_threshold\": 0.1, ...   \n2    {\"HR Usage Rate\": {\"stattest_threshold\": 0.1, ...   \n3    {\"HR Usage Rate\": {\"stattest_threshold\": 0.1, ...   \n4    {\"HR Usage Rate\": {\"stattest_threshold\": 0.1, ...   \n..                                                 ...   \n989  {\"HR Usage Rate\": {\"stattest_threshold\": 0.1, ...   \n990  {\"HR Usage Rate\": {\"stattest_threshold\": 0.1, ...   \n991  {\"HR Usage Rate\": {\"stattest_threshold\": 0.1, ...   \n992  {\"HR Usage Rate\": {\"stattest_threshold\": 0.1, ...   \n993  {\"HR Usage Rate\": {\"stattest_threshold\": 0.1, ...   \n\n                                             hellinger   \n0    {\"HR Usage Rate\": {\"stattest_threshold\": 0.1, ...  \\\n1    {\"HR Usage Rate\": {\"stattest_threshold\": 0.1, ...   \n2    {\"HR Usage Rate\": {\"stattest_threshold\": 0.1, ...   \n3    {\"HR Usage Rate\": {\"stattest_threshold\": 0.1, ...   \n4    {\"HR Usage Rate\": {\"stattest_threshold\": 0.1, ...   \n..                                                 ...   \n989  {\"HR Usage Rate\": {\"stattest_threshold\": 0.1, ...   \n990  {\"HR Usage Rate\": {\"stattest_threshold\": 0.1, ...   \n991  {\"HR Usage Rate\": {\"stattest_threshold\": 0.1, ...   \n992  {\"HR Usage Rate\": {\"stattest_threshold\": 0.1, ...   \n993  {\"HR Usage Rate\": {\"stattest_threshold\": 0.1, ...   \n\n                                                    ed   \n0    {\"HR Usage Rate\": {\"stattest_threshold\": 0.1, ...  \\\n1    {\"HR Usage Rate\": {\"stattest_threshold\": 0.1, ...   \n2    {\"HR Usage Rate\": {\"stattest_threshold\": 0.1, ...   \n3    {\"HR Usage Rate\": {\"stattest_threshold\": 0.1, ...   \n4    {\"HR Usage Rate\": {\"stattest_threshold\": 0.1, ...   \n..                                                 ...   \n989  {\"HR Usage Rate\": {\"stattest_threshold\": 0.1, ...   \n990  {\"HR Usage Rate\": {\"stattest_threshold\": 0.1, ...   \n991  {\"HR Usage Rate\": {\"stattest_threshold\": 0.1, ...   \n992  {\"HR Usage Rate\": {\"stattest_threshold\": 0.1, ...   \n993  {\"HR Usage Rate\": {\"stattest_threshold\": 0.1, ...   \n\n                                                t_test  cell_id  \n0    {\"HR Usage Rate\": {\"stattest_threshold\": 0.05,...    25771  \n1    {\"HR Usage Rate\": {\"stattest_threshold\": 0.05,...    22944  \n2    {\"HR Usage Rate\": {\"stattest_threshold\": 0.05,...    26335  \n3    {\"HR Usage Rate\": {\"stattest_threshold\": 0.05,...    26332  \n4    {\"HR Usage Rate\": {\"stattest_threshold\": 0.05,...    26336  \n..                                                 ...      ...  \n989  {\"HR Usage Rate\": {\"stattest_threshold\": 0.05,...     5683  \n990  {\"HR Usage Rate\": {\"stattest_threshold\": 0.05,...     5682  \n991  {\"HR Usage Rate\": {\"stattest_threshold\": 0.05,...    12772  \n992  {\"HR Usage Rate\": {\"stattest_threshold\": 0.05,...    12771  \n993  {\"HR Usage Rate\": {\"stattest_threshold\": 0.05,...    12773  \n\n[994 rows x 11 columns]",
      "text/html": "<div>\n<style scoped>\n    .dataframe tbody tr th:only-of-type {\n        vertical-align: middle;\n    }\n\n    .dataframe tbody tr th {\n        vertical-align: top;\n    }\n\n    .dataframe thead th {\n        text-align: right;\n    }\n</style>\n<table border=\"1\" class=\"dataframe\">\n  <thead>\n    <tr style=\"text-align: right;\">\n      <th></th>\n      <th>default</th>\n      <th>ks</th>\n      <th>wasserstein</th>\n      <th>kl_div</th>\n      <th>psi</th>\n      <th>jensenshannon</th>\n      <th>cramer_von_mises</th>\n      <th>hellinger</th>\n      <th>ed</th>\n      <th>t_test</th>\n      <th>cell_id</th>\n    </tr>\n  </thead>\n  <tbody>\n    <tr>\n      <th>0</th>\n      <td>{\"HR Usage Rate\": {\"stattest_threshold\": 0.1, ...</td>\n      <td>{\"HR Usage Rate\": {\"stattest_threshold\": 0.05,...</td>\n      <td>{\"HR Usage Rate\": {\"stattest_threshold\": 0.1, ...</td>\n      <td>{\"HR Usage Rate\": {\"stattest_threshold\": 0.1, ...</td>\n      <td>{\"HR Usage Rate\": {\"stattest_threshold\": 0.1, ...</td>\n      <td>{\"HR Usage Rate\": {\"stattest_threshold\": 0.1, ...</td>\n      <td>{\"HR Usage Rate\": {\"stattest_threshold\": 0.1, ...</td>\n      <td>{\"HR Usage Rate\": {\"stattest_threshold\": 0.1, ...</td>\n      <td>{\"HR Usage Rate\": {\"stattest_threshold\": 0.1, ...</td>\n      <td>{\"HR Usage Rate\": {\"stattest_threshold\": 0.05,...</td>\n      <td>25771</td>\n    </tr>\n    <tr>\n      <th>1</th>\n      <td>{\"HR Usage Rate\": {\"stattest_threshold\": 0.1, ...</td>\n      <td>{\"HR Usage Rate\": {\"stattest_threshold\": 0.05,...</td>\n      <td>{\"HR Usage Rate\": {\"stattest_threshold\": 0.1, ...</td>\n      <td>{\"HR Usage Rate\": {\"stattest_threshold\": 0.1, ...</td>\n      <td>{\"HR Usage Rate\": {\"stattest_threshold\": 0.1, ...</td>\n      <td>{\"HR Usage Rate\": {\"stattest_threshold\": 0.1, ...</td>\n      <td>{\"HR Usage Rate\": {\"stattest_threshold\": 0.1, ...</td>\n      <td>{\"HR Usage Rate\": {\"stattest_threshold\": 0.1, ...</td>\n      <td>{\"HR Usage Rate\": {\"stattest_threshold\": 0.1, ...</td>\n      <td>{\"HR Usage Rate\": {\"stattest_threshold\": 0.05,...</td>\n      <td>22944</td>\n    </tr>\n    <tr>\n      <th>2</th>\n      <td>{\"HR Usage Rate\": {\"stattest_threshold\": 0.1, ...</td>\n      <td>{\"HR Usage Rate\": {\"stattest_threshold\": 0.05,...</td>\n      <td>{\"HR Usage Rate\": {\"stattest_threshold\": 0.1, ...</td>\n      <td>{\"HR Usage Rate\": {\"stattest_threshold\": 0.1, ...</td>\n      <td>{\"HR Usage Rate\": {\"stattest_threshold\": 0.1, ...</td>\n      <td>{\"HR Usage Rate\": {\"stattest_threshold\": 0.1, ...</td>\n      <td>{\"HR Usage Rate\": {\"stattest_threshold\": 0.1, ...</td>\n      <td>{\"HR Usage Rate\": {\"stattest_threshold\": 0.1, ...</td>\n      <td>{\"HR Usage Rate\": {\"stattest_threshold\": 0.1, ...</td>\n      <td>{\"HR Usage Rate\": {\"stattest_threshold\": 0.05,...</td>\n      <td>26335</td>\n    </tr>\n    <tr>\n      <th>3</th>\n      <td>{\"HR Usage Rate\": {\"stattest_threshold\": 0.1, ...</td>\n      <td>{\"HR Usage Rate\": {\"stattest_threshold\": 0.05,...</td>\n      <td>{\"HR Usage Rate\": {\"stattest_threshold\": 0.1, ...</td>\n      <td>{\"HR Usage Rate\": {\"stattest_threshold\": 0.1, ...</td>\n      <td>{\"HR Usage Rate\": {\"stattest_threshold\": 0.1, ...</td>\n      <td>{\"HR Usage Rate\": {\"stattest_threshold\": 0.1, ...</td>\n      <td>{\"HR Usage Rate\": {\"stattest_threshold\": 0.1, ...</td>\n      <td>{\"HR Usage Rate\": {\"stattest_threshold\": 0.1, ...</td>\n      <td>{\"HR Usage Rate\": {\"stattest_threshold\": 0.1, ...</td>\n      <td>{\"HR Usage Rate\": {\"stattest_threshold\": 0.05,...</td>\n      <td>26332</td>\n    </tr>\n    <tr>\n      <th>4</th>\n      <td>{\"HR Usage Rate\": {\"stattest_threshold\": 0.1, ...</td>\n      <td>{\"HR Usage Rate\": {\"stattest_threshold\": 0.05,...</td>\n      <td>{\"HR Usage Rate\": {\"stattest_threshold\": 0.1, ...</td>\n      <td>{\"HR Usage Rate\": {\"stattest_threshold\": 0.1, ...</td>\n      <td>{\"HR Usage Rate\": {\"stattest_threshold\": 0.1, ...</td>\n      <td>{\"HR Usage Rate\": {\"stattest_threshold\": 0.1, ...</td>\n      <td>{\"HR Usage Rate\": {\"stattest_threshold\": 0.1, ...</td>\n      <td>{\"HR Usage Rate\": {\"stattest_threshold\": 0.1, ...</td>\n      <td>{\"HR Usage Rate\": {\"stattest_threshold\": 0.1, ...</td>\n      <td>{\"HR Usage Rate\": {\"stattest_threshold\": 0.05,...</td>\n      <td>26336</td>\n    </tr>\n    <tr>\n      <th>...</th>\n      <td>...</td>\n      <td>...</td>\n      <td>...</td>\n      <td>...</td>\n      <td>...</td>\n      <td>...</td>\n      <td>...</td>\n      <td>...</td>\n      <td>...</td>\n      <td>...</td>\n      <td>...</td>\n    </tr>\n    <tr>\n      <th>989</th>\n      <td>{\"HR Usage Rate\": {\"stattest_threshold\": 0.1, ...</td>\n      <td>{\"HR Usage Rate\": {\"stattest_threshold\": 0.05,...</td>\n      <td>{\"HR Usage Rate\": {\"stattest_threshold\": 0.1, ...</td>\n      <td>{\"HR Usage Rate\": {\"stattest_threshold\": 0.1, ...</td>\n      <td>{\"HR Usage Rate\": {\"stattest_threshold\": 0.1, ...</td>\n      <td>{\"HR Usage Rate\": {\"stattest_threshold\": 0.1, ...</td>\n      <td>{\"HR Usage Rate\": {\"stattest_threshold\": 0.1, ...</td>\n      <td>{\"HR Usage Rate\": {\"stattest_threshold\": 0.1, ...</td>\n      <td>{\"HR Usage Rate\": {\"stattest_threshold\": 0.1, ...</td>\n      <td>{\"HR Usage Rate\": {\"stattest_threshold\": 0.05,...</td>\n      <td>5683</td>\n    </tr>\n    <tr>\n      <th>990</th>\n      <td>{\"HR Usage Rate\": {\"stattest_threshold\": 0.1, ...</td>\n      <td>{\"HR Usage Rate\": {\"stattest_threshold\": 0.05,...</td>\n      <td>{\"HR Usage Rate\": {\"stattest_threshold\": 0.1, ...</td>\n      <td>{\"HR Usage Rate\": {\"stattest_threshold\": 0.1, ...</td>\n      <td>{\"HR Usage Rate\": {\"stattest_threshold\": 0.1, ...</td>\n      <td>{\"HR Usage Rate\": {\"stattest_threshold\": 0.1, ...</td>\n      <td>{\"HR Usage Rate\": {\"stattest_threshold\": 0.1, ...</td>\n      <td>{\"HR Usage Rate\": {\"stattest_threshold\": 0.1, ...</td>\n      <td>{\"HR Usage Rate\": {\"stattest_threshold\": 0.1, ...</td>\n      <td>{\"HR Usage Rate\": {\"stattest_threshold\": 0.05,...</td>\n      <td>5682</td>\n    </tr>\n    <tr>\n      <th>991</th>\n      <td>{\"HR Usage Rate\": {\"stattest_threshold\": 0.1, ...</td>\n      <td>{\"HR Usage Rate\": {\"stattest_threshold\": 0.05,...</td>\n      <td>{\"HR Usage Rate\": {\"stattest_threshold\": 0.1, ...</td>\n      <td>{\"HR Usage Rate\": {\"stattest_threshold\": 0.1, ...</td>\n      <td>{\"HR Usage Rate\": {\"stattest_threshold\": 0.1, ...</td>\n      <td>{\"HR Usage Rate\": {\"stattest_threshold\": 0.1, ...</td>\n      <td>{\"HR Usage Rate\": {\"stattest_threshold\": 0.1, ...</td>\n      <td>{\"HR Usage Rate\": {\"stattest_threshold\": 0.1, ...</td>\n      <td>{\"HR Usage Rate\": {\"stattest_threshold\": 0.1, ...</td>\n      <td>{\"HR Usage Rate\": {\"stattest_threshold\": 0.05,...</td>\n      <td>12772</td>\n    </tr>\n    <tr>\n      <th>992</th>\n      <td>{\"HR Usage Rate\": {\"stattest_threshold\": 0.1, ...</td>\n      <td>{\"HR Usage Rate\": {\"stattest_threshold\": 0.05,...</td>\n      <td>{\"HR Usage Rate\": {\"stattest_threshold\": 0.1, ...</td>\n      <td>{\"HR Usage Rate\": {\"stattest_threshold\": 0.1, ...</td>\n      <td>{\"HR Usage Rate\": {\"stattest_threshold\": 0.1, ...</td>\n      <td>{\"HR Usage Rate\": {\"stattest_threshold\": 0.1, ...</td>\n      <td>{\"HR Usage Rate\": {\"stattest_threshold\": 0.1, ...</td>\n      <td>{\"HR Usage Rate\": {\"stattest_threshold\": 0.1, ...</td>\n      <td>{\"HR Usage Rate\": {\"stattest_threshold\": 0.1, ...</td>\n      <td>{\"HR Usage Rate\": {\"stattest_threshold\": 0.05,...</td>\n      <td>12771</td>\n    </tr>\n    <tr>\n      <th>993</th>\n      <td>{\"HR Usage Rate\": {\"stattest_threshold\": 0.1, ...</td>\n      <td>{\"HR Usage Rate\": {\"stattest_threshold\": 0.05,...</td>\n      <td>{\"HR Usage Rate\": {\"stattest_threshold\": 0.1, ...</td>\n      <td>{\"HR Usage Rate\": {\"stattest_threshold\": 0.1, ...</td>\n      <td>{\"HR Usage Rate\": {\"stattest_threshold\": 0.1, ...</td>\n      <td>{\"HR Usage Rate\": {\"stattest_threshold\": 0.1, ...</td>\n      <td>{\"HR Usage Rate\": {\"stattest_threshold\": 0.1, ...</td>\n      <td>{\"HR Usage Rate\": {\"stattest_threshold\": 0.1, ...</td>\n      <td>{\"HR Usage Rate\": {\"stattest_threshold\": 0.1, ...</td>\n      <td>{\"HR Usage Rate\": {\"stattest_threshold\": 0.05,...</td>\n      <td>12773</td>\n    </tr>\n  </tbody>\n</table>\n<p>994 rows × 11 columns</p>\n</div>"
     },
     "execution_count": 72,
     "metadata": {},
     "output_type": "execute_result"
    }
   ],
   "source": [
    "drift_scores_df"
   ],
   "metadata": {
    "collapsed": false,
    "ExecuteTime": {
     "end_time": "2023-10-17T17:38:40.345986060Z",
     "start_time": "2023-10-17T17:38:40.332131719Z"
    }
   },
   "id": "5a1eebef53514a69"
  },
  {
   "cell_type": "code",
   "execution_count": 73,
   "outputs": [],
   "source": [
    "def to_score(x: str) -> float:\n",
    "    js = json.loads(x)\n",
    "    size = len(js.items())\n",
    "    \n",
    "    return sum([js[f]['drift_detected'] for f, v in js.items()]) / size"
   ],
   "metadata": {
    "collapsed": false,
    "ExecuteTime": {
     "end_time": "2023-10-17T17:39:09.514760406Z",
     "start_time": "2023-10-17T17:39:09.492710753Z"
    }
   },
   "id": "3e01c5b40fe6a828"
  },
  {
   "cell_type": "code",
   "execution_count": 74,
   "outputs": [
    {
     "data": {
      "text/plain": "     cell_id   default        ks  wasserstein    kl_div       psi   \n0      25771  0.833333  0.833333     0.833333  0.833333  0.833333  \\\n1      22944  0.833333  1.000000     0.833333  0.833333  0.833333   \n2      26335  1.000000  1.000000     1.000000  0.833333  0.833333   \n3      26332  1.000000  1.000000     1.000000  0.833333  0.833333   \n4      26336  0.833333  0.833333     0.833333  0.833333  0.833333   \n..       ...       ...       ...          ...       ...       ...   \n989     5683  0.833333  0.833333     0.833333  0.833333  0.833333   \n990     5682  0.833333  0.833333     0.833333  0.833333  0.833333   \n991    12772  1.000000  1.000000     1.000000  0.833333  0.833333   \n992    12771  0.833333  1.000000     0.833333  0.833333  0.833333   \n993    12773  0.833333  0.833333     0.833333  0.833333  0.833333   \n\n     jensenshannon  cramer_von_mises  hellinger        ed    t_test  \n0         0.833333               1.0   0.833333  0.833333  0.833333  \n1         0.833333               1.0   0.833333  0.833333  0.833333  \n2         0.833333               1.0   0.833333  1.000000  0.666667  \n3         0.833333               1.0   0.833333  1.000000  0.833333  \n4         0.833333               1.0   0.833333  0.833333  0.833333  \n..             ...               ...        ...       ...       ...  \n989       0.833333               1.0   0.833333  0.833333  0.833333  \n990       0.833333               1.0   0.833333  0.833333  0.666667  \n991       0.833333               1.0   0.833333  1.000000  0.833333  \n992       0.833333               1.0   0.833333  0.833333  0.833333  \n993       0.833333               1.0   0.833333  0.833333  0.666667  \n\n[994 rows x 11 columns]",
      "text/html": "<div>\n<style scoped>\n    .dataframe tbody tr th:only-of-type {\n        vertical-align: middle;\n    }\n\n    .dataframe tbody tr th {\n        vertical-align: top;\n    }\n\n    .dataframe thead th {\n        text-align: right;\n    }\n</style>\n<table border=\"1\" class=\"dataframe\">\n  <thead>\n    <tr style=\"text-align: right;\">\n      <th></th>\n      <th>cell_id</th>\n      <th>default</th>\n      <th>ks</th>\n      <th>wasserstein</th>\n      <th>kl_div</th>\n      <th>psi</th>\n      <th>jensenshannon</th>\n      <th>cramer_von_mises</th>\n      <th>hellinger</th>\n      <th>ed</th>\n      <th>t_test</th>\n    </tr>\n  </thead>\n  <tbody>\n    <tr>\n      <th>0</th>\n      <td>25771</td>\n      <td>0.833333</td>\n      <td>0.833333</td>\n      <td>0.833333</td>\n      <td>0.833333</td>\n      <td>0.833333</td>\n      <td>0.833333</td>\n      <td>1.0</td>\n      <td>0.833333</td>\n      <td>0.833333</td>\n      <td>0.833333</td>\n    </tr>\n    <tr>\n      <th>1</th>\n      <td>22944</td>\n      <td>0.833333</td>\n      <td>1.000000</td>\n      <td>0.833333</td>\n      <td>0.833333</td>\n      <td>0.833333</td>\n      <td>0.833333</td>\n      <td>1.0</td>\n      <td>0.833333</td>\n      <td>0.833333</td>\n      <td>0.833333</td>\n    </tr>\n    <tr>\n      <th>2</th>\n      <td>26335</td>\n      <td>1.000000</td>\n      <td>1.000000</td>\n      <td>1.000000</td>\n      <td>0.833333</td>\n      <td>0.833333</td>\n      <td>0.833333</td>\n      <td>1.0</td>\n      <td>0.833333</td>\n      <td>1.000000</td>\n      <td>0.666667</td>\n    </tr>\n    <tr>\n      <th>3</th>\n      <td>26332</td>\n      <td>1.000000</td>\n      <td>1.000000</td>\n      <td>1.000000</td>\n      <td>0.833333</td>\n      <td>0.833333</td>\n      <td>0.833333</td>\n      <td>1.0</td>\n      <td>0.833333</td>\n      <td>1.000000</td>\n      <td>0.833333</td>\n    </tr>\n    <tr>\n      <th>4</th>\n      <td>26336</td>\n      <td>0.833333</td>\n      <td>0.833333</td>\n      <td>0.833333</td>\n      <td>0.833333</td>\n      <td>0.833333</td>\n      <td>0.833333</td>\n      <td>1.0</td>\n      <td>0.833333</td>\n      <td>0.833333</td>\n      <td>0.833333</td>\n    </tr>\n    <tr>\n      <th>...</th>\n      <td>...</td>\n      <td>...</td>\n      <td>...</td>\n      <td>...</td>\n      <td>...</td>\n      <td>...</td>\n      <td>...</td>\n      <td>...</td>\n      <td>...</td>\n      <td>...</td>\n      <td>...</td>\n    </tr>\n    <tr>\n      <th>989</th>\n      <td>5683</td>\n      <td>0.833333</td>\n      <td>0.833333</td>\n      <td>0.833333</td>\n      <td>0.833333</td>\n      <td>0.833333</td>\n      <td>0.833333</td>\n      <td>1.0</td>\n      <td>0.833333</td>\n      <td>0.833333</td>\n      <td>0.833333</td>\n    </tr>\n    <tr>\n      <th>990</th>\n      <td>5682</td>\n      <td>0.833333</td>\n      <td>0.833333</td>\n      <td>0.833333</td>\n      <td>0.833333</td>\n      <td>0.833333</td>\n      <td>0.833333</td>\n      <td>1.0</td>\n      <td>0.833333</td>\n      <td>0.833333</td>\n      <td>0.666667</td>\n    </tr>\n    <tr>\n      <th>991</th>\n      <td>12772</td>\n      <td>1.000000</td>\n      <td>1.000000</td>\n      <td>1.000000</td>\n      <td>0.833333</td>\n      <td>0.833333</td>\n      <td>0.833333</td>\n      <td>1.0</td>\n      <td>0.833333</td>\n      <td>1.000000</td>\n      <td>0.833333</td>\n    </tr>\n    <tr>\n      <th>992</th>\n      <td>12771</td>\n      <td>0.833333</td>\n      <td>1.000000</td>\n      <td>0.833333</td>\n      <td>0.833333</td>\n      <td>0.833333</td>\n      <td>0.833333</td>\n      <td>1.0</td>\n      <td>0.833333</td>\n      <td>0.833333</td>\n      <td>0.833333</td>\n    </tr>\n    <tr>\n      <th>993</th>\n      <td>12773</td>\n      <td>0.833333</td>\n      <td>0.833333</td>\n      <td>0.833333</td>\n      <td>0.833333</td>\n      <td>0.833333</td>\n      <td>0.833333</td>\n      <td>1.0</td>\n      <td>0.833333</td>\n      <td>0.833333</td>\n      <td>0.666667</td>\n    </tr>\n  </tbody>\n</table>\n<p>994 rows × 11 columns</p>\n</div>"
     },
     "execution_count": 74,
     "metadata": {},
     "output_type": "execute_result"
    }
   ],
   "source": [
    "ds_df = drift_scores_df[[c for c in drift_scores_df.columns if c != 'cell_id']].apply(lambda x: list(map(to_score, x)))\n",
    "ds_df['cell_id'] = drift_scores_df.cell_id\n",
    "ds_df = ds_df[['cell_id'] + list(ds_df.columns)[:-1]]\n",
    "ds_df"
   ],
   "metadata": {
    "collapsed": false,
    "ExecuteTime": {
     "end_time": "2023-10-17T17:39:09.989438697Z",
     "start_time": "2023-10-17T17:39:09.836690101Z"
    }
   },
   "id": "ef0859cac675b773"
  },
  {
   "cell_type": "code",
   "execution_count": 75,
   "outputs": [
    {
     "data": {
      "text/plain": "            cell_id     default          ks  wasserstein      kl_div   \ncount    994.000000  994.000000  994.000000   994.000000  994.000000  \\\nmean   14601.775654    0.878773    0.926392     0.878773    0.834172   \nstd    11994.634963    0.074257    0.082806     0.074257    0.011797   \nmin      701.000000    0.833333    0.833333     0.833333    0.833333   \n25%     5071.250000    0.833333    0.833333     0.833333    0.833333   \n50%    10931.500000    0.833333    1.000000     0.833333    0.833333   \n75%    24234.500000    1.000000    1.000000     1.000000    0.833333   \nmax    42857.000000    1.000000    1.000000     1.000000    1.000000   \n\n              psi  jensenshannon  cramer_von_mises   hellinger          ed   \ncount  994.000000     994.000000             994.0  994.000000  994.000000  \\\nmean     0.842220       0.842388               1.0    0.842388    0.893025   \nstd      0.037464       0.037796               0.0    0.037796    0.079950   \nmin      0.833333       0.833333               1.0    0.833333    0.833333   \n25%      0.833333       0.833333               1.0    0.833333    0.833333   \n50%      0.833333       0.833333               1.0    0.833333    0.833333   \n75%      0.833333       0.833333               1.0    0.833333    1.000000   \nmax      1.000000       1.000000               1.0    1.000000    1.000000   \n\n           t_test  \ncount  994.000000  \nmean     0.802314  \nstd      0.107168  \nmin      0.333333  \n25%      0.833333  \n50%      0.833333  \n75%      0.833333  \nmax      1.000000  ",
      "text/html": "<div>\n<style scoped>\n    .dataframe tbody tr th:only-of-type {\n        vertical-align: middle;\n    }\n\n    .dataframe tbody tr th {\n        vertical-align: top;\n    }\n\n    .dataframe thead th {\n        text-align: right;\n    }\n</style>\n<table border=\"1\" class=\"dataframe\">\n  <thead>\n    <tr style=\"text-align: right;\">\n      <th></th>\n      <th>cell_id</th>\n      <th>default</th>\n      <th>ks</th>\n      <th>wasserstein</th>\n      <th>kl_div</th>\n      <th>psi</th>\n      <th>jensenshannon</th>\n      <th>cramer_von_mises</th>\n      <th>hellinger</th>\n      <th>ed</th>\n      <th>t_test</th>\n    </tr>\n  </thead>\n  <tbody>\n    <tr>\n      <th>count</th>\n      <td>994.000000</td>\n      <td>994.000000</td>\n      <td>994.000000</td>\n      <td>994.000000</td>\n      <td>994.000000</td>\n      <td>994.000000</td>\n      <td>994.000000</td>\n      <td>994.0</td>\n      <td>994.000000</td>\n      <td>994.000000</td>\n      <td>994.000000</td>\n    </tr>\n    <tr>\n      <th>mean</th>\n      <td>14601.775654</td>\n      <td>0.878773</td>\n      <td>0.926392</td>\n      <td>0.878773</td>\n      <td>0.834172</td>\n      <td>0.842220</td>\n      <td>0.842388</td>\n      <td>1.0</td>\n      <td>0.842388</td>\n      <td>0.893025</td>\n      <td>0.802314</td>\n    </tr>\n    <tr>\n      <th>std</th>\n      <td>11994.634963</td>\n      <td>0.074257</td>\n      <td>0.082806</td>\n      <td>0.074257</td>\n      <td>0.011797</td>\n      <td>0.037464</td>\n      <td>0.037796</td>\n      <td>0.0</td>\n      <td>0.037796</td>\n      <td>0.079950</td>\n      <td>0.107168</td>\n    </tr>\n    <tr>\n      <th>min</th>\n      <td>701.000000</td>\n      <td>0.833333</td>\n      <td>0.833333</td>\n      <td>0.833333</td>\n      <td>0.833333</td>\n      <td>0.833333</td>\n      <td>0.833333</td>\n      <td>1.0</td>\n      <td>0.833333</td>\n      <td>0.833333</td>\n      <td>0.333333</td>\n    </tr>\n    <tr>\n      <th>25%</th>\n      <td>5071.250000</td>\n      <td>0.833333</td>\n      <td>0.833333</td>\n      <td>0.833333</td>\n      <td>0.833333</td>\n      <td>0.833333</td>\n      <td>0.833333</td>\n      <td>1.0</td>\n      <td>0.833333</td>\n      <td>0.833333</td>\n      <td>0.833333</td>\n    </tr>\n    <tr>\n      <th>50%</th>\n      <td>10931.500000</td>\n      <td>0.833333</td>\n      <td>1.000000</td>\n      <td>0.833333</td>\n      <td>0.833333</td>\n      <td>0.833333</td>\n      <td>0.833333</td>\n      <td>1.0</td>\n      <td>0.833333</td>\n      <td>0.833333</td>\n      <td>0.833333</td>\n    </tr>\n    <tr>\n      <th>75%</th>\n      <td>24234.500000</td>\n      <td>1.000000</td>\n      <td>1.000000</td>\n      <td>1.000000</td>\n      <td>0.833333</td>\n      <td>0.833333</td>\n      <td>0.833333</td>\n      <td>1.0</td>\n      <td>0.833333</td>\n      <td>1.000000</td>\n      <td>0.833333</td>\n    </tr>\n    <tr>\n      <th>max</th>\n      <td>42857.000000</td>\n      <td>1.000000</td>\n      <td>1.000000</td>\n      <td>1.000000</td>\n      <td>1.000000</td>\n      <td>1.000000</td>\n      <td>1.000000</td>\n      <td>1.0</td>\n      <td>1.000000</td>\n      <td>1.000000</td>\n      <td>1.000000</td>\n    </tr>\n  </tbody>\n</table>\n</div>"
     },
     "execution_count": 75,
     "metadata": {},
     "output_type": "execute_result"
    }
   ],
   "source": [
    "ds_df.describe()"
   ],
   "metadata": {
    "collapsed": false,
    "ExecuteTime": {
     "end_time": "2023-10-17T17:39:13.781341239Z",
     "start_time": "2023-10-17T17:39:13.738292201Z"
    }
   },
   "id": "ba9e14bc5b99f956"
  },
  {
   "cell_type": "code",
   "execution_count": 76,
   "outputs": [
    {
     "data": {
      "text/plain": "                   cell_id  drift_score  quality_avg  quality_min   \ncell_id           1.000000    -0.042054     0.036162     0.018046  \\\ndrift_score      -0.042054     1.000000    -0.637122    -0.609597   \nquality_avg       0.036162    -0.637122     1.000000     0.689293   \nquality_min       0.018046    -0.609597     0.689293     1.000000   \nquality_max      -0.001332    -0.289934     0.462465     0.197964   \nquality_std      -0.023063     0.642976    -0.782348    -0.955504   \ncum_reward_avg    0.000967    -0.395991     0.615313     0.643323   \ncum_reward_max   -0.002974    -0.362477     0.612029     0.588608   \ncum_reward_std   -0.010015    -0.190325     0.471206     0.291974   \nmom_reward_avg   -0.015267    -0.412066     0.680864     0.660707   \nmom_reward_min   -0.004787    -0.507615     0.617562     0.875122   \nmom_reward_max         NaN          NaN          NaN          NaN   \nmom_reward_std    0.007010     0.500957    -0.670544    -0.823123   \ndefault          -0.042054     1.000000    -0.637122    -0.609597   \nks               -0.014083     0.348880    -0.237932    -0.056428   \nwasserstein      -0.042054     1.000000    -0.637122    -0.609597   \nkl_div           -0.004797     0.116137    -0.490077    -0.164067   \npsi              -0.029400     0.387639    -0.601974    -0.547614   \njensenshannon    -0.035427     0.391487    -0.594971    -0.547616   \ncramer_von_mises       NaN          NaN          NaN          NaN   \nhellinger        -0.027563     0.391487    -0.568248    -0.564737   \ned               -0.032091     0.781903    -0.562093    -0.502250   \nt_test           -0.013158     0.240570    -0.305755    -0.325514   \n\n                  quality_max  quality_std  cum_reward_avg  cum_reward_max   \ncell_id             -0.001332    -0.023063        0.000967       -0.002974  \\\ndrift_score         -0.289934     0.642976       -0.395991       -0.362477   \nquality_avg          0.462465    -0.782348        0.615313        0.612029   \nquality_min          0.197964    -0.955504        0.643323        0.588608   \nquality_max          1.000000    -0.190559        0.118900        0.117325   \nquality_std         -0.190559     1.000000       -0.760596       -0.714535   \ncum_reward_avg       0.118900    -0.760596        1.000000        0.963393   \ncum_reward_max       0.117325    -0.714535        0.963393        1.000000   \ncum_reward_std       0.090388    -0.413002        0.626701        0.804616   \nmom_reward_avg       0.110648    -0.800001        0.936032        0.884176   \nmom_reward_min       0.157472    -0.880169        0.789672        0.711489   \nmom_reward_max            NaN          NaN             NaN             NaN   \nmom_reward_std      -0.144085     0.892789       -0.905428       -0.829277   \ndefault             -0.289934     0.642976       -0.395991       -0.362477   \nks                  -0.168453     0.093760       -0.090844       -0.079346   \nwasserstein         -0.289934     0.642976       -0.395991       -0.362477   \nkl_div              -0.067899     0.266944       -0.337963       -0.357040   \npsi                 -0.125177     0.676731       -0.650346       -0.622673   \njensenshannon       -0.119252     0.676923       -0.641243       -0.614825   \ncramer_von_mises          NaN          NaN             NaN             NaN   \nhellinger           -0.115056     0.680283       -0.646223       -0.607506   \ned                  -0.309426     0.531415       -0.318352       -0.291314   \nt_test              -0.129502     0.357839       -0.293259       -0.269860   \n\n                  cum_reward_std  mom_reward_avg  ...   default        ks   \ncell_id                -0.010015       -0.015267  ... -0.042054 -0.014083  \\\ndrift_score            -0.190325       -0.412066  ...  1.000000  0.348880   \nquality_avg             0.471206        0.680864  ... -0.637122 -0.237932   \nquality_min             0.291974        0.660707  ... -0.609597 -0.056428   \nquality_max             0.090388        0.110648  ... -0.289934 -0.168453   \nquality_std            -0.413002       -0.800001  ...  0.642976  0.093760   \ncum_reward_avg          0.626701        0.936032  ... -0.395991 -0.090844   \ncum_reward_max          0.804616        0.884176  ... -0.362477 -0.079346   \ncum_reward_std          1.000000        0.535230  ... -0.190325 -0.045423   \nmom_reward_avg          0.535230        1.000000  ... -0.412066 -0.100554   \nmom_reward_min          0.317874        0.795490  ... -0.507615 -0.092995   \nmom_reward_max               NaN             NaN  ...       NaN       NaN   \nmom_reward_std         -0.418001       -0.931414  ...  0.500957  0.103922   \ndefault                -0.190325       -0.412066  ...  1.000000  0.348880   \nks                     -0.045423       -0.100554  ...  0.348880  1.000000   \nwasserstein            -0.190325       -0.412066  ...  1.000000  0.348880   \nkl_div                 -0.389688       -0.373832  ...  0.116137  0.063237   \npsi                    -0.401941       -0.685072  ...  0.387639  0.075812   \njensenshannon          -0.398805       -0.677233  ...  0.391487  0.061218   \ncramer_von_mises             NaN             NaN  ...       NaN       NaN   \nhellinger              -0.366093       -0.669658  ...  0.391487  0.061218   \ned                     -0.154870       -0.335622  ...  0.781903  0.499563   \nt_test                 -0.135084       -0.292552  ...  0.240570  0.079736   \n\n                  wasserstein    kl_div       psi  jensenshannon   \ncell_id             -0.042054 -0.004797 -0.029400      -0.035427  \\\ndrift_score          1.000000  0.116137  0.387639       0.391487   \nquality_avg         -0.637122 -0.490077 -0.601974      -0.594971   \nquality_min         -0.609597 -0.164067 -0.547614      -0.547616   \nquality_max         -0.289934 -0.067899 -0.125177      -0.119252   \nquality_std          0.642976  0.266944  0.676731       0.676923   \ncum_reward_avg      -0.395991 -0.337963 -0.650346      -0.641243   \ncum_reward_max      -0.362477 -0.357040 -0.622673      -0.614825   \ncum_reward_std      -0.190325 -0.389688 -0.401941      -0.398805   \nmom_reward_avg      -0.412066 -0.373832 -0.685072      -0.677233   \nmom_reward_min      -0.507615 -0.148054 -0.585460      -0.574075   \nmom_reward_max            NaN       NaN       NaN            NaN   \nmom_reward_std       0.500957  0.220165  0.676008       0.667385   \ndefault              1.000000  0.116137  0.387639       0.391487   \nks                   0.348880  0.063237  0.075812       0.061218   \nwasserstein          1.000000  0.116137  0.387639       0.391487   \nkl_div               0.116137  1.000000  0.299601       0.296657   \npsi                  0.387639  0.299601  1.000000       0.970415   \njensenshannon        0.391487  0.296657  0.970415       1.000000   \ncramer_von_mises          NaN       NaN       NaN            NaN   \nhellinger            0.391487  0.296657  0.911148       0.882506   \ned                   0.781903  0.095186  0.317708       0.320862   \nt_test               0.240570  0.042718  0.319552       0.318033   \n\n                  cramer_von_mises  hellinger        ed    t_test  \ncell_id                        NaN  -0.027563 -0.032091 -0.013158  \ndrift_score                    NaN   0.391487  0.781903  0.240570  \nquality_avg                    NaN  -0.568248 -0.562093 -0.305755  \nquality_min                    NaN  -0.564737 -0.502250 -0.325514  \nquality_max                    NaN  -0.115056 -0.309426 -0.129502  \nquality_std                    NaN   0.680283  0.531415  0.357839  \ncum_reward_avg                 NaN  -0.646223 -0.318352 -0.293259  \ncum_reward_max                 NaN  -0.607506 -0.291314 -0.269860  \ncum_reward_std                 NaN  -0.366093 -0.154870 -0.135084  \nmom_reward_avg                 NaN  -0.669658 -0.335622 -0.292552  \nmom_reward_min                 NaN  -0.597115 -0.414229 -0.353414  \nmom_reward_max                 NaN        NaN       NaN       NaN  \nmom_reward_std                 NaN   0.672135  0.408304  0.351326  \ndefault                        NaN   0.391487  0.781903  0.240570  \nks                             NaN   0.061218  0.499563  0.079736  \nwasserstein                    NaN   0.391487  0.781903  0.240570  \nkl_div                         NaN   0.296657  0.095186  0.042718  \npsi                            NaN   0.911148  0.317708  0.319552  \njensenshannon                  NaN   0.882506  0.320862  0.318033  \ncramer_von_mises               NaN        NaN       NaN       NaN  \nhellinger                      NaN   1.000000  0.320862  0.283502  \ned                             NaN   0.320862  1.000000  0.222852  \nt_test                         NaN   0.283502  0.222852  1.000000  \n\n[23 rows x 23 columns]",
      "text/html": "<div>\n<style scoped>\n    .dataframe tbody tr th:only-of-type {\n        vertical-align: middle;\n    }\n\n    .dataframe tbody tr th {\n        vertical-align: top;\n    }\n\n    .dataframe thead th {\n        text-align: right;\n    }\n</style>\n<table border=\"1\" class=\"dataframe\">\n  <thead>\n    <tr style=\"text-align: right;\">\n      <th></th>\n      <th>cell_id</th>\n      <th>drift_score</th>\n      <th>quality_avg</th>\n      <th>quality_min</th>\n      <th>quality_max</th>\n      <th>quality_std</th>\n      <th>cum_reward_avg</th>\n      <th>cum_reward_max</th>\n      <th>cum_reward_std</th>\n      <th>mom_reward_avg</th>\n      <th>...</th>\n      <th>default</th>\n      <th>ks</th>\n      <th>wasserstein</th>\n      <th>kl_div</th>\n      <th>psi</th>\n      <th>jensenshannon</th>\n      <th>cramer_von_mises</th>\n      <th>hellinger</th>\n      <th>ed</th>\n      <th>t_test</th>\n    </tr>\n  </thead>\n  <tbody>\n    <tr>\n      <th>cell_id</th>\n      <td>1.000000</td>\n      <td>-0.042054</td>\n      <td>0.036162</td>\n      <td>0.018046</td>\n      <td>-0.001332</td>\n      <td>-0.023063</td>\n      <td>0.000967</td>\n      <td>-0.002974</td>\n      <td>-0.010015</td>\n      <td>-0.015267</td>\n      <td>...</td>\n      <td>-0.042054</td>\n      <td>-0.014083</td>\n      <td>-0.042054</td>\n      <td>-0.004797</td>\n      <td>-0.029400</td>\n      <td>-0.035427</td>\n      <td>NaN</td>\n      <td>-0.027563</td>\n      <td>-0.032091</td>\n      <td>-0.013158</td>\n    </tr>\n    <tr>\n      <th>drift_score</th>\n      <td>-0.042054</td>\n      <td>1.000000</td>\n      <td>-0.637122</td>\n      <td>-0.609597</td>\n      <td>-0.289934</td>\n      <td>0.642976</td>\n      <td>-0.395991</td>\n      <td>-0.362477</td>\n      <td>-0.190325</td>\n      <td>-0.412066</td>\n      <td>...</td>\n      <td>1.000000</td>\n      <td>0.348880</td>\n      <td>1.000000</td>\n      <td>0.116137</td>\n      <td>0.387639</td>\n      <td>0.391487</td>\n      <td>NaN</td>\n      <td>0.391487</td>\n      <td>0.781903</td>\n      <td>0.240570</td>\n    </tr>\n    <tr>\n      <th>quality_avg</th>\n      <td>0.036162</td>\n      <td>-0.637122</td>\n      <td>1.000000</td>\n      <td>0.689293</td>\n      <td>0.462465</td>\n      <td>-0.782348</td>\n      <td>0.615313</td>\n      <td>0.612029</td>\n      <td>0.471206</td>\n      <td>0.680864</td>\n      <td>...</td>\n      <td>-0.637122</td>\n      <td>-0.237932</td>\n      <td>-0.637122</td>\n      <td>-0.490077</td>\n      <td>-0.601974</td>\n      <td>-0.594971</td>\n      <td>NaN</td>\n      <td>-0.568248</td>\n      <td>-0.562093</td>\n      <td>-0.305755</td>\n    </tr>\n    <tr>\n      <th>quality_min</th>\n      <td>0.018046</td>\n      <td>-0.609597</td>\n      <td>0.689293</td>\n      <td>1.000000</td>\n      <td>0.197964</td>\n      <td>-0.955504</td>\n      <td>0.643323</td>\n      <td>0.588608</td>\n      <td>0.291974</td>\n      <td>0.660707</td>\n      <td>...</td>\n      <td>-0.609597</td>\n      <td>-0.056428</td>\n      <td>-0.609597</td>\n      <td>-0.164067</td>\n      <td>-0.547614</td>\n      <td>-0.547616</td>\n      <td>NaN</td>\n      <td>-0.564737</td>\n      <td>-0.502250</td>\n      <td>-0.325514</td>\n    </tr>\n    <tr>\n      <th>quality_max</th>\n      <td>-0.001332</td>\n      <td>-0.289934</td>\n      <td>0.462465</td>\n      <td>0.197964</td>\n      <td>1.000000</td>\n      <td>-0.190559</td>\n      <td>0.118900</td>\n      <td>0.117325</td>\n      <td>0.090388</td>\n      <td>0.110648</td>\n      <td>...</td>\n      <td>-0.289934</td>\n      <td>-0.168453</td>\n      <td>-0.289934</td>\n      <td>-0.067899</td>\n      <td>-0.125177</td>\n      <td>-0.119252</td>\n      <td>NaN</td>\n      <td>-0.115056</td>\n      <td>-0.309426</td>\n      <td>-0.129502</td>\n    </tr>\n    <tr>\n      <th>quality_std</th>\n      <td>-0.023063</td>\n      <td>0.642976</td>\n      <td>-0.782348</td>\n      <td>-0.955504</td>\n      <td>-0.190559</td>\n      <td>1.000000</td>\n      <td>-0.760596</td>\n      <td>-0.714535</td>\n      <td>-0.413002</td>\n      <td>-0.800001</td>\n      <td>...</td>\n      <td>0.642976</td>\n      <td>0.093760</td>\n      <td>0.642976</td>\n      <td>0.266944</td>\n      <td>0.676731</td>\n      <td>0.676923</td>\n      <td>NaN</td>\n      <td>0.680283</td>\n      <td>0.531415</td>\n      <td>0.357839</td>\n    </tr>\n    <tr>\n      <th>cum_reward_avg</th>\n      <td>0.000967</td>\n      <td>-0.395991</td>\n      <td>0.615313</td>\n      <td>0.643323</td>\n      <td>0.118900</td>\n      <td>-0.760596</td>\n      <td>1.000000</td>\n      <td>0.963393</td>\n      <td>0.626701</td>\n      <td>0.936032</td>\n      <td>...</td>\n      <td>-0.395991</td>\n      <td>-0.090844</td>\n      <td>-0.395991</td>\n      <td>-0.337963</td>\n      <td>-0.650346</td>\n      <td>-0.641243</td>\n      <td>NaN</td>\n      <td>-0.646223</td>\n      <td>-0.318352</td>\n      <td>-0.293259</td>\n    </tr>\n    <tr>\n      <th>cum_reward_max</th>\n      <td>-0.002974</td>\n      <td>-0.362477</td>\n      <td>0.612029</td>\n      <td>0.588608</td>\n      <td>0.117325</td>\n      <td>-0.714535</td>\n      <td>0.963393</td>\n      <td>1.000000</td>\n      <td>0.804616</td>\n      <td>0.884176</td>\n      <td>...</td>\n      <td>-0.362477</td>\n      <td>-0.079346</td>\n      <td>-0.362477</td>\n      <td>-0.357040</td>\n      <td>-0.622673</td>\n      <td>-0.614825</td>\n      <td>NaN</td>\n      <td>-0.607506</td>\n      <td>-0.291314</td>\n      <td>-0.269860</td>\n    </tr>\n    <tr>\n      <th>cum_reward_std</th>\n      <td>-0.010015</td>\n      <td>-0.190325</td>\n      <td>0.471206</td>\n      <td>0.291974</td>\n      <td>0.090388</td>\n      <td>-0.413002</td>\n      <td>0.626701</td>\n      <td>0.804616</td>\n      <td>1.000000</td>\n      <td>0.535230</td>\n      <td>...</td>\n      <td>-0.190325</td>\n      <td>-0.045423</td>\n      <td>-0.190325</td>\n      <td>-0.389688</td>\n      <td>-0.401941</td>\n      <td>-0.398805</td>\n      <td>NaN</td>\n      <td>-0.366093</td>\n      <td>-0.154870</td>\n      <td>-0.135084</td>\n    </tr>\n    <tr>\n      <th>mom_reward_avg</th>\n      <td>-0.015267</td>\n      <td>-0.412066</td>\n      <td>0.680864</td>\n      <td>0.660707</td>\n      <td>0.110648</td>\n      <td>-0.800001</td>\n      <td>0.936032</td>\n      <td>0.884176</td>\n      <td>0.535230</td>\n      <td>1.000000</td>\n      <td>...</td>\n      <td>-0.412066</td>\n      <td>-0.100554</td>\n      <td>-0.412066</td>\n      <td>-0.373832</td>\n      <td>-0.685072</td>\n      <td>-0.677233</td>\n      <td>NaN</td>\n      <td>-0.669658</td>\n      <td>-0.335622</td>\n      <td>-0.292552</td>\n    </tr>\n    <tr>\n      <th>mom_reward_min</th>\n      <td>-0.004787</td>\n      <td>-0.507615</td>\n      <td>0.617562</td>\n      <td>0.875122</td>\n      <td>0.157472</td>\n      <td>-0.880169</td>\n      <td>0.789672</td>\n      <td>0.711489</td>\n      <td>0.317874</td>\n      <td>0.795490</td>\n      <td>...</td>\n      <td>-0.507615</td>\n      <td>-0.092995</td>\n      <td>-0.507615</td>\n      <td>-0.148054</td>\n      <td>-0.585460</td>\n      <td>-0.574075</td>\n      <td>NaN</td>\n      <td>-0.597115</td>\n      <td>-0.414229</td>\n      <td>-0.353414</td>\n    </tr>\n    <tr>\n      <th>mom_reward_max</th>\n      <td>NaN</td>\n      <td>NaN</td>\n      <td>NaN</td>\n      <td>NaN</td>\n      <td>NaN</td>\n      <td>NaN</td>\n      <td>NaN</td>\n      <td>NaN</td>\n      <td>NaN</td>\n      <td>NaN</td>\n      <td>...</td>\n      <td>NaN</td>\n      <td>NaN</td>\n      <td>NaN</td>\n      <td>NaN</td>\n      <td>NaN</td>\n      <td>NaN</td>\n      <td>NaN</td>\n      <td>NaN</td>\n      <td>NaN</td>\n      <td>NaN</td>\n    </tr>\n    <tr>\n      <th>mom_reward_std</th>\n      <td>0.007010</td>\n      <td>0.500957</td>\n      <td>-0.670544</td>\n      <td>-0.823123</td>\n      <td>-0.144085</td>\n      <td>0.892789</td>\n      <td>-0.905428</td>\n      <td>-0.829277</td>\n      <td>-0.418001</td>\n      <td>-0.931414</td>\n      <td>...</td>\n      <td>0.500957</td>\n      <td>0.103922</td>\n      <td>0.500957</td>\n      <td>0.220165</td>\n      <td>0.676008</td>\n      <td>0.667385</td>\n      <td>NaN</td>\n      <td>0.672135</td>\n      <td>0.408304</td>\n      <td>0.351326</td>\n    </tr>\n    <tr>\n      <th>default</th>\n      <td>-0.042054</td>\n      <td>1.000000</td>\n      <td>-0.637122</td>\n      <td>-0.609597</td>\n      <td>-0.289934</td>\n      <td>0.642976</td>\n      <td>-0.395991</td>\n      <td>-0.362477</td>\n      <td>-0.190325</td>\n      <td>-0.412066</td>\n      <td>...</td>\n      <td>1.000000</td>\n      <td>0.348880</td>\n      <td>1.000000</td>\n      <td>0.116137</td>\n      <td>0.387639</td>\n      <td>0.391487</td>\n      <td>NaN</td>\n      <td>0.391487</td>\n      <td>0.781903</td>\n      <td>0.240570</td>\n    </tr>\n    <tr>\n      <th>ks</th>\n      <td>-0.014083</td>\n      <td>0.348880</td>\n      <td>-0.237932</td>\n      <td>-0.056428</td>\n      <td>-0.168453</td>\n      <td>0.093760</td>\n      <td>-0.090844</td>\n      <td>-0.079346</td>\n      <td>-0.045423</td>\n      <td>-0.100554</td>\n      <td>...</td>\n      <td>0.348880</td>\n      <td>1.000000</td>\n      <td>0.348880</td>\n      <td>0.063237</td>\n      <td>0.075812</td>\n      <td>0.061218</td>\n      <td>NaN</td>\n      <td>0.061218</td>\n      <td>0.499563</td>\n      <td>0.079736</td>\n    </tr>\n    <tr>\n      <th>wasserstein</th>\n      <td>-0.042054</td>\n      <td>1.000000</td>\n      <td>-0.637122</td>\n      <td>-0.609597</td>\n      <td>-0.289934</td>\n      <td>0.642976</td>\n      <td>-0.395991</td>\n      <td>-0.362477</td>\n      <td>-0.190325</td>\n      <td>-0.412066</td>\n      <td>...</td>\n      <td>1.000000</td>\n      <td>0.348880</td>\n      <td>1.000000</td>\n      <td>0.116137</td>\n      <td>0.387639</td>\n      <td>0.391487</td>\n      <td>NaN</td>\n      <td>0.391487</td>\n      <td>0.781903</td>\n      <td>0.240570</td>\n    </tr>\n    <tr>\n      <th>kl_div</th>\n      <td>-0.004797</td>\n      <td>0.116137</td>\n      <td>-0.490077</td>\n      <td>-0.164067</td>\n      <td>-0.067899</td>\n      <td>0.266944</td>\n      <td>-0.337963</td>\n      <td>-0.357040</td>\n      <td>-0.389688</td>\n      <td>-0.373832</td>\n      <td>...</td>\n      <td>0.116137</td>\n      <td>0.063237</td>\n      <td>0.116137</td>\n      <td>1.000000</td>\n      <td>0.299601</td>\n      <td>0.296657</td>\n      <td>NaN</td>\n      <td>0.296657</td>\n      <td>0.095186</td>\n      <td>0.042718</td>\n    </tr>\n    <tr>\n      <th>psi</th>\n      <td>-0.029400</td>\n      <td>0.387639</td>\n      <td>-0.601974</td>\n      <td>-0.547614</td>\n      <td>-0.125177</td>\n      <td>0.676731</td>\n      <td>-0.650346</td>\n      <td>-0.622673</td>\n      <td>-0.401941</td>\n      <td>-0.685072</td>\n      <td>...</td>\n      <td>0.387639</td>\n      <td>0.075812</td>\n      <td>0.387639</td>\n      <td>0.299601</td>\n      <td>1.000000</td>\n      <td>0.970415</td>\n      <td>NaN</td>\n      <td>0.911148</td>\n      <td>0.317708</td>\n      <td>0.319552</td>\n    </tr>\n    <tr>\n      <th>jensenshannon</th>\n      <td>-0.035427</td>\n      <td>0.391487</td>\n      <td>-0.594971</td>\n      <td>-0.547616</td>\n      <td>-0.119252</td>\n      <td>0.676923</td>\n      <td>-0.641243</td>\n      <td>-0.614825</td>\n      <td>-0.398805</td>\n      <td>-0.677233</td>\n      <td>...</td>\n      <td>0.391487</td>\n      <td>0.061218</td>\n      <td>0.391487</td>\n      <td>0.296657</td>\n      <td>0.970415</td>\n      <td>1.000000</td>\n      <td>NaN</td>\n      <td>0.882506</td>\n      <td>0.320862</td>\n      <td>0.318033</td>\n    </tr>\n    <tr>\n      <th>cramer_von_mises</th>\n      <td>NaN</td>\n      <td>NaN</td>\n      <td>NaN</td>\n      <td>NaN</td>\n      <td>NaN</td>\n      <td>NaN</td>\n      <td>NaN</td>\n      <td>NaN</td>\n      <td>NaN</td>\n      <td>NaN</td>\n      <td>...</td>\n      <td>NaN</td>\n      <td>NaN</td>\n      <td>NaN</td>\n      <td>NaN</td>\n      <td>NaN</td>\n      <td>NaN</td>\n      <td>NaN</td>\n      <td>NaN</td>\n      <td>NaN</td>\n      <td>NaN</td>\n    </tr>\n    <tr>\n      <th>hellinger</th>\n      <td>-0.027563</td>\n      <td>0.391487</td>\n      <td>-0.568248</td>\n      <td>-0.564737</td>\n      <td>-0.115056</td>\n      <td>0.680283</td>\n      <td>-0.646223</td>\n      <td>-0.607506</td>\n      <td>-0.366093</td>\n      <td>-0.669658</td>\n      <td>...</td>\n      <td>0.391487</td>\n      <td>0.061218</td>\n      <td>0.391487</td>\n      <td>0.296657</td>\n      <td>0.911148</td>\n      <td>0.882506</td>\n      <td>NaN</td>\n      <td>1.000000</td>\n      <td>0.320862</td>\n      <td>0.283502</td>\n    </tr>\n    <tr>\n      <th>ed</th>\n      <td>-0.032091</td>\n      <td>0.781903</td>\n      <td>-0.562093</td>\n      <td>-0.502250</td>\n      <td>-0.309426</td>\n      <td>0.531415</td>\n      <td>-0.318352</td>\n      <td>-0.291314</td>\n      <td>-0.154870</td>\n      <td>-0.335622</td>\n      <td>...</td>\n      <td>0.781903</td>\n      <td>0.499563</td>\n      <td>0.781903</td>\n      <td>0.095186</td>\n      <td>0.317708</td>\n      <td>0.320862</td>\n      <td>NaN</td>\n      <td>0.320862</td>\n      <td>1.000000</td>\n      <td>0.222852</td>\n    </tr>\n    <tr>\n      <th>t_test</th>\n      <td>-0.013158</td>\n      <td>0.240570</td>\n      <td>-0.305755</td>\n      <td>-0.325514</td>\n      <td>-0.129502</td>\n      <td>0.357839</td>\n      <td>-0.293259</td>\n      <td>-0.269860</td>\n      <td>-0.135084</td>\n      <td>-0.292552</td>\n      <td>...</td>\n      <td>0.240570</td>\n      <td>0.079736</td>\n      <td>0.240570</td>\n      <td>0.042718</td>\n      <td>0.319552</td>\n      <td>0.318033</td>\n      <td>NaN</td>\n      <td>0.283502</td>\n      <td>0.222852</td>\n      <td>1.000000</td>\n    </tr>\n  </tbody>\n</table>\n<p>23 rows × 23 columns</p>\n</div>"
     },
     "execution_count": 76,
     "metadata": {},
     "output_type": "execute_result"
    }
   ],
   "source": [
    "merged = rewards.merge(ds_df, left_on='cell_id', right_on='cell_id', how='inner')\n",
    "merged.corr()"
   ],
   "metadata": {
    "collapsed": false,
    "ExecuteTime": {
     "end_time": "2023-10-17T17:39:14.084510034Z",
     "start_time": "2023-10-17T17:39:14.056290656Z"
    }
   },
   "id": "9e1c4fdb191d7bb5"
  },
  {
   "cell_type": "code",
   "execution_count": null,
   "outputs": [],
   "source": [],
   "metadata": {
    "collapsed": false
   },
   "id": "55e8a161d8a2b908"
  },
  {
   "cell_type": "markdown",
   "source": [
    "## Train | no ref window | no Sample"
   ],
   "metadata": {
    "collapsed": false
   },
   "id": "7f13f97592fee058"
  },
  {
   "cell_type": "code",
   "execution_count": null,
   "outputs": [],
   "source": [
    "save_path = 'data/generated/drift/by_cell_agent/run_8/'\n",
    "save_path_plot = f'{save_path}/plots/'\n",
    "Path(save_path_plot).mkdir(exist_ok=False, parents=True)\n",
    "\n",
    "# params\n",
    "sampled_ref: bool = False\n",
    "sampled_drift: Union[bool, Optional[int]] = 1000\n",
    "dist_window: bool = False\n",
    "weighted: bool = False\n",
    "regressive: bool = True\n",
    "\n",
    "drift_calc = DriftCalculator([None] + stat_tests , ['default'] + stat_tests )\n",
    "\n",
    "drift_scores = []\n",
    "cols = ['Number of Available\\nTCH', 'HR Usage Rate', 'TCH Blocking Rate, BH',\n",
    "        'TCH Traffic (Erl), BH', 'Param 1', 'Param 2']\n",
    "# weather sampled train\n",
    "if sampled_ref:\n",
    "    ref = train_df.sample(n=1000, random_state=0)[cols]\n",
    "else:\n",
    "    ref = train_df[cols]\n",
    "\n",
    "for cell in tqdm(train_df['Cell ID'].value_counts().keys()[:]):\n",
    "    # ref = train_df[train_df['Cell ID'] == cell]\n",
    "    cur = test_df[test_df['Cell ID'] == cell]\n",
    "    # add original distribution\n",
    "    if dist_window:\n",
    "        cur = pd.concat([ref.sample(n=len(ref) - len(cur)), cur])\n",
    "\n",
    "    with warnings.catch_warnings():\n",
    "        warnings.simplefilter(\"ignore\")\n",
    "        name = f\"{save_path_plot}/cell_{cell}_plot_{'sample_ref' if sampled_ref else ''}-{'window-1k' if dist_window else ''}\"\n",
    "        if regressive:\n",
    "            score = drift_calc.get_drift_regressive(current_data=cur[cols], reference_data=ref[cols], sample=sampled_drift, save_plot=name, n=8)\n",
    "        else:\n",
    "            score = drift_calc.get_drift(current_data=cur[cols], reference_data=ref[cols], sample=sampled_drift, weighted=weighted, save_plot=name)\n",
    "\n",
    "    score['cell_id'] = cell\n",
    "    drift_scores.append(score)\n",
    "\n",
    "drift_scores_df = pd.DataFrame(drift_scores)\n",
    "save_name = (f\"{save_path}/by_train_{'regressive' if regressive else ''}_\"\n",
    "             f\"{'sampled-ref' if sampled_ref else ''}_\"\n",
    "             f\"sampled-drift-{sampled_drift}_\"\n",
    "             f\"{'window-1k' if dist_window else 'no-window'}_\"\n",
    "             f\"{'weighted' if weighted else ''}.csv\")\n",
    "drift_scores_df.to_csv(save_name)\n",
    "drift_scores_df"
   ],
   "metadata": {
    "collapsed": false
   },
   "id": "3170c363b776f529"
  },
  {
   "cell_type": "code",
   "execution_count": null,
   "outputs": [],
   "source": [
    "ds_df = drift_scores_df[[c for c in drift_scores_df.columns if c != 'cell_id']].apply(lambda x: list(map(to_score, x)))\n",
    "ds_df['cell_id'] = drift_scores_df.cell_id\n",
    "ds_df = ds_df[['cell_id'] + list(ds_df.columns)[:-1]]\n",
    "ds_df"
   ],
   "metadata": {
    "collapsed": false
   },
   "id": "26d72cdc3d7c52b8"
  },
  {
   "cell_type": "code",
   "execution_count": null,
   "outputs": [],
   "source": [
    "ds_df.describe()"
   ],
   "metadata": {
    "collapsed": false
   },
   "id": "efff0787af2e4a7"
  },
  {
   "cell_type": "code",
   "execution_count": null,
   "outputs": [],
   "source": [
    "merged = rewards.merge(ds_df, left_on='cell_id', right_on='cell_id', how='inner')\n",
    "merged.corr()"
   ],
   "metadata": {
    "collapsed": false
   },
   "id": "e96a375187105794"
  },
  {
   "cell_type": "markdown",
   "source": [
    "## Train | ref window 1000 | no Sample"
   ],
   "metadata": {
    "collapsed": false
   },
   "id": "c0a216e1505e0a2"
  },
  {
   "cell_type": "code",
   "execution_count": null,
   "outputs": [],
   "source": [],
   "metadata": {
    "collapsed": false
   },
   "id": "d391f2dfd6acbcea"
  },
  {
   "cell_type": "code",
   "execution_count": null,
   "outputs": [],
   "source": [
    "save_path = 'data/generated/drift/by_cell_agent/run_9/'\n",
    "save_path_plot = f'{save_path}/plots/'\n",
    "Path(save_path_plot).mkdir(exist_ok=False, parents=True)\n",
    "\n",
    "# params\n",
    "sampled_ref: bool = False\n",
    "sampled_drift: Union[bool, Optional[int]] = None\n",
    "dist_window: bool = True\n",
    "weighted: bool = False\n",
    "regressive: bool = True\n",
    "\n",
    "drift_calc = DriftCalculator([None] + stat_tests , ['default'] + stat_tests )\n",
    "\n",
    "drift_scores = []\n",
    "cols = ['Number of Available\\nTCH', 'HR Usage Rate', 'TCH Blocking Rate, BH',\n",
    "        'TCH Traffic (Erl), BH', 'Param 1', 'Param 2']\n",
    "# weather sampled train\n",
    "if sampled_ref:\n",
    "    ref = train_df.sample(n=1000, random_state=0)[cols]\n",
    "else:\n",
    "    ref = train_df[cols]\n",
    "\n",
    "for cell in tqdm(train_df['Cell ID'].value_counts().keys()[:]):\n",
    "    # ref = train_df[train_df['Cell ID'] == cell]\n",
    "    cur = test_df[test_df['Cell ID'] == cell]\n",
    "    # add original distribution\n",
    "    if dist_window:\n",
    "        cur = pd.concat([ref.sample(n=len(ref) - len(cur)), cur])\n",
    "\n",
    "    with warnings.catch_warnings():\n",
    "        warnings.simplefilter(\"ignore\")\n",
    "        name = f\"{save_path_plot}/cell_{cell}_plot_{'sample_ref' if sampled_ref else ''}-{'window-1k' if dist_window else ''}\"\n",
    "        if regressive:\n",
    "            score = drift_calc.get_drift_regressive(current_data=cur[cols], reference_data=ref[cols], sample=sampled_drift, save_plot=name, n=8)\n",
    "        else:\n",
    "            score = drift_calc.get_drift(current_data=cur[cols], reference_data=ref[cols], sample=sampled_drift, weighted=weighted, save_plot=name)\n",
    "\n",
    "    score['cell_id'] = cell\n",
    "    drift_scores.append(score)\n",
    "\n",
    "drift_scores_df = pd.DataFrame(drift_scores)\n",
    "save_name = (f\"{save_path}/by_train_{'regressive' if regressive else ''}_\"\n",
    "             f\"{'sampled-ref' if sampled_ref else ''}_\"\n",
    "             f\"sampled-drift-{sampled_drift}_\"\n",
    "             f\"{'window-1k' if dist_window else 'no-window'}_\"\n",
    "             f\"{'weighted' if weighted else ''}.csv\")\n",
    "drift_scores_df.to_csv(save_name)\n",
    "drift_scores_df"
   ],
   "metadata": {
    "collapsed": false
   },
   "id": "2b75194b5017195d"
  },
  {
   "cell_type": "code",
   "execution_count": null,
   "outputs": [],
   "source": [
    "ds_df = drift_scores_df[[c for c in drift_scores_df.columns if c != 'cell_id']].apply(lambda x: list(map(to_score, x)))\n",
    "ds_df['cell_id'] = drift_scores_df.cell_id\n",
    "ds_df = ds_df[['cell_id'] + list(ds_df.columns)[:-1]]\n",
    "ds_df"
   ],
   "metadata": {
    "collapsed": false
   },
   "id": "57768dfe6baeef91"
  },
  {
   "cell_type": "code",
   "execution_count": null,
   "outputs": [],
   "source": [
    "ds_df.describe()"
   ],
   "metadata": {
    "collapsed": false
   },
   "id": "f7bd7c15a8f449f8"
  },
  {
   "cell_type": "code",
   "execution_count": null,
   "outputs": [],
   "source": [
    "merged = rewards.merge(ds_df, left_on='cell_id', right_on='cell_id', how='inner')\n",
    "merged.corr()"
   ],
   "metadata": {
    "collapsed": false
   },
   "id": "5c806d8fa14cfd67"
  },
  {
   "cell_type": "code",
   "execution_count": null,
   "outputs": [],
   "source": [],
   "metadata": {
    "collapsed": false
   },
   "id": "b1dfab69ad7fe423"
  },
  {
   "cell_type": "code",
   "execution_count": null,
   "outputs": [],
   "source": [],
   "metadata": {
    "collapsed": false
   },
   "id": "91698b549341a3bf"
  },
  {
   "cell_type": "markdown",
   "source": [
    "## Train | Ref window 1000 | Sampled"
   ],
   "metadata": {
    "collapsed": false
   },
   "id": "70cb32263261ce99"
  },
  {
   "cell_type": "code",
   "execution_count": null,
   "outputs": [],
   "source": [
    "save_path = 'data/generated/drift/by_cell_agent/run_10/'\n",
    "save_path_plot = f'{save_path}/plots/'\n",
    "Path(save_path_plot).mkdir(exist_ok=False, parents=True)\n",
    "\n",
    "# params\n",
    "sampled_ref: bool = False\n",
    "sampled_drift: Union[bool, Optional[int]] = 1000\n",
    "dist_window: bool = True\n",
    "weighted: bool = False\n",
    "regressive: bool = True\n",
    "\n",
    "drift_calc = DriftCalculator([None] + stat_tests , ['default'] + stat_tests )\n",
    "\n",
    "drift_scores = []\n",
    "cols = ['Number of Available\\nTCH', 'HR Usage Rate', 'TCH Blocking Rate, BH',\n",
    "        'TCH Traffic (Erl), BH', 'Param 1', 'Param 2']\n",
    "# weather sampled train\n",
    "if sampled_ref:\n",
    "    ref = train_df.sample(n=1000, random_state=0)[cols]\n",
    "else:\n",
    "    ref = train_df[cols]\n",
    "\n",
    "for cell in tqdm(train_df['Cell ID'].value_counts().keys()[:]):\n",
    "    # ref = train_df[train_df['Cell ID'] == cell]\n",
    "    cur = test_df[test_df['Cell ID'] == cell]\n",
    "    # add original distribution\n",
    "    if dist_window:\n",
    "        cur = pd.concat([ref.sample(n=len(ref) - len(cur)), cur])\n",
    "\n",
    "    with warnings.catch_warnings():\n",
    "        warnings.simplefilter(\"ignore\")\n",
    "        name = f\"{save_path_plot}/cell_{cell}_plot_{'sample_ref' if sampled_ref else ''}-{'window-1k' if dist_window else ''}\"\n",
    "        if regressive:\n",
    "            score = drift_calc.get_drift_regressive(current_data=cur[cols], reference_data=ref[cols], sample=sampled_drift, save_plot=name, n=8)\n",
    "        else:\n",
    "            score = drift_calc.get_drift(current_data=cur[cols], reference_data=ref[cols], sample=sampled_drift, weighted=weighted, save_plot=name)\n",
    "\n",
    "    score['cell_id'] = cell\n",
    "    drift_scores.append(score)\n",
    "\n",
    "drift_scores_df = pd.DataFrame(drift_scores)\n",
    "save_name = (f\"{save_path}/by_train_{'regressive' if regressive else ''}_\"\n",
    "             f\"{'sampled-ref' if sampled_ref else ''}_\"\n",
    "             f\"sampled-drift-{sampled_drift}_\"\n",
    "             f\"{'window-1k' if dist_window else 'no-window'}_\"\n",
    "             f\"{'weighted' if weighted else ''}.csv\")\n",
    "drift_scores_df.to_csv(save_name)\n",
    "drift_scores_df"
   ],
   "metadata": {
    "collapsed": false
   },
   "id": "81dae174f1e9988c"
  },
  {
   "cell_type": "code",
   "execution_count": null,
   "outputs": [],
   "source": [
    "ds_df = drift_scores_df[[c for c in drift_scores_df.columns if c != 'cell_id']].apply(lambda x: list(map(to_score, x)))\n",
    "ds_df['cell_id'] = drift_scores_df.cell_id\n",
    "ds_df = ds_df[['cell_id'] + list(ds_df.columns)[:-1]]\n",
    "ds_df"
   ],
   "metadata": {
    "collapsed": false
   },
   "id": "dd39e3342c100e55"
  },
  {
   "cell_type": "code",
   "execution_count": null,
   "outputs": [],
   "source": [
    "ds_df.describe()"
   ],
   "metadata": {
    "collapsed": false
   },
   "id": "1eccb793320257ea"
  },
  {
   "cell_type": "code",
   "execution_count": null,
   "outputs": [],
   "source": [
    "merged = rewards.merge(ds_df, left_on='cell_id', right_on='cell_id', how='inner')\n",
    "merged.corr()"
   ],
   "metadata": {
    "collapsed": false
   },
   "id": "667acfeb3b052721"
  }
 ],
 "metadata": {
  "kernelspec": {
   "display_name": "Python 3",
   "language": "python",
   "name": "python3"
  },
  "language_info": {
   "codemirror_mode": {
    "name": "ipython",
    "version": 2
   },
   "file_extension": ".py",
   "mimetype": "text/x-python",
   "name": "python",
   "nbconvert_exporter": "python",
   "pygments_lexer": "ipython2",
   "version": "2.7.6"
  }
 },
 "nbformat": 4,
 "nbformat_minor": 5
}
