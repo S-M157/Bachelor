{
 "cells": [
  {
   "cell_type": "code",
   "execution_count": 26,
   "metadata": {
    "collapsed": true,
    "ExecuteTime": {
     "end_time": "2023-10-17T09:55:21.109289489Z",
     "start_time": "2023-10-17T09:55:21.095250120Z"
    }
   },
   "outputs": [],
   "source": [
    "import json\n",
    "import warnings\n",
    "\n",
    "import numpy as np\n",
    "import pandas as pd\n",
    "import torch\n",
    "import json\n",
    "from typing import Callable, List, Optional, Dict, Union\n",
    "\n",
    "from evidently.test_preset import DataDriftTestPreset\n",
    "from evidently.test_suite import TestSuite\n",
    "from tqdm import tqdm\n",
    "\n",
    "from evidently.report import Report\n",
    "from evidently.metric_preset import DataDriftPreset\n",
    "from evidently.options import DataDriftOptions"
   ]
  },
  {
   "cell_type": "code",
   "execution_count": 3,
   "outputs": [],
   "source": [
    "train_df = pd.read_csv('data/train_2020-2023.csv')\n",
    "test_df = pd.read_csv('data/test_data.csv')"
   ],
   "metadata": {
    "collapsed": false,
    "ExecuteTime": {
     "end_time": "2023-10-17T09:30:00.195584873Z",
     "start_time": "2023-10-17T09:29:59.371692664Z"
    }
   }
  },
  {
   "cell_type": "code",
   "execution_count": 4,
   "outputs": [
    {
     "name": "stderr",
     "output_type": "stream",
     "text": [
      "/home/rid/Projects/Study/Magister/Dyploma/venv/lib/python3.10/site-packages/scipy/stats/_stats_py.py:8064: RuntimeWarning: divide by zero encountered in divide\n",
      "  terms = (f_obs_float - f_exp)**2 / f_exp\n",
      "/home/rid/Projects/Study/Magister/Dyploma/venv/lib/python3.10/site-packages/scipy/stats/_stats_py.py:8064: RuntimeWarning: divide by zero encountered in divide\n",
      "  terms = (f_obs_float - f_exp)**2 / f_exp\n"
     ]
    }
   ],
   "source": [
    "data_drift_report = Report(metrics=[\n",
    "    DataDriftPreset(),\n",
    "])\n",
    "\n",
    "data_drift_report.run(reference_data=train_df.sample(n=1000), current_data=train_df[:10_000].sample(n=1000),)"
   ],
   "metadata": {
    "collapsed": false,
    "ExecuteTime": {
     "end_time": "2023-10-17T09:32:18.421212743Z",
     "start_time": "2023-10-17T09:32:17.493965309Z"
    }
   }
  },
  {
   "cell_type": "code",
   "execution_count": 29,
   "outputs": [
    {
     "data": {
      "text/plain": "'{\"Cell ID\": {\"stattest_threshold\": 0.05, \"drift_score\": 3.677996330485201e-84, \"drift_detected\": true}, \"HR Usage Rate\": {\"stattest_threshold\": 0.05, \"drift_score\": 7.709567304002036e-09, \"drift_detected\": true}, \"Number of Available\\\\nTCH\": {\"stattest_threshold\": 0.05, \"drift_score\": 7.224279835989447e-12, \"drift_detected\": true}, \"Param 1\": {\"stattest_threshold\": 0.05, \"drift_score\": 3.318343646488803e-15, \"drift_detected\": true}, \"Param 2\": {\"stattest_threshold\": 0.05, \"drift_score\": 1.445613070447519e-14, \"drift_detected\": true}, \"TCH Blocking Rate, BH\": {\"stattest_threshold\": 0.05, \"drift_score\": 0.26347172719864703, \"drift_detected\": false}, \"TCH Traffic (Erl), BH\": {\"stattest_threshold\": 0.05, \"drift_score\": 0.0001969751018672361, \"drift_detected\": true}, \"DATA\": {\"stattest_threshold\": 0.05, \"drift_score\": 0.0, \"drift_detected\": true}}'"
     },
     "execution_count": 29,
     "metadata": {},
     "output_type": "execute_result"
    }
   ],
   "source": [
    "res_dict = json.dumps({k: {k2: v[k2] for k2 in ['stattest_threshold', 'drift_score', 'drift_detected']} for k,v in data_drift_report.as_dict()['metrics'][1]['result']['drift_by_columns'].items()})\n",
    "\n",
    "res_dict"
   ],
   "metadata": {
    "collapsed": false,
    "ExecuteTime": {
     "end_time": "2023-10-17T09:56:19.636958576Z",
     "start_time": "2023-10-17T09:56:19.588587459Z"
    }
   }
  },
  {
   "cell_type": "code",
   "execution_count": 30,
   "outputs": [
    {
     "data": {
      "text/plain": "                                             drift_1  \\\n0  {\"Cell ID\": {\"stattest_threshold\": 0.05, \"drif...   \n1  {\"Cell ID\": {\"stattest_threshold\": 0.05, \"drif...   \n\n                                             drift_2  cell_id  \n0  {\"Cell ID\": {\"stattest_threshold\": 0.05, \"drif...        0  \n1  {\"Cell ID\": {\"stattest_threshold\": 0.05, \"drif...        1  ",
      "text/html": "<div>\n<style scoped>\n    .dataframe tbody tr th:only-of-type {\n        vertical-align: middle;\n    }\n\n    .dataframe tbody tr th {\n        vertical-align: top;\n    }\n\n    .dataframe thead th {\n        text-align: right;\n    }\n</style>\n<table border=\"1\" class=\"dataframe\">\n  <thead>\n    <tr style=\"text-align: right;\">\n      <th></th>\n      <th>drift_1</th>\n      <th>drift_2</th>\n      <th>cell_id</th>\n    </tr>\n  </thead>\n  <tbody>\n    <tr>\n      <th>0</th>\n      <td>{\"Cell ID\": {\"stattest_threshold\": 0.05, \"drif...</td>\n      <td>{\"Cell ID\": {\"stattest_threshold\": 0.05, \"drif...</td>\n      <td>0</td>\n    </tr>\n    <tr>\n      <th>1</th>\n      <td>{\"Cell ID\": {\"stattest_threshold\": 0.05, \"drif...</td>\n      <td>{\"Cell ID\": {\"stattest_threshold\": 0.05, \"drif...</td>\n      <td>1</td>\n    </tr>\n  </tbody>\n</table>\n</div>"
     },
     "execution_count": 30,
     "metadata": {},
     "output_type": "execute_result"
    }
   ],
   "source": [
    "res_df = pd.DataFrame([{'drift_1': res_dict, 'drift_2': res_dict, 'cell_id': 0},\n",
    " {'drift_1': res_dict, 'drift_2': res_dict, 'cell_id': 1}])\n",
    "res_df"
   ],
   "metadata": {
    "collapsed": false,
    "ExecuteTime": {
     "end_time": "2023-10-17T09:56:22.224281251Z",
     "start_time": "2023-10-17T09:56:22.189800399Z"
    }
   }
  },
  {
   "cell_type": "code",
   "execution_count": 31,
   "outputs": [],
   "source": [
    "res_df.to_csv('test_results.csv')"
   ],
   "metadata": {
    "collapsed": false,
    "ExecuteTime": {
     "end_time": "2023-10-17T09:56:24.768626415Z",
     "start_time": "2023-10-17T09:56:24.720618679Z"
    }
   }
  },
  {
   "cell_type": "code",
   "execution_count": 32,
   "outputs": [
    {
     "data": {
      "text/plain": "drift_1    object\ndrift_2    object\ncell_id     int64\ndtype: object"
     },
     "execution_count": 32,
     "metadata": {},
     "output_type": "execute_result"
    }
   ],
   "source": [
    "res_df = pd.read_csv('test_results.csv', index_col=0)\n",
    "res_df.dtypes"
   ],
   "metadata": {
    "collapsed": false,
    "ExecuteTime": {
     "end_time": "2023-10-17T09:56:25.369534449Z",
     "start_time": "2023-10-17T09:56:25.324971241Z"
    }
   }
  },
  {
   "cell_type": "code",
   "execution_count": 37,
   "outputs": [],
   "source": [
    "res_df['drift_1'] = res_df['drift_1'].apply(json.loads, )"
   ],
   "metadata": {
    "collapsed": false,
    "ExecuteTime": {
     "end_time": "2023-10-17T09:57:23.576622441Z",
     "start_time": "2023-10-17T09:57:23.506909119Z"
    }
   }
  },
  {
   "cell_type": "code",
   "execution_count": 40,
   "outputs": [
    {
     "data": {
      "text/plain": "{'stattest_threshold': 0.05,\n 'drift_score': 3.318343646488803e-15,\n 'drift_detected': True}"
     },
     "execution_count": 40,
     "metadata": {},
     "output_type": "execute_result"
    }
   ],
   "source": [
    "res_df.iloc[0]['drift_1']['Param 1']"
   ],
   "metadata": {
    "collapsed": false,
    "ExecuteTime": {
     "end_time": "2023-10-17T09:57:44.039890438Z",
     "start_time": "2023-10-17T09:57:44.029071627Z"
    }
   }
  },
  {
   "cell_type": "code",
   "execution_count": 41,
   "outputs": [
    {
     "data": {
      "text/plain": "{'Cell ID': {'stattest_threshold': 0.05,\n  'drift_score': 3.677996330485201e-84,\n  'drift_detected': True},\n 'HR Usage Rate': {'stattest_threshold': 0.05,\n  'drift_score': 7.709567304002036e-09,\n  'drift_detected': True},\n 'Number of Available\\nTCH': {'stattest_threshold': 0.05,\n  'drift_score': 7.224279835989447e-12,\n  'drift_detected': True},\n 'Param 1': {'stattest_threshold': 0.05,\n  'drift_score': 3.318343646488803e-15,\n  'drift_detected': True},\n 'Param 2': {'stattest_threshold': 0.05,\n  'drift_score': 1.445613070447519e-14,\n  'drift_detected': True},\n 'TCH Blocking Rate, BH': {'stattest_threshold': 0.05,\n  'drift_score': 0.26347172719864703,\n  'drift_detected': False},\n 'TCH Traffic (Erl), BH': {'stattest_threshold': 0.05,\n  'drift_score': 0.0001969751018672361,\n  'drift_detected': True},\n 'DATA': {'stattest_threshold': 0.05,\n  'drift_score': 0.0,\n  'drift_detected': True}}"
     },
     "execution_count": 41,
     "metadata": {},
     "output_type": "execute_result"
    }
   ],
   "source": [
    "res_df.iloc[0]['drift_1']"
   ],
   "metadata": {
    "collapsed": false,
    "ExecuteTime": {
     "end_time": "2023-10-17T10:39:03.989560513Z",
     "start_time": "2023-10-17T10:39:03.956190850Z"
    }
   }
  },
  {
   "cell_type": "code",
   "execution_count": null,
   "outputs": [],
   "source": [],
   "metadata": {
    "collapsed": false
   }
  }
 ],
 "metadata": {
  "kernelspec": {
   "display_name": "Python 3",
   "language": "python",
   "name": "python3"
  },
  "language_info": {
   "codemirror_mode": {
    "name": "ipython",
    "version": 2
   },
   "file_extension": ".py",
   "mimetype": "text/x-python",
   "name": "python",
   "nbconvert_exporter": "python",
   "pygments_lexer": "ipython2",
   "version": "2.7.6"
  }
 },
 "nbformat": 4,
 "nbformat_minor": 0
}
